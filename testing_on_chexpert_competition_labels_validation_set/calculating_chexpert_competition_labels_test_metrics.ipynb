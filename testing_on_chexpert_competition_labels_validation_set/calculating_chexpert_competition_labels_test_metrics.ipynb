{
 "cells": [
  {
   "cell_type": "code",
   "execution_count": 1,
   "id": "17f8a53b",
   "metadata": {},
   "outputs": [
    {
     "name": "stderr",
     "output_type": "stream",
     "text": [
      "2021-11-14 13:52:57.527976: I tensorflow/stream_executor/platform/default/dso_loader.cc:49] Successfully opened dynamic library libcudart.so.10.1\n"
     ]
    }
   ],
   "source": [
    "import numpy as np\n",
    "import pandas as pd\n",
    "import matplotlib.pyplot as plt\n",
    "from tensorflow.keras.preprocessing.image import ImageDataGenerator\n",
    "from tensorflow.keras.models import load_model\n",
    "from sklearn.metrics import classification_report, multilabel_confusion_matrix\n",
    "\n",
    "# Custom objects required for loading CheXpert multi-label classification models\n",
    "import sys \n",
    "sys.path.append('..')\n",
    "from loss import (\n",
    "    set_binary_crossentropy_weighted_loss\n",
    ")"
   ]
  },
  {
   "cell_type": "markdown",
   "id": "212355e6",
   "metadata": {},
   "source": [
    "### 1- Loading validation set"
   ]
  },
  {
   "cell_type": "code",
   "execution_count": 2,
   "id": "9bd6a5d3",
   "metadata": {},
   "outputs": [],
   "source": [
    "val_df = pd.read_csv(\n",
    "    filepath_or_buffer=\"../labels/validation_u-zeroes.csv\",\n",
    "    dtype={  # Setting labels to type np.float32 was necessary for conversion to tf.Tensor object\n",
    "        \"Path\": str,\n",
    "        \"Atelectasis\": np.float32,\n",
    "        \"Cardiomegaly\": np.float32,\n",
    "        \"Consolidation\": np.float32,\n",
    "        \"Edema\": np.float32,\n",
    "        \"Pleural Effusion\": np.float32,\n",
    "        \"Pleural Other\": np.float32,\n",
    "        \"Pneumonia\": np.float32,\n",
    "        \"Pneumothorax\": np.float32,\n",
    "        \"Enlarged Cardiomediastinum\": np.float32,\n",
    "        \"Lung Opacity\": np.float32,\n",
    "        \"Lung Lesion\": np.float32,\n",
    "        \"Fracture\": np.float32,\n",
    "        \"Support Devices\": np.float32,\n",
    "        \"No Finding\": np.float32\n",
    "    }\n",
    ")"
   ]
  },
  {
   "cell_type": "code",
   "execution_count": 3,
   "id": "d1386724",
   "metadata": {},
   "outputs": [],
   "source": [
    "list_columns = list(val_df.columns)\n",
    "y_cols = list_columns[1::]  # First column is 'Path' column"
   ]
  },
  {
   "cell_type": "code",
   "execution_count": 4,
   "id": "07bd7ce1",
   "metadata": {},
   "outputs": [],
   "source": [
    "val_datagen = ImageDataGenerator(\n",
    "    featurewise_center=True,  # Mean and standard deviation values of the training set will be loaded to the object\n",
    "    featurewise_std_normalization=True\n",
    ")"
   ]
  },
  {
   "cell_type": "code",
   "execution_count": 5,
   "id": "03ac5d95",
   "metadata": {},
   "outputs": [],
   "source": [
    "training_dataset_mean = np.load(\"../calculated_chexpert_training_dataset_mean_and_std_values/CheXpert_training_set_mean.npy\")\n",
    "training_dataset_std = np.load(\"../calculated_chexpert_training_dataset_mean_and_std_values/CheXpert_training_set_std.npy\")"
   ]
  },
  {
   "cell_type": "code",
   "execution_count": 6,
   "id": "358f2ccd",
   "metadata": {},
   "outputs": [
    {
     "name": "stdout",
     "output_type": "stream",
     "text": [
      "Found 234 validated image filenames.\n"
     ]
    }
   ],
   "source": [
    "val_datagen.mean = training_dataset_mean\n",
    "val_datagen.std = training_dataset_std\n",
    "\n",
    "val_datagenerator = val_datagen.flow_from_dataframe(\n",
    "    dataframe=val_df,\n",
    "    directory=\"../dataset/\",\n",
    "    x_col='Path',\n",
    "    y_col=y_cols,\n",
    "    weight_col=None,\n",
    "    target_size=(512, 512),\n",
    "    color_mode='grayscale',\n",
    "    class_mode='raw',\n",
    "    batch_size=16,\n",
    "    validate_filenames=True,\n",
    "    shuffle=False\n",
    ")"
   ]
  },
  {
   "cell_type": "markdown",
   "id": "cec9879c",
   "metadata": {},
   "source": [
    "### 2- Loading models"
   ]
  },
  {
   "cell_type": "code",
   "execution_count": 7,
   "id": "f6ea17ab",
   "metadata": {},
   "outputs": [
    {
     "name": "stderr",
     "output_type": "stream",
     "text": [
      "2021-11-14 13:52:58.847929: I tensorflow/compiler/jit/xla_cpu_device.cc:41] Not creating XLA devices, tf_xla_enable_xla_devices not set\n",
      "2021-11-14 13:52:58.848421: I tensorflow/stream_executor/platform/default/dso_loader.cc:49] Successfully opened dynamic library libcuda.so.1\n",
      "2021-11-14 13:52:58.896053: I tensorflow/stream_executor/cuda/cuda_gpu_executor.cc:941] successful NUMA node read from SysFS had negative value (-1), but there must be at least one NUMA node, so returning NUMA node zero\n",
      "2021-11-14 13:52:58.896582: I tensorflow/core/common_runtime/gpu/gpu_device.cc:1720] Found device 0 with properties: \n",
      "pciBusID: 0000:01:00.0 name: NVIDIA TITAN RTX computeCapability: 7.5\n",
      "coreClock: 1.77GHz coreCount: 72 deviceMemorySize: 23.65GiB deviceMemoryBandwidth: 625.94GiB/s\n",
      "2021-11-14 13:52:58.896597: I tensorflow/stream_executor/platform/default/dso_loader.cc:49] Successfully opened dynamic library libcudart.so.10.1\n",
      "2021-11-14 13:52:58.897616: I tensorflow/stream_executor/platform/default/dso_loader.cc:49] Successfully opened dynamic library libcublas.so.10\n",
      "2021-11-14 13:52:58.897640: I tensorflow/stream_executor/platform/default/dso_loader.cc:49] Successfully opened dynamic library libcublasLt.so.10\n",
      "2021-11-14 13:52:58.898568: I tensorflow/stream_executor/platform/default/dso_loader.cc:49] Successfully opened dynamic library libcufft.so.10\n",
      "2021-11-14 13:52:58.898728: I tensorflow/stream_executor/platform/default/dso_loader.cc:49] Successfully opened dynamic library libcurand.so.10\n",
      "2021-11-14 13:52:58.899743: I tensorflow/stream_executor/platform/default/dso_loader.cc:49] Successfully opened dynamic library libcusolver.so.10\n",
      "2021-11-14 13:52:58.900317: I tensorflow/stream_executor/platform/default/dso_loader.cc:49] Successfully opened dynamic library libcusparse.so.10\n",
      "2021-11-14 13:52:58.902478: I tensorflow/stream_executor/platform/default/dso_loader.cc:49] Successfully opened dynamic library libcudnn.so.7\n",
      "2021-11-14 13:52:58.902546: I tensorflow/stream_executor/cuda/cuda_gpu_executor.cc:941] successful NUMA node read from SysFS had negative value (-1), but there must be at least one NUMA node, so returning NUMA node zero\n",
      "2021-11-14 13:52:58.903119: I tensorflow/stream_executor/cuda/cuda_gpu_executor.cc:941] successful NUMA node read from SysFS had negative value (-1), but there must be at least one NUMA node, so returning NUMA node zero\n",
      "2021-11-14 13:52:58.903615: I tensorflow/core/common_runtime/gpu/gpu_device.cc:1862] Adding visible gpu devices: 0\n",
      "2021-11-14 13:52:58.903837: I tensorflow/core/platform/cpu_feature_guard.cc:142] This TensorFlow binary is optimized with oneAPI Deep Neural Network Library (oneDNN) to use the following CPU instructions in performance-critical operations:  SSE4.1 SSE4.2 AVX AVX2 FMA\n",
      "To enable them in other operations, rebuild TensorFlow with the appropriate compiler flags.\n",
      "2021-11-14 13:52:58.904212: I tensorflow/stream_executor/cuda/cuda_gpu_executor.cc:941] successful NUMA node read from SysFS had negative value (-1), but there must be at least one NUMA node, so returning NUMA node zero\n",
      "2021-11-14 13:52:58.904717: I tensorflow/core/common_runtime/gpu/gpu_device.cc:1720] Found device 0 with properties: \n",
      "pciBusID: 0000:01:00.0 name: NVIDIA TITAN RTX computeCapability: 7.5\n",
      "coreClock: 1.77GHz coreCount: 72 deviceMemorySize: 23.65GiB deviceMemoryBandwidth: 625.94GiB/s\n",
      "2021-11-14 13:52:58.904731: I tensorflow/stream_executor/platform/default/dso_loader.cc:49] Successfully opened dynamic library libcudart.so.10.1\n",
      "2021-11-14 13:52:58.904743: I tensorflow/stream_executor/platform/default/dso_loader.cc:49] Successfully opened dynamic library libcublas.so.10\n",
      "2021-11-14 13:52:58.904754: I tensorflow/stream_executor/platform/default/dso_loader.cc:49] Successfully opened dynamic library libcublasLt.so.10\n",
      "2021-11-14 13:52:58.904766: I tensorflow/stream_executor/platform/default/dso_loader.cc:49] Successfully opened dynamic library libcufft.so.10\n",
      "2021-11-14 13:52:58.904776: I tensorflow/stream_executor/platform/default/dso_loader.cc:49] Successfully opened dynamic library libcurand.so.10\n",
      "2021-11-14 13:52:58.904787: I tensorflow/stream_executor/platform/default/dso_loader.cc:49] Successfully opened dynamic library libcusolver.so.10\n",
      "2021-11-14 13:52:58.904798: I tensorflow/stream_executor/platform/default/dso_loader.cc:49] Successfully opened dynamic library libcusparse.so.10\n",
      "2021-11-14 13:52:58.904809: I tensorflow/stream_executor/platform/default/dso_loader.cc:49] Successfully opened dynamic library libcudnn.so.7\n",
      "2021-11-14 13:52:58.904846: I tensorflow/stream_executor/cuda/cuda_gpu_executor.cc:941] successful NUMA node read from SysFS had negative value (-1), but there must be at least one NUMA node, so returning NUMA node zero\n",
      "2021-11-14 13:52:58.905370: I tensorflow/stream_executor/cuda/cuda_gpu_executor.cc:941] successful NUMA node read from SysFS had negative value (-1), but there must be at least one NUMA node, so returning NUMA node zero\n",
      "2021-11-14 13:52:58.905860: I tensorflow/core/common_runtime/gpu/gpu_device.cc:1862] Adding visible gpu devices: 0\n",
      "2021-11-14 13:52:58.905882: I tensorflow/stream_executor/platform/default/dso_loader.cc:49] Successfully opened dynamic library libcudart.so.10.1\n",
      "2021-11-14 13:52:59.235032: I tensorflow/core/common_runtime/gpu/gpu_device.cc:1261] Device interconnect StreamExecutor with strength 1 edge matrix:\n",
      "2021-11-14 13:52:59.235051: I tensorflow/core/common_runtime/gpu/gpu_device.cc:1267]      0 \n",
      "2021-11-14 13:52:59.235055: I tensorflow/core/common_runtime/gpu/gpu_device.cc:1280] 0:   N \n",
      "2021-11-14 13:52:59.235179: I tensorflow/stream_executor/cuda/cuda_gpu_executor.cc:941] successful NUMA node read from SysFS had negative value (-1), but there must be at least one NUMA node, so returning NUMA node zero\n",
      "2021-11-14 13:52:59.235691: I tensorflow/stream_executor/cuda/cuda_gpu_executor.cc:941] successful NUMA node read from SysFS had negative value (-1), but there must be at least one NUMA node, so returning NUMA node zero\n",
      "2021-11-14 13:52:59.236168: I tensorflow/stream_executor/cuda/cuda_gpu_executor.cc:941] successful NUMA node read from SysFS had negative value (-1), but there must be at least one NUMA node, so returning NUMA node zero\n",
      "2021-11-14 13:52:59.236623: I tensorflow/core/common_runtime/gpu/gpu_device.cc:1406] Created TensorFlow device (/job:localhost/replica:0/task:0/device:GPU:0 with 21988 MB memory) -> physical GPU (device: 0, name: NVIDIA TITAN RTX, pci bus id: 0000:01:00.0, compute capability: 7.5)\n",
      "2021-11-14 13:52:59.236769: I tensorflow/compiler/jit/xla_gpu_device.cc:99] Not creating XLA devices, tf_xla_enable_xla_devices not set\n"
     ]
    },
    {
     "name": "stdout",
     "output_type": "stream",
     "text": [
      "WARNING:tensorflow:No training configuration found in the save file, so the model was *not* compiled. Compile it manually.\n"
     ]
    }
   ],
   "source": [
    "densenet201_model = load_model(\n",
    "    \"../trained_models/densenet201.h5\",\n",
    "    custom_objects={\n",
    "        \"binary_crossentropy_weighted_loss\": set_binary_crossentropy_weighted_loss\n",
    "    }\n",
    ")\n",
    "\n",
    "inceptionresnetv2_model = load_model(\n",
    "    \"../trained_models/inceptionresnetv2.h5\",\n",
    "    custom_objects={\n",
    "        \"binary_crossentropy_weighted_loss\": set_binary_crossentropy_weighted_loss\n",
    "    }\n",
    ")\n",
    "\n",
    "resnet152_model = load_model(\n",
    "    \"../trained_models/resnet152.h5\",\n",
    "    custom_objects={\n",
    "        \"binary_crossentropy_weighted_loss\": set_binary_crossentropy_weighted_loss\n",
    "    }\n",
    ")\n",
    "\n",
    "ensemble_model = load_model(\n",
    "    \"../trained_models/ensemble-model.h5\",\n",
    "    custom_objects={\n",
    "        \"binary_crossentropy_weighted_loss\": set_binary_crossentropy_weighted_loss\n",
    "    }\n",
    ")"
   ]
  },
  {
   "cell_type": "markdown",
   "id": "abbae5b4",
   "metadata": {},
   "source": [
    "### 3- Predictions"
   ]
  },
  {
   "cell_type": "code",
   "execution_count": 8,
   "id": "fccc0bdc",
   "metadata": {},
   "outputs": [],
   "source": [
    "weights = np.load(\"../calculated_chexpert_class_weights/chexpert_positive_weights.npy\")"
   ]
  },
  {
   "cell_type": "code",
   "execution_count": 9,
   "id": "2d47bf8f",
   "metadata": {},
   "outputs": [
    {
     "data": {
      "text/plain": [
       "array([0.85060918, 0.87914813, 0.93383136, 0.76614715, 0.6142274 ,\n",
       "       0.98423107, 0.97296946, 0.91295084, 0.9516682 , 0.52741995,\n",
       "       0.95888351, 0.959537  , 0.48078008, 0.89982275])"
      ]
     },
     "execution_count": 9,
     "metadata": {},
     "output_type": "execute_result"
    }
   ],
   "source": [
    "weights"
   ]
  },
  {
   "cell_type": "code",
   "execution_count": 10,
   "id": "e5817a4e",
   "metadata": {},
   "outputs": [
    {
     "data": {
      "text/plain": [
       "(14,)"
      ]
     },
     "execution_count": 10,
     "metadata": {},
     "output_type": "execute_result"
    }
   ],
   "source": [
    "weights.shape"
   ]
  },
  {
   "cell_type": "code",
   "execution_count": 11,
   "id": "9527dcfd",
   "metadata": {},
   "outputs": [
    {
     "name": "stderr",
     "output_type": "stream",
     "text": [
      "2021-11-14 13:53:18.886722: I tensorflow/compiler/mlir/mlir_graph_optimization_pass.cc:116] None of the MLIR optimization passes are enabled (registered 2)\n",
      "2021-11-14 13:53:18.906774: I tensorflow/core/platform/profile_utils/cpu_utils.cc:112] CPU Frequency: 3600000000 Hz\n",
      "2021-11-14 13:53:20.405949: I tensorflow/stream_executor/platform/default/dso_loader.cc:49] Successfully opened dynamic library libcublas.so.10\n",
      "2021-11-14 13:53:20.520533: I tensorflow/stream_executor/platform/default/dso_loader.cc:49] Successfully opened dynamic library libcudnn.so.7\n",
      "2021-11-14 13:53:21.112904: W tensorflow/stream_executor/gpu/asm_compiler.cc:63] Running ptxas --version returned 256\n",
      "2021-11-14 13:53:21.152086: W tensorflow/stream_executor/gpu/redzone_allocator.cc:314] Internal: ptxas exited with non-zero error code 256, output: \n",
      "Relying on driver to perform ptx compilation. \n",
      "Modify $PATH to customize ptxas location.\n",
      "This message will be only logged once.\n"
     ]
    },
    {
     "name": "stdout",
     "output_type": "stream",
     "text": [
      "15/15 [==============================] - 92s 3s/step\n"
     ]
    }
   ],
   "source": [
    "predictions_densenet201_model = densenet201_model.predict(\n",
    "    x=val_datagenerator,\n",
    "    steps=len(val_datagenerator),\n",
    "    workers=4,\n",
    "    verbose=1\n",
    ")"
   ]
  },
  {
   "cell_type": "code",
   "execution_count": 12,
   "id": "df59d1ef",
   "metadata": {},
   "outputs": [
    {
     "data": {
      "text/plain": [
       "(234, 14)"
      ]
     },
     "execution_count": 12,
     "metadata": {},
     "output_type": "execute_result"
    }
   ],
   "source": [
    "predictions_densenet201_model.shape"
   ]
  },
  {
   "cell_type": "code",
   "execution_count": 13,
   "id": "d081e182",
   "metadata": {},
   "outputs": [
    {
     "data": {
      "text/plain": [
       "array([[0.7459604 , 0.14031884, 0.0972696 , ..., 0.6975152 , 0.38334316,\n",
       "        0.72488225],\n",
       "       [0.29283   , 0.00853846, 0.07513779, ..., 0.45244417, 0.33490708,\n",
       "        0.9645697 ],\n",
       "       [0.30019215, 0.02147888, 0.06813031, ..., 0.39322576, 0.80349684,\n",
       "        0.9746482 ],\n",
       "       ...,\n",
       "       [0.4286321 , 0.25964716, 0.06964832, ..., 0.53382134, 0.8830686 ,\n",
       "        0.6317557 ],\n",
       "       [0.469888  , 0.40690485, 0.04010934, ..., 0.45533997, 0.27731776,\n",
       "        0.8914092 ],\n",
       "       [0.7704874 , 0.28287017, 0.29875913, ..., 0.6266965 , 0.6503533 ,\n",
       "        0.16895783]], dtype=float32)"
      ]
     },
     "execution_count": 13,
     "metadata": {},
     "output_type": "execute_result"
    }
   ],
   "source": [
    "predictions_densenet201_model"
   ]
  },
  {
   "cell_type": "code",
   "execution_count": 14,
   "id": "3361b69b",
   "metadata": {},
   "outputs": [
    {
     "data": {
      "text/plain": [
       "array([ True, False, False, False, False, False, False,  True,  True,\n",
       "       False,  True,  True, False,  True])"
      ]
     },
     "execution_count": 14,
     "metadata": {},
     "output_type": "execute_result"
    }
   ],
   "source": [
    "predictions_densenet201_model[0] > 0.5"
   ]
  },
  {
   "cell_type": "code",
   "execution_count": 15,
   "id": "9198a0f4",
   "metadata": {},
   "outputs": [
    {
     "data": {
      "text/plain": [
       "array([[0., 1., 0., ..., 0., 0., 0.],\n",
       "       [0., 0., 0., ..., 0., 1., 0.],\n",
       "       [0., 0., 0., ..., 0., 1., 0.],\n",
       "       ...,\n",
       "       [0., 1., 0., ..., 0., 1., 0.],\n",
       "       [0., 0., 0., ..., 0., 0., 0.],\n",
       "       [1., 0., 0., ..., 0., 0., 0.]], dtype=float32)"
      ]
     },
     "execution_count": 15,
     "metadata": {},
     "output_type": "execute_result"
    }
   ],
   "source": [
    "val_datagenerator.labels"
   ]
  },
  {
   "cell_type": "code",
   "execution_count": 16,
   "id": "0b330547",
   "metadata": {},
   "outputs": [
    {
     "data": {
      "text/plain": [
       "array([1., 0., 0., 0., 0., 0., 0., 1., 1., 0., 1., 1., 0., 1.],\n",
       "      dtype=float32)"
      ]
     },
     "execution_count": 16,
     "metadata": {},
     "output_type": "execute_result"
    }
   ],
   "source": [
    "(predictions_densenet201_model[0] >= 0.5).astype(np.float32)"
   ]
  },
  {
   "cell_type": "code",
   "execution_count": 17,
   "id": "ff8c144a",
   "metadata": {},
   "outputs": [
    {
     "data": {
      "text/plain": [
       "array([1., 0., 0., 0., 0., 0., 0., 1., 1., 0., 1., 1., 0., 1.],\n",
       "      dtype=float32)"
      ]
     },
     "execution_count": 17,
     "metadata": {},
     "output_type": "execute_result"
    }
   ],
   "source": [
    "(predictions_densenet201_model[0] >= 0.5).astype(np.float32)"
   ]
  },
  {
   "cell_type": "code",
   "execution_count": 18,
   "id": "17f95d84",
   "metadata": {},
   "outputs": [
    {
     "data": {
      "text/plain": [
       "array([0., 1., 0., 0., 0., 0., 0., 0., 1., 1., 0., 0., 0., 0.],\n",
       "      dtype=float32)"
      ]
     },
     "execution_count": 18,
     "metadata": {},
     "output_type": "execute_result"
    }
   ],
   "source": [
    "val_datagenerator.labels[0]"
   ]
  },
  {
   "cell_type": "code",
   "execution_count": 19,
   "id": "b6f51fe9",
   "metadata": {},
   "outputs": [
    {
     "data": {
      "text/plain": [
       "array([0., 0., 0., 0., 0., 0., 0., 1., 0., 0., 0., 0., 0., 1.],\n",
       "      dtype=float32)"
      ]
     },
     "execution_count": 19,
     "metadata": {},
     "output_type": "execute_result"
    }
   ],
   "source": [
    "(predictions_densenet201_model[1] >= 0.5).astype(np.float32)"
   ]
  },
  {
   "cell_type": "code",
   "execution_count": 20,
   "id": "aecb0388",
   "metadata": {},
   "outputs": [
    {
     "data": {
      "text/plain": [
       "array([0., 0., 0., 0., 0., 0., 0., 0., 0., 0., 0., 0., 1., 0.],\n",
       "      dtype=float32)"
      ]
     },
     "execution_count": 20,
     "metadata": {},
     "output_type": "execute_result"
    }
   ],
   "source": [
    "val_datagenerator.labels[1]"
   ]
  },
  {
   "cell_type": "code",
   "execution_count": 21,
   "id": "492fa363",
   "metadata": {},
   "outputs": [
    {
     "data": {
      "text/plain": [
       "array([0., 0., 0., 0., 0., 0., 0., 0., 0., 0., 0., 0., 1., 1.],\n",
       "      dtype=float32)"
      ]
     },
     "execution_count": 21,
     "metadata": {},
     "output_type": "execute_result"
    }
   ],
   "source": [
    "(predictions_densenet201_model[2] >= 0.5).astype(np.float32)"
   ]
  },
  {
   "cell_type": "code",
   "execution_count": 22,
   "id": "19a1a65b",
   "metadata": {},
   "outputs": [
    {
     "data": {
      "text/plain": [
       "array([0., 0., 0., 0., 0., 0., 0., 0., 0., 0., 0., 0., 1., 0.],\n",
       "      dtype=float32)"
      ]
     },
     "execution_count": 22,
     "metadata": {},
     "output_type": "execute_result"
    }
   ],
   "source": [
    "val_datagenerator.labels[2]"
   ]
  },
  {
   "cell_type": "code",
   "execution_count": 23,
   "id": "797b937a",
   "metadata": {},
   "outputs": [
    {
     "data": {
      "text/plain": [
       "array([0., 0., 0., 1., 1., 1., 1., 0., 0., 0., 0., 1., 1., 0.],\n",
       "      dtype=float32)"
      ]
     },
     "execution_count": 23,
     "metadata": {},
     "output_type": "execute_result"
    }
   ],
   "source": [
    "(predictions_densenet201_model[3] >= 0.5).astype(np.float32)"
   ]
  },
  {
   "cell_type": "code",
   "execution_count": 24,
   "id": "fae57646",
   "metadata": {},
   "outputs": [
    {
     "data": {
      "text/plain": [
       "array([0., 0., 0., 1., 0., 0., 0., 0., 1., 1., 0., 0., 0., 0.],\n",
       "      dtype=float32)"
      ]
     },
     "execution_count": 24,
     "metadata": {},
     "output_type": "execute_result"
    }
   ],
   "source": [
    "val_datagenerator.labels[3]"
   ]
  },
  {
   "cell_type": "markdown",
   "id": "adc88cc7",
   "metadata": {},
   "source": [
    "### All CheXpert labels (14 labels)"
   ]
  },
  {
   "cell_type": "code",
   "execution_count": 25,
   "id": "f50e9208",
   "metadata": {},
   "outputs": [
    {
     "data": {
      "text/plain": [
       "(234, 14)"
      ]
     },
     "execution_count": 25,
     "metadata": {},
     "output_type": "execute_result"
    }
   ],
   "source": [
    "predictions_densenet201_model.shape"
   ]
  },
  {
   "cell_type": "code",
   "execution_count": 26,
   "id": "4b33f9f0",
   "metadata": {},
   "outputs": [
    {
     "name": "stderr",
     "output_type": "stream",
     "text": [
      "/home/tamer/anaconda3/envs/chexpert/lib/python3.7/site-packages/sklearn/metrics/_classification.py:1248: UndefinedMetricWarning: Precision and F-score are ill-defined and being set to 0.0 in labels with no predicted samples. Use `zero_division` parameter to control this behavior.\n",
      "  _warn_prf(average, modifier, msg_start, len(result))\n",
      "/home/tamer/anaconda3/envs/chexpert/lib/python3.7/site-packages/sklearn/metrics/_classification.py:1248: UndefinedMetricWarning: Recall and F-score are ill-defined and being set to 0.0 in labels with no true samples. Use `zero_division` parameter to control this behavior.\n",
      "  _warn_prf(average, modifier, msg_start, len(result))\n",
      "/home/tamer/anaconda3/envs/chexpert/lib/python3.7/site-packages/sklearn/metrics/_classification.py:1248: UndefinedMetricWarning: Precision and F-score are ill-defined and being set to 0.0 due to no predicted samples. Use `zero_division` parameter to control this behavior.\n",
      "  _warn_prf(average, modifier, msg_start, len(result))\n",
      "/home/tamer/anaconda3/envs/chexpert/lib/python3.7/site-packages/sklearn/metrics/_classification.py:1248: UndefinedMetricWarning: Precision and F-score are ill-defined and being set to 0.0 in samples with no predicted labels. Use `zero_division` parameter to control this behavior.\n",
      "  _warn_prf(average, modifier, msg_start, len(result))\n",
      "/home/tamer/anaconda3/envs/chexpert/lib/python3.7/site-packages/sklearn/metrics/_classification.py:1248: UndefinedMetricWarning: Recall and F-score are ill-defined and being set to 0.0 in samples with no true labels. Use `zero_division` parameter to control this behavior.\n",
      "  _warn_prf(average, modifier, msg_start, len(result))\n"
     ]
    }
   ],
   "source": [
    "report_densenet201_model = classification_report(\n",
    "    y_true=val_datagenerator.labels.astype(np.uint8),\n",
    "    y_pred=predictions_densenet201_model.astype(np.uint8),\n",
    "    digits=4,\n",
    "    target_names=y_cols\n",
    ")"
   ]
  },
  {
   "cell_type": "code",
   "execution_count": 27,
   "id": "bfaeca19",
   "metadata": {},
   "outputs": [
    {
     "name": "stdout",
     "output_type": "stream",
     "text": [
      "                            precision    recall  f1-score   support\n",
      "\n",
      "               Atelectasis     0.0000    0.0000    0.0000        80\n",
      "              Cardiomegaly     0.0000    0.0000    0.0000        68\n",
      "             Consolidation     0.0000    0.0000    0.0000        33\n",
      "                     Edema     0.0000    0.0000    0.0000        45\n",
      "          Pleural Effusion     0.0000    0.0000    0.0000        67\n",
      "             Pleural Other     0.0000    0.0000    0.0000         1\n",
      "                 Pneumonia     0.0000    0.0000    0.0000         8\n",
      "              Pneumothorax     0.0000    0.0000    0.0000         8\n",
      "Enlarged Cardiomediastinum     0.0000    0.0000    0.0000       109\n",
      "              Lung Opacity     0.0000    0.0000    0.0000       126\n",
      "               Lung Lesion     0.0000    0.0000    0.0000         1\n",
      "                  Fracture     0.0000    0.0000    0.0000         0\n",
      "           Support Devices     0.0000    0.0000    0.0000       107\n",
      "                No Finding     0.0000    0.0000    0.0000        38\n",
      "\n",
      "                 micro avg     0.0000    0.0000    0.0000       691\n",
      "                 macro avg     0.0000    0.0000    0.0000       691\n",
      "              weighted avg     0.0000    0.0000    0.0000       691\n",
      "               samples avg     0.0000    0.0000    0.0000       691\n",
      "\n"
     ]
    }
   ],
   "source": [
    "print(report_densenet201_model)"
   ]
  },
  {
   "cell_type": "code",
   "execution_count": 28,
   "id": "119a0904",
   "metadata": {},
   "outputs": [
    {
     "data": {
      "text/plain": [
       "array([[[154,   0],\n",
       "        [ 80,   0]],\n",
       "\n",
       "       [[166,   0],\n",
       "        [ 68,   0]],\n",
       "\n",
       "       [[201,   0],\n",
       "        [ 33,   0]],\n",
       "\n",
       "       [[189,   0],\n",
       "        [ 45,   0]],\n",
       "\n",
       "       [[167,   0],\n",
       "        [ 67,   0]],\n",
       "\n",
       "       [[233,   0],\n",
       "        [  1,   0]],\n",
       "\n",
       "       [[226,   0],\n",
       "        [  8,   0]],\n",
       "\n",
       "       [[226,   0],\n",
       "        [  8,   0]],\n",
       "\n",
       "       [[125,   0],\n",
       "        [109,   0]],\n",
       "\n",
       "       [[108,   0],\n",
       "        [126,   0]],\n",
       "\n",
       "       [[233,   0],\n",
       "        [  1,   0]],\n",
       "\n",
       "       [[234,   0],\n",
       "        [  0,   0]],\n",
       "\n",
       "       [[127,   0],\n",
       "        [107,   0]],\n",
       "\n",
       "       [[196,   0],\n",
       "        [ 38,   0]]])"
      ]
     },
     "execution_count": 28,
     "metadata": {},
     "output_type": "execute_result"
    }
   ],
   "source": [
    "multilabel_confusion_matrix(\n",
    "    y_true=val_datagenerator.labels.astype(np.uint8),\n",
    "    y_pred=predictions_densenet201_model.astype(np.uint8)\n",
    ")"
   ]
  },
  {
   "cell_type": "markdown",
   "id": "37a5edff",
   "metadata": {},
   "source": [
    "### CheXpert competition labels (first 5 labels)"
   ]
  },
  {
   "cell_type": "code",
   "execution_count": 29,
   "id": "c8e5b6be",
   "metadata": {},
   "outputs": [
    {
     "data": {
      "text/plain": [
       "(234, 5)"
      ]
     },
     "execution_count": 29,
     "metadata": {},
     "output_type": "execute_result"
    }
   ],
   "source": [
    "predictions_densenet201_model[:, :5].shape"
   ]
  },
  {
   "cell_type": "code",
   "execution_count": 30,
   "id": "c113dcea",
   "metadata": {},
   "outputs": [
    {
     "name": "stderr",
     "output_type": "stream",
     "text": [
      "/home/tamer/anaconda3/envs/chexpert/lib/python3.7/site-packages/sklearn/metrics/_classification.py:1248: UndefinedMetricWarning: Precision and F-score are ill-defined and being set to 0.0 in labels with no predicted samples. Use `zero_division` parameter to control this behavior.\n",
      "  _warn_prf(average, modifier, msg_start, len(result))\n",
      "/home/tamer/anaconda3/envs/chexpert/lib/python3.7/site-packages/sklearn/metrics/_classification.py:1248: UndefinedMetricWarning: Precision and F-score are ill-defined and being set to 0.0 due to no predicted samples. Use `zero_division` parameter to control this behavior.\n",
      "  _warn_prf(average, modifier, msg_start, len(result))\n",
      "/home/tamer/anaconda3/envs/chexpert/lib/python3.7/site-packages/sklearn/metrics/_classification.py:1248: UndefinedMetricWarning: Precision and F-score are ill-defined and being set to 0.0 in samples with no predicted labels. Use `zero_division` parameter to control this behavior.\n",
      "  _warn_prf(average, modifier, msg_start, len(result))\n",
      "/home/tamer/anaconda3/envs/chexpert/lib/python3.7/site-packages/sklearn/metrics/_classification.py:1248: UndefinedMetricWarning: Recall and F-score are ill-defined and being set to 0.0 in samples with no true labels. Use `zero_division` parameter to control this behavior.\n",
      "  _warn_prf(average, modifier, msg_start, len(result))\n"
     ]
    }
   ],
   "source": [
    "report_densenet201_model = classification_report(\n",
    "    y_true=val_datagenerator.labels[:, :5].astype(np.uint8),\n",
    "    y_pred=predictions_densenet201_model[:, :5].astype(np.uint8),\n",
    "    digits=4,\n",
    "    target_names=y_cols[:5]\n",
    ")"
   ]
  },
  {
   "cell_type": "code",
   "execution_count": 31,
   "id": "93cf06a9",
   "metadata": {},
   "outputs": [
    {
     "name": "stdout",
     "output_type": "stream",
     "text": [
      "                  precision    recall  f1-score   support\n",
      "\n",
      "     Atelectasis     0.0000    0.0000    0.0000        80\n",
      "    Cardiomegaly     0.0000    0.0000    0.0000        68\n",
      "   Consolidation     0.0000    0.0000    0.0000        33\n",
      "           Edema     0.0000    0.0000    0.0000        45\n",
      "Pleural Effusion     0.0000    0.0000    0.0000        67\n",
      "\n",
      "       micro avg     0.0000    0.0000    0.0000       293\n",
      "       macro avg     0.0000    0.0000    0.0000       293\n",
      "    weighted avg     0.0000    0.0000    0.0000       293\n",
      "     samples avg     0.0000    0.0000    0.0000       293\n",
      "\n"
     ]
    }
   ],
   "source": [
    "print(report_densenet201_model)"
   ]
  },
  {
   "cell_type": "code",
   "execution_count": 32,
   "id": "e92ef3e7",
   "metadata": {},
   "outputs": [
    {
     "data": {
      "text/plain": [
       "array([[[154,   0],\n",
       "        [ 80,   0]],\n",
       "\n",
       "       [[166,   0],\n",
       "        [ 68,   0]],\n",
       "\n",
       "       [[201,   0],\n",
       "        [ 33,   0]],\n",
       "\n",
       "       [[189,   0],\n",
       "        [ 45,   0]],\n",
       "\n",
       "       [[167,   0],\n",
       "        [ 67,   0]]])"
      ]
     },
     "execution_count": 32,
     "metadata": {},
     "output_type": "execute_result"
    }
   ],
   "source": [
    "multilabel_confusion_matrix(\n",
    "    y_true=val_datagenerator.labels[:, :5].astype(np.uint8),\n",
    "    y_pred=predictions_densenet201_model[:, :5].astype(np.uint8)\n",
    ")"
   ]
  },
  {
   "cell_type": "code",
   "execution_count": null,
   "id": "f827b313",
   "metadata": {},
   "outputs": [],
   "source": []
  }
 ],
 "metadata": {
  "kernelspec": {
   "display_name": "Python 3 (ipykernel)",
   "language": "python",
   "name": "python3"
  },
  "language_info": {
   "codemirror_mode": {
    "name": "ipython",
    "version": 3
   },
   "file_extension": ".py",
   "mimetype": "text/x-python",
   "name": "python",
   "nbconvert_exporter": "python",
   "pygments_lexer": "ipython3",
   "version": "3.7.11"
  }
 },
 "nbformat": 4,
 "nbformat_minor": 5
}
