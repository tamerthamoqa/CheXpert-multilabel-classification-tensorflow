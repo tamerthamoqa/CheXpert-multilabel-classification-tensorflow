{
 "cells": [
  {
   "cell_type": "markdown",
   "id": "b57ec8b1",
   "metadata": {},
   "source": [
    "### The code was imported from the AI in Medicine Specialization Coursera course Assignment 1 Week 1"
   ]
  },
  {
   "cell_type": "code",
   "execution_count": 1,
   "id": "3f07524d",
   "metadata": {},
   "outputs": [
    {
     "name": "stderr",
     "output_type": "stream",
     "text": [
      "2021-11-07 12:11:23.231383: I tensorflow/stream_executor/platform/default/dso_loader.cc:49] Successfully opened dynamic library libcudart.so.10.1\n"
     ]
    }
   ],
   "source": [
    "import pandas as pd\n",
    "import numpy as np\n",
    "from sklearn.utils import class_weight\n",
    "from tensorflow.keras.preprocessing.image import ImageDataGenerator"
   ]
  },
  {
   "cell_type": "code",
   "execution_count": 2,
   "id": "83f2cdc8",
   "metadata": {},
   "outputs": [],
   "source": [
    "train_df = pd.read_csv(\n",
    "    filepath_or_buffer=\"../labels/train_u-zeroes.csv\",\n",
    "    dtype={  # Setting labels to type np.int32 was necessary for conversion to tf.Tensor object\n",
    "        \"Path\": str,\n",
    "        \"Atelectasis\": np.int32,\n",
    "        \"Cardiomegaly\": np.int32,\n",
    "        \"Consolidation\": np.int32,\n",
    "        \"Edema\": np.int32,\n",
    "        \"Pleural Effusion\": np.int32,\n",
    "        \"Pleural Other\": np.int32,\n",
    "        \"Pneumonia\": np.int32,\n",
    "        \"Pneumothorax\": np.int32,\n",
    "        \"Enlarged Cardiomediastinum\": np.int32,\n",
    "        \"Lung Opacity\": np.int32,\n",
    "        \"Lung Lesion\": np.int32,\n",
    "        \"Fracture\": np.int32,\n",
    "        \"Support Devices\": np.int32,\n",
    "        \"No Finding\": np.int32\n",
    "    }\n",
    ")"
   ]
  },
  {
   "cell_type": "code",
   "execution_count": 3,
   "id": "63a23c17",
   "metadata": {},
   "outputs": [],
   "source": [
    "list_columns = list(train_df.columns)\n",
    "y_cols = list_columns[1::]  # First column is 'Path' column"
   ]
  },
  {
   "cell_type": "code",
   "execution_count": 4,
   "id": "f0bf7dda",
   "metadata": {},
   "outputs": [],
   "source": [
    "train_datagen = ImageDataGenerator()"
   ]
  },
  {
   "cell_type": "code",
   "execution_count": 5,
   "id": "05ef7297",
   "metadata": {},
   "outputs": [
    {
     "name": "stdout",
     "output_type": "stream",
     "text": [
      "Found 223414 validated image filenames.\n"
     ]
    }
   ],
   "source": [
    "train_datagenerator = train_datagen.flow_from_dataframe(\n",
    "    dataframe=train_df,\n",
    "    directory=\"../dataset/\",\n",
    "    x_col='Path',\n",
    "    y_col=y_cols,\n",
    "    weight_col=None,\n",
    "    target_size=(512, 512),\n",
    "    color_mode='grayscale',\n",
    "    class_mode='raw',\n",
    "    batch_size=16,\n",
    "    shuffle=True,\n",
    "    validate_filenames=True\n",
    ")"
   ]
  },
  {
   "cell_type": "code",
   "execution_count": 6,
   "id": "6b8c2776",
   "metadata": {},
   "outputs": [
    {
     "data": {
      "text/plain": [
       "array([[0, 0, 0, ..., 0, 1, 1],\n",
       "       [0, 0, 0, ..., 1, 0, 0],\n",
       "       [0, 0, 0, ..., 1, 0, 0],\n",
       "       ...,\n",
       "       [0, 0, 0, ..., 0, 0, 0],\n",
       "       [1, 1, 0, ..., 0, 0, 0],\n",
       "       [0, 0, 0, ..., 0, 0, 1]], dtype=int32)"
      ]
     },
     "execution_count": 6,
     "metadata": {},
     "output_type": "execute_result"
    }
   ],
   "source": [
    "train_datagenerator.labels"
   ]
  },
  {
   "cell_type": "code",
   "execution_count": 7,
   "id": "9ac736ce",
   "metadata": {},
   "outputs": [],
   "source": [
    "def compute_class_freqs(labels):\n",
    "    \"\"\"\n",
    "    Compute positive and negative frequences for each class.\n",
    "\n",
    "    Args:\n",
    "        labels (np.array): matrix of labels, size (num_examples, num_classes)\n",
    "    Returns:\n",
    "        positive_frequencies (np.array): array of positive frequences for each\n",
    "                                         class, size (num_classes)\n",
    "        negative_frequencies (np.array): array of negative frequences for each\n",
    "                                         class, size (num_classes)\n",
    "    \"\"\"\n",
    "    # total number of patients (rows).\n",
    "    N = labels.shape[0]\n",
    "    \n",
    "    positive_frequencies = np.sum(labels, axis=0) / N\n",
    "    negative_frequencies = np.sum(labels==0, axis=0) / N\n",
    "    \n",
    "    return positive_frequencies, negative_frequencies"
   ]
  },
  {
   "cell_type": "code",
   "execution_count": 8,
   "id": "4174272b",
   "metadata": {},
   "outputs": [],
   "source": [
    "freq_pos, freq_neg = compute_class_freqs(train_datagenerator.labels)"
   ]
  },
  {
   "cell_type": "code",
   "execution_count": 9,
   "id": "bab0b1e4",
   "metadata": {},
   "outputs": [
    {
     "data": {
      "text/plain": [
       "array([0.14939082, 0.12085187, 0.06616864, 0.23385285, 0.3857726 ,\n",
       "       0.01576893, 0.02703054, 0.08704916, 0.0483318 , 0.47258005,\n",
       "       0.04111649, 0.040463  , 0.51921992, 0.10017725])"
      ]
     },
     "execution_count": 9,
     "metadata": {},
     "output_type": "execute_result"
    }
   ],
   "source": [
    "freq_pos"
   ]
  },
  {
   "cell_type": "code",
   "execution_count": 10,
   "id": "b254c25f",
   "metadata": {},
   "outputs": [
    {
     "data": {
      "text/plain": [
       "array([0.85060918, 0.87914813, 0.93383136, 0.76614715, 0.6142274 ,\n",
       "       0.98423107, 0.97296946, 0.91295084, 0.9516682 , 0.52741995,\n",
       "       0.95888351, 0.959537  , 0.48078008, 0.89982275])"
      ]
     },
     "execution_count": 10,
     "metadata": {},
     "output_type": "execute_result"
    }
   ],
   "source": [
    "freq_neg"
   ]
  },
  {
   "cell_type": "code",
   "execution_count": 11,
   "id": "9a07e7a7",
   "metadata": {},
   "outputs": [],
   "source": [
    "pos_weights = freq_neg\n",
    "neg_weights = freq_pos"
   ]
  },
  {
   "cell_type": "code",
   "execution_count": 12,
   "id": "06d7799e",
   "metadata": {},
   "outputs": [
    {
     "data": {
      "text/plain": [
       "array([0.85060918, 0.87914813, 0.93383136, 0.76614715, 0.6142274 ,\n",
       "       0.98423107, 0.97296946, 0.91295084, 0.9516682 , 0.52741995,\n",
       "       0.95888351, 0.959537  , 0.48078008, 0.89982275])"
      ]
     },
     "execution_count": 12,
     "metadata": {},
     "output_type": "execute_result"
    }
   ],
   "source": [
    "pos_weights"
   ]
  },
  {
   "cell_type": "code",
   "execution_count": 13,
   "id": "c1390031",
   "metadata": {},
   "outputs": [
    {
     "data": {
      "text/plain": [
       "array([0.14939082, 0.12085187, 0.06616864, 0.23385285, 0.3857726 ,\n",
       "       0.01576893, 0.02703054, 0.08704916, 0.0483318 , 0.47258005,\n",
       "       0.04111649, 0.040463  , 0.51921992, 0.10017725])"
      ]
     },
     "execution_count": 13,
     "metadata": {},
     "output_type": "execute_result"
    }
   ],
   "source": [
    "neg_weights"
   ]
  },
  {
   "cell_type": "code",
   "execution_count": 14,
   "id": "6ee99ccc",
   "metadata": {},
   "outputs": [],
   "source": [
    "np.save(\"chexpert_positive_weights.npy\", pos_weights)\n",
    "np.save(\"chexpert_negative_weights.npy\", neg_weights)"
   ]
  }
 ],
 "metadata": {
  "kernelspec": {
   "display_name": "Python 3 (ipykernel)",
   "language": "python",
   "name": "python3"
  },
  "language_info": {
   "codemirror_mode": {
    "name": "ipython",
    "version": 3
   },
   "file_extension": ".py",
   "mimetype": "text/x-python",
   "name": "python",
   "nbconvert_exporter": "python",
   "pygments_lexer": "ipython3",
   "version": "3.7.11"
  }
 },
 "nbformat": 4,
 "nbformat_minor": 5
}
