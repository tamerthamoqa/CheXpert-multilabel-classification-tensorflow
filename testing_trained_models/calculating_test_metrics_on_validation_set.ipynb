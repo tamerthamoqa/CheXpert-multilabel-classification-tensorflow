{
 "cells": [
  {
   "cell_type": "markdown",
   "id": "97833658",
   "metadata": {},
   "source": [
    "### Test metrics on validation set (part of the official training set)"
   ]
  },
  {
   "cell_type": "code",
   "execution_count": null,
   "id": "17f8a53b",
   "metadata": {},
   "outputs": [],
   "source": [
    "import numpy as np\n",
    "import pandas as pd\n",
    "import matplotlib.pyplot as plt\n",
    "from tensorflow.keras.preprocessing.image import ImageDataGenerator\n",
    "from tensorflow.keras.models import load_model\n",
    "from sklearn.metrics import classification_report, multilabel_confusion_matrix\n",
    "\n",
    "# Custom objects required for loading CheXpert multi-label classification models\n",
    "import sys \n",
    "sys.path.append('..')\n",
    "from loss import (\n",
    "    set_binary_crossentropy_weighted_loss\n",
    ")"
   ]
  },
  {
   "cell_type": "markdown",
   "id": "212355e6",
   "metadata": {},
   "source": [
    "### 1- Loading test set"
   ]
  },
  {
   "cell_type": "code",
   "execution_count": null,
   "id": "9bd6a5d3",
   "metadata": {},
   "outputs": [],
   "source": [
    "test_df = pd.read_csv(\n",
    "    filepath_or_buffer=\"../labels/train_validation_split_data/validation_u-zeroes.csv\",\n",
    "    dtype={  # Setting labels to type np.float32 was necessary for conversion to tf.Tensor object\n",
    "        \"Path\": str,\n",
    "        \"Atelectasis\": np.float32,\n",
    "        \"Cardiomegaly\": np.float32,\n",
    "        \"Consolidation\": np.float32,\n",
    "        \"Edema\": np.float32,\n",
    "        \"Pleural Effusion\": np.float32,\n",
    "        \"Pleural Other\": np.float32,\n",
    "        \"Pneumonia\": np.float32,\n",
    "        \"Pneumothorax\": np.float32,\n",
    "        \"Enlarged Cardiomediastinum\": np.float32,\n",
    "        \"Lung Opacity\": np.float32,\n",
    "        \"Lung Lesion\": np.float32,\n",
    "        \"Fracture\": np.float32,\n",
    "        \"Support Devices\": np.float32,\n",
    "        \"No Finding\": np.float32\n",
    "    }\n",
    ")"
   ]
  },
  {
   "cell_type": "code",
   "execution_count": null,
   "id": "d1386724",
   "metadata": {},
   "outputs": [],
   "source": [
    "list_columns = list(test_df.columns)\n",
    "y_cols = list_columns[1::]  # First column is 'Path' column"
   ]
  },
  {
   "cell_type": "code",
   "execution_count": null,
   "id": "ecc1616b",
   "metadata": {},
   "outputs": [],
   "source": [
    "list_columns"
   ]
  },
  {
   "cell_type": "code",
   "execution_count": null,
   "id": "8d5b89b2",
   "metadata": {},
   "outputs": [],
   "source": [
    "y_cols"
   ]
  },
  {
   "cell_type": "code",
   "execution_count": null,
   "id": "07bd7ce1",
   "metadata": {},
   "outputs": [],
   "source": [
    "test_datagen = ImageDataGenerator(\n",
    "    featurewise_center=True,  # Mean and standard deviation values of the training set will be loaded to the object\n",
    "    featurewise_std_normalization=True\n",
    ")"
   ]
  },
  {
   "cell_type": "code",
   "execution_count": null,
   "id": "03ac5d95",
   "metadata": {},
   "outputs": [],
   "source": [
    "training_dataset_mean = np.load(\"../misc/calculated_chexpert_training_dataset_mean_and_std_values/CheXpert_training_set_mean.npy\")\n",
    "training_dataset_std = np.load(\"../misc/calculated_chexpert_training_dataset_mean_and_std_values/CheXpert_training_set_std.npy\")"
   ]
  },
  {
   "cell_type": "code",
   "execution_count": null,
   "id": "358f2ccd",
   "metadata": {},
   "outputs": [],
   "source": [
    "test_datagen.mean = training_dataset_mean\n",
    "test_datagen.std = training_dataset_std\n",
    "\n",
    "test_datagenerator = test_datagen.flow_from_dataframe(\n",
    "    dataframe=test_df,\n",
    "    directory=\"../dataset/\",\n",
    "    x_col='Path',\n",
    "    y_col=y_cols,\n",
    "    weight_col=None,\n",
    "    target_size=(512, 512),\n",
    "    color_mode='grayscale',\n",
    "    class_mode='raw',\n",
    "    batch_size=16,\n",
    "    validate_filenames=True,\n",
    "    shuffle=False\n",
    ")"
   ]
  },
  {
   "cell_type": "markdown",
   "id": "cec9879c",
   "metadata": {},
   "source": [
    "### 2- Loading models"
   ]
  },
  {
   "cell_type": "code",
   "execution_count": null,
   "id": "f6ea17ab",
   "metadata": {},
   "outputs": [],
   "source": [
    "densenet201_model = load_model(\n",
    "    \"../trained_models/densenet201.h5\",\n",
    "    custom_objects={\n",
    "        \"binary_crossentropy_weighted_loss\": set_binary_crossentropy_weighted_loss\n",
    "    }\n",
    ")\n",
    "\n",
    "inceptionresnetv2_model = load_model(\n",
    "    \"../trained_models/inceptionresnetv2.h5\",\n",
    "    custom_objects={\n",
    "        \"binary_crossentropy_weighted_loss\": set_binary_crossentropy_weighted_loss\n",
    "    }\n",
    ")\n",
    "\n",
    "resnet152_model = load_model(\n",
    "    \"../trained_models/resnet152.h5\",\n",
    "    custom_objects={\n",
    "        \"binary_crossentropy_weighted_loss\": set_binary_crossentropy_weighted_loss\n",
    "    }\n",
    ")\n",
    "\n",
    "ensemble_model = load_model(\n",
    "    \"../trained_models/ensemble-model.h5\",\n",
    "    custom_objects={\n",
    "        \"binary_crossentropy_weighted_loss\": set_binary_crossentropy_weighted_loss\n",
    "    }\n",
    ")"
   ]
  },
  {
   "cell_type": "markdown",
   "id": "abbae5b4",
   "metadata": {},
   "source": [
    "### 3- Predictions"
   ]
  },
  {
   "cell_type": "code",
   "execution_count": null,
   "id": "9527dcfd",
   "metadata": {},
   "outputs": [],
   "source": [
    "predictions_densenet201_model = densenet201_model.predict(\n",
    "    x=test_datagenerator,\n",
    "    steps=len(test_datagenerator),\n",
    "    workers=1,\n",
    "    verbose=1\n",
    ")\n",
    "\n",
    "# \"Sigmoid\" activation for output probabilities\n",
    "predictions_densenet201_model = (predictions_densenet201_model >= 0.5).astype(np.float32)"
   ]
  },
  {
   "cell_type": "code",
   "execution_count": null,
   "id": "b4e80513",
   "metadata": {},
   "outputs": [],
   "source": [
    "predictions_inceptionresnetv2_model = inceptionresnetv2_model.predict(\n",
    "    x=test_datagenerator,\n",
    "    steps=len(test_datagenerator),\n",
    "    workers=1,\n",
    "    verbose=1\n",
    ")\n",
    "\n",
    "# \"Sigmoid\" activation for output probabilities\n",
    "predictions_inceptionresnetv2_model = (predictions_inceptionresnetv2_model >= 0.5).astype(np.float32)"
   ]
  },
  {
   "cell_type": "code",
   "execution_count": null,
   "id": "56070573",
   "metadata": {},
   "outputs": [],
   "source": [
    "predictions_resnet152_model = resnet152_model.predict(\n",
    "    x=test_datagenerator,\n",
    "    steps=len(test_datagenerator),\n",
    "    workers=1,\n",
    "    verbose=1\n",
    ")\n",
    "\n",
    "# \"Sigmoid\" activation for output probabilities\n",
    "predictions_resnet152_model = (predictions_resnet152_model >= 0.5).astype(np.float32)"
   ]
  },
  {
   "cell_type": "code",
   "execution_count": null,
   "id": "e168c00b",
   "metadata": {},
   "outputs": [],
   "source": [
    "predictions_ensemble_model = ensemble_model.predict(\n",
    "    x=test_datagenerator,\n",
    "    steps=len(test_datagenerator),\n",
    "    workers=1,\n",
    "    verbose=1\n",
    ")\n",
    "\n",
    "# \"Sigmoid\" activation for output probabilities\n",
    "predictions_ensemble_model = (predictions_ensemble_model >= 0.5).astype(np.float32)"
   ]
  },
  {
   "cell_type": "markdown",
   "id": "d28bee6b",
   "metadata": {},
   "source": [
    "### All CheXpert labels (all 14 labels)"
   ]
  },
  {
   "cell_type": "markdown",
   "id": "666856d5",
   "metadata": {},
   "source": [
    "#### 1- DenseNet-201 model"
   ]
  },
  {
   "cell_type": "code",
   "execution_count": null,
   "id": "dbbbdb40",
   "metadata": {},
   "outputs": [],
   "source": [
    "report_densenet201_model = classification_report(\n",
    "    y_true=test_datagenerator.labels.astype(np.uint8),\n",
    "    y_pred=predictions_densenet201_model.astype(np.uint8),\n",
    "    digits=4,\n",
    "    target_names=y_cols\n",
    ")\n",
    "\n",
    "print(report_densenet201_model)\n",
    "\n",
    "cm_densenet201 = multilabel_confusion_matrix(\n",
    "    y_true=test_datagenerator.labels.astype(np.uint8),\n",
    "    y_pred=predictions_densenet201_model.astype(np.uint8)\n",
    ")\n",
    "\n",
    "print(cm_densenet201)"
   ]
  },
  {
   "cell_type": "markdown",
   "id": "b6017c6e",
   "metadata": {},
   "source": [
    "#### 2- Inception-ResNet-V2 model"
   ]
  },
  {
   "cell_type": "code",
   "execution_count": null,
   "id": "162f43f4",
   "metadata": {},
   "outputs": [],
   "source": [
    "report_inceptionresnetv2_model = classification_report(\n",
    "    y_true=test_datagenerator.labels.astype(np.uint8),\n",
    "    y_pred=predictions_inceptionresnetv2_model.astype(np.uint8),\n",
    "    digits=4,\n",
    "    target_names=y_cols\n",
    ")\n",
    "\n",
    "print(report_inceptionresnetv2_model)\n",
    "\n",
    "cm_inceptionresnetv2 = multilabel_confusion_matrix(\n",
    "    y_true=test_datagenerator.labels.astype(np.uint8),\n",
    "    y_pred=predictions_inceptionresnetv2_model.astype(np.uint8)\n",
    ")\n",
    "\n",
    "print(cm_inceptionresnetv2)"
   ]
  },
  {
   "cell_type": "markdown",
   "id": "72797c0b",
   "metadata": {},
   "source": [
    "#### 3- ResNet-152 model"
   ]
  },
  {
   "cell_type": "code",
   "execution_count": null,
   "id": "7ec50819",
   "metadata": {},
   "outputs": [],
   "source": [
    "report_resnet152_model = classification_report(\n",
    "    y_true=test_datagenerator.labels.astype(np.uint8),\n",
    "    y_pred=predictions_resnet152_model.astype(np.uint8),\n",
    "    digits=4,\n",
    "    target_names=y_cols\n",
    ")\n",
    "\n",
    "print(report_resnet152_model)\n",
    "\n",
    "cm_resnet152 = multilabel_confusion_matrix(\n",
    "    y_true=test_datagenerator.labels.astype(np.uint8),\n",
    "    y_pred=predictions_resnet152_model.astype(np.uint8)\n",
    ")\n",
    "\n",
    "print(cm_resnet152)"
   ]
  },
  {
   "cell_type": "markdown",
   "id": "355267c8",
   "metadata": {},
   "source": [
    "#### 4- Ensemble model"
   ]
  },
  {
   "cell_type": "code",
   "execution_count": null,
   "id": "a81fe731",
   "metadata": {},
   "outputs": [],
   "source": [
    "report_ensemble_model = classification_report(\n",
    "    y_true=test_datagenerator.labels.astype(np.uint8),\n",
    "    y_pred=predictions_ensemble_model.astype(np.uint8),\n",
    "    digits=4,\n",
    "    target_names=y_cols\n",
    ")\n",
    "\n",
    "print(report_ensemble_model)\n",
    "\n",
    "cm_ensemble = multilabel_confusion_matrix(\n",
    "    y_true=test_datagenerator.labels.astype(np.uint8),\n",
    "    y_pred=predictions_ensemble_model.astype(np.uint8)\n",
    ")\n",
    "\n",
    "print(cm_ensemble)"
   ]
  },
  {
   "cell_type": "markdown",
   "id": "37a5edff",
   "metadata": {},
   "source": [
    "### CheXpert competition labels (first 5 labels only)"
   ]
  },
  {
   "cell_type": "markdown",
   "id": "103c59e2",
   "metadata": {},
   "source": [
    "#### 1- DenseNet-201 model"
   ]
  },
  {
   "cell_type": "code",
   "execution_count": null,
   "id": "99f21494",
   "metadata": {},
   "outputs": [],
   "source": [
    "report_densenet201_model = classification_report(\n",
    "    y_true=test_datagenerator.labels[:, :5].astype(np.uint8),\n",
    "    y_pred=predictions_densenet201_model[:, :5].astype(np.uint8),\n",
    "    digits=4,\n",
    "    target_names=y_cols[:5]\n",
    ")\n",
    "\n",
    "print(report_densenet201_model)\n",
    "\n",
    "cm_densenet201 = multilabel_confusion_matrix(\n",
    "    y_true=test_datagenerator.labels[:, :5].astype(np.uint8),\n",
    "    y_pred=predictions_densenet201_model[:, :5].astype(np.uint8)\n",
    ")\n",
    "\n",
    "print(cm_densenet201)"
   ]
  },
  {
   "cell_type": "markdown",
   "id": "6aa905ed",
   "metadata": {},
   "source": [
    "#### 2- Inception-ResNet-V2 model"
   ]
  },
  {
   "cell_type": "code",
   "execution_count": null,
   "id": "10ea290e",
   "metadata": {},
   "outputs": [],
   "source": [
    "report_inceptionresnetv2_model = classification_report(\n",
    "    y_true=test_datagenerator.labels[:, :5].astype(np.uint8),\n",
    "    y_pred=predictions_inceptionresnetv2_model[:, :5].astype(np.uint8),\n",
    "    digits=4,\n",
    "    target_names=y_cols[:5]\n",
    ")\n",
    "\n",
    "print(report_inceptionresnetv2_model)\n",
    "\n",
    "cm_inceptionresnetv2 = multilabel_confusion_matrix(\n",
    "    y_true=test_datagenerator.labels[:, :5].astype(np.uint8),\n",
    "    y_pred=predictions_inceptionresnetv2_model[:, :5].astype(np.uint8)\n",
    ")\n",
    "\n",
    "print(cm_inceptionresnetv2)"
   ]
  },
  {
   "cell_type": "markdown",
   "id": "582ffb32",
   "metadata": {},
   "source": [
    "#### 3- ResNet-152 model"
   ]
  },
  {
   "cell_type": "code",
   "execution_count": null,
   "id": "d403b967",
   "metadata": {},
   "outputs": [],
   "source": [
    "report_resnet152_model = classification_report(\n",
    "    y_true=test_datagenerator.labels[:, :5].astype(np.uint8),\n",
    "    y_pred=predictions_resnet152_model[:, :5].astype(np.uint8),\n",
    "    digits=4,\n",
    "    target_names=y_cols[:5]\n",
    ")\n",
    "\n",
    "print(report_resnet152_model)\n",
    "\n",
    "cm_resnet152 = multilabel_confusion_matrix(\n",
    "    y_true=test_datagenerator.labels[:, :5].astype(np.uint8),\n",
    "    y_pred=predictions_resnet152_model[:, :5].astype(np.uint8)\n",
    ")\n",
    "\n",
    "print(cm_resnet152)"
   ]
  },
  {
   "cell_type": "markdown",
   "id": "a38d601e",
   "metadata": {},
   "source": [
    "#### 4- Ensemble model"
   ]
  },
  {
   "cell_type": "code",
   "execution_count": null,
   "id": "0a5bd509",
   "metadata": {},
   "outputs": [],
   "source": [
    "report_ensemble_model = classification_report(\n",
    "    y_true=test_datagenerator.labels[:, :5].astype(np.uint8),\n",
    "    y_pred=predictions_ensemble_model[:, :5].astype(np.uint8),\n",
    "    digits=4,\n",
    "    target_names=y_cols[:5]\n",
    ")\n",
    "\n",
    "print(report_ensemble_model)\n",
    "\n",
    "cm_ensemble = multilabel_confusion_matrix(\n",
    "    y_true=test_datagenerator.labels[:, :5].astype(np.uint8),\n",
    "    y_pred=predictions_ensemble_model[:, :5].astype(np.uint8)\n",
    ")\n",
    "\n",
    "print(cm_ensemble)"
   ]
  }
 ],
 "metadata": {
  "kernelspec": {
   "display_name": "Python 3 (ipykernel)",
   "language": "python",
   "name": "python3"
  },
  "language_info": {
   "codemirror_mode": {
    "name": "ipython",
    "version": 3
   },
   "file_extension": ".py",
   "mimetype": "text/x-python",
   "name": "python",
   "nbconvert_exporter": "python",
   "pygments_lexer": "ipython3",
   "version": "3.7.11"
  }
 },
 "nbformat": 4,
 "nbformat_minor": 5
}
