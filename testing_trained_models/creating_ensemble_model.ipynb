{
 "cells": [
  {
   "cell_type": "code",
   "execution_count": 1,
   "id": "17f8a53b",
   "metadata": {},
   "outputs": [
    {
     "name": "stderr",
     "output_type": "stream",
     "text": [
      "2021-11-27 19:23:36.156094: I tensorflow/stream_executor/platform/default/dso_loader.cc:49] Successfully opened dynamic library libcudart.so.10.1\n"
     ]
    }
   ],
   "source": [
    "import numpy as np\n",
    "import matplotlib.pyplot as plt\n",
    "import tensorflow as tf\n",
    "from tensorflow.keras.models import load_model\n",
    "\n",
    "# Custom objects required for loading CheXpert multi-label classification models\n",
    "import sys \n",
    "sys.path.append('..')\n",
    "from loss import (\n",
    "    set_binary_crossentropy_weighted_loss\n",
    ")"
   ]
  },
  {
   "cell_type": "markdown",
   "id": "cc3bd716",
   "metadata": {},
   "source": [
    "### 1- Creating ensemble model from the trained multi-label classification models"
   ]
  },
  {
   "cell_type": "code",
   "execution_count": 2,
   "id": "f6ea17ab",
   "metadata": {},
   "outputs": [
    {
     "name": "stderr",
     "output_type": "stream",
     "text": [
      "2021-11-27 19:23:40.399925: I tensorflow/compiler/jit/xla_cpu_device.cc:41] Not creating XLA devices, tf_xla_enable_xla_devices not set\n",
      "2021-11-27 19:23:40.412174: I tensorflow/stream_executor/platform/default/dso_loader.cc:49] Successfully opened dynamic library libcuda.so.1\n",
      "2021-11-27 19:23:40.498183: I tensorflow/stream_executor/cuda/cuda_gpu_executor.cc:941] successful NUMA node read from SysFS had negative value (-1), but there must be at least one NUMA node, so returning NUMA node zero\n",
      "2021-11-27 19:23:40.500053: I tensorflow/core/common_runtime/gpu/gpu_device.cc:1720] Found device 0 with properties: \n",
      "pciBusID: 0000:01:00.0 name: NVIDIA TITAN RTX computeCapability: 7.5\n",
      "coreClock: 1.77GHz coreCount: 72 deviceMemorySize: 23.65GiB deviceMemoryBandwidth: 625.94GiB/s\n",
      "2021-11-27 19:23:40.500109: I tensorflow/stream_executor/platform/default/dso_loader.cc:49] Successfully opened dynamic library libcudart.so.10.1\n",
      "2021-11-27 19:23:40.555994: I tensorflow/stream_executor/platform/default/dso_loader.cc:49] Successfully opened dynamic library libcublas.so.10\n",
      "2021-11-27 19:23:40.556144: I tensorflow/stream_executor/platform/default/dso_loader.cc:49] Successfully opened dynamic library libcublasLt.so.10\n",
      "2021-11-27 19:23:40.582623: I tensorflow/stream_executor/platform/default/dso_loader.cc:49] Successfully opened dynamic library libcufft.so.10\n",
      "2021-11-27 19:23:40.589967: I tensorflow/stream_executor/platform/default/dso_loader.cc:49] Successfully opened dynamic library libcurand.so.10\n",
      "2021-11-27 19:23:40.639966: I tensorflow/stream_executor/platform/default/dso_loader.cc:49] Successfully opened dynamic library libcusolver.so.10\n",
      "2021-11-27 19:23:40.646620: I tensorflow/stream_executor/platform/default/dso_loader.cc:49] Successfully opened dynamic library libcusparse.so.10\n",
      "2021-11-27 19:23:40.737373: I tensorflow/stream_executor/platform/default/dso_loader.cc:49] Successfully opened dynamic library libcudnn.so.7\n",
      "2021-11-27 19:23:40.737520: I tensorflow/stream_executor/cuda/cuda_gpu_executor.cc:941] successful NUMA node read from SysFS had negative value (-1), but there must be at least one NUMA node, so returning NUMA node zero\n",
      "2021-11-27 19:23:40.738478: I tensorflow/stream_executor/cuda/cuda_gpu_executor.cc:941] successful NUMA node read from SysFS had negative value (-1), but there must be at least one NUMA node, so returning NUMA node zero\n",
      "2021-11-27 19:23:40.739562: I tensorflow/core/common_runtime/gpu/gpu_device.cc:1862] Adding visible gpu devices: 0\n",
      "2021-11-27 19:23:40.739917: I tensorflow/core/platform/cpu_feature_guard.cc:142] This TensorFlow binary is optimized with oneAPI Deep Neural Network Library (oneDNN) to use the following CPU instructions in performance-critical operations:  SSE4.1 SSE4.2 AVX AVX2 FMA\n",
      "To enable them in other operations, rebuild TensorFlow with the appropriate compiler flags.\n",
      "2021-11-27 19:23:40.740674: I tensorflow/stream_executor/cuda/cuda_gpu_executor.cc:941] successful NUMA node read from SysFS had negative value (-1), but there must be at least one NUMA node, so returning NUMA node zero\n",
      "2021-11-27 19:23:40.741666: I tensorflow/core/common_runtime/gpu/gpu_device.cc:1720] Found device 0 with properties: \n",
      "pciBusID: 0000:01:00.0 name: NVIDIA TITAN RTX computeCapability: 7.5\n",
      "coreClock: 1.77GHz coreCount: 72 deviceMemorySize: 23.65GiB deviceMemoryBandwidth: 625.94GiB/s\n",
      "2021-11-27 19:23:40.741701: I tensorflow/stream_executor/platform/default/dso_loader.cc:49] Successfully opened dynamic library libcudart.so.10.1\n",
      "2021-11-27 19:23:40.741726: I tensorflow/stream_executor/platform/default/dso_loader.cc:49] Successfully opened dynamic library libcublas.so.10\n",
      "2021-11-27 19:23:40.741747: I tensorflow/stream_executor/platform/default/dso_loader.cc:49] Successfully opened dynamic library libcublasLt.so.10\n",
      "2021-11-27 19:23:40.741767: I tensorflow/stream_executor/platform/default/dso_loader.cc:49] Successfully opened dynamic library libcufft.so.10\n",
      "2021-11-27 19:23:40.741787: I tensorflow/stream_executor/platform/default/dso_loader.cc:49] Successfully opened dynamic library libcurand.so.10\n",
      "2021-11-27 19:23:40.741807: I tensorflow/stream_executor/platform/default/dso_loader.cc:49] Successfully opened dynamic library libcusolver.so.10\n",
      "2021-11-27 19:23:40.741828: I tensorflow/stream_executor/platform/default/dso_loader.cc:49] Successfully opened dynamic library libcusparse.so.10\n",
      "2021-11-27 19:23:40.741850: I tensorflow/stream_executor/platform/default/dso_loader.cc:49] Successfully opened dynamic library libcudnn.so.7\n",
      "2021-11-27 19:23:40.741927: I tensorflow/stream_executor/cuda/cuda_gpu_executor.cc:941] successful NUMA node read from SysFS had negative value (-1), but there must be at least one NUMA node, so returning NUMA node zero\n",
      "2021-11-27 19:23:40.742991: I tensorflow/stream_executor/cuda/cuda_gpu_executor.cc:941] successful NUMA node read from SysFS had negative value (-1), but there must be at least one NUMA node, so returning NUMA node zero\n",
      "2021-11-27 19:23:40.743603: I tensorflow/core/common_runtime/gpu/gpu_device.cc:1862] Adding visible gpu devices: 0\n",
      "2021-11-27 19:23:40.744231: I tensorflow/stream_executor/platform/default/dso_loader.cc:49] Successfully opened dynamic library libcudart.so.10.1\n",
      "2021-11-27 19:23:42.150196: I tensorflow/core/common_runtime/gpu/gpu_device.cc:1261] Device interconnect StreamExecutor with strength 1 edge matrix:\n",
      "2021-11-27 19:23:42.150213: I tensorflow/core/common_runtime/gpu/gpu_device.cc:1267]      0 \n",
      "2021-11-27 19:23:42.150217: I tensorflow/core/common_runtime/gpu/gpu_device.cc:1280] 0:   N \n",
      "2021-11-27 19:23:42.150967: I tensorflow/stream_executor/cuda/cuda_gpu_executor.cc:941] successful NUMA node read from SysFS had negative value (-1), but there must be at least one NUMA node, so returning NUMA node zero\n",
      "2021-11-27 19:23:42.151530: I tensorflow/stream_executor/cuda/cuda_gpu_executor.cc:941] successful NUMA node read from SysFS had negative value (-1), but there must be at least one NUMA node, so returning NUMA node zero\n",
      "2021-11-27 19:23:42.152050: I tensorflow/stream_executor/cuda/cuda_gpu_executor.cc:941] successful NUMA node read from SysFS had negative value (-1), but there must be at least one NUMA node, so returning NUMA node zero\n",
      "2021-11-27 19:23:42.152548: I tensorflow/core/common_runtime/gpu/gpu_device.cc:1406] Created TensorFlow device (/job:localhost/replica:0/task:0/device:GPU:0 with 21820 MB memory) -> physical GPU (device: 0, name: NVIDIA TITAN RTX, pci bus id: 0000:01:00.0, compute capability: 7.5)\n",
      "2021-11-27 19:23:42.154521: I tensorflow/compiler/jit/xla_gpu_device.cc:99] Not creating XLA devices, tf_xla_enable_xla_devices not set\n"
     ]
    }
   ],
   "source": [
    "densenet201_model = load_model(\n",
    "    \"../trained_models/densenet201.h5\",\n",
    "    custom_objects={\n",
    "        \"binary_crossentropy_weighted_loss\": set_binary_crossentropy_weighted_loss\n",
    "    }\n",
    ")\n",
    "\n",
    "inceptionresnetv2_model = load_model(\n",
    "    \"../trained_models/inceptionresnetv2.h5\",\n",
    "    custom_objects={\n",
    "        \"binary_crossentropy_weighted_loss\": set_binary_crossentropy_weighted_loss\n",
    "    }\n",
    ")"
   ]
  },
  {
   "cell_type": "code",
   "execution_count": 3,
   "id": "8d5b683c",
   "metadata": {},
   "outputs": [],
   "source": [
    "# Combining all three models to one ensemble tensorflow.keras models\n",
    "#  renaming the model names is required for this step\n",
    "\n",
    "# Stackoverflow reference: https://stackoverflow.com/a/57794744/10086080\n",
    "densenet201_model._name = \"DenseNet-201\"\n",
    "inceptionresnetv2_model._name = \"Inception-ResNet-V2\""
   ]
  },
  {
   "cell_type": "code",
   "execution_count": 4,
   "id": "f8355d8c",
   "metadata": {},
   "outputs": [],
   "source": [
    "# Taken from: https://stackoverflow.com/a/67648035/10086080\n",
    "models = [densenet201_model, inceptionresnetv2_model]\n",
    "\n",
    "model_input = tf.keras.Input(shape=(512, 512, 1))\n",
    "model_outputs = [model(model_input) for model in models]\n",
    "\n",
    "ensemble_output = tf.keras.layers.Average()(model_outputs)\n",
    "ensemble_model = tf.keras.Model(inputs=model_input, outputs=ensemble_output)"
   ]
  },
  {
   "cell_type": "code",
   "execution_count": 5,
   "id": "da954927",
   "metadata": {},
   "outputs": [
    {
     "name": "stdout",
     "output_type": "stream",
     "text": [
      "Model: \"model\"\n",
      "__________________________________________________________________________________________________\n",
      "Layer (type)                    Output Shape         Param #     Connected to                     \n",
      "==================================================================================================\n",
      "input_1 (InputLayer)            [(None, 512, 512, 1) 0                                            \n",
      "__________________________________________________________________________________________________\n",
      "DenseNet-201 (Functional)       (None, 14)           18342606    input_1[0][0]                    \n",
      "__________________________________________________________________________________________________\n",
      "Inception-ResNet-V2 (Functional (None, 14)           54357678    input_1[0][0]                    \n",
      "__________________________________________________________________________________________________\n",
      "average (Average)               (None, 14)           0           DenseNet-201[0][0]               \n",
      "                                                                 Inception-ResNet-V2[0][0]        \n",
      "==================================================================================================\n",
      "Total params: 72,700,284\n",
      "Trainable params: 72,410,684\n",
      "Non-trainable params: 289,600\n",
      "__________________________________________________________________________________________________\n"
     ]
    }
   ],
   "source": [
    "ensemble_model.summary()"
   ]
  },
  {
   "cell_type": "markdown",
   "id": "2814dd2e",
   "metadata": {},
   "source": [
    "### 2- Saving ensemble model"
   ]
  },
  {
   "cell_type": "code",
   "execution_count": 6,
   "id": "2e22dd9d",
   "metadata": {},
   "outputs": [],
   "source": [
    "ensemble_model.save(\"../trained_models/ensemble-model.h5\")"
   ]
  },
  {
   "cell_type": "markdown",
   "id": "1e70717f",
   "metadata": {},
   "source": [
    "### 3- Testing loading the saved ensemble model"
   ]
  },
  {
   "cell_type": "code",
   "execution_count": 7,
   "id": "68e8de37",
   "metadata": {},
   "outputs": [],
   "source": [
    "ensemble_model = load_model(\n",
    "    \"../trained_models/ensemble-model.h5\",\n",
    "    compile=False,\n",
    "    custom_objects={\n",
    "        \"binary_crossentropy_weighted_loss\": set_binary_crossentropy_weighted_loss\n",
    "    }\n",
    ")"
   ]
  },
  {
   "cell_type": "code",
   "execution_count": 8,
   "id": "01387c15",
   "metadata": {},
   "outputs": [
    {
     "name": "stdout",
     "output_type": "stream",
     "text": [
      "Model: \"model\"\n",
      "__________________________________________________________________________________________________\n",
      "Layer (type)                    Output Shape         Param #     Connected to                     \n",
      "==================================================================================================\n",
      "input_1 (InputLayer)            [(None, 512, 512, 1) 0                                            \n",
      "__________________________________________________________________________________________________\n",
      "DenseNet-201 (Functional)       (None, 14)           18342606    input_1[0][0]                    \n",
      "__________________________________________________________________________________________________\n",
      "Inception-ResNet-V2 (Functional (None, 14)           54357678    input_1[0][0]                    \n",
      "__________________________________________________________________________________________________\n",
      "average (Average)               (None, 14)           0           DenseNet-201[0][0]               \n",
      "                                                                 Inception-ResNet-V2[0][0]        \n",
      "==================================================================================================\n",
      "Total params: 72,700,284\n",
      "Trainable params: 72,410,684\n",
      "Non-trainable params: 289,600\n",
      "__________________________________________________________________________________________________\n"
     ]
    }
   ],
   "source": [
    "ensemble_model.summary()"
   ]
  },
  {
   "cell_type": "code",
   "execution_count": null,
   "id": "eb410d99",
   "metadata": {},
   "outputs": [],
   "source": []
  }
 ],
 "metadata": {
  "kernelspec": {
   "display_name": "Python 3 (ipykernel)",
   "language": "python",
   "name": "python3"
  },
  "language_info": {
   "codemirror_mode": {
    "name": "ipython",
    "version": 3
   },
   "file_extension": ".py",
   "mimetype": "text/x-python",
   "name": "python",
   "nbconvert_exporter": "python",
   "pygments_lexer": "ipython3",
   "version": "3.7.11"
  }
 },
 "nbformat": 4,
 "nbformat_minor": 5
}
