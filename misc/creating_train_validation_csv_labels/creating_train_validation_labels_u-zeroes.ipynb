{
 "cells": [
  {
   "cell_type": "markdown",
   "id": "18af5b60",
   "metadata": {},
   "source": [
    "### Setting the CheXpert dataset labels to \"U-Zeroes\" mode; setting all \"uncertain\" labels to zeroes\n",
    "This notebook does the following:\n",
    "\n",
    "* Keeping only the relevant columns with reordering the CheXpert competition labels to be the first five label columns\n",
    "* Splitting the official training set into a train and validation set with the official valid set being the \"test\" set\n",
    "* Creating csv label files of all 14 labels and csv label files of only the 5 CheXpert competition labels.\n",
    "\n",
    "__Reference__: The 'Leveraging Uncertainty Labels' section in the official CheXpert website: [link](https://stanfordmlgroup.github.io/competitions/chexpert/)"
   ]
  },
  {
   "cell_type": "code",
   "execution_count": 1,
   "id": "6f81a3a5",
   "metadata": {},
   "outputs": [],
   "source": [
    "import pandas as pd\n",
    "import matplotlib.pyplot as plt\n",
    "from sklearn.model_selection import train_test_split"
   ]
  },
  {
   "cell_type": "markdown",
   "id": "341646c7",
   "metadata": {},
   "source": [
    "### 1- Reading train and validation labels csv files"
   ]
  },
  {
   "cell_type": "code",
   "execution_count": 2,
   "id": "e0f8460e",
   "metadata": {},
   "outputs": [],
   "source": [
    "train_full_df = pd.read_csv(\"../../labels/train.csv\")"
   ]
  },
  {
   "cell_type": "code",
   "execution_count": 3,
   "id": "4b9a82d0",
   "metadata": {},
   "outputs": [
    {
     "data": {
      "text/plain": [
       "Index(['Path', 'Sex', 'Age', 'Frontal/Lateral', 'AP/PA', 'No Finding',\n",
       "       'Enlarged Cardiomediastinum', 'Cardiomegaly', 'Lung Opacity',\n",
       "       'Lung Lesion', 'Edema', 'Consolidation', 'Pneumonia', 'Atelectasis',\n",
       "       'Pneumothorax', 'Pleural Effusion', 'Pleural Other', 'Fracture',\n",
       "       'Support Devices'],\n",
       "      dtype='object')"
      ]
     },
     "execution_count": 3,
     "metadata": {},
     "output_type": "execute_result"
    }
   ],
   "source": [
    "train_full_df.columns"
   ]
  },
  {
   "cell_type": "code",
   "execution_count": 4,
   "id": "e04d02b6",
   "metadata": {},
   "outputs": [
    {
     "data": {
      "text/html": [
       "<div>\n",
       "<style scoped>\n",
       "    .dataframe tbody tr th:only-of-type {\n",
       "        vertical-align: middle;\n",
       "    }\n",
       "\n",
       "    .dataframe tbody tr th {\n",
       "        vertical-align: top;\n",
       "    }\n",
       "\n",
       "    .dataframe thead th {\n",
       "        text-align: right;\n",
       "    }\n",
       "</style>\n",
       "<table border=\"1\" class=\"dataframe\">\n",
       "  <thead>\n",
       "    <tr style=\"text-align: right;\">\n",
       "      <th></th>\n",
       "      <th>Path</th>\n",
       "      <th>Sex</th>\n",
       "      <th>Age</th>\n",
       "      <th>Frontal/Lateral</th>\n",
       "      <th>AP/PA</th>\n",
       "      <th>No Finding</th>\n",
       "      <th>Enlarged Cardiomediastinum</th>\n",
       "      <th>Cardiomegaly</th>\n",
       "      <th>Lung Opacity</th>\n",
       "      <th>Lung Lesion</th>\n",
       "      <th>Edema</th>\n",
       "      <th>Consolidation</th>\n",
       "      <th>Pneumonia</th>\n",
       "      <th>Atelectasis</th>\n",
       "      <th>Pneumothorax</th>\n",
       "      <th>Pleural Effusion</th>\n",
       "      <th>Pleural Other</th>\n",
       "      <th>Fracture</th>\n",
       "      <th>Support Devices</th>\n",
       "    </tr>\n",
       "  </thead>\n",
       "  <tbody>\n",
       "    <tr>\n",
       "      <th>0</th>\n",
       "      <td>CheXpert-v1.0/train/patient00001/study1/view1_...</td>\n",
       "      <td>Female</td>\n",
       "      <td>68</td>\n",
       "      <td>Frontal</td>\n",
       "      <td>AP</td>\n",
       "      <td>1.0</td>\n",
       "      <td>NaN</td>\n",
       "      <td>NaN</td>\n",
       "      <td>NaN</td>\n",
       "      <td>NaN</td>\n",
       "      <td>NaN</td>\n",
       "      <td>NaN</td>\n",
       "      <td>NaN</td>\n",
       "      <td>NaN</td>\n",
       "      <td>0.0</td>\n",
       "      <td>NaN</td>\n",
       "      <td>NaN</td>\n",
       "      <td>NaN</td>\n",
       "      <td>1.0</td>\n",
       "    </tr>\n",
       "    <tr>\n",
       "      <th>1</th>\n",
       "      <td>CheXpert-v1.0/train/patient00002/study2/view1_...</td>\n",
       "      <td>Female</td>\n",
       "      <td>87</td>\n",
       "      <td>Frontal</td>\n",
       "      <td>AP</td>\n",
       "      <td>NaN</td>\n",
       "      <td>NaN</td>\n",
       "      <td>-1.0</td>\n",
       "      <td>1.0</td>\n",
       "      <td>NaN</td>\n",
       "      <td>-1.0</td>\n",
       "      <td>-1.0</td>\n",
       "      <td>NaN</td>\n",
       "      <td>-1.0</td>\n",
       "      <td>NaN</td>\n",
       "      <td>-1.0</td>\n",
       "      <td>NaN</td>\n",
       "      <td>1.0</td>\n",
       "      <td>NaN</td>\n",
       "    </tr>\n",
       "    <tr>\n",
       "      <th>2</th>\n",
       "      <td>CheXpert-v1.0/train/patient00002/study1/view1_...</td>\n",
       "      <td>Female</td>\n",
       "      <td>83</td>\n",
       "      <td>Frontal</td>\n",
       "      <td>AP</td>\n",
       "      <td>NaN</td>\n",
       "      <td>NaN</td>\n",
       "      <td>NaN</td>\n",
       "      <td>1.0</td>\n",
       "      <td>NaN</td>\n",
       "      <td>NaN</td>\n",
       "      <td>-1.0</td>\n",
       "      <td>NaN</td>\n",
       "      <td>NaN</td>\n",
       "      <td>NaN</td>\n",
       "      <td>NaN</td>\n",
       "      <td>NaN</td>\n",
       "      <td>1.0</td>\n",
       "      <td>NaN</td>\n",
       "    </tr>\n",
       "    <tr>\n",
       "      <th>3</th>\n",
       "      <td>CheXpert-v1.0/train/patient00002/study1/view2_...</td>\n",
       "      <td>Female</td>\n",
       "      <td>83</td>\n",
       "      <td>Lateral</td>\n",
       "      <td>NaN</td>\n",
       "      <td>NaN</td>\n",
       "      <td>NaN</td>\n",
       "      <td>NaN</td>\n",
       "      <td>1.0</td>\n",
       "      <td>NaN</td>\n",
       "      <td>NaN</td>\n",
       "      <td>-1.0</td>\n",
       "      <td>NaN</td>\n",
       "      <td>NaN</td>\n",
       "      <td>NaN</td>\n",
       "      <td>NaN</td>\n",
       "      <td>NaN</td>\n",
       "      <td>1.0</td>\n",
       "      <td>NaN</td>\n",
       "    </tr>\n",
       "    <tr>\n",
       "      <th>4</th>\n",
       "      <td>CheXpert-v1.0/train/patient00003/study1/view1_...</td>\n",
       "      <td>Male</td>\n",
       "      <td>41</td>\n",
       "      <td>Frontal</td>\n",
       "      <td>AP</td>\n",
       "      <td>NaN</td>\n",
       "      <td>NaN</td>\n",
       "      <td>NaN</td>\n",
       "      <td>NaN</td>\n",
       "      <td>NaN</td>\n",
       "      <td>1.0</td>\n",
       "      <td>NaN</td>\n",
       "      <td>NaN</td>\n",
       "      <td>NaN</td>\n",
       "      <td>0.0</td>\n",
       "      <td>NaN</td>\n",
       "      <td>NaN</td>\n",
       "      <td>NaN</td>\n",
       "      <td>NaN</td>\n",
       "    </tr>\n",
       "    <tr>\n",
       "      <th>...</th>\n",
       "      <td>...</td>\n",
       "      <td>...</td>\n",
       "      <td>...</td>\n",
       "      <td>...</td>\n",
       "      <td>...</td>\n",
       "      <td>...</td>\n",
       "      <td>...</td>\n",
       "      <td>...</td>\n",
       "      <td>...</td>\n",
       "      <td>...</td>\n",
       "      <td>...</td>\n",
       "      <td>...</td>\n",
       "      <td>...</td>\n",
       "      <td>...</td>\n",
       "      <td>...</td>\n",
       "      <td>...</td>\n",
       "      <td>...</td>\n",
       "      <td>...</td>\n",
       "      <td>...</td>\n",
       "    </tr>\n",
       "    <tr>\n",
       "      <th>223409</th>\n",
       "      <td>CheXpert-v1.0/train/patient64537/study2/view1_...</td>\n",
       "      <td>Male</td>\n",
       "      <td>59</td>\n",
       "      <td>Frontal</td>\n",
       "      <td>AP</td>\n",
       "      <td>NaN</td>\n",
       "      <td>NaN</td>\n",
       "      <td>NaN</td>\n",
       "      <td>-1.0</td>\n",
       "      <td>NaN</td>\n",
       "      <td>NaN</td>\n",
       "      <td>NaN</td>\n",
       "      <td>NaN</td>\n",
       "      <td>-1.0</td>\n",
       "      <td>0.0</td>\n",
       "      <td>1.0</td>\n",
       "      <td>NaN</td>\n",
       "      <td>NaN</td>\n",
       "      <td>NaN</td>\n",
       "    </tr>\n",
       "    <tr>\n",
       "      <th>223410</th>\n",
       "      <td>CheXpert-v1.0/train/patient64537/study1/view1_...</td>\n",
       "      <td>Male</td>\n",
       "      <td>59</td>\n",
       "      <td>Frontal</td>\n",
       "      <td>AP</td>\n",
       "      <td>NaN</td>\n",
       "      <td>NaN</td>\n",
       "      <td>NaN</td>\n",
       "      <td>-1.0</td>\n",
       "      <td>NaN</td>\n",
       "      <td>NaN</td>\n",
       "      <td>NaN</td>\n",
       "      <td>0.0</td>\n",
       "      <td>-1.0</td>\n",
       "      <td>NaN</td>\n",
       "      <td>-1.0</td>\n",
       "      <td>NaN</td>\n",
       "      <td>NaN</td>\n",
       "      <td>NaN</td>\n",
       "    </tr>\n",
       "    <tr>\n",
       "      <th>223411</th>\n",
       "      <td>CheXpert-v1.0/train/patient64538/study1/view1_...</td>\n",
       "      <td>Female</td>\n",
       "      <td>0</td>\n",
       "      <td>Frontal</td>\n",
       "      <td>AP</td>\n",
       "      <td>NaN</td>\n",
       "      <td>NaN</td>\n",
       "      <td>NaN</td>\n",
       "      <td>NaN</td>\n",
       "      <td>NaN</td>\n",
       "      <td>-1.0</td>\n",
       "      <td>NaN</td>\n",
       "      <td>NaN</td>\n",
       "      <td>NaN</td>\n",
       "      <td>NaN</td>\n",
       "      <td>NaN</td>\n",
       "      <td>NaN</td>\n",
       "      <td>NaN</td>\n",
       "      <td>NaN</td>\n",
       "    </tr>\n",
       "    <tr>\n",
       "      <th>223412</th>\n",
       "      <td>CheXpert-v1.0/train/patient64539/study1/view1_...</td>\n",
       "      <td>Female</td>\n",
       "      <td>0</td>\n",
       "      <td>Frontal</td>\n",
       "      <td>AP</td>\n",
       "      <td>NaN</td>\n",
       "      <td>NaN</td>\n",
       "      <td>1.0</td>\n",
       "      <td>1.0</td>\n",
       "      <td>NaN</td>\n",
       "      <td>NaN</td>\n",
       "      <td>NaN</td>\n",
       "      <td>-1.0</td>\n",
       "      <td>1.0</td>\n",
       "      <td>0.0</td>\n",
       "      <td>NaN</td>\n",
       "      <td>NaN</td>\n",
       "      <td>NaN</td>\n",
       "      <td>0.0</td>\n",
       "    </tr>\n",
       "    <tr>\n",
       "      <th>223413</th>\n",
       "      <td>CheXpert-v1.0/train/patient64540/study1/view1_...</td>\n",
       "      <td>Female</td>\n",
       "      <td>0</td>\n",
       "      <td>Frontal</td>\n",
       "      <td>AP</td>\n",
       "      <td>1.0</td>\n",
       "      <td>NaN</td>\n",
       "      <td>NaN</td>\n",
       "      <td>NaN</td>\n",
       "      <td>NaN</td>\n",
       "      <td>NaN</td>\n",
       "      <td>NaN</td>\n",
       "      <td>NaN</td>\n",
       "      <td>NaN</td>\n",
       "      <td>0.0</td>\n",
       "      <td>NaN</td>\n",
       "      <td>NaN</td>\n",
       "      <td>NaN</td>\n",
       "      <td>NaN</td>\n",
       "    </tr>\n",
       "  </tbody>\n",
       "</table>\n",
       "<p>223414 rows × 19 columns</p>\n",
       "</div>"
      ],
      "text/plain": [
       "                                                     Path     Sex  Age  \\\n",
       "0       CheXpert-v1.0/train/patient00001/study1/view1_...  Female   68   \n",
       "1       CheXpert-v1.0/train/patient00002/study2/view1_...  Female   87   \n",
       "2       CheXpert-v1.0/train/patient00002/study1/view1_...  Female   83   \n",
       "3       CheXpert-v1.0/train/patient00002/study1/view2_...  Female   83   \n",
       "4       CheXpert-v1.0/train/patient00003/study1/view1_...    Male   41   \n",
       "...                                                   ...     ...  ...   \n",
       "223409  CheXpert-v1.0/train/patient64537/study2/view1_...    Male   59   \n",
       "223410  CheXpert-v1.0/train/patient64537/study1/view1_...    Male   59   \n",
       "223411  CheXpert-v1.0/train/patient64538/study1/view1_...  Female    0   \n",
       "223412  CheXpert-v1.0/train/patient64539/study1/view1_...  Female    0   \n",
       "223413  CheXpert-v1.0/train/patient64540/study1/view1_...  Female    0   \n",
       "\n",
       "       Frontal/Lateral AP/PA  No Finding  Enlarged Cardiomediastinum  \\\n",
       "0              Frontal    AP         1.0                         NaN   \n",
       "1              Frontal    AP         NaN                         NaN   \n",
       "2              Frontal    AP         NaN                         NaN   \n",
       "3              Lateral   NaN         NaN                         NaN   \n",
       "4              Frontal    AP         NaN                         NaN   \n",
       "...                ...   ...         ...                         ...   \n",
       "223409         Frontal    AP         NaN                         NaN   \n",
       "223410         Frontal    AP         NaN                         NaN   \n",
       "223411         Frontal    AP         NaN                         NaN   \n",
       "223412         Frontal    AP         NaN                         NaN   \n",
       "223413         Frontal    AP         1.0                         NaN   \n",
       "\n",
       "        Cardiomegaly  Lung Opacity  Lung Lesion  Edema  Consolidation  \\\n",
       "0                NaN           NaN          NaN    NaN            NaN   \n",
       "1               -1.0           1.0          NaN   -1.0           -1.0   \n",
       "2                NaN           1.0          NaN    NaN           -1.0   \n",
       "3                NaN           1.0          NaN    NaN           -1.0   \n",
       "4                NaN           NaN          NaN    1.0            NaN   \n",
       "...              ...           ...          ...    ...            ...   \n",
       "223409           NaN          -1.0          NaN    NaN            NaN   \n",
       "223410           NaN          -1.0          NaN    NaN            NaN   \n",
       "223411           NaN           NaN          NaN   -1.0            NaN   \n",
       "223412           1.0           1.0          NaN    NaN            NaN   \n",
       "223413           NaN           NaN          NaN    NaN            NaN   \n",
       "\n",
       "        Pneumonia  Atelectasis  Pneumothorax  Pleural Effusion  Pleural Other  \\\n",
       "0             NaN          NaN           0.0               NaN            NaN   \n",
       "1             NaN         -1.0           NaN              -1.0            NaN   \n",
       "2             NaN          NaN           NaN               NaN            NaN   \n",
       "3             NaN          NaN           NaN               NaN            NaN   \n",
       "4             NaN          NaN           0.0               NaN            NaN   \n",
       "...           ...          ...           ...               ...            ...   \n",
       "223409        NaN         -1.0           0.0               1.0            NaN   \n",
       "223410        0.0         -1.0           NaN              -1.0            NaN   \n",
       "223411        NaN          NaN           NaN               NaN            NaN   \n",
       "223412       -1.0          1.0           0.0               NaN            NaN   \n",
       "223413        NaN          NaN           0.0               NaN            NaN   \n",
       "\n",
       "        Fracture  Support Devices  \n",
       "0            NaN              1.0  \n",
       "1            1.0              NaN  \n",
       "2            1.0              NaN  \n",
       "3            1.0              NaN  \n",
       "4            NaN              NaN  \n",
       "...          ...              ...  \n",
       "223409       NaN              NaN  \n",
       "223410       NaN              NaN  \n",
       "223411       NaN              NaN  \n",
       "223412       NaN              0.0  \n",
       "223413       NaN              NaN  \n",
       "\n",
       "[223414 rows x 19 columns]"
      ]
     },
     "execution_count": 4,
     "metadata": {},
     "output_type": "execute_result"
    }
   ],
   "source": [
    "train_full_df"
   ]
  },
  {
   "cell_type": "code",
   "execution_count": 5,
   "id": "7b46b941",
   "metadata": {},
   "outputs": [],
   "source": [
    "test_df = pd.read_csv(\"../../labels/valid.csv\")"
   ]
  },
  {
   "cell_type": "code",
   "execution_count": 6,
   "id": "9e0edb65",
   "metadata": {},
   "outputs": [
    {
     "data": {
      "text/plain": [
       "Index(['Path', 'Sex', 'Age', 'Frontal/Lateral', 'AP/PA', 'No Finding',\n",
       "       'Enlarged Cardiomediastinum', 'Cardiomegaly', 'Lung Opacity',\n",
       "       'Lung Lesion', 'Edema', 'Consolidation', 'Pneumonia', 'Atelectasis',\n",
       "       'Pneumothorax', 'Pleural Effusion', 'Pleural Other', 'Fracture',\n",
       "       'Support Devices'],\n",
       "      dtype='object')"
      ]
     },
     "execution_count": 6,
     "metadata": {},
     "output_type": "execute_result"
    }
   ],
   "source": [
    "test_df.columns"
   ]
  },
  {
   "cell_type": "code",
   "execution_count": 7,
   "id": "f806fb14",
   "metadata": {},
   "outputs": [
    {
     "data": {
      "text/html": [
       "<div>\n",
       "<style scoped>\n",
       "    .dataframe tbody tr th:only-of-type {\n",
       "        vertical-align: middle;\n",
       "    }\n",
       "\n",
       "    .dataframe tbody tr th {\n",
       "        vertical-align: top;\n",
       "    }\n",
       "\n",
       "    .dataframe thead th {\n",
       "        text-align: right;\n",
       "    }\n",
       "</style>\n",
       "<table border=\"1\" class=\"dataframe\">\n",
       "  <thead>\n",
       "    <tr style=\"text-align: right;\">\n",
       "      <th></th>\n",
       "      <th>Path</th>\n",
       "      <th>Sex</th>\n",
       "      <th>Age</th>\n",
       "      <th>Frontal/Lateral</th>\n",
       "      <th>AP/PA</th>\n",
       "      <th>No Finding</th>\n",
       "      <th>Enlarged Cardiomediastinum</th>\n",
       "      <th>Cardiomegaly</th>\n",
       "      <th>Lung Opacity</th>\n",
       "      <th>Lung Lesion</th>\n",
       "      <th>Edema</th>\n",
       "      <th>Consolidation</th>\n",
       "      <th>Pneumonia</th>\n",
       "      <th>Atelectasis</th>\n",
       "      <th>Pneumothorax</th>\n",
       "      <th>Pleural Effusion</th>\n",
       "      <th>Pleural Other</th>\n",
       "      <th>Fracture</th>\n",
       "      <th>Support Devices</th>\n",
       "    </tr>\n",
       "  </thead>\n",
       "  <tbody>\n",
       "    <tr>\n",
       "      <th>0</th>\n",
       "      <td>CheXpert-v1.0/valid/patient64541/study1/view1_...</td>\n",
       "      <td>Male</td>\n",
       "      <td>73</td>\n",
       "      <td>Frontal</td>\n",
       "      <td>AP</td>\n",
       "      <td>0.0</td>\n",
       "      <td>1.0</td>\n",
       "      <td>1.0</td>\n",
       "      <td>1.0</td>\n",
       "      <td>0.0</td>\n",
       "      <td>0.0</td>\n",
       "      <td>0.0</td>\n",
       "      <td>0.0</td>\n",
       "      <td>0.0</td>\n",
       "      <td>0.0</td>\n",
       "      <td>0.0</td>\n",
       "      <td>0.0</td>\n",
       "      <td>0.0</td>\n",
       "      <td>0.0</td>\n",
       "    </tr>\n",
       "    <tr>\n",
       "      <th>1</th>\n",
       "      <td>CheXpert-v1.0/valid/patient64542/study1/view1_...</td>\n",
       "      <td>Male</td>\n",
       "      <td>70</td>\n",
       "      <td>Frontal</td>\n",
       "      <td>PA</td>\n",
       "      <td>0.0</td>\n",
       "      <td>0.0</td>\n",
       "      <td>0.0</td>\n",
       "      <td>0.0</td>\n",
       "      <td>0.0</td>\n",
       "      <td>0.0</td>\n",
       "      <td>0.0</td>\n",
       "      <td>0.0</td>\n",
       "      <td>0.0</td>\n",
       "      <td>0.0</td>\n",
       "      <td>0.0</td>\n",
       "      <td>0.0</td>\n",
       "      <td>0.0</td>\n",
       "      <td>1.0</td>\n",
       "    </tr>\n",
       "    <tr>\n",
       "      <th>2</th>\n",
       "      <td>CheXpert-v1.0/valid/patient64542/study1/view2_...</td>\n",
       "      <td>Male</td>\n",
       "      <td>70</td>\n",
       "      <td>Lateral</td>\n",
       "      <td>NaN</td>\n",
       "      <td>0.0</td>\n",
       "      <td>0.0</td>\n",
       "      <td>0.0</td>\n",
       "      <td>0.0</td>\n",
       "      <td>0.0</td>\n",
       "      <td>0.0</td>\n",
       "      <td>0.0</td>\n",
       "      <td>0.0</td>\n",
       "      <td>0.0</td>\n",
       "      <td>0.0</td>\n",
       "      <td>0.0</td>\n",
       "      <td>0.0</td>\n",
       "      <td>0.0</td>\n",
       "      <td>1.0</td>\n",
       "    </tr>\n",
       "    <tr>\n",
       "      <th>3</th>\n",
       "      <td>CheXpert-v1.0/valid/patient64543/study1/view1_...</td>\n",
       "      <td>Male</td>\n",
       "      <td>85</td>\n",
       "      <td>Frontal</td>\n",
       "      <td>AP</td>\n",
       "      <td>0.0</td>\n",
       "      <td>1.0</td>\n",
       "      <td>0.0</td>\n",
       "      <td>1.0</td>\n",
       "      <td>0.0</td>\n",
       "      <td>1.0</td>\n",
       "      <td>0.0</td>\n",
       "      <td>0.0</td>\n",
       "      <td>0.0</td>\n",
       "      <td>0.0</td>\n",
       "      <td>0.0</td>\n",
       "      <td>0.0</td>\n",
       "      <td>0.0</td>\n",
       "      <td>0.0</td>\n",
       "    </tr>\n",
       "    <tr>\n",
       "      <th>4</th>\n",
       "      <td>CheXpert-v1.0/valid/patient64544/study1/view1_...</td>\n",
       "      <td>Female</td>\n",
       "      <td>42</td>\n",
       "      <td>Frontal</td>\n",
       "      <td>AP</td>\n",
       "      <td>1.0</td>\n",
       "      <td>0.0</td>\n",
       "      <td>0.0</td>\n",
       "      <td>0.0</td>\n",
       "      <td>0.0</td>\n",
       "      <td>0.0</td>\n",
       "      <td>0.0</td>\n",
       "      <td>0.0</td>\n",
       "      <td>0.0</td>\n",
       "      <td>0.0</td>\n",
       "      <td>0.0</td>\n",
       "      <td>0.0</td>\n",
       "      <td>0.0</td>\n",
       "      <td>0.0</td>\n",
       "    </tr>\n",
       "    <tr>\n",
       "      <th>...</th>\n",
       "      <td>...</td>\n",
       "      <td>...</td>\n",
       "      <td>...</td>\n",
       "      <td>...</td>\n",
       "      <td>...</td>\n",
       "      <td>...</td>\n",
       "      <td>...</td>\n",
       "      <td>...</td>\n",
       "      <td>...</td>\n",
       "      <td>...</td>\n",
       "      <td>...</td>\n",
       "      <td>...</td>\n",
       "      <td>...</td>\n",
       "      <td>...</td>\n",
       "      <td>...</td>\n",
       "      <td>...</td>\n",
       "      <td>...</td>\n",
       "      <td>...</td>\n",
       "      <td>...</td>\n",
       "    </tr>\n",
       "    <tr>\n",
       "      <th>229</th>\n",
       "      <td>CheXpert-v1.0/valid/patient64736/study1/view1_...</td>\n",
       "      <td>Female</td>\n",
       "      <td>57</td>\n",
       "      <td>Frontal</td>\n",
       "      <td>AP</td>\n",
       "      <td>0.0</td>\n",
       "      <td>0.0</td>\n",
       "      <td>0.0</td>\n",
       "      <td>0.0</td>\n",
       "      <td>0.0</td>\n",
       "      <td>0.0</td>\n",
       "      <td>0.0</td>\n",
       "      <td>0.0</td>\n",
       "      <td>0.0</td>\n",
       "      <td>0.0</td>\n",
       "      <td>0.0</td>\n",
       "      <td>0.0</td>\n",
       "      <td>0.0</td>\n",
       "      <td>1.0</td>\n",
       "    </tr>\n",
       "    <tr>\n",
       "      <th>230</th>\n",
       "      <td>CheXpert-v1.0/valid/patient64737/study1/view1_...</td>\n",
       "      <td>Male</td>\n",
       "      <td>65</td>\n",
       "      <td>Frontal</td>\n",
       "      <td>AP</td>\n",
       "      <td>0.0</td>\n",
       "      <td>0.0</td>\n",
       "      <td>0.0</td>\n",
       "      <td>0.0</td>\n",
       "      <td>0.0</td>\n",
       "      <td>0.0</td>\n",
       "      <td>0.0</td>\n",
       "      <td>0.0</td>\n",
       "      <td>0.0</td>\n",
       "      <td>0.0</td>\n",
       "      <td>0.0</td>\n",
       "      <td>0.0</td>\n",
       "      <td>0.0</td>\n",
       "      <td>1.0</td>\n",
       "    </tr>\n",
       "    <tr>\n",
       "      <th>231</th>\n",
       "      <td>CheXpert-v1.0/valid/patient64738/study1/view1_...</td>\n",
       "      <td>Male</td>\n",
       "      <td>71</td>\n",
       "      <td>Frontal</td>\n",
       "      <td>AP</td>\n",
       "      <td>0.0</td>\n",
       "      <td>1.0</td>\n",
       "      <td>1.0</td>\n",
       "      <td>1.0</td>\n",
       "      <td>0.0</td>\n",
       "      <td>1.0</td>\n",
       "      <td>0.0</td>\n",
       "      <td>0.0</td>\n",
       "      <td>0.0</td>\n",
       "      <td>0.0</td>\n",
       "      <td>0.0</td>\n",
       "      <td>0.0</td>\n",
       "      <td>0.0</td>\n",
       "      <td>1.0</td>\n",
       "    </tr>\n",
       "    <tr>\n",
       "      <th>232</th>\n",
       "      <td>CheXpert-v1.0/valid/patient64739/study1/view1_...</td>\n",
       "      <td>Female</td>\n",
       "      <td>45</td>\n",
       "      <td>Frontal</td>\n",
       "      <td>AP</td>\n",
       "      <td>0.0</td>\n",
       "      <td>1.0</td>\n",
       "      <td>0.0</td>\n",
       "      <td>0.0</td>\n",
       "      <td>0.0</td>\n",
       "      <td>0.0</td>\n",
       "      <td>0.0</td>\n",
       "      <td>0.0</td>\n",
       "      <td>0.0</td>\n",
       "      <td>0.0</td>\n",
       "      <td>0.0</td>\n",
       "      <td>0.0</td>\n",
       "      <td>0.0</td>\n",
       "      <td>0.0</td>\n",
       "    </tr>\n",
       "    <tr>\n",
       "      <th>233</th>\n",
       "      <td>CheXpert-v1.0/valid/patient64740/study1/view1_...</td>\n",
       "      <td>Male</td>\n",
       "      <td>90</td>\n",
       "      <td>Frontal</td>\n",
       "      <td>AP</td>\n",
       "      <td>0.0</td>\n",
       "      <td>1.0</td>\n",
       "      <td>0.0</td>\n",
       "      <td>1.0</td>\n",
       "      <td>0.0</td>\n",
       "      <td>0.0</td>\n",
       "      <td>0.0</td>\n",
       "      <td>0.0</td>\n",
       "      <td>1.0</td>\n",
       "      <td>0.0</td>\n",
       "      <td>1.0</td>\n",
       "      <td>0.0</td>\n",
       "      <td>0.0</td>\n",
       "      <td>0.0</td>\n",
       "    </tr>\n",
       "  </tbody>\n",
       "</table>\n",
       "<p>234 rows × 19 columns</p>\n",
       "</div>"
      ],
      "text/plain": [
       "                                                  Path     Sex  Age  \\\n",
       "0    CheXpert-v1.0/valid/patient64541/study1/view1_...    Male   73   \n",
       "1    CheXpert-v1.0/valid/patient64542/study1/view1_...    Male   70   \n",
       "2    CheXpert-v1.0/valid/patient64542/study1/view2_...    Male   70   \n",
       "3    CheXpert-v1.0/valid/patient64543/study1/view1_...    Male   85   \n",
       "4    CheXpert-v1.0/valid/patient64544/study1/view1_...  Female   42   \n",
       "..                                                 ...     ...  ...   \n",
       "229  CheXpert-v1.0/valid/patient64736/study1/view1_...  Female   57   \n",
       "230  CheXpert-v1.0/valid/patient64737/study1/view1_...    Male   65   \n",
       "231  CheXpert-v1.0/valid/patient64738/study1/view1_...    Male   71   \n",
       "232  CheXpert-v1.0/valid/patient64739/study1/view1_...  Female   45   \n",
       "233  CheXpert-v1.0/valid/patient64740/study1/view1_...    Male   90   \n",
       "\n",
       "    Frontal/Lateral AP/PA  No Finding  Enlarged Cardiomediastinum  \\\n",
       "0           Frontal    AP         0.0                         1.0   \n",
       "1           Frontal    PA         0.0                         0.0   \n",
       "2           Lateral   NaN         0.0                         0.0   \n",
       "3           Frontal    AP         0.0                         1.0   \n",
       "4           Frontal    AP         1.0                         0.0   \n",
       "..              ...   ...         ...                         ...   \n",
       "229         Frontal    AP         0.0                         0.0   \n",
       "230         Frontal    AP         0.0                         0.0   \n",
       "231         Frontal    AP         0.0                         1.0   \n",
       "232         Frontal    AP         0.0                         1.0   \n",
       "233         Frontal    AP         0.0                         1.0   \n",
       "\n",
       "     Cardiomegaly  Lung Opacity  Lung Lesion  Edema  Consolidation  Pneumonia  \\\n",
       "0             1.0           1.0          0.0    0.0            0.0        0.0   \n",
       "1             0.0           0.0          0.0    0.0            0.0        0.0   \n",
       "2             0.0           0.0          0.0    0.0            0.0        0.0   \n",
       "3             0.0           1.0          0.0    1.0            0.0        0.0   \n",
       "4             0.0           0.0          0.0    0.0            0.0        0.0   \n",
       "..            ...           ...          ...    ...            ...        ...   \n",
       "229           0.0           0.0          0.0    0.0            0.0        0.0   \n",
       "230           0.0           0.0          0.0    0.0            0.0        0.0   \n",
       "231           1.0           1.0          0.0    1.0            0.0        0.0   \n",
       "232           0.0           0.0          0.0    0.0            0.0        0.0   \n",
       "233           0.0           1.0          0.0    0.0            0.0        0.0   \n",
       "\n",
       "     Atelectasis  Pneumothorax  Pleural Effusion  Pleural Other  Fracture  \\\n",
       "0            0.0           0.0               0.0            0.0       0.0   \n",
       "1            0.0           0.0               0.0            0.0       0.0   \n",
       "2            0.0           0.0               0.0            0.0       0.0   \n",
       "3            0.0           0.0               0.0            0.0       0.0   \n",
       "4            0.0           0.0               0.0            0.0       0.0   \n",
       "..           ...           ...               ...            ...       ...   \n",
       "229          0.0           0.0               0.0            0.0       0.0   \n",
       "230          0.0           0.0               0.0            0.0       0.0   \n",
       "231          0.0           0.0               0.0            0.0       0.0   \n",
       "232          0.0           0.0               0.0            0.0       0.0   \n",
       "233          1.0           0.0               1.0            0.0       0.0   \n",
       "\n",
       "     Support Devices  \n",
       "0                0.0  \n",
       "1                1.0  \n",
       "2                1.0  \n",
       "3                0.0  \n",
       "4                0.0  \n",
       "..               ...  \n",
       "229              1.0  \n",
       "230              1.0  \n",
       "231              1.0  \n",
       "232              0.0  \n",
       "233              0.0  \n",
       "\n",
       "[234 rows x 19 columns]"
      ]
     },
     "execution_count": 7,
     "metadata": {},
     "output_type": "execute_result"
    }
   ],
   "source": [
    "test_df"
   ]
  },
  {
   "cell_type": "markdown",
   "id": "c7896a29",
   "metadata": {},
   "source": [
    "### 2- Replacing Paths with '.jpg' with '.png' for use in the resized 512x512 dataset"
   ]
  },
  {
   "cell_type": "code",
   "execution_count": 8,
   "id": "9639c9ef",
   "metadata": {},
   "outputs": [
    {
     "name": "stderr",
     "output_type": "stream",
     "text": [
      "/home/tamer/anaconda3/envs/chexpert/lib/python3.7/site-packages/ipykernel_launcher.py:1: FutureWarning: The default value of regex will change from True to False in a future version.\n",
      "  \"\"\"Entry point for launching an IPython kernel.\n"
     ]
    }
   ],
   "source": [
    "train_full_df['Path'] = train_full_df['Path'].str.replace(\".jpg\", \".png\")"
   ]
  },
  {
   "cell_type": "code",
   "execution_count": 9,
   "id": "697a43e2",
   "metadata": {},
   "outputs": [
    {
     "data": {
      "text/plain": [
       "'CheXpert-v1.0/train/patient00001/study1/view1_frontal.png'"
      ]
     },
     "execution_count": 9,
     "metadata": {},
     "output_type": "execute_result"
    }
   ],
   "source": [
    "train_full_df[\"Path\"][0]"
   ]
  },
  {
   "cell_type": "code",
   "execution_count": 10,
   "id": "b5076d3f",
   "metadata": {},
   "outputs": [
    {
     "name": "stderr",
     "output_type": "stream",
     "text": [
      "/home/tamer/anaconda3/envs/chexpert/lib/python3.7/site-packages/ipykernel_launcher.py:1: FutureWarning: The default value of regex will change from True to False in a future version.\n",
      "  \"\"\"Entry point for launching an IPython kernel.\n"
     ]
    }
   ],
   "source": [
    "test_df['Path'] = test_df['Path'].str.replace(\".jpg\", \".png\")"
   ]
  },
  {
   "cell_type": "code",
   "execution_count": 11,
   "id": "a22e0c13",
   "metadata": {},
   "outputs": [
    {
     "data": {
      "text/plain": [
       "'CheXpert-v1.0/valid/patient64541/study1/view1_frontal.png'"
      ]
     },
     "execution_count": 11,
     "metadata": {},
     "output_type": "execute_result"
    }
   ],
   "source": [
    "test_df[\"Path\"][0]"
   ]
  },
  {
   "cell_type": "markdown",
   "id": "e5f17d50",
   "metadata": {},
   "source": [
    "### 3- Further splitting the CheXpert training set into an 80/20 train/validation set with keeping the official validation set as the \"test\" set"
   ]
  },
  {
   "cell_type": "code",
   "execution_count": 12,
   "id": "cf7360b1",
   "metadata": {},
   "outputs": [],
   "source": [
    "train_df, validation_df = train_test_split(\n",
    "    train_full_df,\n",
    "    test_size=0.2,\n",
    "    random_state=420,\n",
    "    shuffle=True\n",
    ")"
   ]
  },
  {
   "cell_type": "code",
   "execution_count": 13,
   "id": "7df71b80",
   "metadata": {},
   "outputs": [
    {
     "data": {
      "text/html": [
       "<div>\n",
       "<style scoped>\n",
       "    .dataframe tbody tr th:only-of-type {\n",
       "        vertical-align: middle;\n",
       "    }\n",
       "\n",
       "    .dataframe tbody tr th {\n",
       "        vertical-align: top;\n",
       "    }\n",
       "\n",
       "    .dataframe thead th {\n",
       "        text-align: right;\n",
       "    }\n",
       "</style>\n",
       "<table border=\"1\" class=\"dataframe\">\n",
       "  <thead>\n",
       "    <tr style=\"text-align: right;\">\n",
       "      <th></th>\n",
       "      <th>Path</th>\n",
       "      <th>Sex</th>\n",
       "      <th>Age</th>\n",
       "      <th>Frontal/Lateral</th>\n",
       "      <th>AP/PA</th>\n",
       "      <th>No Finding</th>\n",
       "      <th>Enlarged Cardiomediastinum</th>\n",
       "      <th>Cardiomegaly</th>\n",
       "      <th>Lung Opacity</th>\n",
       "      <th>Lung Lesion</th>\n",
       "      <th>Edema</th>\n",
       "      <th>Consolidation</th>\n",
       "      <th>Pneumonia</th>\n",
       "      <th>Atelectasis</th>\n",
       "      <th>Pneumothorax</th>\n",
       "      <th>Pleural Effusion</th>\n",
       "      <th>Pleural Other</th>\n",
       "      <th>Fracture</th>\n",
       "      <th>Support Devices</th>\n",
       "    </tr>\n",
       "  </thead>\n",
       "  <tbody>\n",
       "    <tr>\n",
       "      <th>147955</th>\n",
       "      <td>CheXpert-v1.0/train/patient35203/study28/view1...</td>\n",
       "      <td>Male</td>\n",
       "      <td>66</td>\n",
       "      <td>Frontal</td>\n",
       "      <td>AP</td>\n",
       "      <td>NaN</td>\n",
       "      <td>1.0</td>\n",
       "      <td>NaN</td>\n",
       "      <td>1.0</td>\n",
       "      <td>NaN</td>\n",
       "      <td>NaN</td>\n",
       "      <td>NaN</td>\n",
       "      <td>NaN</td>\n",
       "      <td>NaN</td>\n",
       "      <td>0.0</td>\n",
       "      <td>1.0</td>\n",
       "      <td>NaN</td>\n",
       "      <td>NaN</td>\n",
       "      <td>1.0</td>\n",
       "    </tr>\n",
       "    <tr>\n",
       "      <th>163338</th>\n",
       "      <td>CheXpert-v1.0/train/patient38124/study5/view1_...</td>\n",
       "      <td>Male</td>\n",
       "      <td>59</td>\n",
       "      <td>Frontal</td>\n",
       "      <td>AP</td>\n",
       "      <td>NaN</td>\n",
       "      <td>NaN</td>\n",
       "      <td>NaN</td>\n",
       "      <td>NaN</td>\n",
       "      <td>NaN</td>\n",
       "      <td>NaN</td>\n",
       "      <td>-1.0</td>\n",
       "      <td>NaN</td>\n",
       "      <td>-1.0</td>\n",
       "      <td>NaN</td>\n",
       "      <td>1.0</td>\n",
       "      <td>NaN</td>\n",
       "      <td>1.0</td>\n",
       "      <td>1.0</td>\n",
       "    </tr>\n",
       "    <tr>\n",
       "      <th>69480</th>\n",
       "      <td>CheXpert-v1.0/train/patient16628/study1/view2_...</td>\n",
       "      <td>Male</td>\n",
       "      <td>27</td>\n",
       "      <td>Frontal</td>\n",
       "      <td>PA</td>\n",
       "      <td>NaN</td>\n",
       "      <td>0.0</td>\n",
       "      <td>NaN</td>\n",
       "      <td>0.0</td>\n",
       "      <td>NaN</td>\n",
       "      <td>0.0</td>\n",
       "      <td>NaN</td>\n",
       "      <td>NaN</td>\n",
       "      <td>NaN</td>\n",
       "      <td>0.0</td>\n",
       "      <td>0.0</td>\n",
       "      <td>NaN</td>\n",
       "      <td>1.0</td>\n",
       "      <td>NaN</td>\n",
       "    </tr>\n",
       "    <tr>\n",
       "      <th>25205</th>\n",
       "      <td>CheXpert-v1.0/train/patient06161/study2/view1_...</td>\n",
       "      <td>Male</td>\n",
       "      <td>61</td>\n",
       "      <td>Frontal</td>\n",
       "      <td>AP</td>\n",
       "      <td>NaN</td>\n",
       "      <td>NaN</td>\n",
       "      <td>1.0</td>\n",
       "      <td>1.0</td>\n",
       "      <td>NaN</td>\n",
       "      <td>NaN</td>\n",
       "      <td>0.0</td>\n",
       "      <td>NaN</td>\n",
       "      <td>-1.0</td>\n",
       "      <td>0.0</td>\n",
       "      <td>0.0</td>\n",
       "      <td>NaN</td>\n",
       "      <td>NaN</td>\n",
       "      <td>NaN</td>\n",
       "    </tr>\n",
       "    <tr>\n",
       "      <th>98537</th>\n",
       "      <td>CheXpert-v1.0/train/patient23744/study17/view2...</td>\n",
       "      <td>Female</td>\n",
       "      <td>62</td>\n",
       "      <td>Lateral</td>\n",
       "      <td>NaN</td>\n",
       "      <td>NaN</td>\n",
       "      <td>NaN</td>\n",
       "      <td>1.0</td>\n",
       "      <td>NaN</td>\n",
       "      <td>NaN</td>\n",
       "      <td>1.0</td>\n",
       "      <td>NaN</td>\n",
       "      <td>NaN</td>\n",
       "      <td>NaN</td>\n",
       "      <td>NaN</td>\n",
       "      <td>1.0</td>\n",
       "      <td>NaN</td>\n",
       "      <td>NaN</td>\n",
       "      <td>1.0</td>\n",
       "    </tr>\n",
       "    <tr>\n",
       "      <th>...</th>\n",
       "      <td>...</td>\n",
       "      <td>...</td>\n",
       "      <td>...</td>\n",
       "      <td>...</td>\n",
       "      <td>...</td>\n",
       "      <td>...</td>\n",
       "      <td>...</td>\n",
       "      <td>...</td>\n",
       "      <td>...</td>\n",
       "      <td>...</td>\n",
       "      <td>...</td>\n",
       "      <td>...</td>\n",
       "      <td>...</td>\n",
       "      <td>...</td>\n",
       "      <td>...</td>\n",
       "      <td>...</td>\n",
       "      <td>...</td>\n",
       "      <td>...</td>\n",
       "      <td>...</td>\n",
       "    </tr>\n",
       "    <tr>\n",
       "      <th>62239</th>\n",
       "      <td>CheXpert-v1.0/train/patient15019/study1/view1_...</td>\n",
       "      <td>Female</td>\n",
       "      <td>85</td>\n",
       "      <td>Frontal</td>\n",
       "      <td>PA</td>\n",
       "      <td>NaN</td>\n",
       "      <td>0.0</td>\n",
       "      <td>NaN</td>\n",
       "      <td>NaN</td>\n",
       "      <td>NaN</td>\n",
       "      <td>0.0</td>\n",
       "      <td>0.0</td>\n",
       "      <td>NaN</td>\n",
       "      <td>NaN</td>\n",
       "      <td>0.0</td>\n",
       "      <td>0.0</td>\n",
       "      <td>NaN</td>\n",
       "      <td>NaN</td>\n",
       "      <td>NaN</td>\n",
       "    </tr>\n",
       "    <tr>\n",
       "      <th>152127</th>\n",
       "      <td>CheXpert-v1.0/train/patient35905/study3/view1_...</td>\n",
       "      <td>Female</td>\n",
       "      <td>45</td>\n",
       "      <td>Frontal</td>\n",
       "      <td>AP</td>\n",
       "      <td>NaN</td>\n",
       "      <td>NaN</td>\n",
       "      <td>NaN</td>\n",
       "      <td>1.0</td>\n",
       "      <td>NaN</td>\n",
       "      <td>NaN</td>\n",
       "      <td>-1.0</td>\n",
       "      <td>NaN</td>\n",
       "      <td>NaN</td>\n",
       "      <td>NaN</td>\n",
       "      <td>NaN</td>\n",
       "      <td>NaN</td>\n",
       "      <td>NaN</td>\n",
       "      <td>1.0</td>\n",
       "    </tr>\n",
       "    <tr>\n",
       "      <th>119174</th>\n",
       "      <td>CheXpert-v1.0/train/patient28559/study1/view3_...</td>\n",
       "      <td>Female</td>\n",
       "      <td>57</td>\n",
       "      <td>Lateral</td>\n",
       "      <td>NaN</td>\n",
       "      <td>NaN</td>\n",
       "      <td>NaN</td>\n",
       "      <td>NaN</td>\n",
       "      <td>NaN</td>\n",
       "      <td>NaN</td>\n",
       "      <td>-1.0</td>\n",
       "      <td>NaN</td>\n",
       "      <td>NaN</td>\n",
       "      <td>NaN</td>\n",
       "      <td>NaN</td>\n",
       "      <td>NaN</td>\n",
       "      <td>NaN</td>\n",
       "      <td>NaN</td>\n",
       "      <td>NaN</td>\n",
       "    </tr>\n",
       "    <tr>\n",
       "      <th>193608</th>\n",
       "      <td>CheXpert-v1.0/train/patient46927/study1/view1_...</td>\n",
       "      <td>Male</td>\n",
       "      <td>46</td>\n",
       "      <td>Frontal</td>\n",
       "      <td>AP</td>\n",
       "      <td>NaN</td>\n",
       "      <td>NaN</td>\n",
       "      <td>NaN</td>\n",
       "      <td>0.0</td>\n",
       "      <td>NaN</td>\n",
       "      <td>1.0</td>\n",
       "      <td>NaN</td>\n",
       "      <td>1.0</td>\n",
       "      <td>NaN</td>\n",
       "      <td>0.0</td>\n",
       "      <td>0.0</td>\n",
       "      <td>NaN</td>\n",
       "      <td>NaN</td>\n",
       "      <td>1.0</td>\n",
       "    </tr>\n",
       "    <tr>\n",
       "      <th>142257</th>\n",
       "      <td>CheXpert-v1.0/train/patient34197/study4/view2_...</td>\n",
       "      <td>Male</td>\n",
       "      <td>64</td>\n",
       "      <td>Lateral</td>\n",
       "      <td>NaN</td>\n",
       "      <td>NaN</td>\n",
       "      <td>NaN</td>\n",
       "      <td>-1.0</td>\n",
       "      <td>NaN</td>\n",
       "      <td>NaN</td>\n",
       "      <td>NaN</td>\n",
       "      <td>NaN</td>\n",
       "      <td>NaN</td>\n",
       "      <td>NaN</td>\n",
       "      <td>0.0</td>\n",
       "      <td>1.0</td>\n",
       "      <td>NaN</td>\n",
       "      <td>NaN</td>\n",
       "      <td>NaN</td>\n",
       "    </tr>\n",
       "  </tbody>\n",
       "</table>\n",
       "<p>178731 rows × 19 columns</p>\n",
       "</div>"
      ],
      "text/plain": [
       "                                                     Path     Sex  Age  \\\n",
       "147955  CheXpert-v1.0/train/patient35203/study28/view1...    Male   66   \n",
       "163338  CheXpert-v1.0/train/patient38124/study5/view1_...    Male   59   \n",
       "69480   CheXpert-v1.0/train/patient16628/study1/view2_...    Male   27   \n",
       "25205   CheXpert-v1.0/train/patient06161/study2/view1_...    Male   61   \n",
       "98537   CheXpert-v1.0/train/patient23744/study17/view2...  Female   62   \n",
       "...                                                   ...     ...  ...   \n",
       "62239   CheXpert-v1.0/train/patient15019/study1/view1_...  Female   85   \n",
       "152127  CheXpert-v1.0/train/patient35905/study3/view1_...  Female   45   \n",
       "119174  CheXpert-v1.0/train/patient28559/study1/view3_...  Female   57   \n",
       "193608  CheXpert-v1.0/train/patient46927/study1/view1_...    Male   46   \n",
       "142257  CheXpert-v1.0/train/patient34197/study4/view2_...    Male   64   \n",
       "\n",
       "       Frontal/Lateral AP/PA  No Finding  Enlarged Cardiomediastinum  \\\n",
       "147955         Frontal    AP         NaN                         1.0   \n",
       "163338         Frontal    AP         NaN                         NaN   \n",
       "69480          Frontal    PA         NaN                         0.0   \n",
       "25205          Frontal    AP         NaN                         NaN   \n",
       "98537          Lateral   NaN         NaN                         NaN   \n",
       "...                ...   ...         ...                         ...   \n",
       "62239          Frontal    PA         NaN                         0.0   \n",
       "152127         Frontal    AP         NaN                         NaN   \n",
       "119174         Lateral   NaN         NaN                         NaN   \n",
       "193608         Frontal    AP         NaN                         NaN   \n",
       "142257         Lateral   NaN         NaN                         NaN   \n",
       "\n",
       "        Cardiomegaly  Lung Opacity  Lung Lesion  Edema  Consolidation  \\\n",
       "147955           NaN           1.0          NaN    NaN            NaN   \n",
       "163338           NaN           NaN          NaN    NaN           -1.0   \n",
       "69480            NaN           0.0          NaN    0.0            NaN   \n",
       "25205            1.0           1.0          NaN    NaN            0.0   \n",
       "98537            1.0           NaN          NaN    1.0            NaN   \n",
       "...              ...           ...          ...    ...            ...   \n",
       "62239            NaN           NaN          NaN    0.0            0.0   \n",
       "152127           NaN           1.0          NaN    NaN           -1.0   \n",
       "119174           NaN           NaN          NaN   -1.0            NaN   \n",
       "193608           NaN           0.0          NaN    1.0            NaN   \n",
       "142257          -1.0           NaN          NaN    NaN            NaN   \n",
       "\n",
       "        Pneumonia  Atelectasis  Pneumothorax  Pleural Effusion  Pleural Other  \\\n",
       "147955        NaN          NaN           0.0               1.0            NaN   \n",
       "163338        NaN         -1.0           NaN               1.0            NaN   \n",
       "69480         NaN          NaN           0.0               0.0            NaN   \n",
       "25205         NaN         -1.0           0.0               0.0            NaN   \n",
       "98537         NaN          NaN           NaN               1.0            NaN   \n",
       "...           ...          ...           ...               ...            ...   \n",
       "62239         NaN          NaN           0.0               0.0            NaN   \n",
       "152127        NaN          NaN           NaN               NaN            NaN   \n",
       "119174        NaN          NaN           NaN               NaN            NaN   \n",
       "193608        1.0          NaN           0.0               0.0            NaN   \n",
       "142257        NaN          NaN           0.0               1.0            NaN   \n",
       "\n",
       "        Fracture  Support Devices  \n",
       "147955       NaN              1.0  \n",
       "163338       1.0              1.0  \n",
       "69480        1.0              NaN  \n",
       "25205        NaN              NaN  \n",
       "98537        NaN              1.0  \n",
       "...          ...              ...  \n",
       "62239        NaN              NaN  \n",
       "152127       NaN              1.0  \n",
       "119174       NaN              NaN  \n",
       "193608       NaN              1.0  \n",
       "142257       NaN              NaN  \n",
       "\n",
       "[178731 rows x 19 columns]"
      ]
     },
     "execution_count": 13,
     "metadata": {},
     "output_type": "execute_result"
    }
   ],
   "source": [
    "train_df"
   ]
  },
  {
   "cell_type": "code",
   "execution_count": 14,
   "id": "5421121f",
   "metadata": {},
   "outputs": [
    {
     "data": {
      "text/html": [
       "<div>\n",
       "<style scoped>\n",
       "    .dataframe tbody tr th:only-of-type {\n",
       "        vertical-align: middle;\n",
       "    }\n",
       "\n",
       "    .dataframe tbody tr th {\n",
       "        vertical-align: top;\n",
       "    }\n",
       "\n",
       "    .dataframe thead th {\n",
       "        text-align: right;\n",
       "    }\n",
       "</style>\n",
       "<table border=\"1\" class=\"dataframe\">\n",
       "  <thead>\n",
       "    <tr style=\"text-align: right;\">\n",
       "      <th></th>\n",
       "      <th>Path</th>\n",
       "      <th>Sex</th>\n",
       "      <th>Age</th>\n",
       "      <th>Frontal/Lateral</th>\n",
       "      <th>AP/PA</th>\n",
       "      <th>No Finding</th>\n",
       "      <th>Enlarged Cardiomediastinum</th>\n",
       "      <th>Cardiomegaly</th>\n",
       "      <th>Lung Opacity</th>\n",
       "      <th>Lung Lesion</th>\n",
       "      <th>Edema</th>\n",
       "      <th>Consolidation</th>\n",
       "      <th>Pneumonia</th>\n",
       "      <th>Atelectasis</th>\n",
       "      <th>Pneumothorax</th>\n",
       "      <th>Pleural Effusion</th>\n",
       "      <th>Pleural Other</th>\n",
       "      <th>Fracture</th>\n",
       "      <th>Support Devices</th>\n",
       "    </tr>\n",
       "  </thead>\n",
       "  <tbody>\n",
       "    <tr>\n",
       "      <th>67305</th>\n",
       "      <td>CheXpert-v1.0/train/patient16169/study2/view2_...</td>\n",
       "      <td>Male</td>\n",
       "      <td>62</td>\n",
       "      <td>Frontal</td>\n",
       "      <td>AP</td>\n",
       "      <td>NaN</td>\n",
       "      <td>NaN</td>\n",
       "      <td>-1.0</td>\n",
       "      <td>NaN</td>\n",
       "      <td>NaN</td>\n",
       "      <td>1.0</td>\n",
       "      <td>0.0</td>\n",
       "      <td>NaN</td>\n",
       "      <td>NaN</td>\n",
       "      <td>NaN</td>\n",
       "      <td>1.0</td>\n",
       "      <td>NaN</td>\n",
       "      <td>NaN</td>\n",
       "      <td>1.0</td>\n",
       "    </tr>\n",
       "    <tr>\n",
       "      <th>158250</th>\n",
       "      <td>CheXpert-v1.0/train/patient37045/study7/view1_...</td>\n",
       "      <td>Female</td>\n",
       "      <td>69</td>\n",
       "      <td>Frontal</td>\n",
       "      <td>AP</td>\n",
       "      <td>NaN</td>\n",
       "      <td>NaN</td>\n",
       "      <td>NaN</td>\n",
       "      <td>1.0</td>\n",
       "      <td>NaN</td>\n",
       "      <td>NaN</td>\n",
       "      <td>NaN</td>\n",
       "      <td>NaN</td>\n",
       "      <td>NaN</td>\n",
       "      <td>NaN</td>\n",
       "      <td>1.0</td>\n",
       "      <td>NaN</td>\n",
       "      <td>NaN</td>\n",
       "      <td>1.0</td>\n",
       "    </tr>\n",
       "    <tr>\n",
       "      <th>51315</th>\n",
       "      <td>CheXpert-v1.0/train/patient12490/study12/view1...</td>\n",
       "      <td>Male</td>\n",
       "      <td>51</td>\n",
       "      <td>Frontal</td>\n",
       "      <td>AP</td>\n",
       "      <td>NaN</td>\n",
       "      <td>NaN</td>\n",
       "      <td>NaN</td>\n",
       "      <td>1.0</td>\n",
       "      <td>NaN</td>\n",
       "      <td>NaN</td>\n",
       "      <td>NaN</td>\n",
       "      <td>NaN</td>\n",
       "      <td>NaN</td>\n",
       "      <td>NaN</td>\n",
       "      <td>1.0</td>\n",
       "      <td>NaN</td>\n",
       "      <td>NaN</td>\n",
       "      <td>0.0</td>\n",
       "    </tr>\n",
       "    <tr>\n",
       "      <th>204270</th>\n",
       "      <td>CheXpert-v1.0/train/patient51556/study7/view1_...</td>\n",
       "      <td>Female</td>\n",
       "      <td>68</td>\n",
       "      <td>Frontal</td>\n",
       "      <td>AP</td>\n",
       "      <td>NaN</td>\n",
       "      <td>NaN</td>\n",
       "      <td>NaN</td>\n",
       "      <td>1.0</td>\n",
       "      <td>NaN</td>\n",
       "      <td>-1.0</td>\n",
       "      <td>NaN</td>\n",
       "      <td>NaN</td>\n",
       "      <td>NaN</td>\n",
       "      <td>NaN</td>\n",
       "      <td>1.0</td>\n",
       "      <td>NaN</td>\n",
       "      <td>NaN</td>\n",
       "      <td>1.0</td>\n",
       "    </tr>\n",
       "    <tr>\n",
       "      <th>71280</th>\n",
       "      <td>CheXpert-v1.0/train/patient17091/study1/view1_...</td>\n",
       "      <td>Male</td>\n",
       "      <td>32</td>\n",
       "      <td>Frontal</td>\n",
       "      <td>PA</td>\n",
       "      <td>NaN</td>\n",
       "      <td>NaN</td>\n",
       "      <td>NaN</td>\n",
       "      <td>1.0</td>\n",
       "      <td>NaN</td>\n",
       "      <td>NaN</td>\n",
       "      <td>NaN</td>\n",
       "      <td>0.0</td>\n",
       "      <td>NaN</td>\n",
       "      <td>NaN</td>\n",
       "      <td>0.0</td>\n",
       "      <td>NaN</td>\n",
       "      <td>NaN</td>\n",
       "      <td>NaN</td>\n",
       "    </tr>\n",
       "    <tr>\n",
       "      <th>...</th>\n",
       "      <td>...</td>\n",
       "      <td>...</td>\n",
       "      <td>...</td>\n",
       "      <td>...</td>\n",
       "      <td>...</td>\n",
       "      <td>...</td>\n",
       "      <td>...</td>\n",
       "      <td>...</td>\n",
       "      <td>...</td>\n",
       "      <td>...</td>\n",
       "      <td>...</td>\n",
       "      <td>...</td>\n",
       "      <td>...</td>\n",
       "      <td>...</td>\n",
       "      <td>...</td>\n",
       "      <td>...</td>\n",
       "      <td>...</td>\n",
       "      <td>...</td>\n",
       "      <td>...</td>\n",
       "    </tr>\n",
       "    <tr>\n",
       "      <th>84611</th>\n",
       "      <td>CheXpert-v1.0/train/patient20333/study4/view1_...</td>\n",
       "      <td>Male</td>\n",
       "      <td>58</td>\n",
       "      <td>Frontal</td>\n",
       "      <td>AP</td>\n",
       "      <td>NaN</td>\n",
       "      <td>1.0</td>\n",
       "      <td>NaN</td>\n",
       "      <td>NaN</td>\n",
       "      <td>NaN</td>\n",
       "      <td>NaN</td>\n",
       "      <td>-1.0</td>\n",
       "      <td>NaN</td>\n",
       "      <td>-1.0</td>\n",
       "      <td>NaN</td>\n",
       "      <td>1.0</td>\n",
       "      <td>NaN</td>\n",
       "      <td>NaN</td>\n",
       "      <td>1.0</td>\n",
       "    </tr>\n",
       "    <tr>\n",
       "      <th>168690</th>\n",
       "      <td>CheXpert-v1.0/train/patient39344/study11/view1...</td>\n",
       "      <td>Female</td>\n",
       "      <td>67</td>\n",
       "      <td>Frontal</td>\n",
       "      <td>AP</td>\n",
       "      <td>NaN</td>\n",
       "      <td>NaN</td>\n",
       "      <td>NaN</td>\n",
       "      <td>1.0</td>\n",
       "      <td>NaN</td>\n",
       "      <td>-1.0</td>\n",
       "      <td>NaN</td>\n",
       "      <td>NaN</td>\n",
       "      <td>NaN</td>\n",
       "      <td>NaN</td>\n",
       "      <td>1.0</td>\n",
       "      <td>NaN</td>\n",
       "      <td>NaN</td>\n",
       "      <td>1.0</td>\n",
       "    </tr>\n",
       "    <tr>\n",
       "      <th>166829</th>\n",
       "      <td>CheXpert-v1.0/train/patient38931/study1/view1_...</td>\n",
       "      <td>Female</td>\n",
       "      <td>83</td>\n",
       "      <td>Frontal</td>\n",
       "      <td>AP</td>\n",
       "      <td>NaN</td>\n",
       "      <td>1.0</td>\n",
       "      <td>1.0</td>\n",
       "      <td>1.0</td>\n",
       "      <td>NaN</td>\n",
       "      <td>NaN</td>\n",
       "      <td>NaN</td>\n",
       "      <td>-1.0</td>\n",
       "      <td>NaN</td>\n",
       "      <td>NaN</td>\n",
       "      <td>1.0</td>\n",
       "      <td>NaN</td>\n",
       "      <td>NaN</td>\n",
       "      <td>NaN</td>\n",
       "    </tr>\n",
       "    <tr>\n",
       "      <th>184236</th>\n",
       "      <td>CheXpert-v1.0/train/patient43600/study1/view1_...</td>\n",
       "      <td>Male</td>\n",
       "      <td>82</td>\n",
       "      <td>Frontal</td>\n",
       "      <td>AP</td>\n",
       "      <td>NaN</td>\n",
       "      <td>NaN</td>\n",
       "      <td>NaN</td>\n",
       "      <td>NaN</td>\n",
       "      <td>NaN</td>\n",
       "      <td>NaN</td>\n",
       "      <td>-1.0</td>\n",
       "      <td>NaN</td>\n",
       "      <td>1.0</td>\n",
       "      <td>NaN</td>\n",
       "      <td>NaN</td>\n",
       "      <td>NaN</td>\n",
       "      <td>NaN</td>\n",
       "      <td>1.0</td>\n",
       "    </tr>\n",
       "    <tr>\n",
       "      <th>189045</th>\n",
       "      <td>CheXpert-v1.0/train/patient45159/study2/view1_...</td>\n",
       "      <td>Male</td>\n",
       "      <td>60</td>\n",
       "      <td>Frontal</td>\n",
       "      <td>AP</td>\n",
       "      <td>NaN</td>\n",
       "      <td>NaN</td>\n",
       "      <td>NaN</td>\n",
       "      <td>NaN</td>\n",
       "      <td>NaN</td>\n",
       "      <td>NaN</td>\n",
       "      <td>1.0</td>\n",
       "      <td>NaN</td>\n",
       "      <td>NaN</td>\n",
       "      <td>1.0</td>\n",
       "      <td>1.0</td>\n",
       "      <td>NaN</td>\n",
       "      <td>NaN</td>\n",
       "      <td>NaN</td>\n",
       "    </tr>\n",
       "  </tbody>\n",
       "</table>\n",
       "<p>44683 rows × 19 columns</p>\n",
       "</div>"
      ],
      "text/plain": [
       "                                                     Path     Sex  Age  \\\n",
       "67305   CheXpert-v1.0/train/patient16169/study2/view2_...    Male   62   \n",
       "158250  CheXpert-v1.0/train/patient37045/study7/view1_...  Female   69   \n",
       "51315   CheXpert-v1.0/train/patient12490/study12/view1...    Male   51   \n",
       "204270  CheXpert-v1.0/train/patient51556/study7/view1_...  Female   68   \n",
       "71280   CheXpert-v1.0/train/patient17091/study1/view1_...    Male   32   \n",
       "...                                                   ...     ...  ...   \n",
       "84611   CheXpert-v1.0/train/patient20333/study4/view1_...    Male   58   \n",
       "168690  CheXpert-v1.0/train/patient39344/study11/view1...  Female   67   \n",
       "166829  CheXpert-v1.0/train/patient38931/study1/view1_...  Female   83   \n",
       "184236  CheXpert-v1.0/train/patient43600/study1/view1_...    Male   82   \n",
       "189045  CheXpert-v1.0/train/patient45159/study2/view1_...    Male   60   \n",
       "\n",
       "       Frontal/Lateral AP/PA  No Finding  Enlarged Cardiomediastinum  \\\n",
       "67305          Frontal    AP         NaN                         NaN   \n",
       "158250         Frontal    AP         NaN                         NaN   \n",
       "51315          Frontal    AP         NaN                         NaN   \n",
       "204270         Frontal    AP         NaN                         NaN   \n",
       "71280          Frontal    PA         NaN                         NaN   \n",
       "...                ...   ...         ...                         ...   \n",
       "84611          Frontal    AP         NaN                         1.0   \n",
       "168690         Frontal    AP         NaN                         NaN   \n",
       "166829         Frontal    AP         NaN                         1.0   \n",
       "184236         Frontal    AP         NaN                         NaN   \n",
       "189045         Frontal    AP         NaN                         NaN   \n",
       "\n",
       "        Cardiomegaly  Lung Opacity  Lung Lesion  Edema  Consolidation  \\\n",
       "67305           -1.0           NaN          NaN    1.0            0.0   \n",
       "158250           NaN           1.0          NaN    NaN            NaN   \n",
       "51315            NaN           1.0          NaN    NaN            NaN   \n",
       "204270           NaN           1.0          NaN   -1.0            NaN   \n",
       "71280            NaN           1.0          NaN    NaN            NaN   \n",
       "...              ...           ...          ...    ...            ...   \n",
       "84611            NaN           NaN          NaN    NaN           -1.0   \n",
       "168690           NaN           1.0          NaN   -1.0            NaN   \n",
       "166829           1.0           1.0          NaN    NaN            NaN   \n",
       "184236           NaN           NaN          NaN    NaN           -1.0   \n",
       "189045           NaN           NaN          NaN    NaN            1.0   \n",
       "\n",
       "        Pneumonia  Atelectasis  Pneumothorax  Pleural Effusion  Pleural Other  \\\n",
       "67305         NaN          NaN           NaN               1.0            NaN   \n",
       "158250        NaN          NaN           NaN               1.0            NaN   \n",
       "51315         NaN          NaN           NaN               1.0            NaN   \n",
       "204270        NaN          NaN           NaN               1.0            NaN   \n",
       "71280         0.0          NaN           NaN               0.0            NaN   \n",
       "...           ...          ...           ...               ...            ...   \n",
       "84611         NaN         -1.0           NaN               1.0            NaN   \n",
       "168690        NaN          NaN           NaN               1.0            NaN   \n",
       "166829       -1.0          NaN           NaN               1.0            NaN   \n",
       "184236        NaN          1.0           NaN               NaN            NaN   \n",
       "189045        NaN          NaN           1.0               1.0            NaN   \n",
       "\n",
       "        Fracture  Support Devices  \n",
       "67305        NaN              1.0  \n",
       "158250       NaN              1.0  \n",
       "51315        NaN              0.0  \n",
       "204270       NaN              1.0  \n",
       "71280        NaN              NaN  \n",
       "...          ...              ...  \n",
       "84611        NaN              1.0  \n",
       "168690       NaN              1.0  \n",
       "166829       NaN              NaN  \n",
       "184236       NaN              1.0  \n",
       "189045       NaN              NaN  \n",
       "\n",
       "[44683 rows x 19 columns]"
      ]
     },
     "execution_count": 14,
     "metadata": {},
     "output_type": "execute_result"
    }
   ],
   "source": [
    "validation_df"
   ]
  },
  {
   "cell_type": "markdown",
   "id": "be94db1d",
   "metadata": {},
   "source": [
    "### 4- Checking how many Front and Lateral pictures exist for all train/validation/test splits"
   ]
  },
  {
   "cell_type": "markdown",
   "id": "644337bf",
   "metadata": {},
   "source": [
    "#### 4.1 Train set"
   ]
  },
  {
   "cell_type": "code",
   "execution_count": 15,
   "id": "1c4a6f94",
   "metadata": {},
   "outputs": [
    {
     "data": {
      "text/plain": [
       "152672"
      ]
     },
     "execution_count": 15,
     "metadata": {},
     "output_type": "execute_result"
    }
   ],
   "source": [
    "count_frontal_train = train_df[\"Frontal/Lateral\"].str.contains(\"Frontal\", na=False).sum()\n",
    "count_frontal_train"
   ]
  },
  {
   "cell_type": "code",
   "execution_count": 16,
   "id": "c47c1fc5",
   "metadata": {},
   "outputs": [
    {
     "data": {
      "text/plain": [
       "0.8541998869809938"
      ]
     },
     "execution_count": 16,
     "metadata": {},
     "output_type": "execute_result"
    }
   ],
   "source": [
    "frontal_train_ratio = count_frontal_train / len(train_df)\n",
    "frontal_train_ratio"
   ]
  },
  {
   "cell_type": "code",
   "execution_count": 17,
   "id": "053e6a8b",
   "metadata": {},
   "outputs": [
    {
     "data": {
      "text/plain": [
       "26059"
      ]
     },
     "execution_count": 17,
     "metadata": {},
     "output_type": "execute_result"
    }
   ],
   "source": [
    "count_lateral_train = train_df[\"Frontal/Lateral\"].str.contains(\"Lateral\", na=False).sum()\n",
    "count_lateral_train"
   ]
  },
  {
   "cell_type": "code",
   "execution_count": 18,
   "id": "51037953",
   "metadata": {},
   "outputs": [
    {
     "data": {
      "text/plain": [
       "0.14580011301900622"
      ]
     },
     "execution_count": 18,
     "metadata": {},
     "output_type": "execute_result"
    }
   ],
   "source": [
    "lateral_train_ratio = count_lateral_train / len(train_df)\n",
    "lateral_train_ratio"
   ]
  },
  {
   "cell_type": "code",
   "execution_count": 19,
   "id": "abf0a6b5",
   "metadata": {},
   "outputs": [
    {
     "data": {
      "image/png": "[encoded data removed]",
      "text/plain": [
       "<Figure size 936x936 with 1 Axes>"
      ]
     },
     "metadata": {},
     "output_type": "display_data"
    }
   ],
   "source": [
    "sizes = [frontal_train_ratio, lateral_train_ratio]\n",
    "labels = [\"Frontal images train set\", \"Lateral images train set\"]\n",
    "\n",
    "fig1, ax1 = plt.subplots(figsize=(13, 13))\n",
    "ax1.pie(sizes, labels=labels, autopct='%1.1f%%')\n",
    "ax1.axis('equal')  # Equal aspect ratio ensures that pie is drawn as a circle.\n",
    "plt.title(\"Train set Frontal/Lateral image distribution\")\n",
    "\n",
    "plt.show()"
   ]
  },
  {
   "cell_type": "markdown",
   "id": "f160b0be",
   "metadata": {},
   "source": [
    "#### 4.2 Validation set"
   ]
  },
  {
   "cell_type": "code",
   "execution_count": 20,
   "id": "437273b6",
   "metadata": {},
   "outputs": [
    {
     "data": {
      "text/plain": [
       "38355"
      ]
     },
     "execution_count": 20,
     "metadata": {},
     "output_type": "execute_result"
    }
   ],
   "source": [
    "count_frontal_validation = validation_df[\"Frontal/Lateral\"].str.contains(\"Frontal\", na=False).sum()\n",
    "count_frontal_validation"
   ]
  },
  {
   "cell_type": "code",
   "execution_count": 21,
   "id": "fad739a7",
   "metadata": {},
   "outputs": [
    {
     "data": {
      "text/plain": [
       "0.858380144573999"
      ]
     },
     "execution_count": 21,
     "metadata": {},
     "output_type": "execute_result"
    }
   ],
   "source": [
    "frontal_validation_ratio = count_frontal_validation / len(validation_df)\n",
    "frontal_validation_ratio"
   ]
  },
  {
   "cell_type": "code",
   "execution_count": 22,
   "id": "46e819fa",
   "metadata": {},
   "outputs": [
    {
     "data": {
      "text/plain": [
       "6328"
      ]
     },
     "execution_count": 22,
     "metadata": {},
     "output_type": "execute_result"
    }
   ],
   "source": [
    "count_lateral_validation = validation_df[\"Frontal/Lateral\"].str.contains(\"Lateral\", na=False).sum()\n",
    "count_lateral_validation"
   ]
  },
  {
   "cell_type": "code",
   "execution_count": 23,
   "id": "138cc06e",
   "metadata": {},
   "outputs": [
    {
     "data": {
      "text/plain": [
       "0.14161985542600095"
      ]
     },
     "execution_count": 23,
     "metadata": {},
     "output_type": "execute_result"
    }
   ],
   "source": [
    "lateral_validation_ratio = count_lateral_validation / len(validation_df)\n",
    "lateral_validation_ratio"
   ]
  },
  {
   "cell_type": "code",
   "execution_count": 24,
   "id": "b49f48b4",
   "metadata": {},
   "outputs": [
    {
     "data": {
      "image/png": "[encoded data removed]",
      "text/plain": [
       "<Figure size 936x936 with 1 Axes>"
      ]
     },
     "metadata": {},
     "output_type": "display_data"
    }
   ],
   "source": [
    "sizes = [frontal_validation_ratio, lateral_validation_ratio]\n",
    "labels = [\"Frontal images validation set\", \"Lateral images validation set\"]\n",
    "\n",
    "fig1, ax1 = plt.subplots(figsize=(13, 13))\n",
    "ax1.pie(sizes, labels=labels, autopct='%1.1f%%')\n",
    "ax1.axis('equal')  # Equal aspect ratio ensures that pie is drawn as a circle.\n",
    "plt.title(\"Validation set Frontal/Lateral image distribution\")\n",
    "\n",
    "plt.show()"
   ]
  },
  {
   "cell_type": "markdown",
   "id": "586abffc",
   "metadata": {},
   "source": [
    "#### 4.3 Test set"
   ]
  },
  {
   "cell_type": "code",
   "execution_count": 25,
   "id": "2a638055",
   "metadata": {},
   "outputs": [
    {
     "data": {
      "text/plain": [
       "202"
      ]
     },
     "execution_count": 25,
     "metadata": {},
     "output_type": "execute_result"
    }
   ],
   "source": [
    "count_frontal_test = test_df[\"Frontal/Lateral\"].str.contains(\"Frontal\", na=False).sum()\n",
    "count_frontal_test"
   ]
  },
  {
   "cell_type": "code",
   "execution_count": 26,
   "id": "01c8f381",
   "metadata": {},
   "outputs": [
    {
     "data": {
      "text/plain": [
       "0.8632478632478633"
      ]
     },
     "execution_count": 26,
     "metadata": {},
     "output_type": "execute_result"
    }
   ],
   "source": [
    "frontal_test_ratio = count_frontal_test / len(test_df)\n",
    "frontal_test_ratio"
   ]
  },
  {
   "cell_type": "code",
   "execution_count": 27,
   "id": "b5cf69ae",
   "metadata": {},
   "outputs": [
    {
     "data": {
      "text/plain": [
       "32"
      ]
     },
     "execution_count": 27,
     "metadata": {},
     "output_type": "execute_result"
    }
   ],
   "source": [
    "count_lateral_test = test_df[\"Frontal/Lateral\"].str.contains(\"Lateral\", na=False).sum()\n",
    "count_lateral_test"
   ]
  },
  {
   "cell_type": "code",
   "execution_count": 28,
   "id": "77f17f32",
   "metadata": {},
   "outputs": [
    {
     "data": {
      "text/plain": [
       "0.13675213675213677"
      ]
     },
     "execution_count": 28,
     "metadata": {},
     "output_type": "execute_result"
    }
   ],
   "source": [
    "lateral_test_ratio = count_lateral_test / len(test_df)\n",
    "lateral_test_ratio"
   ]
  },
  {
   "cell_type": "code",
   "execution_count": 29,
   "id": "d26a726a",
   "metadata": {},
   "outputs": [
    {
     "data": {
      "image/png": "[encoded data removed]",
      "text/plain": [
       "<Figure size 936x936 with 1 Axes>"
      ]
     },
     "metadata": {},
     "output_type": "display_data"
    }
   ],
   "source": [
    "sizes = [frontal_test_ratio, lateral_test_ratio]\n",
    "labels = [\"Frontal images test set\", \"Lateral images test set\"]\n",
    "\n",
    "fig1, ax1 = plt.subplots(figsize=(13, 13))\n",
    "ax1.pie(sizes, labels=labels, autopct='%1.1f%%')\n",
    "ax1.axis('equal')  # Equal aspect ratio ensures that pie is drawn as a circle.\n",
    "plt.title(\"Test set Frontal/Lateral image distribution\")\n",
    "\n",
    "plt.show()"
   ]
  },
  {
   "cell_type": "markdown",
   "id": "9b3d0fd6",
   "metadata": {},
   "source": [
    "### 5- Replacing NaNs with zeroes, and replacing the 'undecided (-1) labels with zeroes' for u-zeroes approach"
   ]
  },
  {
   "cell_type": "code",
   "execution_count": 30,
   "id": "1f52265b",
   "metadata": {},
   "outputs": [],
   "source": [
    "train_df = train_df.fillna(0)\n",
    "validation_df = validation_df.fillna(0)\n",
    "test_df = test_df.fillna(0)"
   ]
  },
  {
   "cell_type": "code",
   "execution_count": 31,
   "id": "4afd6794",
   "metadata": {},
   "outputs": [
    {
     "data": {
      "text/html": [
       "<div>\n",
       "<style scoped>\n",
       "    .dataframe tbody tr th:only-of-type {\n",
       "        vertical-align: middle;\n",
       "    }\n",
       "\n",
       "    .dataframe tbody tr th {\n",
       "        vertical-align: top;\n",
       "    }\n",
       "\n",
       "    .dataframe thead th {\n",
       "        text-align: right;\n",
       "    }\n",
       "</style>\n",
       "<table border=\"1\" class=\"dataframe\">\n",
       "  <thead>\n",
       "    <tr style=\"text-align: right;\">\n",
       "      <th></th>\n",
       "      <th>Path</th>\n",
       "      <th>Sex</th>\n",
       "      <th>Age</th>\n",
       "      <th>Frontal/Lateral</th>\n",
       "      <th>AP/PA</th>\n",
       "      <th>No Finding</th>\n",
       "      <th>Enlarged Cardiomediastinum</th>\n",
       "      <th>Cardiomegaly</th>\n",
       "      <th>Lung Opacity</th>\n",
       "      <th>Lung Lesion</th>\n",
       "      <th>Edema</th>\n",
       "      <th>Consolidation</th>\n",
       "      <th>Pneumonia</th>\n",
       "      <th>Atelectasis</th>\n",
       "      <th>Pneumothorax</th>\n",
       "      <th>Pleural Effusion</th>\n",
       "      <th>Pleural Other</th>\n",
       "      <th>Fracture</th>\n",
       "      <th>Support Devices</th>\n",
       "    </tr>\n",
       "  </thead>\n",
       "  <tbody>\n",
       "    <tr>\n",
       "      <th>147955</th>\n",
       "      <td>CheXpert-v1.0/train/patient35203/study28/view1...</td>\n",
       "      <td>Male</td>\n",
       "      <td>66</td>\n",
       "      <td>Frontal</td>\n",
       "      <td>AP</td>\n",
       "      <td>0.0</td>\n",
       "      <td>1.0</td>\n",
       "      <td>0.0</td>\n",
       "      <td>1.0</td>\n",
       "      <td>0.0</td>\n",
       "      <td>0.0</td>\n",
       "      <td>0.0</td>\n",
       "      <td>0.0</td>\n",
       "      <td>0.0</td>\n",
       "      <td>0.0</td>\n",
       "      <td>1.0</td>\n",
       "      <td>0.0</td>\n",
       "      <td>0.0</td>\n",
       "      <td>1.0</td>\n",
       "    </tr>\n",
       "    <tr>\n",
       "      <th>163338</th>\n",
       "      <td>CheXpert-v1.0/train/patient38124/study5/view1_...</td>\n",
       "      <td>Male</td>\n",
       "      <td>59</td>\n",
       "      <td>Frontal</td>\n",
       "      <td>AP</td>\n",
       "      <td>0.0</td>\n",
       "      <td>0.0</td>\n",
       "      <td>0.0</td>\n",
       "      <td>0.0</td>\n",
       "      <td>0.0</td>\n",
       "      <td>0.0</td>\n",
       "      <td>-1.0</td>\n",
       "      <td>0.0</td>\n",
       "      <td>-1.0</td>\n",
       "      <td>0.0</td>\n",
       "      <td>1.0</td>\n",
       "      <td>0.0</td>\n",
       "      <td>1.0</td>\n",
       "      <td>1.0</td>\n",
       "    </tr>\n",
       "    <tr>\n",
       "      <th>69480</th>\n",
       "      <td>CheXpert-v1.0/train/patient16628/study1/view2_...</td>\n",
       "      <td>Male</td>\n",
       "      <td>27</td>\n",
       "      <td>Frontal</td>\n",
       "      <td>PA</td>\n",
       "      <td>0.0</td>\n",
       "      <td>0.0</td>\n",
       "      <td>0.0</td>\n",
       "      <td>0.0</td>\n",
       "      <td>0.0</td>\n",
       "      <td>0.0</td>\n",
       "      <td>0.0</td>\n",
       "      <td>0.0</td>\n",
       "      <td>0.0</td>\n",
       "      <td>0.0</td>\n",
       "      <td>0.0</td>\n",
       "      <td>0.0</td>\n",
       "      <td>1.0</td>\n",
       "      <td>0.0</td>\n",
       "    </tr>\n",
       "    <tr>\n",
       "      <th>25205</th>\n",
       "      <td>CheXpert-v1.0/train/patient06161/study2/view1_...</td>\n",
       "      <td>Male</td>\n",
       "      <td>61</td>\n",
       "      <td>Frontal</td>\n",
       "      <td>AP</td>\n",
       "      <td>0.0</td>\n",
       "      <td>0.0</td>\n",
       "      <td>1.0</td>\n",
       "      <td>1.0</td>\n",
       "      <td>0.0</td>\n",
       "      <td>0.0</td>\n",
       "      <td>0.0</td>\n",
       "      <td>0.0</td>\n",
       "      <td>-1.0</td>\n",
       "      <td>0.0</td>\n",
       "      <td>0.0</td>\n",
       "      <td>0.0</td>\n",
       "      <td>0.0</td>\n",
       "      <td>0.0</td>\n",
       "    </tr>\n",
       "    <tr>\n",
       "      <th>98537</th>\n",
       "      <td>CheXpert-v1.0/train/patient23744/study17/view2...</td>\n",
       "      <td>Female</td>\n",
       "      <td>62</td>\n",
       "      <td>Lateral</td>\n",
       "      <td>0</td>\n",
       "      <td>0.0</td>\n",
       "      <td>0.0</td>\n",
       "      <td>1.0</td>\n",
       "      <td>0.0</td>\n",
       "      <td>0.0</td>\n",
       "      <td>1.0</td>\n",
       "      <td>0.0</td>\n",
       "      <td>0.0</td>\n",
       "      <td>0.0</td>\n",
       "      <td>0.0</td>\n",
       "      <td>1.0</td>\n",
       "      <td>0.0</td>\n",
       "      <td>0.0</td>\n",
       "      <td>1.0</td>\n",
       "    </tr>\n",
       "    <tr>\n",
       "      <th>...</th>\n",
       "      <td>...</td>\n",
       "      <td>...</td>\n",
       "      <td>...</td>\n",
       "      <td>...</td>\n",
       "      <td>...</td>\n",
       "      <td>...</td>\n",
       "      <td>...</td>\n",
       "      <td>...</td>\n",
       "      <td>...</td>\n",
       "      <td>...</td>\n",
       "      <td>...</td>\n",
       "      <td>...</td>\n",
       "      <td>...</td>\n",
       "      <td>...</td>\n",
       "      <td>...</td>\n",
       "      <td>...</td>\n",
       "      <td>...</td>\n",
       "      <td>...</td>\n",
       "      <td>...</td>\n",
       "    </tr>\n",
       "    <tr>\n",
       "      <th>62239</th>\n",
       "      <td>CheXpert-v1.0/train/patient15019/study1/view1_...</td>\n",
       "      <td>Female</td>\n",
       "      <td>85</td>\n",
       "      <td>Frontal</td>\n",
       "      <td>PA</td>\n",
       "      <td>0.0</td>\n",
       "      <td>0.0</td>\n",
       "      <td>0.0</td>\n",
       "      <td>0.0</td>\n",
       "      <td>0.0</td>\n",
       "      <td>0.0</td>\n",
       "      <td>0.0</td>\n",
       "      <td>0.0</td>\n",
       "      <td>0.0</td>\n",
       "      <td>0.0</td>\n",
       "      <td>0.0</td>\n",
       "      <td>0.0</td>\n",
       "      <td>0.0</td>\n",
       "      <td>0.0</td>\n",
       "    </tr>\n",
       "    <tr>\n",
       "      <th>152127</th>\n",
       "      <td>CheXpert-v1.0/train/patient35905/study3/view1_...</td>\n",
       "      <td>Female</td>\n",
       "      <td>45</td>\n",
       "      <td>Frontal</td>\n",
       "      <td>AP</td>\n",
       "      <td>0.0</td>\n",
       "      <td>0.0</td>\n",
       "      <td>0.0</td>\n",
       "      <td>1.0</td>\n",
       "      <td>0.0</td>\n",
       "      <td>0.0</td>\n",
       "      <td>-1.0</td>\n",
       "      <td>0.0</td>\n",
       "      <td>0.0</td>\n",
       "      <td>0.0</td>\n",
       "      <td>0.0</td>\n",
       "      <td>0.0</td>\n",
       "      <td>0.0</td>\n",
       "      <td>1.0</td>\n",
       "    </tr>\n",
       "    <tr>\n",
       "      <th>119174</th>\n",
       "      <td>CheXpert-v1.0/train/patient28559/study1/view3_...</td>\n",
       "      <td>Female</td>\n",
       "      <td>57</td>\n",
       "      <td>Lateral</td>\n",
       "      <td>0</td>\n",
       "      <td>0.0</td>\n",
       "      <td>0.0</td>\n",
       "      <td>0.0</td>\n",
       "      <td>0.0</td>\n",
       "      <td>0.0</td>\n",
       "      <td>-1.0</td>\n",
       "      <td>0.0</td>\n",
       "      <td>0.0</td>\n",
       "      <td>0.0</td>\n",
       "      <td>0.0</td>\n",
       "      <td>0.0</td>\n",
       "      <td>0.0</td>\n",
       "      <td>0.0</td>\n",
       "      <td>0.0</td>\n",
       "    </tr>\n",
       "    <tr>\n",
       "      <th>193608</th>\n",
       "      <td>CheXpert-v1.0/train/patient46927/study1/view1_...</td>\n",
       "      <td>Male</td>\n",
       "      <td>46</td>\n",
       "      <td>Frontal</td>\n",
       "      <td>AP</td>\n",
       "      <td>0.0</td>\n",
       "      <td>0.0</td>\n",
       "      <td>0.0</td>\n",
       "      <td>0.0</td>\n",
       "      <td>0.0</td>\n",
       "      <td>1.0</td>\n",
       "      <td>0.0</td>\n",
       "      <td>1.0</td>\n",
       "      <td>0.0</td>\n",
       "      <td>0.0</td>\n",
       "      <td>0.0</td>\n",
       "      <td>0.0</td>\n",
       "      <td>0.0</td>\n",
       "      <td>1.0</td>\n",
       "    </tr>\n",
       "    <tr>\n",
       "      <th>142257</th>\n",
       "      <td>CheXpert-v1.0/train/patient34197/study4/view2_...</td>\n",
       "      <td>Male</td>\n",
       "      <td>64</td>\n",
       "      <td>Lateral</td>\n",
       "      <td>0</td>\n",
       "      <td>0.0</td>\n",
       "      <td>0.0</td>\n",
       "      <td>-1.0</td>\n",
       "      <td>0.0</td>\n",
       "      <td>0.0</td>\n",
       "      <td>0.0</td>\n",
       "      <td>0.0</td>\n",
       "      <td>0.0</td>\n",
       "      <td>0.0</td>\n",
       "      <td>0.0</td>\n",
       "      <td>1.0</td>\n",
       "      <td>0.0</td>\n",
       "      <td>0.0</td>\n",
       "      <td>0.0</td>\n",
       "    </tr>\n",
       "  </tbody>\n",
       "</table>\n",
       "<p>178731 rows × 19 columns</p>\n",
       "</div>"
      ],
      "text/plain": [
       "                                                     Path     Sex  Age  \\\n",
       "147955  CheXpert-v1.0/train/patient35203/study28/view1...    Male   66   \n",
       "163338  CheXpert-v1.0/train/patient38124/study5/view1_...    Male   59   \n",
       "69480   CheXpert-v1.0/train/patient16628/study1/view2_...    Male   27   \n",
       "25205   CheXpert-v1.0/train/patient06161/study2/view1_...    Male   61   \n",
       "98537   CheXpert-v1.0/train/patient23744/study17/view2...  Female   62   \n",
       "...                                                   ...     ...  ...   \n",
       "62239   CheXpert-v1.0/train/patient15019/study1/view1_...  Female   85   \n",
       "152127  CheXpert-v1.0/train/patient35905/study3/view1_...  Female   45   \n",
       "119174  CheXpert-v1.0/train/patient28559/study1/view3_...  Female   57   \n",
       "193608  CheXpert-v1.0/train/patient46927/study1/view1_...    Male   46   \n",
       "142257  CheXpert-v1.0/train/patient34197/study4/view2_...    Male   64   \n",
       "\n",
       "       Frontal/Lateral AP/PA  No Finding  Enlarged Cardiomediastinum  \\\n",
       "147955         Frontal    AP         0.0                         1.0   \n",
       "163338         Frontal    AP         0.0                         0.0   \n",
       "69480          Frontal    PA         0.0                         0.0   \n",
       "25205          Frontal    AP         0.0                         0.0   \n",
       "98537          Lateral     0         0.0                         0.0   \n",
       "...                ...   ...         ...                         ...   \n",
       "62239          Frontal    PA         0.0                         0.0   \n",
       "152127         Frontal    AP         0.0                         0.0   \n",
       "119174         Lateral     0         0.0                         0.0   \n",
       "193608         Frontal    AP         0.0                         0.0   \n",
       "142257         Lateral     0         0.0                         0.0   \n",
       "\n",
       "        Cardiomegaly  Lung Opacity  Lung Lesion  Edema  Consolidation  \\\n",
       "147955           0.0           1.0          0.0    0.0            0.0   \n",
       "163338           0.0           0.0          0.0    0.0           -1.0   \n",
       "69480            0.0           0.0          0.0    0.0            0.0   \n",
       "25205            1.0           1.0          0.0    0.0            0.0   \n",
       "98537            1.0           0.0          0.0    1.0            0.0   \n",
       "...              ...           ...          ...    ...            ...   \n",
       "62239            0.0           0.0          0.0    0.0            0.0   \n",
       "152127           0.0           1.0          0.0    0.0           -1.0   \n",
       "119174           0.0           0.0          0.0   -1.0            0.0   \n",
       "193608           0.0           0.0          0.0    1.0            0.0   \n",
       "142257          -1.0           0.0          0.0    0.0            0.0   \n",
       "\n",
       "        Pneumonia  Atelectasis  Pneumothorax  Pleural Effusion  Pleural Other  \\\n",
       "147955        0.0          0.0           0.0               1.0            0.0   \n",
       "163338        0.0         -1.0           0.0               1.0            0.0   \n",
       "69480         0.0          0.0           0.0               0.0            0.0   \n",
       "25205         0.0         -1.0           0.0               0.0            0.0   \n",
       "98537         0.0          0.0           0.0               1.0            0.0   \n",
       "...           ...          ...           ...               ...            ...   \n",
       "62239         0.0          0.0           0.0               0.0            0.0   \n",
       "152127        0.0          0.0           0.0               0.0            0.0   \n",
       "119174        0.0          0.0           0.0               0.0            0.0   \n",
       "193608        1.0          0.0           0.0               0.0            0.0   \n",
       "142257        0.0          0.0           0.0               1.0            0.0   \n",
       "\n",
       "        Fracture  Support Devices  \n",
       "147955       0.0              1.0  \n",
       "163338       1.0              1.0  \n",
       "69480        1.0              0.0  \n",
       "25205        0.0              0.0  \n",
       "98537        0.0              1.0  \n",
       "...          ...              ...  \n",
       "62239        0.0              0.0  \n",
       "152127       0.0              1.0  \n",
       "119174       0.0              0.0  \n",
       "193608       0.0              1.0  \n",
       "142257       0.0              0.0  \n",
       "\n",
       "[178731 rows x 19 columns]"
      ]
     },
     "execution_count": 31,
     "metadata": {},
     "output_type": "execute_result"
    }
   ],
   "source": [
    "train_df"
   ]
  },
  {
   "cell_type": "code",
   "execution_count": 32,
   "id": "79c98618",
   "metadata": {},
   "outputs": [
    {
     "data": {
      "text/html": [
       "<div>\n",
       "<style scoped>\n",
       "    .dataframe tbody tr th:only-of-type {\n",
       "        vertical-align: middle;\n",
       "    }\n",
       "\n",
       "    .dataframe tbody tr th {\n",
       "        vertical-align: top;\n",
       "    }\n",
       "\n",
       "    .dataframe thead th {\n",
       "        text-align: right;\n",
       "    }\n",
       "</style>\n",
       "<table border=\"1\" class=\"dataframe\">\n",
       "  <thead>\n",
       "    <tr style=\"text-align: right;\">\n",
       "      <th></th>\n",
       "      <th>Path</th>\n",
       "      <th>Sex</th>\n",
       "      <th>Age</th>\n",
       "      <th>Frontal/Lateral</th>\n",
       "      <th>AP/PA</th>\n",
       "      <th>No Finding</th>\n",
       "      <th>Enlarged Cardiomediastinum</th>\n",
       "      <th>Cardiomegaly</th>\n",
       "      <th>Lung Opacity</th>\n",
       "      <th>Lung Lesion</th>\n",
       "      <th>Edema</th>\n",
       "      <th>Consolidation</th>\n",
       "      <th>Pneumonia</th>\n",
       "      <th>Atelectasis</th>\n",
       "      <th>Pneumothorax</th>\n",
       "      <th>Pleural Effusion</th>\n",
       "      <th>Pleural Other</th>\n",
       "      <th>Fracture</th>\n",
       "      <th>Support Devices</th>\n",
       "    </tr>\n",
       "  </thead>\n",
       "  <tbody>\n",
       "    <tr>\n",
       "      <th>67305</th>\n",
       "      <td>CheXpert-v1.0/train/patient16169/study2/view2_...</td>\n",
       "      <td>Male</td>\n",
       "      <td>62</td>\n",
       "      <td>Frontal</td>\n",
       "      <td>AP</td>\n",
       "      <td>0.0</td>\n",
       "      <td>0.0</td>\n",
       "      <td>-1.0</td>\n",
       "      <td>0.0</td>\n",
       "      <td>0.0</td>\n",
       "      <td>1.0</td>\n",
       "      <td>0.0</td>\n",
       "      <td>0.0</td>\n",
       "      <td>0.0</td>\n",
       "      <td>0.0</td>\n",
       "      <td>1.0</td>\n",
       "      <td>0.0</td>\n",
       "      <td>0.0</td>\n",
       "      <td>1.0</td>\n",
       "    </tr>\n",
       "    <tr>\n",
       "      <th>158250</th>\n",
       "      <td>CheXpert-v1.0/train/patient37045/study7/view1_...</td>\n",
       "      <td>Female</td>\n",
       "      <td>69</td>\n",
       "      <td>Frontal</td>\n",
       "      <td>AP</td>\n",
       "      <td>0.0</td>\n",
       "      <td>0.0</td>\n",
       "      <td>0.0</td>\n",
       "      <td>1.0</td>\n",
       "      <td>0.0</td>\n",
       "      <td>0.0</td>\n",
       "      <td>0.0</td>\n",
       "      <td>0.0</td>\n",
       "      <td>0.0</td>\n",
       "      <td>0.0</td>\n",
       "      <td>1.0</td>\n",
       "      <td>0.0</td>\n",
       "      <td>0.0</td>\n",
       "      <td>1.0</td>\n",
       "    </tr>\n",
       "    <tr>\n",
       "      <th>51315</th>\n",
       "      <td>CheXpert-v1.0/train/patient12490/study12/view1...</td>\n",
       "      <td>Male</td>\n",
       "      <td>51</td>\n",
       "      <td>Frontal</td>\n",
       "      <td>AP</td>\n",
       "      <td>0.0</td>\n",
       "      <td>0.0</td>\n",
       "      <td>0.0</td>\n",
       "      <td>1.0</td>\n",
       "      <td>0.0</td>\n",
       "      <td>0.0</td>\n",
       "      <td>0.0</td>\n",
       "      <td>0.0</td>\n",
       "      <td>0.0</td>\n",
       "      <td>0.0</td>\n",
       "      <td>1.0</td>\n",
       "      <td>0.0</td>\n",
       "      <td>0.0</td>\n",
       "      <td>0.0</td>\n",
       "    </tr>\n",
       "    <tr>\n",
       "      <th>204270</th>\n",
       "      <td>CheXpert-v1.0/train/patient51556/study7/view1_...</td>\n",
       "      <td>Female</td>\n",
       "      <td>68</td>\n",
       "      <td>Frontal</td>\n",
       "      <td>AP</td>\n",
       "      <td>0.0</td>\n",
       "      <td>0.0</td>\n",
       "      <td>0.0</td>\n",
       "      <td>1.0</td>\n",
       "      <td>0.0</td>\n",
       "      <td>-1.0</td>\n",
       "      <td>0.0</td>\n",
       "      <td>0.0</td>\n",
       "      <td>0.0</td>\n",
       "      <td>0.0</td>\n",
       "      <td>1.0</td>\n",
       "      <td>0.0</td>\n",
       "      <td>0.0</td>\n",
       "      <td>1.0</td>\n",
       "    </tr>\n",
       "    <tr>\n",
       "      <th>71280</th>\n",
       "      <td>CheXpert-v1.0/train/patient17091/study1/view1_...</td>\n",
       "      <td>Male</td>\n",
       "      <td>32</td>\n",
       "      <td>Frontal</td>\n",
       "      <td>PA</td>\n",
       "      <td>0.0</td>\n",
       "      <td>0.0</td>\n",
       "      <td>0.0</td>\n",
       "      <td>1.0</td>\n",
       "      <td>0.0</td>\n",
       "      <td>0.0</td>\n",
       "      <td>0.0</td>\n",
       "      <td>0.0</td>\n",
       "      <td>0.0</td>\n",
       "      <td>0.0</td>\n",
       "      <td>0.0</td>\n",
       "      <td>0.0</td>\n",
       "      <td>0.0</td>\n",
       "      <td>0.0</td>\n",
       "    </tr>\n",
       "    <tr>\n",
       "      <th>...</th>\n",
       "      <td>...</td>\n",
       "      <td>...</td>\n",
       "      <td>...</td>\n",
       "      <td>...</td>\n",
       "      <td>...</td>\n",
       "      <td>...</td>\n",
       "      <td>...</td>\n",
       "      <td>...</td>\n",
       "      <td>...</td>\n",
       "      <td>...</td>\n",
       "      <td>...</td>\n",
       "      <td>...</td>\n",
       "      <td>...</td>\n",
       "      <td>...</td>\n",
       "      <td>...</td>\n",
       "      <td>...</td>\n",
       "      <td>...</td>\n",
       "      <td>...</td>\n",
       "      <td>...</td>\n",
       "    </tr>\n",
       "    <tr>\n",
       "      <th>84611</th>\n",
       "      <td>CheXpert-v1.0/train/patient20333/study4/view1_...</td>\n",
       "      <td>Male</td>\n",
       "      <td>58</td>\n",
       "      <td>Frontal</td>\n",
       "      <td>AP</td>\n",
       "      <td>0.0</td>\n",
       "      <td>1.0</td>\n",
       "      <td>0.0</td>\n",
       "      <td>0.0</td>\n",
       "      <td>0.0</td>\n",
       "      <td>0.0</td>\n",
       "      <td>-1.0</td>\n",
       "      <td>0.0</td>\n",
       "      <td>-1.0</td>\n",
       "      <td>0.0</td>\n",
       "      <td>1.0</td>\n",
       "      <td>0.0</td>\n",
       "      <td>0.0</td>\n",
       "      <td>1.0</td>\n",
       "    </tr>\n",
       "    <tr>\n",
       "      <th>168690</th>\n",
       "      <td>CheXpert-v1.0/train/patient39344/study11/view1...</td>\n",
       "      <td>Female</td>\n",
       "      <td>67</td>\n",
       "      <td>Frontal</td>\n",
       "      <td>AP</td>\n",
       "      <td>0.0</td>\n",
       "      <td>0.0</td>\n",
       "      <td>0.0</td>\n",
       "      <td>1.0</td>\n",
       "      <td>0.0</td>\n",
       "      <td>-1.0</td>\n",
       "      <td>0.0</td>\n",
       "      <td>0.0</td>\n",
       "      <td>0.0</td>\n",
       "      <td>0.0</td>\n",
       "      <td>1.0</td>\n",
       "      <td>0.0</td>\n",
       "      <td>0.0</td>\n",
       "      <td>1.0</td>\n",
       "    </tr>\n",
       "    <tr>\n",
       "      <th>166829</th>\n",
       "      <td>CheXpert-v1.0/train/patient38931/study1/view1_...</td>\n",
       "      <td>Female</td>\n",
       "      <td>83</td>\n",
       "      <td>Frontal</td>\n",
       "      <td>AP</td>\n",
       "      <td>0.0</td>\n",
       "      <td>1.0</td>\n",
       "      <td>1.0</td>\n",
       "      <td>1.0</td>\n",
       "      <td>0.0</td>\n",
       "      <td>0.0</td>\n",
       "      <td>0.0</td>\n",
       "      <td>-1.0</td>\n",
       "      <td>0.0</td>\n",
       "      <td>0.0</td>\n",
       "      <td>1.0</td>\n",
       "      <td>0.0</td>\n",
       "      <td>0.0</td>\n",
       "      <td>0.0</td>\n",
       "    </tr>\n",
       "    <tr>\n",
       "      <th>184236</th>\n",
       "      <td>CheXpert-v1.0/train/patient43600/study1/view1_...</td>\n",
       "      <td>Male</td>\n",
       "      <td>82</td>\n",
       "      <td>Frontal</td>\n",
       "      <td>AP</td>\n",
       "      <td>0.0</td>\n",
       "      <td>0.0</td>\n",
       "      <td>0.0</td>\n",
       "      <td>0.0</td>\n",
       "      <td>0.0</td>\n",
       "      <td>0.0</td>\n",
       "      <td>-1.0</td>\n",
       "      <td>0.0</td>\n",
       "      <td>1.0</td>\n",
       "      <td>0.0</td>\n",
       "      <td>0.0</td>\n",
       "      <td>0.0</td>\n",
       "      <td>0.0</td>\n",
       "      <td>1.0</td>\n",
       "    </tr>\n",
       "    <tr>\n",
       "      <th>189045</th>\n",
       "      <td>CheXpert-v1.0/train/patient45159/study2/view1_...</td>\n",
       "      <td>Male</td>\n",
       "      <td>60</td>\n",
       "      <td>Frontal</td>\n",
       "      <td>AP</td>\n",
       "      <td>0.0</td>\n",
       "      <td>0.0</td>\n",
       "      <td>0.0</td>\n",
       "      <td>0.0</td>\n",
       "      <td>0.0</td>\n",
       "      <td>0.0</td>\n",
       "      <td>1.0</td>\n",
       "      <td>0.0</td>\n",
       "      <td>0.0</td>\n",
       "      <td>1.0</td>\n",
       "      <td>1.0</td>\n",
       "      <td>0.0</td>\n",
       "      <td>0.0</td>\n",
       "      <td>0.0</td>\n",
       "    </tr>\n",
       "  </tbody>\n",
       "</table>\n",
       "<p>44683 rows × 19 columns</p>\n",
       "</div>"
      ],
      "text/plain": [
       "                                                     Path     Sex  Age  \\\n",
       "67305   CheXpert-v1.0/train/patient16169/study2/view2_...    Male   62   \n",
       "158250  CheXpert-v1.0/train/patient37045/study7/view1_...  Female   69   \n",
       "51315   CheXpert-v1.0/train/patient12490/study12/view1...    Male   51   \n",
       "204270  CheXpert-v1.0/train/patient51556/study7/view1_...  Female   68   \n",
       "71280   CheXpert-v1.0/train/patient17091/study1/view1_...    Male   32   \n",
       "...                                                   ...     ...  ...   \n",
       "84611   CheXpert-v1.0/train/patient20333/study4/view1_...    Male   58   \n",
       "168690  CheXpert-v1.0/train/patient39344/study11/view1...  Female   67   \n",
       "166829  CheXpert-v1.0/train/patient38931/study1/view1_...  Female   83   \n",
       "184236  CheXpert-v1.0/train/patient43600/study1/view1_...    Male   82   \n",
       "189045  CheXpert-v1.0/train/patient45159/study2/view1_...    Male   60   \n",
       "\n",
       "       Frontal/Lateral AP/PA  No Finding  Enlarged Cardiomediastinum  \\\n",
       "67305          Frontal    AP         0.0                         0.0   \n",
       "158250         Frontal    AP         0.0                         0.0   \n",
       "51315          Frontal    AP         0.0                         0.0   \n",
       "204270         Frontal    AP         0.0                         0.0   \n",
       "71280          Frontal    PA         0.0                         0.0   \n",
       "...                ...   ...         ...                         ...   \n",
       "84611          Frontal    AP         0.0                         1.0   \n",
       "168690         Frontal    AP         0.0                         0.0   \n",
       "166829         Frontal    AP         0.0                         1.0   \n",
       "184236         Frontal    AP         0.0                         0.0   \n",
       "189045         Frontal    AP         0.0                         0.0   \n",
       "\n",
       "        Cardiomegaly  Lung Opacity  Lung Lesion  Edema  Consolidation  \\\n",
       "67305           -1.0           0.0          0.0    1.0            0.0   \n",
       "158250           0.0           1.0          0.0    0.0            0.0   \n",
       "51315            0.0           1.0          0.0    0.0            0.0   \n",
       "204270           0.0           1.0          0.0   -1.0            0.0   \n",
       "71280            0.0           1.0          0.0    0.0            0.0   \n",
       "...              ...           ...          ...    ...            ...   \n",
       "84611            0.0           0.0          0.0    0.0           -1.0   \n",
       "168690           0.0           1.0          0.0   -1.0            0.0   \n",
       "166829           1.0           1.0          0.0    0.0            0.0   \n",
       "184236           0.0           0.0          0.0    0.0           -1.0   \n",
       "189045           0.0           0.0          0.0    0.0            1.0   \n",
       "\n",
       "        Pneumonia  Atelectasis  Pneumothorax  Pleural Effusion  Pleural Other  \\\n",
       "67305         0.0          0.0           0.0               1.0            0.0   \n",
       "158250        0.0          0.0           0.0               1.0            0.0   \n",
       "51315         0.0          0.0           0.0               1.0            0.0   \n",
       "204270        0.0          0.0           0.0               1.0            0.0   \n",
       "71280         0.0          0.0           0.0               0.0            0.0   \n",
       "...           ...          ...           ...               ...            ...   \n",
       "84611         0.0         -1.0           0.0               1.0            0.0   \n",
       "168690        0.0          0.0           0.0               1.0            0.0   \n",
       "166829       -1.0          0.0           0.0               1.0            0.0   \n",
       "184236        0.0          1.0           0.0               0.0            0.0   \n",
       "189045        0.0          0.0           1.0               1.0            0.0   \n",
       "\n",
       "        Fracture  Support Devices  \n",
       "67305        0.0              1.0  \n",
       "158250       0.0              1.0  \n",
       "51315        0.0              0.0  \n",
       "204270       0.0              1.0  \n",
       "71280        0.0              0.0  \n",
       "...          ...              ...  \n",
       "84611        0.0              1.0  \n",
       "168690       0.0              1.0  \n",
       "166829       0.0              0.0  \n",
       "184236       0.0              1.0  \n",
       "189045       0.0              0.0  \n",
       "\n",
       "[44683 rows x 19 columns]"
      ]
     },
     "execution_count": 32,
     "metadata": {},
     "output_type": "execute_result"
    }
   ],
   "source": [
    "validation_df"
   ]
  },
  {
   "cell_type": "code",
   "execution_count": 33,
   "id": "a3483d02",
   "metadata": {},
   "outputs": [
    {
     "data": {
      "text/html": [
       "<div>\n",
       "<style scoped>\n",
       "    .dataframe tbody tr th:only-of-type {\n",
       "        vertical-align: middle;\n",
       "    }\n",
       "\n",
       "    .dataframe tbody tr th {\n",
       "        vertical-align: top;\n",
       "    }\n",
       "\n",
       "    .dataframe thead th {\n",
       "        text-align: right;\n",
       "    }\n",
       "</style>\n",
       "<table border=\"1\" class=\"dataframe\">\n",
       "  <thead>\n",
       "    <tr style=\"text-align: right;\">\n",
       "      <th></th>\n",
       "      <th>Path</th>\n",
       "      <th>Sex</th>\n",
       "      <th>Age</th>\n",
       "      <th>Frontal/Lateral</th>\n",
       "      <th>AP/PA</th>\n",
       "      <th>No Finding</th>\n",
       "      <th>Enlarged Cardiomediastinum</th>\n",
       "      <th>Cardiomegaly</th>\n",
       "      <th>Lung Opacity</th>\n",
       "      <th>Lung Lesion</th>\n",
       "      <th>Edema</th>\n",
       "      <th>Consolidation</th>\n",
       "      <th>Pneumonia</th>\n",
       "      <th>Atelectasis</th>\n",
       "      <th>Pneumothorax</th>\n",
       "      <th>Pleural Effusion</th>\n",
       "      <th>Pleural Other</th>\n",
       "      <th>Fracture</th>\n",
       "      <th>Support Devices</th>\n",
       "    </tr>\n",
       "  </thead>\n",
       "  <tbody>\n",
       "    <tr>\n",
       "      <th>0</th>\n",
       "      <td>CheXpert-v1.0/valid/patient64541/study1/view1_...</td>\n",
       "      <td>Male</td>\n",
       "      <td>73</td>\n",
       "      <td>Frontal</td>\n",
       "      <td>AP</td>\n",
       "      <td>0.0</td>\n",
       "      <td>1.0</td>\n",
       "      <td>1.0</td>\n",
       "      <td>1.0</td>\n",
       "      <td>0.0</td>\n",
       "      <td>0.0</td>\n",
       "      <td>0.0</td>\n",
       "      <td>0.0</td>\n",
       "      <td>0.0</td>\n",
       "      <td>0.0</td>\n",
       "      <td>0.0</td>\n",
       "      <td>0.0</td>\n",
       "      <td>0.0</td>\n",
       "      <td>0.0</td>\n",
       "    </tr>\n",
       "    <tr>\n",
       "      <th>1</th>\n",
       "      <td>CheXpert-v1.0/valid/patient64542/study1/view1_...</td>\n",
       "      <td>Male</td>\n",
       "      <td>70</td>\n",
       "      <td>Frontal</td>\n",
       "      <td>PA</td>\n",
       "      <td>0.0</td>\n",
       "      <td>0.0</td>\n",
       "      <td>0.0</td>\n",
       "      <td>0.0</td>\n",
       "      <td>0.0</td>\n",
       "      <td>0.0</td>\n",
       "      <td>0.0</td>\n",
       "      <td>0.0</td>\n",
       "      <td>0.0</td>\n",
       "      <td>0.0</td>\n",
       "      <td>0.0</td>\n",
       "      <td>0.0</td>\n",
       "      <td>0.0</td>\n",
       "      <td>1.0</td>\n",
       "    </tr>\n",
       "    <tr>\n",
       "      <th>2</th>\n",
       "      <td>CheXpert-v1.0/valid/patient64542/study1/view2_...</td>\n",
       "      <td>Male</td>\n",
       "      <td>70</td>\n",
       "      <td>Lateral</td>\n",
       "      <td>0</td>\n",
       "      <td>0.0</td>\n",
       "      <td>0.0</td>\n",
       "      <td>0.0</td>\n",
       "      <td>0.0</td>\n",
       "      <td>0.0</td>\n",
       "      <td>0.0</td>\n",
       "      <td>0.0</td>\n",
       "      <td>0.0</td>\n",
       "      <td>0.0</td>\n",
       "      <td>0.0</td>\n",
       "      <td>0.0</td>\n",
       "      <td>0.0</td>\n",
       "      <td>0.0</td>\n",
       "      <td>1.0</td>\n",
       "    </tr>\n",
       "    <tr>\n",
       "      <th>3</th>\n",
       "      <td>CheXpert-v1.0/valid/patient64543/study1/view1_...</td>\n",
       "      <td>Male</td>\n",
       "      <td>85</td>\n",
       "      <td>Frontal</td>\n",
       "      <td>AP</td>\n",
       "      <td>0.0</td>\n",
       "      <td>1.0</td>\n",
       "      <td>0.0</td>\n",
       "      <td>1.0</td>\n",
       "      <td>0.0</td>\n",
       "      <td>1.0</td>\n",
       "      <td>0.0</td>\n",
       "      <td>0.0</td>\n",
       "      <td>0.0</td>\n",
       "      <td>0.0</td>\n",
       "      <td>0.0</td>\n",
       "      <td>0.0</td>\n",
       "      <td>0.0</td>\n",
       "      <td>0.0</td>\n",
       "    </tr>\n",
       "    <tr>\n",
       "      <th>4</th>\n",
       "      <td>CheXpert-v1.0/valid/patient64544/study1/view1_...</td>\n",
       "      <td>Female</td>\n",
       "      <td>42</td>\n",
       "      <td>Frontal</td>\n",
       "      <td>AP</td>\n",
       "      <td>1.0</td>\n",
       "      <td>0.0</td>\n",
       "      <td>0.0</td>\n",
       "      <td>0.0</td>\n",
       "      <td>0.0</td>\n",
       "      <td>0.0</td>\n",
       "      <td>0.0</td>\n",
       "      <td>0.0</td>\n",
       "      <td>0.0</td>\n",
       "      <td>0.0</td>\n",
       "      <td>0.0</td>\n",
       "      <td>0.0</td>\n",
       "      <td>0.0</td>\n",
       "      <td>0.0</td>\n",
       "    </tr>\n",
       "    <tr>\n",
       "      <th>...</th>\n",
       "      <td>...</td>\n",
       "      <td>...</td>\n",
       "      <td>...</td>\n",
       "      <td>...</td>\n",
       "      <td>...</td>\n",
       "      <td>...</td>\n",
       "      <td>...</td>\n",
       "      <td>...</td>\n",
       "      <td>...</td>\n",
       "      <td>...</td>\n",
       "      <td>...</td>\n",
       "      <td>...</td>\n",
       "      <td>...</td>\n",
       "      <td>...</td>\n",
       "      <td>...</td>\n",
       "      <td>...</td>\n",
       "      <td>...</td>\n",
       "      <td>...</td>\n",
       "      <td>...</td>\n",
       "    </tr>\n",
       "    <tr>\n",
       "      <th>229</th>\n",
       "      <td>CheXpert-v1.0/valid/patient64736/study1/view1_...</td>\n",
       "      <td>Female</td>\n",
       "      <td>57</td>\n",
       "      <td>Frontal</td>\n",
       "      <td>AP</td>\n",
       "      <td>0.0</td>\n",
       "      <td>0.0</td>\n",
       "      <td>0.0</td>\n",
       "      <td>0.0</td>\n",
       "      <td>0.0</td>\n",
       "      <td>0.0</td>\n",
       "      <td>0.0</td>\n",
       "      <td>0.0</td>\n",
       "      <td>0.0</td>\n",
       "      <td>0.0</td>\n",
       "      <td>0.0</td>\n",
       "      <td>0.0</td>\n",
       "      <td>0.0</td>\n",
       "      <td>1.0</td>\n",
       "    </tr>\n",
       "    <tr>\n",
       "      <th>230</th>\n",
       "      <td>CheXpert-v1.0/valid/patient64737/study1/view1_...</td>\n",
       "      <td>Male</td>\n",
       "      <td>65</td>\n",
       "      <td>Frontal</td>\n",
       "      <td>AP</td>\n",
       "      <td>0.0</td>\n",
       "      <td>0.0</td>\n",
       "      <td>0.0</td>\n",
       "      <td>0.0</td>\n",
       "      <td>0.0</td>\n",
       "      <td>0.0</td>\n",
       "      <td>0.0</td>\n",
       "      <td>0.0</td>\n",
       "      <td>0.0</td>\n",
       "      <td>0.0</td>\n",
       "      <td>0.0</td>\n",
       "      <td>0.0</td>\n",
       "      <td>0.0</td>\n",
       "      <td>1.0</td>\n",
       "    </tr>\n",
       "    <tr>\n",
       "      <th>231</th>\n",
       "      <td>CheXpert-v1.0/valid/patient64738/study1/view1_...</td>\n",
       "      <td>Male</td>\n",
       "      <td>71</td>\n",
       "      <td>Frontal</td>\n",
       "      <td>AP</td>\n",
       "      <td>0.0</td>\n",
       "      <td>1.0</td>\n",
       "      <td>1.0</td>\n",
       "      <td>1.0</td>\n",
       "      <td>0.0</td>\n",
       "      <td>1.0</td>\n",
       "      <td>0.0</td>\n",
       "      <td>0.0</td>\n",
       "      <td>0.0</td>\n",
       "      <td>0.0</td>\n",
       "      <td>0.0</td>\n",
       "      <td>0.0</td>\n",
       "      <td>0.0</td>\n",
       "      <td>1.0</td>\n",
       "    </tr>\n",
       "    <tr>\n",
       "      <th>232</th>\n",
       "      <td>CheXpert-v1.0/valid/patient64739/study1/view1_...</td>\n",
       "      <td>Female</td>\n",
       "      <td>45</td>\n",
       "      <td>Frontal</td>\n",
       "      <td>AP</td>\n",
       "      <td>0.0</td>\n",
       "      <td>1.0</td>\n",
       "      <td>0.0</td>\n",
       "      <td>0.0</td>\n",
       "      <td>0.0</td>\n",
       "      <td>0.0</td>\n",
       "      <td>0.0</td>\n",
       "      <td>0.0</td>\n",
       "      <td>0.0</td>\n",
       "      <td>0.0</td>\n",
       "      <td>0.0</td>\n",
       "      <td>0.0</td>\n",
       "      <td>0.0</td>\n",
       "      <td>0.0</td>\n",
       "    </tr>\n",
       "    <tr>\n",
       "      <th>233</th>\n",
       "      <td>CheXpert-v1.0/valid/patient64740/study1/view1_...</td>\n",
       "      <td>Male</td>\n",
       "      <td>90</td>\n",
       "      <td>Frontal</td>\n",
       "      <td>AP</td>\n",
       "      <td>0.0</td>\n",
       "      <td>1.0</td>\n",
       "      <td>0.0</td>\n",
       "      <td>1.0</td>\n",
       "      <td>0.0</td>\n",
       "      <td>0.0</td>\n",
       "      <td>0.0</td>\n",
       "      <td>0.0</td>\n",
       "      <td>1.0</td>\n",
       "      <td>0.0</td>\n",
       "      <td>1.0</td>\n",
       "      <td>0.0</td>\n",
       "      <td>0.0</td>\n",
       "      <td>0.0</td>\n",
       "    </tr>\n",
       "  </tbody>\n",
       "</table>\n",
       "<p>234 rows × 19 columns</p>\n",
       "</div>"
      ],
      "text/plain": [
       "                                                  Path     Sex  Age  \\\n",
       "0    CheXpert-v1.0/valid/patient64541/study1/view1_...    Male   73   \n",
       "1    CheXpert-v1.0/valid/patient64542/study1/view1_...    Male   70   \n",
       "2    CheXpert-v1.0/valid/patient64542/study1/view2_...    Male   70   \n",
       "3    CheXpert-v1.0/valid/patient64543/study1/view1_...    Male   85   \n",
       "4    CheXpert-v1.0/valid/patient64544/study1/view1_...  Female   42   \n",
       "..                                                 ...     ...  ...   \n",
       "229  CheXpert-v1.0/valid/patient64736/study1/view1_...  Female   57   \n",
       "230  CheXpert-v1.0/valid/patient64737/study1/view1_...    Male   65   \n",
       "231  CheXpert-v1.0/valid/patient64738/study1/view1_...    Male   71   \n",
       "232  CheXpert-v1.0/valid/patient64739/study1/view1_...  Female   45   \n",
       "233  CheXpert-v1.0/valid/patient64740/study1/view1_...    Male   90   \n",
       "\n",
       "    Frontal/Lateral AP/PA  No Finding  Enlarged Cardiomediastinum  \\\n",
       "0           Frontal    AP         0.0                         1.0   \n",
       "1           Frontal    PA         0.0                         0.0   \n",
       "2           Lateral     0         0.0                         0.0   \n",
       "3           Frontal    AP         0.0                         1.0   \n",
       "4           Frontal    AP         1.0                         0.0   \n",
       "..              ...   ...         ...                         ...   \n",
       "229         Frontal    AP         0.0                         0.0   \n",
       "230         Frontal    AP         0.0                         0.0   \n",
       "231         Frontal    AP         0.0                         1.0   \n",
       "232         Frontal    AP         0.0                         1.0   \n",
       "233         Frontal    AP         0.0                         1.0   \n",
       "\n",
       "     Cardiomegaly  Lung Opacity  Lung Lesion  Edema  Consolidation  Pneumonia  \\\n",
       "0             1.0           1.0          0.0    0.0            0.0        0.0   \n",
       "1             0.0           0.0          0.0    0.0            0.0        0.0   \n",
       "2             0.0           0.0          0.0    0.0            0.0        0.0   \n",
       "3             0.0           1.0          0.0    1.0            0.0        0.0   \n",
       "4             0.0           0.0          0.0    0.0            0.0        0.0   \n",
       "..            ...           ...          ...    ...            ...        ...   \n",
       "229           0.0           0.0          0.0    0.0            0.0        0.0   \n",
       "230           0.0           0.0          0.0    0.0            0.0        0.0   \n",
       "231           1.0           1.0          0.0    1.0            0.0        0.0   \n",
       "232           0.0           0.0          0.0    0.0            0.0        0.0   \n",
       "233           0.0           1.0          0.0    0.0            0.0        0.0   \n",
       "\n",
       "     Atelectasis  Pneumothorax  Pleural Effusion  Pleural Other  Fracture  \\\n",
       "0            0.0           0.0               0.0            0.0       0.0   \n",
       "1            0.0           0.0               0.0            0.0       0.0   \n",
       "2            0.0           0.0               0.0            0.0       0.0   \n",
       "3            0.0           0.0               0.0            0.0       0.0   \n",
       "4            0.0           0.0               0.0            0.0       0.0   \n",
       "..           ...           ...               ...            ...       ...   \n",
       "229          0.0           0.0               0.0            0.0       0.0   \n",
       "230          0.0           0.0               0.0            0.0       0.0   \n",
       "231          0.0           0.0               0.0            0.0       0.0   \n",
       "232          0.0           0.0               0.0            0.0       0.0   \n",
       "233          1.0           0.0               1.0            0.0       0.0   \n",
       "\n",
       "     Support Devices  \n",
       "0                0.0  \n",
       "1                1.0  \n",
       "2                1.0  \n",
       "3                0.0  \n",
       "4                0.0  \n",
       "..               ...  \n",
       "229              1.0  \n",
       "230              1.0  \n",
       "231              1.0  \n",
       "232              0.0  \n",
       "233              0.0  \n",
       "\n",
       "[234 rows x 19 columns]"
      ]
     },
     "execution_count": 33,
     "metadata": {},
     "output_type": "execute_result"
    }
   ],
   "source": [
    "test_df"
   ]
  },
  {
   "cell_type": "code",
   "execution_count": 34,
   "id": "ce64e079",
   "metadata": {},
   "outputs": [],
   "source": [
    "train_df = train_df.replace(-1, 0)"
   ]
  },
  {
   "cell_type": "code",
   "execution_count": 35,
   "id": "354ea486",
   "metadata": {
    "scrolled": true
   },
   "outputs": [
    {
     "data": {
      "text/html": [
       "<div>\n",
       "<style scoped>\n",
       "    .dataframe tbody tr th:only-of-type {\n",
       "        vertical-align: middle;\n",
       "    }\n",
       "\n",
       "    .dataframe tbody tr th {\n",
       "        vertical-align: top;\n",
       "    }\n",
       "\n",
       "    .dataframe thead th {\n",
       "        text-align: right;\n",
       "    }\n",
       "</style>\n",
       "<table border=\"1\" class=\"dataframe\">\n",
       "  <thead>\n",
       "    <tr style=\"text-align: right;\">\n",
       "      <th></th>\n",
       "      <th>Path</th>\n",
       "      <th>Sex</th>\n",
       "      <th>Age</th>\n",
       "      <th>Frontal/Lateral</th>\n",
       "      <th>AP/PA</th>\n",
       "      <th>No Finding</th>\n",
       "      <th>Enlarged Cardiomediastinum</th>\n",
       "      <th>Cardiomegaly</th>\n",
       "      <th>Lung Opacity</th>\n",
       "      <th>Lung Lesion</th>\n",
       "      <th>Edema</th>\n",
       "      <th>Consolidation</th>\n",
       "      <th>Pneumonia</th>\n",
       "      <th>Atelectasis</th>\n",
       "      <th>Pneumothorax</th>\n",
       "      <th>Pleural Effusion</th>\n",
       "      <th>Pleural Other</th>\n",
       "      <th>Fracture</th>\n",
       "      <th>Support Devices</th>\n",
       "    </tr>\n",
       "  </thead>\n",
       "  <tbody>\n",
       "    <tr>\n",
       "      <th>147955</th>\n",
       "      <td>CheXpert-v1.0/train/patient35203/study28/view1...</td>\n",
       "      <td>Male</td>\n",
       "      <td>66</td>\n",
       "      <td>Frontal</td>\n",
       "      <td>AP</td>\n",
       "      <td>0.0</td>\n",
       "      <td>1.0</td>\n",
       "      <td>0.0</td>\n",
       "      <td>1.0</td>\n",
       "      <td>0.0</td>\n",
       "      <td>0.0</td>\n",
       "      <td>0.0</td>\n",
       "      <td>0.0</td>\n",
       "      <td>0.0</td>\n",
       "      <td>0.0</td>\n",
       "      <td>1.0</td>\n",
       "      <td>0.0</td>\n",
       "      <td>0.0</td>\n",
       "      <td>1.0</td>\n",
       "    </tr>\n",
       "    <tr>\n",
       "      <th>163338</th>\n",
       "      <td>CheXpert-v1.0/train/patient38124/study5/view1_...</td>\n",
       "      <td>Male</td>\n",
       "      <td>59</td>\n",
       "      <td>Frontal</td>\n",
       "      <td>AP</td>\n",
       "      <td>0.0</td>\n",
       "      <td>0.0</td>\n",
       "      <td>0.0</td>\n",
       "      <td>0.0</td>\n",
       "      <td>0.0</td>\n",
       "      <td>0.0</td>\n",
       "      <td>0.0</td>\n",
       "      <td>0.0</td>\n",
       "      <td>0.0</td>\n",
       "      <td>0.0</td>\n",
       "      <td>1.0</td>\n",
       "      <td>0.0</td>\n",
       "      <td>1.0</td>\n",
       "      <td>1.0</td>\n",
       "    </tr>\n",
       "    <tr>\n",
       "      <th>69480</th>\n",
       "      <td>CheXpert-v1.0/train/patient16628/study1/view2_...</td>\n",
       "      <td>Male</td>\n",
       "      <td>27</td>\n",
       "      <td>Frontal</td>\n",
       "      <td>PA</td>\n",
       "      <td>0.0</td>\n",
       "      <td>0.0</td>\n",
       "      <td>0.0</td>\n",
       "      <td>0.0</td>\n",
       "      <td>0.0</td>\n",
       "      <td>0.0</td>\n",
       "      <td>0.0</td>\n",
       "      <td>0.0</td>\n",
       "      <td>0.0</td>\n",
       "      <td>0.0</td>\n",
       "      <td>0.0</td>\n",
       "      <td>0.0</td>\n",
       "      <td>1.0</td>\n",
       "      <td>0.0</td>\n",
       "    </tr>\n",
       "    <tr>\n",
       "      <th>25205</th>\n",
       "      <td>CheXpert-v1.0/train/patient06161/study2/view1_...</td>\n",
       "      <td>Male</td>\n",
       "      <td>61</td>\n",
       "      <td>Frontal</td>\n",
       "      <td>AP</td>\n",
       "      <td>0.0</td>\n",
       "      <td>0.0</td>\n",
       "      <td>1.0</td>\n",
       "      <td>1.0</td>\n",
       "      <td>0.0</td>\n",
       "      <td>0.0</td>\n",
       "      <td>0.0</td>\n",
       "      <td>0.0</td>\n",
       "      <td>0.0</td>\n",
       "      <td>0.0</td>\n",
       "      <td>0.0</td>\n",
       "      <td>0.0</td>\n",
       "      <td>0.0</td>\n",
       "      <td>0.0</td>\n",
       "    </tr>\n",
       "    <tr>\n",
       "      <th>98537</th>\n",
       "      <td>CheXpert-v1.0/train/patient23744/study17/view2...</td>\n",
       "      <td>Female</td>\n",
       "      <td>62</td>\n",
       "      <td>Lateral</td>\n",
       "      <td>0</td>\n",
       "      <td>0.0</td>\n",
       "      <td>0.0</td>\n",
       "      <td>1.0</td>\n",
       "      <td>0.0</td>\n",
       "      <td>0.0</td>\n",
       "      <td>1.0</td>\n",
       "      <td>0.0</td>\n",
       "      <td>0.0</td>\n",
       "      <td>0.0</td>\n",
       "      <td>0.0</td>\n",
       "      <td>1.0</td>\n",
       "      <td>0.0</td>\n",
       "      <td>0.0</td>\n",
       "      <td>1.0</td>\n",
       "    </tr>\n",
       "    <tr>\n",
       "      <th>...</th>\n",
       "      <td>...</td>\n",
       "      <td>...</td>\n",
       "      <td>...</td>\n",
       "      <td>...</td>\n",
       "      <td>...</td>\n",
       "      <td>...</td>\n",
       "      <td>...</td>\n",
       "      <td>...</td>\n",
       "      <td>...</td>\n",
       "      <td>...</td>\n",
       "      <td>...</td>\n",
       "      <td>...</td>\n",
       "      <td>...</td>\n",
       "      <td>...</td>\n",
       "      <td>...</td>\n",
       "      <td>...</td>\n",
       "      <td>...</td>\n",
       "      <td>...</td>\n",
       "      <td>...</td>\n",
       "    </tr>\n",
       "    <tr>\n",
       "      <th>62239</th>\n",
       "      <td>CheXpert-v1.0/train/patient15019/study1/view1_...</td>\n",
       "      <td>Female</td>\n",
       "      <td>85</td>\n",
       "      <td>Frontal</td>\n",
       "      <td>PA</td>\n",
       "      <td>0.0</td>\n",
       "      <td>0.0</td>\n",
       "      <td>0.0</td>\n",
       "      <td>0.0</td>\n",
       "      <td>0.0</td>\n",
       "      <td>0.0</td>\n",
       "      <td>0.0</td>\n",
       "      <td>0.0</td>\n",
       "      <td>0.0</td>\n",
       "      <td>0.0</td>\n",
       "      <td>0.0</td>\n",
       "      <td>0.0</td>\n",
       "      <td>0.0</td>\n",
       "      <td>0.0</td>\n",
       "    </tr>\n",
       "    <tr>\n",
       "      <th>152127</th>\n",
       "      <td>CheXpert-v1.0/train/patient35905/study3/view1_...</td>\n",
       "      <td>Female</td>\n",
       "      <td>45</td>\n",
       "      <td>Frontal</td>\n",
       "      <td>AP</td>\n",
       "      <td>0.0</td>\n",
       "      <td>0.0</td>\n",
       "      <td>0.0</td>\n",
       "      <td>1.0</td>\n",
       "      <td>0.0</td>\n",
       "      <td>0.0</td>\n",
       "      <td>0.0</td>\n",
       "      <td>0.0</td>\n",
       "      <td>0.0</td>\n",
       "      <td>0.0</td>\n",
       "      <td>0.0</td>\n",
       "      <td>0.0</td>\n",
       "      <td>0.0</td>\n",
       "      <td>1.0</td>\n",
       "    </tr>\n",
       "    <tr>\n",
       "      <th>119174</th>\n",
       "      <td>CheXpert-v1.0/train/patient28559/study1/view3_...</td>\n",
       "      <td>Female</td>\n",
       "      <td>57</td>\n",
       "      <td>Lateral</td>\n",
       "      <td>0</td>\n",
       "      <td>0.0</td>\n",
       "      <td>0.0</td>\n",
       "      <td>0.0</td>\n",
       "      <td>0.0</td>\n",
       "      <td>0.0</td>\n",
       "      <td>0.0</td>\n",
       "      <td>0.0</td>\n",
       "      <td>0.0</td>\n",
       "      <td>0.0</td>\n",
       "      <td>0.0</td>\n",
       "      <td>0.0</td>\n",
       "      <td>0.0</td>\n",
       "      <td>0.0</td>\n",
       "      <td>0.0</td>\n",
       "    </tr>\n",
       "    <tr>\n",
       "      <th>193608</th>\n",
       "      <td>CheXpert-v1.0/train/patient46927/study1/view1_...</td>\n",
       "      <td>Male</td>\n",
       "      <td>46</td>\n",
       "      <td>Frontal</td>\n",
       "      <td>AP</td>\n",
       "      <td>0.0</td>\n",
       "      <td>0.0</td>\n",
       "      <td>0.0</td>\n",
       "      <td>0.0</td>\n",
       "      <td>0.0</td>\n",
       "      <td>1.0</td>\n",
       "      <td>0.0</td>\n",
       "      <td>1.0</td>\n",
       "      <td>0.0</td>\n",
       "      <td>0.0</td>\n",
       "      <td>0.0</td>\n",
       "      <td>0.0</td>\n",
       "      <td>0.0</td>\n",
       "      <td>1.0</td>\n",
       "    </tr>\n",
       "    <tr>\n",
       "      <th>142257</th>\n",
       "      <td>CheXpert-v1.0/train/patient34197/study4/view2_...</td>\n",
       "      <td>Male</td>\n",
       "      <td>64</td>\n",
       "      <td>Lateral</td>\n",
       "      <td>0</td>\n",
       "      <td>0.0</td>\n",
       "      <td>0.0</td>\n",
       "      <td>0.0</td>\n",
       "      <td>0.0</td>\n",
       "      <td>0.0</td>\n",
       "      <td>0.0</td>\n",
       "      <td>0.0</td>\n",
       "      <td>0.0</td>\n",
       "      <td>0.0</td>\n",
       "      <td>0.0</td>\n",
       "      <td>1.0</td>\n",
       "      <td>0.0</td>\n",
       "      <td>0.0</td>\n",
       "      <td>0.0</td>\n",
       "    </tr>\n",
       "  </tbody>\n",
       "</table>\n",
       "<p>178731 rows × 19 columns</p>\n",
       "</div>"
      ],
      "text/plain": [
       "                                                     Path     Sex  Age  \\\n",
       "147955  CheXpert-v1.0/train/patient35203/study28/view1...    Male   66   \n",
       "163338  CheXpert-v1.0/train/patient38124/study5/view1_...    Male   59   \n",
       "69480   CheXpert-v1.0/train/patient16628/study1/view2_...    Male   27   \n",
       "25205   CheXpert-v1.0/train/patient06161/study2/view1_...    Male   61   \n",
       "98537   CheXpert-v1.0/train/patient23744/study17/view2...  Female   62   \n",
       "...                                                   ...     ...  ...   \n",
       "62239   CheXpert-v1.0/train/patient15019/study1/view1_...  Female   85   \n",
       "152127  CheXpert-v1.0/train/patient35905/study3/view1_...  Female   45   \n",
       "119174  CheXpert-v1.0/train/patient28559/study1/view3_...  Female   57   \n",
       "193608  CheXpert-v1.0/train/patient46927/study1/view1_...    Male   46   \n",
       "142257  CheXpert-v1.0/train/patient34197/study4/view2_...    Male   64   \n",
       "\n",
       "       Frontal/Lateral AP/PA  No Finding  Enlarged Cardiomediastinum  \\\n",
       "147955         Frontal    AP         0.0                         1.0   \n",
       "163338         Frontal    AP         0.0                         0.0   \n",
       "69480          Frontal    PA         0.0                         0.0   \n",
       "25205          Frontal    AP         0.0                         0.0   \n",
       "98537          Lateral     0         0.0                         0.0   \n",
       "...                ...   ...         ...                         ...   \n",
       "62239          Frontal    PA         0.0                         0.0   \n",
       "152127         Frontal    AP         0.0                         0.0   \n",
       "119174         Lateral     0         0.0                         0.0   \n",
       "193608         Frontal    AP         0.0                         0.0   \n",
       "142257         Lateral     0         0.0                         0.0   \n",
       "\n",
       "        Cardiomegaly  Lung Opacity  Lung Lesion  Edema  Consolidation  \\\n",
       "147955           0.0           1.0          0.0    0.0            0.0   \n",
       "163338           0.0           0.0          0.0    0.0            0.0   \n",
       "69480            0.0           0.0          0.0    0.0            0.0   \n",
       "25205            1.0           1.0          0.0    0.0            0.0   \n",
       "98537            1.0           0.0          0.0    1.0            0.0   \n",
       "...              ...           ...          ...    ...            ...   \n",
       "62239            0.0           0.0          0.0    0.0            0.0   \n",
       "152127           0.0           1.0          0.0    0.0            0.0   \n",
       "119174           0.0           0.0          0.0    0.0            0.0   \n",
       "193608           0.0           0.0          0.0    1.0            0.0   \n",
       "142257           0.0           0.0          0.0    0.0            0.0   \n",
       "\n",
       "        Pneumonia  Atelectasis  Pneumothorax  Pleural Effusion  Pleural Other  \\\n",
       "147955        0.0          0.0           0.0               1.0            0.0   \n",
       "163338        0.0          0.0           0.0               1.0            0.0   \n",
       "69480         0.0          0.0           0.0               0.0            0.0   \n",
       "25205         0.0          0.0           0.0               0.0            0.0   \n",
       "98537         0.0          0.0           0.0               1.0            0.0   \n",
       "...           ...          ...           ...               ...            ...   \n",
       "62239         0.0          0.0           0.0               0.0            0.0   \n",
       "152127        0.0          0.0           0.0               0.0            0.0   \n",
       "119174        0.0          0.0           0.0               0.0            0.0   \n",
       "193608        1.0          0.0           0.0               0.0            0.0   \n",
       "142257        0.0          0.0           0.0               1.0            0.0   \n",
       "\n",
       "        Fracture  Support Devices  \n",
       "147955       0.0              1.0  \n",
       "163338       1.0              1.0  \n",
       "69480        1.0              0.0  \n",
       "25205        0.0              0.0  \n",
       "98537        0.0              1.0  \n",
       "...          ...              ...  \n",
       "62239        0.0              0.0  \n",
       "152127       0.0              1.0  \n",
       "119174       0.0              0.0  \n",
       "193608       0.0              1.0  \n",
       "142257       0.0              0.0  \n",
       "\n",
       "[178731 rows x 19 columns]"
      ]
     },
     "execution_count": 35,
     "metadata": {},
     "output_type": "execute_result"
    }
   ],
   "source": [
    "train_df"
   ]
  },
  {
   "cell_type": "code",
   "execution_count": 36,
   "id": "cc57f618",
   "metadata": {},
   "outputs": [],
   "source": [
    "validation_df = validation_df.replace(-1, 0)"
   ]
  },
  {
   "cell_type": "code",
   "execution_count": 37,
   "id": "fc9f8e1e",
   "metadata": {},
   "outputs": [
    {
     "data": {
      "text/html": [
       "<div>\n",
       "<style scoped>\n",
       "    .dataframe tbody tr th:only-of-type {\n",
       "        vertical-align: middle;\n",
       "    }\n",
       "\n",
       "    .dataframe tbody tr th {\n",
       "        vertical-align: top;\n",
       "    }\n",
       "\n",
       "    .dataframe thead th {\n",
       "        text-align: right;\n",
       "    }\n",
       "</style>\n",
       "<table border=\"1\" class=\"dataframe\">\n",
       "  <thead>\n",
       "    <tr style=\"text-align: right;\">\n",
       "      <th></th>\n",
       "      <th>Path</th>\n",
       "      <th>Sex</th>\n",
       "      <th>Age</th>\n",
       "      <th>Frontal/Lateral</th>\n",
       "      <th>AP/PA</th>\n",
       "      <th>No Finding</th>\n",
       "      <th>Enlarged Cardiomediastinum</th>\n",
       "      <th>Cardiomegaly</th>\n",
       "      <th>Lung Opacity</th>\n",
       "      <th>Lung Lesion</th>\n",
       "      <th>Edema</th>\n",
       "      <th>Consolidation</th>\n",
       "      <th>Pneumonia</th>\n",
       "      <th>Atelectasis</th>\n",
       "      <th>Pneumothorax</th>\n",
       "      <th>Pleural Effusion</th>\n",
       "      <th>Pleural Other</th>\n",
       "      <th>Fracture</th>\n",
       "      <th>Support Devices</th>\n",
       "    </tr>\n",
       "  </thead>\n",
       "  <tbody>\n",
       "    <tr>\n",
       "      <th>67305</th>\n",
       "      <td>CheXpert-v1.0/train/patient16169/study2/view2_...</td>\n",
       "      <td>Male</td>\n",
       "      <td>62</td>\n",
       "      <td>Frontal</td>\n",
       "      <td>AP</td>\n",
       "      <td>0.0</td>\n",
       "      <td>0.0</td>\n",
       "      <td>0.0</td>\n",
       "      <td>0.0</td>\n",
       "      <td>0.0</td>\n",
       "      <td>1.0</td>\n",
       "      <td>0.0</td>\n",
       "      <td>0.0</td>\n",
       "      <td>0.0</td>\n",
       "      <td>0.0</td>\n",
       "      <td>1.0</td>\n",
       "      <td>0.0</td>\n",
       "      <td>0.0</td>\n",
       "      <td>1.0</td>\n",
       "    </tr>\n",
       "    <tr>\n",
       "      <th>158250</th>\n",
       "      <td>CheXpert-v1.0/train/patient37045/study7/view1_...</td>\n",
       "      <td>Female</td>\n",
       "      <td>69</td>\n",
       "      <td>Frontal</td>\n",
       "      <td>AP</td>\n",
       "      <td>0.0</td>\n",
       "      <td>0.0</td>\n",
       "      <td>0.0</td>\n",
       "      <td>1.0</td>\n",
       "      <td>0.0</td>\n",
       "      <td>0.0</td>\n",
       "      <td>0.0</td>\n",
       "      <td>0.0</td>\n",
       "      <td>0.0</td>\n",
       "      <td>0.0</td>\n",
       "      <td>1.0</td>\n",
       "      <td>0.0</td>\n",
       "      <td>0.0</td>\n",
       "      <td>1.0</td>\n",
       "    </tr>\n",
       "    <tr>\n",
       "      <th>51315</th>\n",
       "      <td>CheXpert-v1.0/train/patient12490/study12/view1...</td>\n",
       "      <td>Male</td>\n",
       "      <td>51</td>\n",
       "      <td>Frontal</td>\n",
       "      <td>AP</td>\n",
       "      <td>0.0</td>\n",
       "      <td>0.0</td>\n",
       "      <td>0.0</td>\n",
       "      <td>1.0</td>\n",
       "      <td>0.0</td>\n",
       "      <td>0.0</td>\n",
       "      <td>0.0</td>\n",
       "      <td>0.0</td>\n",
       "      <td>0.0</td>\n",
       "      <td>0.0</td>\n",
       "      <td>1.0</td>\n",
       "      <td>0.0</td>\n",
       "      <td>0.0</td>\n",
       "      <td>0.0</td>\n",
       "    </tr>\n",
       "    <tr>\n",
       "      <th>204270</th>\n",
       "      <td>CheXpert-v1.0/train/patient51556/study7/view1_...</td>\n",
       "      <td>Female</td>\n",
       "      <td>68</td>\n",
       "      <td>Frontal</td>\n",
       "      <td>AP</td>\n",
       "      <td>0.0</td>\n",
       "      <td>0.0</td>\n",
       "      <td>0.0</td>\n",
       "      <td>1.0</td>\n",
       "      <td>0.0</td>\n",
       "      <td>0.0</td>\n",
       "      <td>0.0</td>\n",
       "      <td>0.0</td>\n",
       "      <td>0.0</td>\n",
       "      <td>0.0</td>\n",
       "      <td>1.0</td>\n",
       "      <td>0.0</td>\n",
       "      <td>0.0</td>\n",
       "      <td>1.0</td>\n",
       "    </tr>\n",
       "    <tr>\n",
       "      <th>71280</th>\n",
       "      <td>CheXpert-v1.0/train/patient17091/study1/view1_...</td>\n",
       "      <td>Male</td>\n",
       "      <td>32</td>\n",
       "      <td>Frontal</td>\n",
       "      <td>PA</td>\n",
       "      <td>0.0</td>\n",
       "      <td>0.0</td>\n",
       "      <td>0.0</td>\n",
       "      <td>1.0</td>\n",
       "      <td>0.0</td>\n",
       "      <td>0.0</td>\n",
       "      <td>0.0</td>\n",
       "      <td>0.0</td>\n",
       "      <td>0.0</td>\n",
       "      <td>0.0</td>\n",
       "      <td>0.0</td>\n",
       "      <td>0.0</td>\n",
       "      <td>0.0</td>\n",
       "      <td>0.0</td>\n",
       "    </tr>\n",
       "    <tr>\n",
       "      <th>...</th>\n",
       "      <td>...</td>\n",
       "      <td>...</td>\n",
       "      <td>...</td>\n",
       "      <td>...</td>\n",
       "      <td>...</td>\n",
       "      <td>...</td>\n",
       "      <td>...</td>\n",
       "      <td>...</td>\n",
       "      <td>...</td>\n",
       "      <td>...</td>\n",
       "      <td>...</td>\n",
       "      <td>...</td>\n",
       "      <td>...</td>\n",
       "      <td>...</td>\n",
       "      <td>...</td>\n",
       "      <td>...</td>\n",
       "      <td>...</td>\n",
       "      <td>...</td>\n",
       "      <td>...</td>\n",
       "    </tr>\n",
       "    <tr>\n",
       "      <th>84611</th>\n",
       "      <td>CheXpert-v1.0/train/patient20333/study4/view1_...</td>\n",
       "      <td>Male</td>\n",
       "      <td>58</td>\n",
       "      <td>Frontal</td>\n",
       "      <td>AP</td>\n",
       "      <td>0.0</td>\n",
       "      <td>1.0</td>\n",
       "      <td>0.0</td>\n",
       "      <td>0.0</td>\n",
       "      <td>0.0</td>\n",
       "      <td>0.0</td>\n",
       "      <td>0.0</td>\n",
       "      <td>0.0</td>\n",
       "      <td>0.0</td>\n",
       "      <td>0.0</td>\n",
       "      <td>1.0</td>\n",
       "      <td>0.0</td>\n",
       "      <td>0.0</td>\n",
       "      <td>1.0</td>\n",
       "    </tr>\n",
       "    <tr>\n",
       "      <th>168690</th>\n",
       "      <td>CheXpert-v1.0/train/patient39344/study11/view1...</td>\n",
       "      <td>Female</td>\n",
       "      <td>67</td>\n",
       "      <td>Frontal</td>\n",
       "      <td>AP</td>\n",
       "      <td>0.0</td>\n",
       "      <td>0.0</td>\n",
       "      <td>0.0</td>\n",
       "      <td>1.0</td>\n",
       "      <td>0.0</td>\n",
       "      <td>0.0</td>\n",
       "      <td>0.0</td>\n",
       "      <td>0.0</td>\n",
       "      <td>0.0</td>\n",
       "      <td>0.0</td>\n",
       "      <td>1.0</td>\n",
       "      <td>0.0</td>\n",
       "      <td>0.0</td>\n",
       "      <td>1.0</td>\n",
       "    </tr>\n",
       "    <tr>\n",
       "      <th>166829</th>\n",
       "      <td>CheXpert-v1.0/train/patient38931/study1/view1_...</td>\n",
       "      <td>Female</td>\n",
       "      <td>83</td>\n",
       "      <td>Frontal</td>\n",
       "      <td>AP</td>\n",
       "      <td>0.0</td>\n",
       "      <td>1.0</td>\n",
       "      <td>1.0</td>\n",
       "      <td>1.0</td>\n",
       "      <td>0.0</td>\n",
       "      <td>0.0</td>\n",
       "      <td>0.0</td>\n",
       "      <td>0.0</td>\n",
       "      <td>0.0</td>\n",
       "      <td>0.0</td>\n",
       "      <td>1.0</td>\n",
       "      <td>0.0</td>\n",
       "      <td>0.0</td>\n",
       "      <td>0.0</td>\n",
       "    </tr>\n",
       "    <tr>\n",
       "      <th>184236</th>\n",
       "      <td>CheXpert-v1.0/train/patient43600/study1/view1_...</td>\n",
       "      <td>Male</td>\n",
       "      <td>82</td>\n",
       "      <td>Frontal</td>\n",
       "      <td>AP</td>\n",
       "      <td>0.0</td>\n",
       "      <td>0.0</td>\n",
       "      <td>0.0</td>\n",
       "      <td>0.0</td>\n",
       "      <td>0.0</td>\n",
       "      <td>0.0</td>\n",
       "      <td>0.0</td>\n",
       "      <td>0.0</td>\n",
       "      <td>1.0</td>\n",
       "      <td>0.0</td>\n",
       "      <td>0.0</td>\n",
       "      <td>0.0</td>\n",
       "      <td>0.0</td>\n",
       "      <td>1.0</td>\n",
       "    </tr>\n",
       "    <tr>\n",
       "      <th>189045</th>\n",
       "      <td>CheXpert-v1.0/train/patient45159/study2/view1_...</td>\n",
       "      <td>Male</td>\n",
       "      <td>60</td>\n",
       "      <td>Frontal</td>\n",
       "      <td>AP</td>\n",
       "      <td>0.0</td>\n",
       "      <td>0.0</td>\n",
       "      <td>0.0</td>\n",
       "      <td>0.0</td>\n",
       "      <td>0.0</td>\n",
       "      <td>0.0</td>\n",
       "      <td>1.0</td>\n",
       "      <td>0.0</td>\n",
       "      <td>0.0</td>\n",
       "      <td>1.0</td>\n",
       "      <td>1.0</td>\n",
       "      <td>0.0</td>\n",
       "      <td>0.0</td>\n",
       "      <td>0.0</td>\n",
       "    </tr>\n",
       "  </tbody>\n",
       "</table>\n",
       "<p>44683 rows × 19 columns</p>\n",
       "</div>"
      ],
      "text/plain": [
       "                                                     Path     Sex  Age  \\\n",
       "67305   CheXpert-v1.0/train/patient16169/study2/view2_...    Male   62   \n",
       "158250  CheXpert-v1.0/train/patient37045/study7/view1_...  Female   69   \n",
       "51315   CheXpert-v1.0/train/patient12490/study12/view1...    Male   51   \n",
       "204270  CheXpert-v1.0/train/patient51556/study7/view1_...  Female   68   \n",
       "71280   CheXpert-v1.0/train/patient17091/study1/view1_...    Male   32   \n",
       "...                                                   ...     ...  ...   \n",
       "84611   CheXpert-v1.0/train/patient20333/study4/view1_...    Male   58   \n",
       "168690  CheXpert-v1.0/train/patient39344/study11/view1...  Female   67   \n",
       "166829  CheXpert-v1.0/train/patient38931/study1/view1_...  Female   83   \n",
       "184236  CheXpert-v1.0/train/patient43600/study1/view1_...    Male   82   \n",
       "189045  CheXpert-v1.0/train/patient45159/study2/view1_...    Male   60   \n",
       "\n",
       "       Frontal/Lateral AP/PA  No Finding  Enlarged Cardiomediastinum  \\\n",
       "67305          Frontal    AP         0.0                         0.0   \n",
       "158250         Frontal    AP         0.0                         0.0   \n",
       "51315          Frontal    AP         0.0                         0.0   \n",
       "204270         Frontal    AP         0.0                         0.0   \n",
       "71280          Frontal    PA         0.0                         0.0   \n",
       "...                ...   ...         ...                         ...   \n",
       "84611          Frontal    AP         0.0                         1.0   \n",
       "168690         Frontal    AP         0.0                         0.0   \n",
       "166829         Frontal    AP         0.0                         1.0   \n",
       "184236         Frontal    AP         0.0                         0.0   \n",
       "189045         Frontal    AP         0.0                         0.0   \n",
       "\n",
       "        Cardiomegaly  Lung Opacity  Lung Lesion  Edema  Consolidation  \\\n",
       "67305            0.0           0.0          0.0    1.0            0.0   \n",
       "158250           0.0           1.0          0.0    0.0            0.0   \n",
       "51315            0.0           1.0          0.0    0.0            0.0   \n",
       "204270           0.0           1.0          0.0    0.0            0.0   \n",
       "71280            0.0           1.0          0.0    0.0            0.0   \n",
       "...              ...           ...          ...    ...            ...   \n",
       "84611            0.0           0.0          0.0    0.0            0.0   \n",
       "168690           0.0           1.0          0.0    0.0            0.0   \n",
       "166829           1.0           1.0          0.0    0.0            0.0   \n",
       "184236           0.0           0.0          0.0    0.0            0.0   \n",
       "189045           0.0           0.0          0.0    0.0            1.0   \n",
       "\n",
       "        Pneumonia  Atelectasis  Pneumothorax  Pleural Effusion  Pleural Other  \\\n",
       "67305         0.0          0.0           0.0               1.0            0.0   \n",
       "158250        0.0          0.0           0.0               1.0            0.0   \n",
       "51315         0.0          0.0           0.0               1.0            0.0   \n",
       "204270        0.0          0.0           0.0               1.0            0.0   \n",
       "71280         0.0          0.0           0.0               0.0            0.0   \n",
       "...           ...          ...           ...               ...            ...   \n",
       "84611         0.0          0.0           0.0               1.0            0.0   \n",
       "168690        0.0          0.0           0.0               1.0            0.0   \n",
       "166829        0.0          0.0           0.0               1.0            0.0   \n",
       "184236        0.0          1.0           0.0               0.0            0.0   \n",
       "189045        0.0          0.0           1.0               1.0            0.0   \n",
       "\n",
       "        Fracture  Support Devices  \n",
       "67305        0.0              1.0  \n",
       "158250       0.0              1.0  \n",
       "51315        0.0              0.0  \n",
       "204270       0.0              1.0  \n",
       "71280        0.0              0.0  \n",
       "...          ...              ...  \n",
       "84611        0.0              1.0  \n",
       "168690       0.0              1.0  \n",
       "166829       0.0              0.0  \n",
       "184236       0.0              1.0  \n",
       "189045       0.0              0.0  \n",
       "\n",
       "[44683 rows x 19 columns]"
      ]
     },
     "execution_count": 37,
     "metadata": {},
     "output_type": "execute_result"
    }
   ],
   "source": [
    "validation_df"
   ]
  },
  {
   "cell_type": "code",
   "execution_count": 38,
   "id": "061713fb",
   "metadata": {},
   "outputs": [],
   "source": [
    "test_df = test_df.replace(-1, 0)"
   ]
  },
  {
   "cell_type": "code",
   "execution_count": 39,
   "id": "d304afc8",
   "metadata": {},
   "outputs": [
    {
     "data": {
      "text/html": [
       "<div>\n",
       "<style scoped>\n",
       "    .dataframe tbody tr th:only-of-type {\n",
       "        vertical-align: middle;\n",
       "    }\n",
       "\n",
       "    .dataframe tbody tr th {\n",
       "        vertical-align: top;\n",
       "    }\n",
       "\n",
       "    .dataframe thead th {\n",
       "        text-align: right;\n",
       "    }\n",
       "</style>\n",
       "<table border=\"1\" class=\"dataframe\">\n",
       "  <thead>\n",
       "    <tr style=\"text-align: right;\">\n",
       "      <th></th>\n",
       "      <th>Path</th>\n",
       "      <th>Sex</th>\n",
       "      <th>Age</th>\n",
       "      <th>Frontal/Lateral</th>\n",
       "      <th>AP/PA</th>\n",
       "      <th>No Finding</th>\n",
       "      <th>Enlarged Cardiomediastinum</th>\n",
       "      <th>Cardiomegaly</th>\n",
       "      <th>Lung Opacity</th>\n",
       "      <th>Lung Lesion</th>\n",
       "      <th>Edema</th>\n",
       "      <th>Consolidation</th>\n",
       "      <th>Pneumonia</th>\n",
       "      <th>Atelectasis</th>\n",
       "      <th>Pneumothorax</th>\n",
       "      <th>Pleural Effusion</th>\n",
       "      <th>Pleural Other</th>\n",
       "      <th>Fracture</th>\n",
       "      <th>Support Devices</th>\n",
       "    </tr>\n",
       "  </thead>\n",
       "  <tbody>\n",
       "    <tr>\n",
       "      <th>0</th>\n",
       "      <td>CheXpert-v1.0/valid/patient64541/study1/view1_...</td>\n",
       "      <td>Male</td>\n",
       "      <td>73</td>\n",
       "      <td>Frontal</td>\n",
       "      <td>AP</td>\n",
       "      <td>0.0</td>\n",
       "      <td>1.0</td>\n",
       "      <td>1.0</td>\n",
       "      <td>1.0</td>\n",
       "      <td>0.0</td>\n",
       "      <td>0.0</td>\n",
       "      <td>0.0</td>\n",
       "      <td>0.0</td>\n",
       "      <td>0.0</td>\n",
       "      <td>0.0</td>\n",
       "      <td>0.0</td>\n",
       "      <td>0.0</td>\n",
       "      <td>0.0</td>\n",
       "      <td>0.0</td>\n",
       "    </tr>\n",
       "    <tr>\n",
       "      <th>1</th>\n",
       "      <td>CheXpert-v1.0/valid/patient64542/study1/view1_...</td>\n",
       "      <td>Male</td>\n",
       "      <td>70</td>\n",
       "      <td>Frontal</td>\n",
       "      <td>PA</td>\n",
       "      <td>0.0</td>\n",
       "      <td>0.0</td>\n",
       "      <td>0.0</td>\n",
       "      <td>0.0</td>\n",
       "      <td>0.0</td>\n",
       "      <td>0.0</td>\n",
       "      <td>0.0</td>\n",
       "      <td>0.0</td>\n",
       "      <td>0.0</td>\n",
       "      <td>0.0</td>\n",
       "      <td>0.0</td>\n",
       "      <td>0.0</td>\n",
       "      <td>0.0</td>\n",
       "      <td>1.0</td>\n",
       "    </tr>\n",
       "    <tr>\n",
       "      <th>2</th>\n",
       "      <td>CheXpert-v1.0/valid/patient64542/study1/view2_...</td>\n",
       "      <td>Male</td>\n",
       "      <td>70</td>\n",
       "      <td>Lateral</td>\n",
       "      <td>0</td>\n",
       "      <td>0.0</td>\n",
       "      <td>0.0</td>\n",
       "      <td>0.0</td>\n",
       "      <td>0.0</td>\n",
       "      <td>0.0</td>\n",
       "      <td>0.0</td>\n",
       "      <td>0.0</td>\n",
       "      <td>0.0</td>\n",
       "      <td>0.0</td>\n",
       "      <td>0.0</td>\n",
       "      <td>0.0</td>\n",
       "      <td>0.0</td>\n",
       "      <td>0.0</td>\n",
       "      <td>1.0</td>\n",
       "    </tr>\n",
       "    <tr>\n",
       "      <th>3</th>\n",
       "      <td>CheXpert-v1.0/valid/patient64543/study1/view1_...</td>\n",
       "      <td>Male</td>\n",
       "      <td>85</td>\n",
       "      <td>Frontal</td>\n",
       "      <td>AP</td>\n",
       "      <td>0.0</td>\n",
       "      <td>1.0</td>\n",
       "      <td>0.0</td>\n",
       "      <td>1.0</td>\n",
       "      <td>0.0</td>\n",
       "      <td>1.0</td>\n",
       "      <td>0.0</td>\n",
       "      <td>0.0</td>\n",
       "      <td>0.0</td>\n",
       "      <td>0.0</td>\n",
       "      <td>0.0</td>\n",
       "      <td>0.0</td>\n",
       "      <td>0.0</td>\n",
       "      <td>0.0</td>\n",
       "    </tr>\n",
       "    <tr>\n",
       "      <th>4</th>\n",
       "      <td>CheXpert-v1.0/valid/patient64544/study1/view1_...</td>\n",
       "      <td>Female</td>\n",
       "      <td>42</td>\n",
       "      <td>Frontal</td>\n",
       "      <td>AP</td>\n",
       "      <td>1.0</td>\n",
       "      <td>0.0</td>\n",
       "      <td>0.0</td>\n",
       "      <td>0.0</td>\n",
       "      <td>0.0</td>\n",
       "      <td>0.0</td>\n",
       "      <td>0.0</td>\n",
       "      <td>0.0</td>\n",
       "      <td>0.0</td>\n",
       "      <td>0.0</td>\n",
       "      <td>0.0</td>\n",
       "      <td>0.0</td>\n",
       "      <td>0.0</td>\n",
       "      <td>0.0</td>\n",
       "    </tr>\n",
       "    <tr>\n",
       "      <th>...</th>\n",
       "      <td>...</td>\n",
       "      <td>...</td>\n",
       "      <td>...</td>\n",
       "      <td>...</td>\n",
       "      <td>...</td>\n",
       "      <td>...</td>\n",
       "      <td>...</td>\n",
       "      <td>...</td>\n",
       "      <td>...</td>\n",
       "      <td>...</td>\n",
       "      <td>...</td>\n",
       "      <td>...</td>\n",
       "      <td>...</td>\n",
       "      <td>...</td>\n",
       "      <td>...</td>\n",
       "      <td>...</td>\n",
       "      <td>...</td>\n",
       "      <td>...</td>\n",
       "      <td>...</td>\n",
       "    </tr>\n",
       "    <tr>\n",
       "      <th>229</th>\n",
       "      <td>CheXpert-v1.0/valid/patient64736/study1/view1_...</td>\n",
       "      <td>Female</td>\n",
       "      <td>57</td>\n",
       "      <td>Frontal</td>\n",
       "      <td>AP</td>\n",
       "      <td>0.0</td>\n",
       "      <td>0.0</td>\n",
       "      <td>0.0</td>\n",
       "      <td>0.0</td>\n",
       "      <td>0.0</td>\n",
       "      <td>0.0</td>\n",
       "      <td>0.0</td>\n",
       "      <td>0.0</td>\n",
       "      <td>0.0</td>\n",
       "      <td>0.0</td>\n",
       "      <td>0.0</td>\n",
       "      <td>0.0</td>\n",
       "      <td>0.0</td>\n",
       "      <td>1.0</td>\n",
       "    </tr>\n",
       "    <tr>\n",
       "      <th>230</th>\n",
       "      <td>CheXpert-v1.0/valid/patient64737/study1/view1_...</td>\n",
       "      <td>Male</td>\n",
       "      <td>65</td>\n",
       "      <td>Frontal</td>\n",
       "      <td>AP</td>\n",
       "      <td>0.0</td>\n",
       "      <td>0.0</td>\n",
       "      <td>0.0</td>\n",
       "      <td>0.0</td>\n",
       "      <td>0.0</td>\n",
       "      <td>0.0</td>\n",
       "      <td>0.0</td>\n",
       "      <td>0.0</td>\n",
       "      <td>0.0</td>\n",
       "      <td>0.0</td>\n",
       "      <td>0.0</td>\n",
       "      <td>0.0</td>\n",
       "      <td>0.0</td>\n",
       "      <td>1.0</td>\n",
       "    </tr>\n",
       "    <tr>\n",
       "      <th>231</th>\n",
       "      <td>CheXpert-v1.0/valid/patient64738/study1/view1_...</td>\n",
       "      <td>Male</td>\n",
       "      <td>71</td>\n",
       "      <td>Frontal</td>\n",
       "      <td>AP</td>\n",
       "      <td>0.0</td>\n",
       "      <td>1.0</td>\n",
       "      <td>1.0</td>\n",
       "      <td>1.0</td>\n",
       "      <td>0.0</td>\n",
       "      <td>1.0</td>\n",
       "      <td>0.0</td>\n",
       "      <td>0.0</td>\n",
       "      <td>0.0</td>\n",
       "      <td>0.0</td>\n",
       "      <td>0.0</td>\n",
       "      <td>0.0</td>\n",
       "      <td>0.0</td>\n",
       "      <td>1.0</td>\n",
       "    </tr>\n",
       "    <tr>\n",
       "      <th>232</th>\n",
       "      <td>CheXpert-v1.0/valid/patient64739/study1/view1_...</td>\n",
       "      <td>Female</td>\n",
       "      <td>45</td>\n",
       "      <td>Frontal</td>\n",
       "      <td>AP</td>\n",
       "      <td>0.0</td>\n",
       "      <td>1.0</td>\n",
       "      <td>0.0</td>\n",
       "      <td>0.0</td>\n",
       "      <td>0.0</td>\n",
       "      <td>0.0</td>\n",
       "      <td>0.0</td>\n",
       "      <td>0.0</td>\n",
       "      <td>0.0</td>\n",
       "      <td>0.0</td>\n",
       "      <td>0.0</td>\n",
       "      <td>0.0</td>\n",
       "      <td>0.0</td>\n",
       "      <td>0.0</td>\n",
       "    </tr>\n",
       "    <tr>\n",
       "      <th>233</th>\n",
       "      <td>CheXpert-v1.0/valid/patient64740/study1/view1_...</td>\n",
       "      <td>Male</td>\n",
       "      <td>90</td>\n",
       "      <td>Frontal</td>\n",
       "      <td>AP</td>\n",
       "      <td>0.0</td>\n",
       "      <td>1.0</td>\n",
       "      <td>0.0</td>\n",
       "      <td>1.0</td>\n",
       "      <td>0.0</td>\n",
       "      <td>0.0</td>\n",
       "      <td>0.0</td>\n",
       "      <td>0.0</td>\n",
       "      <td>1.0</td>\n",
       "      <td>0.0</td>\n",
       "      <td>1.0</td>\n",
       "      <td>0.0</td>\n",
       "      <td>0.0</td>\n",
       "      <td>0.0</td>\n",
       "    </tr>\n",
       "  </tbody>\n",
       "</table>\n",
       "<p>234 rows × 19 columns</p>\n",
       "</div>"
      ],
      "text/plain": [
       "                                                  Path     Sex  Age  \\\n",
       "0    CheXpert-v1.0/valid/patient64541/study1/view1_...    Male   73   \n",
       "1    CheXpert-v1.0/valid/patient64542/study1/view1_...    Male   70   \n",
       "2    CheXpert-v1.0/valid/patient64542/study1/view2_...    Male   70   \n",
       "3    CheXpert-v1.0/valid/patient64543/study1/view1_...    Male   85   \n",
       "4    CheXpert-v1.0/valid/patient64544/study1/view1_...  Female   42   \n",
       "..                                                 ...     ...  ...   \n",
       "229  CheXpert-v1.0/valid/patient64736/study1/view1_...  Female   57   \n",
       "230  CheXpert-v1.0/valid/patient64737/study1/view1_...    Male   65   \n",
       "231  CheXpert-v1.0/valid/patient64738/study1/view1_...    Male   71   \n",
       "232  CheXpert-v1.0/valid/patient64739/study1/view1_...  Female   45   \n",
       "233  CheXpert-v1.0/valid/patient64740/study1/view1_...    Male   90   \n",
       "\n",
       "    Frontal/Lateral AP/PA  No Finding  Enlarged Cardiomediastinum  \\\n",
       "0           Frontal    AP         0.0                         1.0   \n",
       "1           Frontal    PA         0.0                         0.0   \n",
       "2           Lateral     0         0.0                         0.0   \n",
       "3           Frontal    AP         0.0                         1.0   \n",
       "4           Frontal    AP         1.0                         0.0   \n",
       "..              ...   ...         ...                         ...   \n",
       "229         Frontal    AP         0.0                         0.0   \n",
       "230         Frontal    AP         0.0                         0.0   \n",
       "231         Frontal    AP         0.0                         1.0   \n",
       "232         Frontal    AP         0.0                         1.0   \n",
       "233         Frontal    AP         0.0                         1.0   \n",
       "\n",
       "     Cardiomegaly  Lung Opacity  Lung Lesion  Edema  Consolidation  Pneumonia  \\\n",
       "0             1.0           1.0          0.0    0.0            0.0        0.0   \n",
       "1             0.0           0.0          0.0    0.0            0.0        0.0   \n",
       "2             0.0           0.0          0.0    0.0            0.0        0.0   \n",
       "3             0.0           1.0          0.0    1.0            0.0        0.0   \n",
       "4             0.0           0.0          0.0    0.0            0.0        0.0   \n",
       "..            ...           ...          ...    ...            ...        ...   \n",
       "229           0.0           0.0          0.0    0.0            0.0        0.0   \n",
       "230           0.0           0.0          0.0    0.0            0.0        0.0   \n",
       "231           1.0           1.0          0.0    1.0            0.0        0.0   \n",
       "232           0.0           0.0          0.0    0.0            0.0        0.0   \n",
       "233           0.0           1.0          0.0    0.0            0.0        0.0   \n",
       "\n",
       "     Atelectasis  Pneumothorax  Pleural Effusion  Pleural Other  Fracture  \\\n",
       "0            0.0           0.0               0.0            0.0       0.0   \n",
       "1            0.0           0.0               0.0            0.0       0.0   \n",
       "2            0.0           0.0               0.0            0.0       0.0   \n",
       "3            0.0           0.0               0.0            0.0       0.0   \n",
       "4            0.0           0.0               0.0            0.0       0.0   \n",
       "..           ...           ...               ...            ...       ...   \n",
       "229          0.0           0.0               0.0            0.0       0.0   \n",
       "230          0.0           0.0               0.0            0.0       0.0   \n",
       "231          0.0           0.0               0.0            0.0       0.0   \n",
       "232          0.0           0.0               0.0            0.0       0.0   \n",
       "233          1.0           0.0               1.0            0.0       0.0   \n",
       "\n",
       "     Support Devices  \n",
       "0                0.0  \n",
       "1                1.0  \n",
       "2                1.0  \n",
       "3                0.0  \n",
       "4                0.0  \n",
       "..               ...  \n",
       "229              1.0  \n",
       "230              1.0  \n",
       "231              1.0  \n",
       "232              0.0  \n",
       "233              0.0  \n",
       "\n",
       "[234 rows x 19 columns]"
      ]
     },
     "execution_count": 39,
     "metadata": {},
     "output_type": "execute_result"
    }
   ],
   "source": [
    "test_df"
   ]
  },
  {
   "cell_type": "markdown",
   "id": "5a382c9e",
   "metadata": {},
   "source": [
    "### 6- Reordering the columns so that the CheXpert competition labels: (Atelectasis, Cardiomegaly, Consolidation, Edema, Pleural Effusion) would be the first five label columns (for easier extraction of relevant model outputs) and removing irrelevant columns"
   ]
  },
  {
   "cell_type": "code",
   "execution_count": 40,
   "id": "19ed721e",
   "metadata": {},
   "outputs": [],
   "source": [
    "reordered_columns = [\n",
    "    \"Path\",\n",
    "    \"Atelectasis\",\n",
    "    \"Cardiomegaly\",\n",
    "    \"Consolidation\",\n",
    "    \"Edema\",\n",
    "    \"Pleural Effusion\",\n",
    "    \"Pleural Other\",\n",
    "    \"Pneumonia\",\n",
    "    \"Pneumothorax\",\n",
    "    \"Enlarged Cardiomediastinum\",\n",
    "    \"Lung Opacity\",\n",
    "    \"Lung Lesion\",\n",
    "    \"Fracture\",\n",
    "    \"Support Devices\",\n",
    "    \"No Finding\"\n",
    "]"
   ]
  },
  {
   "cell_type": "code",
   "execution_count": 41,
   "id": "a0a7c4cf",
   "metadata": {},
   "outputs": [],
   "source": [
    "train_df = train_df[reordered_columns]"
   ]
  },
  {
   "cell_type": "code",
   "execution_count": 42,
   "id": "eb1629fb",
   "metadata": {},
   "outputs": [
    {
     "data": {
      "text/html": [
       "<div>\n",
       "<style scoped>\n",
       "    .dataframe tbody tr th:only-of-type {\n",
       "        vertical-align: middle;\n",
       "    }\n",
       "\n",
       "    .dataframe tbody tr th {\n",
       "        vertical-align: top;\n",
       "    }\n",
       "\n",
       "    .dataframe thead th {\n",
       "        text-align: right;\n",
       "    }\n",
       "</style>\n",
       "<table border=\"1\" class=\"dataframe\">\n",
       "  <thead>\n",
       "    <tr style=\"text-align: right;\">\n",
       "      <th></th>\n",
       "      <th>Path</th>\n",
       "      <th>Atelectasis</th>\n",
       "      <th>Cardiomegaly</th>\n",
       "      <th>Consolidation</th>\n",
       "      <th>Edema</th>\n",
       "      <th>Pleural Effusion</th>\n",
       "      <th>Pleural Other</th>\n",
       "      <th>Pneumonia</th>\n",
       "      <th>Pneumothorax</th>\n",
       "      <th>Enlarged Cardiomediastinum</th>\n",
       "      <th>Lung Opacity</th>\n",
       "      <th>Lung Lesion</th>\n",
       "      <th>Fracture</th>\n",
       "      <th>Support Devices</th>\n",
       "      <th>No Finding</th>\n",
       "    </tr>\n",
       "  </thead>\n",
       "  <tbody>\n",
       "    <tr>\n",
       "      <th>147955</th>\n",
       "      <td>CheXpert-v1.0/train/patient35203/study28/view1...</td>\n",
       "      <td>0.0</td>\n",
       "      <td>0.0</td>\n",
       "      <td>0.0</td>\n",
       "      <td>0.0</td>\n",
       "      <td>1.0</td>\n",
       "      <td>0.0</td>\n",
       "      <td>0.0</td>\n",
       "      <td>0.0</td>\n",
       "      <td>1.0</td>\n",
       "      <td>1.0</td>\n",
       "      <td>0.0</td>\n",
       "      <td>0.0</td>\n",
       "      <td>1.0</td>\n",
       "      <td>0.0</td>\n",
       "    </tr>\n",
       "    <tr>\n",
       "      <th>163338</th>\n",
       "      <td>CheXpert-v1.0/train/patient38124/study5/view1_...</td>\n",
       "      <td>0.0</td>\n",
       "      <td>0.0</td>\n",
       "      <td>0.0</td>\n",
       "      <td>0.0</td>\n",
       "      <td>1.0</td>\n",
       "      <td>0.0</td>\n",
       "      <td>0.0</td>\n",
       "      <td>0.0</td>\n",
       "      <td>0.0</td>\n",
       "      <td>0.0</td>\n",
       "      <td>0.0</td>\n",
       "      <td>1.0</td>\n",
       "      <td>1.0</td>\n",
       "      <td>0.0</td>\n",
       "    </tr>\n",
       "    <tr>\n",
       "      <th>69480</th>\n",
       "      <td>CheXpert-v1.0/train/patient16628/study1/view2_...</td>\n",
       "      <td>0.0</td>\n",
       "      <td>0.0</td>\n",
       "      <td>0.0</td>\n",
       "      <td>0.0</td>\n",
       "      <td>0.0</td>\n",
       "      <td>0.0</td>\n",
       "      <td>0.0</td>\n",
       "      <td>0.0</td>\n",
       "      <td>0.0</td>\n",
       "      <td>0.0</td>\n",
       "      <td>0.0</td>\n",
       "      <td>1.0</td>\n",
       "      <td>0.0</td>\n",
       "      <td>0.0</td>\n",
       "    </tr>\n",
       "    <tr>\n",
       "      <th>25205</th>\n",
       "      <td>CheXpert-v1.0/train/patient06161/study2/view1_...</td>\n",
       "      <td>0.0</td>\n",
       "      <td>1.0</td>\n",
       "      <td>0.0</td>\n",
       "      <td>0.0</td>\n",
       "      <td>0.0</td>\n",
       "      <td>0.0</td>\n",
       "      <td>0.0</td>\n",
       "      <td>0.0</td>\n",
       "      <td>0.0</td>\n",
       "      <td>1.0</td>\n",
       "      <td>0.0</td>\n",
       "      <td>0.0</td>\n",
       "      <td>0.0</td>\n",
       "      <td>0.0</td>\n",
       "    </tr>\n",
       "    <tr>\n",
       "      <th>98537</th>\n",
       "      <td>CheXpert-v1.0/train/patient23744/study17/view2...</td>\n",
       "      <td>0.0</td>\n",
       "      <td>1.0</td>\n",
       "      <td>0.0</td>\n",
       "      <td>1.0</td>\n",
       "      <td>1.0</td>\n",
       "      <td>0.0</td>\n",
       "      <td>0.0</td>\n",
       "      <td>0.0</td>\n",
       "      <td>0.0</td>\n",
       "      <td>0.0</td>\n",
       "      <td>0.0</td>\n",
       "      <td>0.0</td>\n",
       "      <td>1.0</td>\n",
       "      <td>0.0</td>\n",
       "    </tr>\n",
       "    <tr>\n",
       "      <th>...</th>\n",
       "      <td>...</td>\n",
       "      <td>...</td>\n",
       "      <td>...</td>\n",
       "      <td>...</td>\n",
       "      <td>...</td>\n",
       "      <td>...</td>\n",
       "      <td>...</td>\n",
       "      <td>...</td>\n",
       "      <td>...</td>\n",
       "      <td>...</td>\n",
       "      <td>...</td>\n",
       "      <td>...</td>\n",
       "      <td>...</td>\n",
       "      <td>...</td>\n",
       "      <td>...</td>\n",
       "    </tr>\n",
       "    <tr>\n",
       "      <th>62239</th>\n",
       "      <td>CheXpert-v1.0/train/patient15019/study1/view1_...</td>\n",
       "      <td>0.0</td>\n",
       "      <td>0.0</td>\n",
       "      <td>0.0</td>\n",
       "      <td>0.0</td>\n",
       "      <td>0.0</td>\n",
       "      <td>0.0</td>\n",
       "      <td>0.0</td>\n",
       "      <td>0.0</td>\n",
       "      <td>0.0</td>\n",
       "      <td>0.0</td>\n",
       "      <td>0.0</td>\n",
       "      <td>0.0</td>\n",
       "      <td>0.0</td>\n",
       "      <td>0.0</td>\n",
       "    </tr>\n",
       "    <tr>\n",
       "      <th>152127</th>\n",
       "      <td>CheXpert-v1.0/train/patient35905/study3/view1_...</td>\n",
       "      <td>0.0</td>\n",
       "      <td>0.0</td>\n",
       "      <td>0.0</td>\n",
       "      <td>0.0</td>\n",
       "      <td>0.0</td>\n",
       "      <td>0.0</td>\n",
       "      <td>0.0</td>\n",
       "      <td>0.0</td>\n",
       "      <td>0.0</td>\n",
       "      <td>1.0</td>\n",
       "      <td>0.0</td>\n",
       "      <td>0.0</td>\n",
       "      <td>1.0</td>\n",
       "      <td>0.0</td>\n",
       "    </tr>\n",
       "    <tr>\n",
       "      <th>119174</th>\n",
       "      <td>CheXpert-v1.0/train/patient28559/study1/view3_...</td>\n",
       "      <td>0.0</td>\n",
       "      <td>0.0</td>\n",
       "      <td>0.0</td>\n",
       "      <td>0.0</td>\n",
       "      <td>0.0</td>\n",
       "      <td>0.0</td>\n",
       "      <td>0.0</td>\n",
       "      <td>0.0</td>\n",
       "      <td>0.0</td>\n",
       "      <td>0.0</td>\n",
       "      <td>0.0</td>\n",
       "      <td>0.0</td>\n",
       "      <td>0.0</td>\n",
       "      <td>0.0</td>\n",
       "    </tr>\n",
       "    <tr>\n",
       "      <th>193608</th>\n",
       "      <td>CheXpert-v1.0/train/patient46927/study1/view1_...</td>\n",
       "      <td>0.0</td>\n",
       "      <td>0.0</td>\n",
       "      <td>0.0</td>\n",
       "      <td>1.0</td>\n",
       "      <td>0.0</td>\n",
       "      <td>0.0</td>\n",
       "      <td>1.0</td>\n",
       "      <td>0.0</td>\n",
       "      <td>0.0</td>\n",
       "      <td>0.0</td>\n",
       "      <td>0.0</td>\n",
       "      <td>0.0</td>\n",
       "      <td>1.0</td>\n",
       "      <td>0.0</td>\n",
       "    </tr>\n",
       "    <tr>\n",
       "      <th>142257</th>\n",
       "      <td>CheXpert-v1.0/train/patient34197/study4/view2_...</td>\n",
       "      <td>0.0</td>\n",
       "      <td>0.0</td>\n",
       "      <td>0.0</td>\n",
       "      <td>0.0</td>\n",
       "      <td>1.0</td>\n",
       "      <td>0.0</td>\n",
       "      <td>0.0</td>\n",
       "      <td>0.0</td>\n",
       "      <td>0.0</td>\n",
       "      <td>0.0</td>\n",
       "      <td>0.0</td>\n",
       "      <td>0.0</td>\n",
       "      <td>0.0</td>\n",
       "      <td>0.0</td>\n",
       "    </tr>\n",
       "  </tbody>\n",
       "</table>\n",
       "<p>178731 rows × 15 columns</p>\n",
       "</div>"
      ],
      "text/plain": [
       "                                                     Path  Atelectasis  \\\n",
       "147955  CheXpert-v1.0/train/patient35203/study28/view1...          0.0   \n",
       "163338  CheXpert-v1.0/train/patient38124/study5/view1_...          0.0   \n",
       "69480   CheXpert-v1.0/train/patient16628/study1/view2_...          0.0   \n",
       "25205   CheXpert-v1.0/train/patient06161/study2/view1_...          0.0   \n",
       "98537   CheXpert-v1.0/train/patient23744/study17/view2...          0.0   \n",
       "...                                                   ...          ...   \n",
       "62239   CheXpert-v1.0/train/patient15019/study1/view1_...          0.0   \n",
       "152127  CheXpert-v1.0/train/patient35905/study3/view1_...          0.0   \n",
       "119174  CheXpert-v1.0/train/patient28559/study1/view3_...          0.0   \n",
       "193608  CheXpert-v1.0/train/patient46927/study1/view1_...          0.0   \n",
       "142257  CheXpert-v1.0/train/patient34197/study4/view2_...          0.0   \n",
       "\n",
       "        Cardiomegaly  Consolidation  Edema  Pleural Effusion  Pleural Other  \\\n",
       "147955           0.0            0.0    0.0               1.0            0.0   \n",
       "163338           0.0            0.0    0.0               1.0            0.0   \n",
       "69480            0.0            0.0    0.0               0.0            0.0   \n",
       "25205            1.0            0.0    0.0               0.0            0.0   \n",
       "98537            1.0            0.0    1.0               1.0            0.0   \n",
       "...              ...            ...    ...               ...            ...   \n",
       "62239            0.0            0.0    0.0               0.0            0.0   \n",
       "152127           0.0            0.0    0.0               0.0            0.0   \n",
       "119174           0.0            0.0    0.0               0.0            0.0   \n",
       "193608           0.0            0.0    1.0               0.0            0.0   \n",
       "142257           0.0            0.0    0.0               1.0            0.0   \n",
       "\n",
       "        Pneumonia  Pneumothorax  Enlarged Cardiomediastinum  Lung Opacity  \\\n",
       "147955        0.0           0.0                         1.0           1.0   \n",
       "163338        0.0           0.0                         0.0           0.0   \n",
       "69480         0.0           0.0                         0.0           0.0   \n",
       "25205         0.0           0.0                         0.0           1.0   \n",
       "98537         0.0           0.0                         0.0           0.0   \n",
       "...           ...           ...                         ...           ...   \n",
       "62239         0.0           0.0                         0.0           0.0   \n",
       "152127        0.0           0.0                         0.0           1.0   \n",
       "119174        0.0           0.0                         0.0           0.0   \n",
       "193608        1.0           0.0                         0.0           0.0   \n",
       "142257        0.0           0.0                         0.0           0.0   \n",
       "\n",
       "        Lung Lesion  Fracture  Support Devices  No Finding  \n",
       "147955          0.0       0.0              1.0         0.0  \n",
       "163338          0.0       1.0              1.0         0.0  \n",
       "69480           0.0       1.0              0.0         0.0  \n",
       "25205           0.0       0.0              0.0         0.0  \n",
       "98537           0.0       0.0              1.0         0.0  \n",
       "...             ...       ...              ...         ...  \n",
       "62239           0.0       0.0              0.0         0.0  \n",
       "152127          0.0       0.0              1.0         0.0  \n",
       "119174          0.0       0.0              0.0         0.0  \n",
       "193608          0.0       0.0              1.0         0.0  \n",
       "142257          0.0       0.0              0.0         0.0  \n",
       "\n",
       "[178731 rows x 15 columns]"
      ]
     },
     "execution_count": 42,
     "metadata": {},
     "output_type": "execute_result"
    }
   ],
   "source": [
    "train_df"
   ]
  },
  {
   "cell_type": "code",
   "execution_count": 43,
   "id": "061faa32",
   "metadata": {},
   "outputs": [],
   "source": [
    "validation_df = validation_df[reordered_columns]"
   ]
  },
  {
   "cell_type": "code",
   "execution_count": 44,
   "id": "a725790e",
   "metadata": {},
   "outputs": [
    {
     "data": {
      "text/html": [
       "<div>\n",
       "<style scoped>\n",
       "    .dataframe tbody tr th:only-of-type {\n",
       "        vertical-align: middle;\n",
       "    }\n",
       "\n",
       "    .dataframe tbody tr th {\n",
       "        vertical-align: top;\n",
       "    }\n",
       "\n",
       "    .dataframe thead th {\n",
       "        text-align: right;\n",
       "    }\n",
       "</style>\n",
       "<table border=\"1\" class=\"dataframe\">\n",
       "  <thead>\n",
       "    <tr style=\"text-align: right;\">\n",
       "      <th></th>\n",
       "      <th>Path</th>\n",
       "      <th>Atelectasis</th>\n",
       "      <th>Cardiomegaly</th>\n",
       "      <th>Consolidation</th>\n",
       "      <th>Edema</th>\n",
       "      <th>Pleural Effusion</th>\n",
       "      <th>Pleural Other</th>\n",
       "      <th>Pneumonia</th>\n",
       "      <th>Pneumothorax</th>\n",
       "      <th>Enlarged Cardiomediastinum</th>\n",
       "      <th>Lung Opacity</th>\n",
       "      <th>Lung Lesion</th>\n",
       "      <th>Fracture</th>\n",
       "      <th>Support Devices</th>\n",
       "      <th>No Finding</th>\n",
       "    </tr>\n",
       "  </thead>\n",
       "  <tbody>\n",
       "    <tr>\n",
       "      <th>67305</th>\n",
       "      <td>CheXpert-v1.0/train/patient16169/study2/view2_...</td>\n",
       "      <td>0.0</td>\n",
       "      <td>0.0</td>\n",
       "      <td>0.0</td>\n",
       "      <td>1.0</td>\n",
       "      <td>1.0</td>\n",
       "      <td>0.0</td>\n",
       "      <td>0.0</td>\n",
       "      <td>0.0</td>\n",
       "      <td>0.0</td>\n",
       "      <td>0.0</td>\n",
       "      <td>0.0</td>\n",
       "      <td>0.0</td>\n",
       "      <td>1.0</td>\n",
       "      <td>0.0</td>\n",
       "    </tr>\n",
       "    <tr>\n",
       "      <th>158250</th>\n",
       "      <td>CheXpert-v1.0/train/patient37045/study7/view1_...</td>\n",
       "      <td>0.0</td>\n",
       "      <td>0.0</td>\n",
       "      <td>0.0</td>\n",
       "      <td>0.0</td>\n",
       "      <td>1.0</td>\n",
       "      <td>0.0</td>\n",
       "      <td>0.0</td>\n",
       "      <td>0.0</td>\n",
       "      <td>0.0</td>\n",
       "      <td>1.0</td>\n",
       "      <td>0.0</td>\n",
       "      <td>0.0</td>\n",
       "      <td>1.0</td>\n",
       "      <td>0.0</td>\n",
       "    </tr>\n",
       "    <tr>\n",
       "      <th>51315</th>\n",
       "      <td>CheXpert-v1.0/train/patient12490/study12/view1...</td>\n",
       "      <td>0.0</td>\n",
       "      <td>0.0</td>\n",
       "      <td>0.0</td>\n",
       "      <td>0.0</td>\n",
       "      <td>1.0</td>\n",
       "      <td>0.0</td>\n",
       "      <td>0.0</td>\n",
       "      <td>0.0</td>\n",
       "      <td>0.0</td>\n",
       "      <td>1.0</td>\n",
       "      <td>0.0</td>\n",
       "      <td>0.0</td>\n",
       "      <td>0.0</td>\n",
       "      <td>0.0</td>\n",
       "    </tr>\n",
       "    <tr>\n",
       "      <th>204270</th>\n",
       "      <td>CheXpert-v1.0/train/patient51556/study7/view1_...</td>\n",
       "      <td>0.0</td>\n",
       "      <td>0.0</td>\n",
       "      <td>0.0</td>\n",
       "      <td>0.0</td>\n",
       "      <td>1.0</td>\n",
       "      <td>0.0</td>\n",
       "      <td>0.0</td>\n",
       "      <td>0.0</td>\n",
       "      <td>0.0</td>\n",
       "      <td>1.0</td>\n",
       "      <td>0.0</td>\n",
       "      <td>0.0</td>\n",
       "      <td>1.0</td>\n",
       "      <td>0.0</td>\n",
       "    </tr>\n",
       "    <tr>\n",
       "      <th>71280</th>\n",
       "      <td>CheXpert-v1.0/train/patient17091/study1/view1_...</td>\n",
       "      <td>0.0</td>\n",
       "      <td>0.0</td>\n",
       "      <td>0.0</td>\n",
       "      <td>0.0</td>\n",
       "      <td>0.0</td>\n",
       "      <td>0.0</td>\n",
       "      <td>0.0</td>\n",
       "      <td>0.0</td>\n",
       "      <td>0.0</td>\n",
       "      <td>1.0</td>\n",
       "      <td>0.0</td>\n",
       "      <td>0.0</td>\n",
       "      <td>0.0</td>\n",
       "      <td>0.0</td>\n",
       "    </tr>\n",
       "    <tr>\n",
       "      <th>...</th>\n",
       "      <td>...</td>\n",
       "      <td>...</td>\n",
       "      <td>...</td>\n",
       "      <td>...</td>\n",
       "      <td>...</td>\n",
       "      <td>...</td>\n",
       "      <td>...</td>\n",
       "      <td>...</td>\n",
       "      <td>...</td>\n",
       "      <td>...</td>\n",
       "      <td>...</td>\n",
       "      <td>...</td>\n",
       "      <td>...</td>\n",
       "      <td>...</td>\n",
       "      <td>...</td>\n",
       "    </tr>\n",
       "    <tr>\n",
       "      <th>84611</th>\n",
       "      <td>CheXpert-v1.0/train/patient20333/study4/view1_...</td>\n",
       "      <td>0.0</td>\n",
       "      <td>0.0</td>\n",
       "      <td>0.0</td>\n",
       "      <td>0.0</td>\n",
       "      <td>1.0</td>\n",
       "      <td>0.0</td>\n",
       "      <td>0.0</td>\n",
       "      <td>0.0</td>\n",
       "      <td>1.0</td>\n",
       "      <td>0.0</td>\n",
       "      <td>0.0</td>\n",
       "      <td>0.0</td>\n",
       "      <td>1.0</td>\n",
       "      <td>0.0</td>\n",
       "    </tr>\n",
       "    <tr>\n",
       "      <th>168690</th>\n",
       "      <td>CheXpert-v1.0/train/patient39344/study11/view1...</td>\n",
       "      <td>0.0</td>\n",
       "      <td>0.0</td>\n",
       "      <td>0.0</td>\n",
       "      <td>0.0</td>\n",
       "      <td>1.0</td>\n",
       "      <td>0.0</td>\n",
       "      <td>0.0</td>\n",
       "      <td>0.0</td>\n",
       "      <td>0.0</td>\n",
       "      <td>1.0</td>\n",
       "      <td>0.0</td>\n",
       "      <td>0.0</td>\n",
       "      <td>1.0</td>\n",
       "      <td>0.0</td>\n",
       "    </tr>\n",
       "    <tr>\n",
       "      <th>166829</th>\n",
       "      <td>CheXpert-v1.0/train/patient38931/study1/view1_...</td>\n",
       "      <td>0.0</td>\n",
       "      <td>1.0</td>\n",
       "      <td>0.0</td>\n",
       "      <td>0.0</td>\n",
       "      <td>1.0</td>\n",
       "      <td>0.0</td>\n",
       "      <td>0.0</td>\n",
       "      <td>0.0</td>\n",
       "      <td>1.0</td>\n",
       "      <td>1.0</td>\n",
       "      <td>0.0</td>\n",
       "      <td>0.0</td>\n",
       "      <td>0.0</td>\n",
       "      <td>0.0</td>\n",
       "    </tr>\n",
       "    <tr>\n",
       "      <th>184236</th>\n",
       "      <td>CheXpert-v1.0/train/patient43600/study1/view1_...</td>\n",
       "      <td>1.0</td>\n",
       "      <td>0.0</td>\n",
       "      <td>0.0</td>\n",
       "      <td>0.0</td>\n",
       "      <td>0.0</td>\n",
       "      <td>0.0</td>\n",
       "      <td>0.0</td>\n",
       "      <td>0.0</td>\n",
       "      <td>0.0</td>\n",
       "      <td>0.0</td>\n",
       "      <td>0.0</td>\n",
       "      <td>0.0</td>\n",
       "      <td>1.0</td>\n",
       "      <td>0.0</td>\n",
       "    </tr>\n",
       "    <tr>\n",
       "      <th>189045</th>\n",
       "      <td>CheXpert-v1.0/train/patient45159/study2/view1_...</td>\n",
       "      <td>0.0</td>\n",
       "      <td>0.0</td>\n",
       "      <td>1.0</td>\n",
       "      <td>0.0</td>\n",
       "      <td>1.0</td>\n",
       "      <td>0.0</td>\n",
       "      <td>0.0</td>\n",
       "      <td>1.0</td>\n",
       "      <td>0.0</td>\n",
       "      <td>0.0</td>\n",
       "      <td>0.0</td>\n",
       "      <td>0.0</td>\n",
       "      <td>0.0</td>\n",
       "      <td>0.0</td>\n",
       "    </tr>\n",
       "  </tbody>\n",
       "</table>\n",
       "<p>44683 rows × 15 columns</p>\n",
       "</div>"
      ],
      "text/plain": [
       "                                                     Path  Atelectasis  \\\n",
       "67305   CheXpert-v1.0/train/patient16169/study2/view2_...          0.0   \n",
       "158250  CheXpert-v1.0/train/patient37045/study7/view1_...          0.0   \n",
       "51315   CheXpert-v1.0/train/patient12490/study12/view1...          0.0   \n",
       "204270  CheXpert-v1.0/train/patient51556/study7/view1_...          0.0   \n",
       "71280   CheXpert-v1.0/train/patient17091/study1/view1_...          0.0   \n",
       "...                                                   ...          ...   \n",
       "84611   CheXpert-v1.0/train/patient20333/study4/view1_...          0.0   \n",
       "168690  CheXpert-v1.0/train/patient39344/study11/view1...          0.0   \n",
       "166829  CheXpert-v1.0/train/patient38931/study1/view1_...          0.0   \n",
       "184236  CheXpert-v1.0/train/patient43600/study1/view1_...          1.0   \n",
       "189045  CheXpert-v1.0/train/patient45159/study2/view1_...          0.0   \n",
       "\n",
       "        Cardiomegaly  Consolidation  Edema  Pleural Effusion  Pleural Other  \\\n",
       "67305            0.0            0.0    1.0               1.0            0.0   \n",
       "158250           0.0            0.0    0.0               1.0            0.0   \n",
       "51315            0.0            0.0    0.0               1.0            0.0   \n",
       "204270           0.0            0.0    0.0               1.0            0.0   \n",
       "71280            0.0            0.0    0.0               0.0            0.0   \n",
       "...              ...            ...    ...               ...            ...   \n",
       "84611            0.0            0.0    0.0               1.0            0.0   \n",
       "168690           0.0            0.0    0.0               1.0            0.0   \n",
       "166829           1.0            0.0    0.0               1.0            0.0   \n",
       "184236           0.0            0.0    0.0               0.0            0.0   \n",
       "189045           0.0            1.0    0.0               1.0            0.0   \n",
       "\n",
       "        Pneumonia  Pneumothorax  Enlarged Cardiomediastinum  Lung Opacity  \\\n",
       "67305         0.0           0.0                         0.0           0.0   \n",
       "158250        0.0           0.0                         0.0           1.0   \n",
       "51315         0.0           0.0                         0.0           1.0   \n",
       "204270        0.0           0.0                         0.0           1.0   \n",
       "71280         0.0           0.0                         0.0           1.0   \n",
       "...           ...           ...                         ...           ...   \n",
       "84611         0.0           0.0                         1.0           0.0   \n",
       "168690        0.0           0.0                         0.0           1.0   \n",
       "166829        0.0           0.0                         1.0           1.0   \n",
       "184236        0.0           0.0                         0.0           0.0   \n",
       "189045        0.0           1.0                         0.0           0.0   \n",
       "\n",
       "        Lung Lesion  Fracture  Support Devices  No Finding  \n",
       "67305           0.0       0.0              1.0         0.0  \n",
       "158250          0.0       0.0              1.0         0.0  \n",
       "51315           0.0       0.0              0.0         0.0  \n",
       "204270          0.0       0.0              1.0         0.0  \n",
       "71280           0.0       0.0              0.0         0.0  \n",
       "...             ...       ...              ...         ...  \n",
       "84611           0.0       0.0              1.0         0.0  \n",
       "168690          0.0       0.0              1.0         0.0  \n",
       "166829          0.0       0.0              0.0         0.0  \n",
       "184236          0.0       0.0              1.0         0.0  \n",
       "189045          0.0       0.0              0.0         0.0  \n",
       "\n",
       "[44683 rows x 15 columns]"
      ]
     },
     "execution_count": 44,
     "metadata": {},
     "output_type": "execute_result"
    }
   ],
   "source": [
    "validation_df"
   ]
  },
  {
   "cell_type": "code",
   "execution_count": 45,
   "id": "8a61857d",
   "metadata": {},
   "outputs": [],
   "source": [
    "test_df = test_df[reordered_columns]"
   ]
  },
  {
   "cell_type": "code",
   "execution_count": 46,
   "id": "9883b0b7",
   "metadata": {},
   "outputs": [
    {
     "data": {
      "text/html": [
       "<div>\n",
       "<style scoped>\n",
       "    .dataframe tbody tr th:only-of-type {\n",
       "        vertical-align: middle;\n",
       "    }\n",
       "\n",
       "    .dataframe tbody tr th {\n",
       "        vertical-align: top;\n",
       "    }\n",
       "\n",
       "    .dataframe thead th {\n",
       "        text-align: right;\n",
       "    }\n",
       "</style>\n",
       "<table border=\"1\" class=\"dataframe\">\n",
       "  <thead>\n",
       "    <tr style=\"text-align: right;\">\n",
       "      <th></th>\n",
       "      <th>Path</th>\n",
       "      <th>Atelectasis</th>\n",
       "      <th>Cardiomegaly</th>\n",
       "      <th>Consolidation</th>\n",
       "      <th>Edema</th>\n",
       "      <th>Pleural Effusion</th>\n",
       "      <th>Pleural Other</th>\n",
       "      <th>Pneumonia</th>\n",
       "      <th>Pneumothorax</th>\n",
       "      <th>Enlarged Cardiomediastinum</th>\n",
       "      <th>Lung Opacity</th>\n",
       "      <th>Lung Lesion</th>\n",
       "      <th>Fracture</th>\n",
       "      <th>Support Devices</th>\n",
       "      <th>No Finding</th>\n",
       "    </tr>\n",
       "  </thead>\n",
       "  <tbody>\n",
       "    <tr>\n",
       "      <th>0</th>\n",
       "      <td>CheXpert-v1.0/valid/patient64541/study1/view1_...</td>\n",
       "      <td>0.0</td>\n",
       "      <td>1.0</td>\n",
       "      <td>0.0</td>\n",
       "      <td>0.0</td>\n",
       "      <td>0.0</td>\n",
       "      <td>0.0</td>\n",
       "      <td>0.0</td>\n",
       "      <td>0.0</td>\n",
       "      <td>1.0</td>\n",
       "      <td>1.0</td>\n",
       "      <td>0.0</td>\n",
       "      <td>0.0</td>\n",
       "      <td>0.0</td>\n",
       "      <td>0.0</td>\n",
       "    </tr>\n",
       "    <tr>\n",
       "      <th>1</th>\n",
       "      <td>CheXpert-v1.0/valid/patient64542/study1/view1_...</td>\n",
       "      <td>0.0</td>\n",
       "      <td>0.0</td>\n",
       "      <td>0.0</td>\n",
       "      <td>0.0</td>\n",
       "      <td>0.0</td>\n",
       "      <td>0.0</td>\n",
       "      <td>0.0</td>\n",
       "      <td>0.0</td>\n",
       "      <td>0.0</td>\n",
       "      <td>0.0</td>\n",
       "      <td>0.0</td>\n",
       "      <td>0.0</td>\n",
       "      <td>1.0</td>\n",
       "      <td>0.0</td>\n",
       "    </tr>\n",
       "    <tr>\n",
       "      <th>2</th>\n",
       "      <td>CheXpert-v1.0/valid/patient64542/study1/view2_...</td>\n",
       "      <td>0.0</td>\n",
       "      <td>0.0</td>\n",
       "      <td>0.0</td>\n",
       "      <td>0.0</td>\n",
       "      <td>0.0</td>\n",
       "      <td>0.0</td>\n",
       "      <td>0.0</td>\n",
       "      <td>0.0</td>\n",
       "      <td>0.0</td>\n",
       "      <td>0.0</td>\n",
       "      <td>0.0</td>\n",
       "      <td>0.0</td>\n",
       "      <td>1.0</td>\n",
       "      <td>0.0</td>\n",
       "    </tr>\n",
       "    <tr>\n",
       "      <th>3</th>\n",
       "      <td>CheXpert-v1.0/valid/patient64543/study1/view1_...</td>\n",
       "      <td>0.0</td>\n",
       "      <td>0.0</td>\n",
       "      <td>0.0</td>\n",
       "      <td>1.0</td>\n",
       "      <td>0.0</td>\n",
       "      <td>0.0</td>\n",
       "      <td>0.0</td>\n",
       "      <td>0.0</td>\n",
       "      <td>1.0</td>\n",
       "      <td>1.0</td>\n",
       "      <td>0.0</td>\n",
       "      <td>0.0</td>\n",
       "      <td>0.0</td>\n",
       "      <td>0.0</td>\n",
       "    </tr>\n",
       "    <tr>\n",
       "      <th>4</th>\n",
       "      <td>CheXpert-v1.0/valid/patient64544/study1/view1_...</td>\n",
       "      <td>0.0</td>\n",
       "      <td>0.0</td>\n",
       "      <td>0.0</td>\n",
       "      <td>0.0</td>\n",
       "      <td>0.0</td>\n",
       "      <td>0.0</td>\n",
       "      <td>0.0</td>\n",
       "      <td>0.0</td>\n",
       "      <td>0.0</td>\n",
       "      <td>0.0</td>\n",
       "      <td>0.0</td>\n",
       "      <td>0.0</td>\n",
       "      <td>0.0</td>\n",
       "      <td>1.0</td>\n",
       "    </tr>\n",
       "    <tr>\n",
       "      <th>...</th>\n",
       "      <td>...</td>\n",
       "      <td>...</td>\n",
       "      <td>...</td>\n",
       "      <td>...</td>\n",
       "      <td>...</td>\n",
       "      <td>...</td>\n",
       "      <td>...</td>\n",
       "      <td>...</td>\n",
       "      <td>...</td>\n",
       "      <td>...</td>\n",
       "      <td>...</td>\n",
       "      <td>...</td>\n",
       "      <td>...</td>\n",
       "      <td>...</td>\n",
       "      <td>...</td>\n",
       "    </tr>\n",
       "    <tr>\n",
       "      <th>229</th>\n",
       "      <td>CheXpert-v1.0/valid/patient64736/study1/view1_...</td>\n",
       "      <td>0.0</td>\n",
       "      <td>0.0</td>\n",
       "      <td>0.0</td>\n",
       "      <td>0.0</td>\n",
       "      <td>0.0</td>\n",
       "      <td>0.0</td>\n",
       "      <td>0.0</td>\n",
       "      <td>0.0</td>\n",
       "      <td>0.0</td>\n",
       "      <td>0.0</td>\n",
       "      <td>0.0</td>\n",
       "      <td>0.0</td>\n",
       "      <td>1.0</td>\n",
       "      <td>0.0</td>\n",
       "    </tr>\n",
       "    <tr>\n",
       "      <th>230</th>\n",
       "      <td>CheXpert-v1.0/valid/patient64737/study1/view1_...</td>\n",
       "      <td>0.0</td>\n",
       "      <td>0.0</td>\n",
       "      <td>0.0</td>\n",
       "      <td>0.0</td>\n",
       "      <td>0.0</td>\n",
       "      <td>0.0</td>\n",
       "      <td>0.0</td>\n",
       "      <td>0.0</td>\n",
       "      <td>0.0</td>\n",
       "      <td>0.0</td>\n",
       "      <td>0.0</td>\n",
       "      <td>0.0</td>\n",
       "      <td>1.0</td>\n",
       "      <td>0.0</td>\n",
       "    </tr>\n",
       "    <tr>\n",
       "      <th>231</th>\n",
       "      <td>CheXpert-v1.0/valid/patient64738/study1/view1_...</td>\n",
       "      <td>0.0</td>\n",
       "      <td>1.0</td>\n",
       "      <td>0.0</td>\n",
       "      <td>1.0</td>\n",
       "      <td>0.0</td>\n",
       "      <td>0.0</td>\n",
       "      <td>0.0</td>\n",
       "      <td>0.0</td>\n",
       "      <td>1.0</td>\n",
       "      <td>1.0</td>\n",
       "      <td>0.0</td>\n",
       "      <td>0.0</td>\n",
       "      <td>1.0</td>\n",
       "      <td>0.0</td>\n",
       "    </tr>\n",
       "    <tr>\n",
       "      <th>232</th>\n",
       "      <td>CheXpert-v1.0/valid/patient64739/study1/view1_...</td>\n",
       "      <td>0.0</td>\n",
       "      <td>0.0</td>\n",
       "      <td>0.0</td>\n",
       "      <td>0.0</td>\n",
       "      <td>0.0</td>\n",
       "      <td>0.0</td>\n",
       "      <td>0.0</td>\n",
       "      <td>0.0</td>\n",
       "      <td>1.0</td>\n",
       "      <td>0.0</td>\n",
       "      <td>0.0</td>\n",
       "      <td>0.0</td>\n",
       "      <td>0.0</td>\n",
       "      <td>0.0</td>\n",
       "    </tr>\n",
       "    <tr>\n",
       "      <th>233</th>\n",
       "      <td>CheXpert-v1.0/valid/patient64740/study1/view1_...</td>\n",
       "      <td>1.0</td>\n",
       "      <td>0.0</td>\n",
       "      <td>0.0</td>\n",
       "      <td>0.0</td>\n",
       "      <td>1.0</td>\n",
       "      <td>0.0</td>\n",
       "      <td>0.0</td>\n",
       "      <td>0.0</td>\n",
       "      <td>1.0</td>\n",
       "      <td>1.0</td>\n",
       "      <td>0.0</td>\n",
       "      <td>0.0</td>\n",
       "      <td>0.0</td>\n",
       "      <td>0.0</td>\n",
       "    </tr>\n",
       "  </tbody>\n",
       "</table>\n",
       "<p>234 rows × 15 columns</p>\n",
       "</div>"
      ],
      "text/plain": [
       "                                                  Path  Atelectasis  \\\n",
       "0    CheXpert-v1.0/valid/patient64541/study1/view1_...          0.0   \n",
       "1    CheXpert-v1.0/valid/patient64542/study1/view1_...          0.0   \n",
       "2    CheXpert-v1.0/valid/patient64542/study1/view2_...          0.0   \n",
       "3    CheXpert-v1.0/valid/patient64543/study1/view1_...          0.0   \n",
       "4    CheXpert-v1.0/valid/patient64544/study1/view1_...          0.0   \n",
       "..                                                 ...          ...   \n",
       "229  CheXpert-v1.0/valid/patient64736/study1/view1_...          0.0   \n",
       "230  CheXpert-v1.0/valid/patient64737/study1/view1_...          0.0   \n",
       "231  CheXpert-v1.0/valid/patient64738/study1/view1_...          0.0   \n",
       "232  CheXpert-v1.0/valid/patient64739/study1/view1_...          0.0   \n",
       "233  CheXpert-v1.0/valid/patient64740/study1/view1_...          1.0   \n",
       "\n",
       "     Cardiomegaly  Consolidation  Edema  Pleural Effusion  Pleural Other  \\\n",
       "0             1.0            0.0    0.0               0.0            0.0   \n",
       "1             0.0            0.0    0.0               0.0            0.0   \n",
       "2             0.0            0.0    0.0               0.0            0.0   \n",
       "3             0.0            0.0    1.0               0.0            0.0   \n",
       "4             0.0            0.0    0.0               0.0            0.0   \n",
       "..            ...            ...    ...               ...            ...   \n",
       "229           0.0            0.0    0.0               0.0            0.0   \n",
       "230           0.0            0.0    0.0               0.0            0.0   \n",
       "231           1.0            0.0    1.0               0.0            0.0   \n",
       "232           0.0            0.0    0.0               0.0            0.0   \n",
       "233           0.0            0.0    0.0               1.0            0.0   \n",
       "\n",
       "     Pneumonia  Pneumothorax  Enlarged Cardiomediastinum  Lung Opacity  \\\n",
       "0          0.0           0.0                         1.0           1.0   \n",
       "1          0.0           0.0                         0.0           0.0   \n",
       "2          0.0           0.0                         0.0           0.0   \n",
       "3          0.0           0.0                         1.0           1.0   \n",
       "4          0.0           0.0                         0.0           0.0   \n",
       "..         ...           ...                         ...           ...   \n",
       "229        0.0           0.0                         0.0           0.0   \n",
       "230        0.0           0.0                         0.0           0.0   \n",
       "231        0.0           0.0                         1.0           1.0   \n",
       "232        0.0           0.0                         1.0           0.0   \n",
       "233        0.0           0.0                         1.0           1.0   \n",
       "\n",
       "     Lung Lesion  Fracture  Support Devices  No Finding  \n",
       "0            0.0       0.0              0.0         0.0  \n",
       "1            0.0       0.0              1.0         0.0  \n",
       "2            0.0       0.0              1.0         0.0  \n",
       "3            0.0       0.0              0.0         0.0  \n",
       "4            0.0       0.0              0.0         1.0  \n",
       "..           ...       ...              ...         ...  \n",
       "229          0.0       0.0              1.0         0.0  \n",
       "230          0.0       0.0              1.0         0.0  \n",
       "231          0.0       0.0              1.0         0.0  \n",
       "232          0.0       0.0              0.0         0.0  \n",
       "233          0.0       0.0              0.0         0.0  \n",
       "\n",
       "[234 rows x 15 columns]"
      ]
     },
     "execution_count": 46,
     "metadata": {},
     "output_type": "execute_result"
    }
   ],
   "source": [
    "test_df"
   ]
  },
  {
   "cell_type": "markdown",
   "id": "c6d97851",
   "metadata": {},
   "source": [
    "### 7- Checking distribution of labels"
   ]
  },
  {
   "cell_type": "markdown",
   "id": "017fecb6",
   "metadata": {},
   "source": [
    "#### 7.1 Atelectasis"
   ]
  },
  {
   "cell_type": "code",
   "execution_count": 47,
   "id": "8ca86393",
   "metadata": {},
   "outputs": [
    {
     "data": {
      "text/plain": [
       "26795.0"
      ]
     },
     "execution_count": 47,
     "metadata": {},
     "output_type": "execute_result"
    }
   ],
   "source": [
    "train_df[\"Atelectasis\"].sum()"
   ]
  },
  {
   "cell_type": "code",
   "execution_count": 48,
   "id": "e9c6c561",
   "metadata": {},
   "outputs": [
    {
     "data": {
      "text/plain": [
       "0.14991803324549183"
      ]
     },
     "execution_count": 48,
     "metadata": {},
     "output_type": "execute_result"
    }
   ],
   "source": [
    "train_df_Atelectasis_ratio = train_df[\"Atelectasis\"].sum() / len(train_df)\n",
    "train_df_Atelectasis_ratio"
   ]
  },
  {
   "cell_type": "code",
   "execution_count": 49,
   "id": "71cb9a57",
   "metadata": {},
   "outputs": [
    {
     "data": {
      "text/plain": [
       "6581.0"
      ]
     },
     "execution_count": 49,
     "metadata": {},
     "output_type": "execute_result"
    }
   ],
   "source": [
    "validation_df[\"Atelectasis\"].sum()"
   ]
  },
  {
   "cell_type": "code",
   "execution_count": 50,
   "id": "e2736bff",
   "metadata": {},
   "outputs": [
    {
     "data": {
      "text/plain": [
       "0.14728196405791913"
      ]
     },
     "execution_count": 50,
     "metadata": {},
     "output_type": "execute_result"
    }
   ],
   "source": [
    "validation_df_Atelectasis_ratio = validation_df[\"Atelectasis\"].sum() / len(validation_df)\n",
    "validation_df_Atelectasis_ratio"
   ]
  },
  {
   "cell_type": "code",
   "execution_count": 51,
   "id": "a93d17a8",
   "metadata": {},
   "outputs": [
    {
     "data": {
      "text/plain": [
       "80.0"
      ]
     },
     "execution_count": 51,
     "metadata": {},
     "output_type": "execute_result"
    }
   ],
   "source": [
    "test_df[\"Atelectasis\"].sum()"
   ]
  },
  {
   "cell_type": "code",
   "execution_count": 52,
   "id": "3aeee474",
   "metadata": {},
   "outputs": [
    {
     "data": {
      "text/plain": [
       "0.3418803418803419"
      ]
     },
     "execution_count": 52,
     "metadata": {},
     "output_type": "execute_result"
    }
   ],
   "source": [
    "test_df_Atelectasis_ratio = test_df[\"Atelectasis\"].sum() / len(test_df)\n",
    "test_df_Atelectasis_ratio"
   ]
  },
  {
   "cell_type": "markdown",
   "id": "9d67062d",
   "metadata": {},
   "source": [
    "#### 7.2 Cardiomegaly"
   ]
  },
  {
   "cell_type": "code",
   "execution_count": 53,
   "id": "74a2ae58",
   "metadata": {},
   "outputs": [
    {
     "data": {
      "text/plain": [
       "21671.0"
      ]
     },
     "execution_count": 53,
     "metadata": {},
     "output_type": "execute_result"
    }
   ],
   "source": [
    "train_df[\"Cardiomegaly\"].sum()"
   ]
  },
  {
   "cell_type": "code",
   "execution_count": 54,
   "id": "36ac6e60",
   "metadata": {},
   "outputs": [
    {
     "data": {
      "text/plain": [
       "0.12124925166870884"
      ]
     },
     "execution_count": 54,
     "metadata": {},
     "output_type": "execute_result"
    }
   ],
   "source": [
    "train_df_Cardiomegaly_ratio = train_df[\"Cardiomegaly\"].sum() / len(train_df)\n",
    "train_df_Cardiomegaly_ratio"
   ]
  },
  {
   "cell_type": "code",
   "execution_count": 55,
   "id": "8ba06dfd",
   "metadata": {},
   "outputs": [
    {
     "data": {
      "text/plain": [
       "5329.0"
      ]
     },
     "execution_count": 55,
     "metadata": {},
     "output_type": "execute_result"
    }
   ],
   "source": [
    "validation_df[\"Cardiomegaly\"].sum()"
   ]
  },
  {
   "cell_type": "code",
   "execution_count": 56,
   "id": "9fe76f8f",
   "metadata": {},
   "outputs": [
    {
     "data": {
      "text/plain": [
       "0.11926235928652955"
      ]
     },
     "execution_count": 56,
     "metadata": {},
     "output_type": "execute_result"
    }
   ],
   "source": [
    "validation_df_Cardiomegaly_ratio = validation_df[\"Cardiomegaly\"].sum() / len(validation_df)\n",
    "validation_df_Cardiomegaly_ratio"
   ]
  },
  {
   "cell_type": "code",
   "execution_count": 57,
   "id": "af80e617",
   "metadata": {},
   "outputs": [
    {
     "data": {
      "text/plain": [
       "68.0"
      ]
     },
     "execution_count": 57,
     "metadata": {},
     "output_type": "execute_result"
    }
   ],
   "source": [
    "test_df[\"Cardiomegaly\"].sum()"
   ]
  },
  {
   "cell_type": "code",
   "execution_count": 58,
   "id": "a4436d6c",
   "metadata": {},
   "outputs": [
    {
     "data": {
      "text/plain": [
       "0.2905982905982906"
      ]
     },
     "execution_count": 58,
     "metadata": {},
     "output_type": "execute_result"
    }
   ],
   "source": [
    "test_df_Cardiomegaly_ratio = test_df[\"Cardiomegaly\"].sum() / len(test_df)\n",
    "test_df_Cardiomegaly_ratio"
   ]
  },
  {
   "cell_type": "markdown",
   "id": "a1c8e90f",
   "metadata": {},
   "source": [
    "#### 7.3 Consolidation"
   ]
  },
  {
   "cell_type": "code",
   "execution_count": 59,
   "id": "9c5dfef2",
   "metadata": {},
   "outputs": [
    {
     "data": {
      "text/plain": [
       "11825.0"
      ]
     },
     "execution_count": 59,
     "metadata": {},
     "output_type": "execute_result"
    }
   ],
   "source": [
    "train_df[\"Consolidation\"].sum()"
   ]
  },
  {
   "cell_type": "code",
   "execution_count": 60,
   "id": "7bb069eb",
   "metadata": {},
   "outputs": [
    {
     "data": {
      "text/plain": [
       "0.06616087863884833"
      ]
     },
     "execution_count": 60,
     "metadata": {},
     "output_type": "execute_result"
    }
   ],
   "source": [
    "train_df_Consolidation_ratio = train_df[\"Consolidation\"].sum() / len(train_df)\n",
    "train_df_Consolidation_ratio"
   ]
  },
  {
   "cell_type": "code",
   "execution_count": 61,
   "id": "d22127a3",
   "metadata": {},
   "outputs": [
    {
     "data": {
      "text/plain": [
       "2958.0"
      ]
     },
     "execution_count": 61,
     "metadata": {},
     "output_type": "execute_result"
    }
   ],
   "source": [
    "validation_df[\"Consolidation\"].sum()"
   ]
  },
  {
   "cell_type": "code",
   "execution_count": 62,
   "id": "8f034e66",
   "metadata": {},
   "outputs": [
    {
     "data": {
      "text/plain": [
       "0.06619967325381017"
      ]
     },
     "execution_count": 62,
     "metadata": {},
     "output_type": "execute_result"
    }
   ],
   "source": [
    "validation_df_Consolidation_ratio = validation_df[\"Consolidation\"].sum() / len(validation_df)\n",
    "validation_df_Consolidation_ratio"
   ]
  },
  {
   "cell_type": "code",
   "execution_count": 63,
   "id": "03c7a451",
   "metadata": {},
   "outputs": [
    {
     "data": {
      "text/plain": [
       "33.0"
      ]
     },
     "execution_count": 63,
     "metadata": {},
     "output_type": "execute_result"
    }
   ],
   "source": [
    "test_df[\"Consolidation\"].sum()"
   ]
  },
  {
   "cell_type": "code",
   "execution_count": 64,
   "id": "eb449525",
   "metadata": {},
   "outputs": [
    {
     "data": {
      "text/plain": [
       "0.14102564102564102"
      ]
     },
     "execution_count": 64,
     "metadata": {},
     "output_type": "execute_result"
    }
   ],
   "source": [
    "test_df_Consolidation_ratio = test_df[\"Consolidation\"].sum() / len(test_df)\n",
    "test_df_Consolidation_ratio"
   ]
  },
  {
   "cell_type": "markdown",
   "id": "8cf73d5e",
   "metadata": {},
   "source": [
    "#### 7.4 Edema "
   ]
  },
  {
   "cell_type": "code",
   "execution_count": 65,
   "id": "e0b3dd30",
   "metadata": {},
   "outputs": [
    {
     "data": {
      "text/plain": [
       "41987.0"
      ]
     },
     "execution_count": 65,
     "metadata": {},
     "output_type": "execute_result"
    }
   ],
   "source": [
    "train_df[\"Edema\"].sum()"
   ]
  },
  {
   "cell_type": "code",
   "execution_count": 66,
   "id": "254ed5eb",
   "metadata": {},
   "outputs": [
    {
     "data": {
      "text/plain": [
       "0.23491727792045028"
      ]
     },
     "execution_count": 66,
     "metadata": {},
     "output_type": "execute_result"
    }
   ],
   "source": [
    "train_df_Edema_ratio = train_df[\"Edema\"].sum() / len(train_df)\n",
    "train_df_Edema_ratio"
   ]
  },
  {
   "cell_type": "code",
   "execution_count": 67,
   "id": "637bf6f0",
   "metadata": {},
   "outputs": [
    {
     "data": {
      "text/plain": [
       "10259.0"
      ]
     },
     "execution_count": 67,
     "metadata": {},
     "output_type": "execute_result"
    }
   ],
   "source": [
    "validation_df[\"Edema\"].sum()"
   ]
  },
  {
   "cell_type": "code",
   "execution_count": 68,
   "id": "0a6906cd",
   "metadata": {},
   "outputs": [
    {
     "data": {
      "text/plain": [
       "0.22959514804287984"
      ]
     },
     "execution_count": 68,
     "metadata": {},
     "output_type": "execute_result"
    }
   ],
   "source": [
    "validation_df_Edema_ratio = validation_df[\"Edema\"].sum() / len(validation_df)\n",
    "validation_df_Edema_ratio"
   ]
  },
  {
   "cell_type": "code",
   "execution_count": 69,
   "id": "8d8d72c1",
   "metadata": {},
   "outputs": [
    {
     "data": {
      "text/plain": [
       "45.0"
      ]
     },
     "execution_count": 69,
     "metadata": {},
     "output_type": "execute_result"
    }
   ],
   "source": [
    "test_df[\"Edema\"].sum()"
   ]
  },
  {
   "cell_type": "code",
   "execution_count": 70,
   "id": "42013aa8",
   "metadata": {},
   "outputs": [
    {
     "data": {
      "text/plain": [
       "0.19230769230769232"
      ]
     },
     "execution_count": 70,
     "metadata": {},
     "output_type": "execute_result"
    }
   ],
   "source": [
    "test_df_Edema_ratio = test_df[\"Edema\"].sum() / len(test_df)\n",
    "test_df_Edema_ratio"
   ]
  },
  {
   "cell_type": "markdown",
   "id": "27ab3556",
   "metadata": {},
   "source": [
    "#### 7.5 Pleural Effusion"
   ]
  },
  {
   "cell_type": "code",
   "execution_count": 71,
   "id": "07e8a33f",
   "metadata": {},
   "outputs": [
    {
     "data": {
      "text/plain": [
       "68928.0"
      ]
     },
     "execution_count": 71,
     "metadata": {},
     "output_type": "execute_result"
    }
   ],
   "source": [
    "train_df[\"Pleural Effusion\"].sum()"
   ]
  },
  {
   "cell_type": "code",
   "execution_count": 72,
   "id": "d3633f2b",
   "metadata": {},
   "outputs": [
    {
     "data": {
      "text/plain": [
       "0.38565218121086997"
      ]
     },
     "execution_count": 72,
     "metadata": {},
     "output_type": "execute_result"
    }
   ],
   "source": [
    "train_df_Pleural_Effusion_ratio = train_df[\"Pleural Effusion\"].sum() / len(train_df)\n",
    "train_df_Pleural_Effusion_ratio"
   ]
  },
  {
   "cell_type": "code",
   "execution_count": 73,
   "id": "2c914195",
   "metadata": {},
   "outputs": [
    {
     "data": {
      "text/plain": [
       "17259.0"
      ]
     },
     "execution_count": 73,
     "metadata": {},
     "output_type": "execute_result"
    }
   ],
   "source": [
    "validation_df[\"Pleural Effusion\"].sum()"
   ]
  },
  {
   "cell_type": "code",
   "execution_count": 74,
   "id": "5269af99",
   "metadata": {},
   "outputs": [
    {
     "data": {
      "text/plain": [
       "0.386254280151288"
      ]
     },
     "execution_count": 74,
     "metadata": {},
     "output_type": "execute_result"
    }
   ],
   "source": [
    "validation_df_Pleural_Effusion_ratio = validation_df[\"Pleural Effusion\"].sum() / len(validation_df)\n",
    "validation_df_Pleural_Effusion_ratio"
   ]
  },
  {
   "cell_type": "code",
   "execution_count": 75,
   "id": "6ad01677",
   "metadata": {},
   "outputs": [
    {
     "data": {
      "text/plain": [
       "67.0"
      ]
     },
     "execution_count": 75,
     "metadata": {},
     "output_type": "execute_result"
    }
   ],
   "source": [
    "test_df[\"Pleural Effusion\"].sum()"
   ]
  },
  {
   "cell_type": "code",
   "execution_count": 76,
   "id": "04e848ee",
   "metadata": {},
   "outputs": [
    {
     "data": {
      "text/plain": [
       "0.2863247863247863"
      ]
     },
     "execution_count": 76,
     "metadata": {},
     "output_type": "execute_result"
    }
   ],
   "source": [
    "test_df_Pleural_Effusion_ratio = test_df[\"Pleural Effusion\"].sum() / len(test_df)\n",
    "test_df_Pleural_Effusion_ratio"
   ]
  },
  {
   "cell_type": "markdown",
   "id": "b69bbe30",
   "metadata": {},
   "source": [
    "#### 7.6 Pleural Other"
   ]
  },
  {
   "cell_type": "code",
   "execution_count": 77,
   "id": "edfdcf6e",
   "metadata": {},
   "outputs": [
    {
     "data": {
      "text/plain": [
       "2801.0"
      ]
     },
     "execution_count": 77,
     "metadata": {},
     "output_type": "execute_result"
    }
   ],
   "source": [
    "train_df[\"Pleural Other\"].sum()"
   ]
  },
  {
   "cell_type": "code",
   "execution_count": 78,
   "id": "4ab429d1",
   "metadata": {},
   "outputs": [
    {
     "data": {
      "text/plain": [
       "0.01567159586193777"
      ]
     },
     "execution_count": 78,
     "metadata": {},
     "output_type": "execute_result"
    }
   ],
   "source": [
    "train_df_Pleural_Other_ratio = train_df[\"Pleural Other\"].sum() / len(train_df)\n",
    "train_df_Pleural_Other_ratio"
   ]
  },
  {
   "cell_type": "code",
   "execution_count": 79,
   "id": "50213d67",
   "metadata": {},
   "outputs": [
    {
     "data": {
      "text/plain": [
       "722.0"
      ]
     },
     "execution_count": 79,
     "metadata": {},
     "output_type": "execute_result"
    }
   ],
   "source": [
    "validation_df[\"Pleural Other\"].sum()"
   ]
  },
  {
   "cell_type": "code",
   "execution_count": 80,
   "id": "07bcc0c5",
   "metadata": {},
   "outputs": [
    {
     "data": {
      "text/plain": [
       "0.01615827048318152"
      ]
     },
     "execution_count": 80,
     "metadata": {},
     "output_type": "execute_result"
    }
   ],
   "source": [
    "validation_df_Pleural_Other_ratio = validation_df[\"Pleural Other\"].sum() / len(validation_df)\n",
    "validation_df_Pleural_Other_ratio"
   ]
  },
  {
   "cell_type": "code",
   "execution_count": 81,
   "id": "17500806",
   "metadata": {},
   "outputs": [
    {
     "data": {
      "text/plain": [
       "1.0"
      ]
     },
     "execution_count": 81,
     "metadata": {},
     "output_type": "execute_result"
    }
   ],
   "source": [
    "test_df[\"Pleural Other\"].sum()"
   ]
  },
  {
   "cell_type": "code",
   "execution_count": 82,
   "id": "ca06373a",
   "metadata": {},
   "outputs": [
    {
     "data": {
      "text/plain": [
       "0.004273504273504274"
      ]
     },
     "execution_count": 82,
     "metadata": {},
     "output_type": "execute_result"
    }
   ],
   "source": [
    "test_df_Pleural_Other_ratio = test_df[\"Pleural Other\"].sum() / len(test_df)\n",
    "test_df_Pleural_Other_ratio"
   ]
  },
  {
   "cell_type": "markdown",
   "id": "4741ac6c",
   "metadata": {},
   "source": [
    "#### 7.7 Pneumonia"
   ]
  },
  {
   "cell_type": "code",
   "execution_count": 83,
   "id": "38c3473c",
   "metadata": {},
   "outputs": [
    {
     "data": {
      "text/plain": [
       "4818.0"
      ]
     },
     "execution_count": 83,
     "metadata": {},
     "output_type": "execute_result"
    }
   ],
   "source": [
    "train_df[\"Pneumonia\"].sum()"
   ]
  },
  {
   "cell_type": "code",
   "execution_count": 84,
   "id": "18bc19a0",
   "metadata": {},
   "outputs": [
    {
     "data": {
      "text/plain": [
       "0.02695671148261913"
      ]
     },
     "execution_count": 84,
     "metadata": {},
     "output_type": "execute_result"
    }
   ],
   "source": [
    "train_df_Pneumonia_ratio = train_df[\"Pneumonia\"].sum() / len(train_df)\n",
    "train_df_Pneumonia_ratio"
   ]
  },
  {
   "cell_type": "code",
   "execution_count": 85,
   "id": "e67a30b6",
   "metadata": {},
   "outputs": [
    {
     "data": {
      "text/plain": [
       "1221.0"
      ]
     },
     "execution_count": 85,
     "metadata": {},
     "output_type": "execute_result"
    }
   ],
   "source": [
    "validation_df[\"Pneumonia\"].sum()"
   ]
  },
  {
   "cell_type": "code",
   "execution_count": 86,
   "id": "01506b5f",
   "metadata": {},
   "outputs": [
    {
     "data": {
      "text/plain": [
       "0.027325828614909474"
      ]
     },
     "execution_count": 86,
     "metadata": {},
     "output_type": "execute_result"
    }
   ],
   "source": [
    "validation_df_Pneumonia_ratio = validation_df[\"Pneumonia\"].sum() / len(validation_df)\n",
    "validation_df_Pneumonia_ratio"
   ]
  },
  {
   "cell_type": "code",
   "execution_count": 87,
   "id": "a17aa34c",
   "metadata": {},
   "outputs": [
    {
     "data": {
      "text/plain": [
       "8.0"
      ]
     },
     "execution_count": 87,
     "metadata": {},
     "output_type": "execute_result"
    }
   ],
   "source": [
    "test_df[\"Pneumonia\"].sum()"
   ]
  },
  {
   "cell_type": "code",
   "execution_count": 88,
   "id": "dc266055",
   "metadata": {},
   "outputs": [
    {
     "data": {
      "text/plain": [
       "0.03418803418803419"
      ]
     },
     "execution_count": 88,
     "metadata": {},
     "output_type": "execute_result"
    }
   ],
   "source": [
    "test_df_Pneumonia_ratio = test_df[\"Pneumonia\"].sum() / len(test_df)\n",
    "test_df_Pneumonia_ratio"
   ]
  },
  {
   "cell_type": "markdown",
   "id": "54242f41",
   "metadata": {},
   "source": [
    "#### 7.8 Pneumothorax"
   ]
  },
  {
   "cell_type": "code",
   "execution_count": 89,
   "id": "e1f2bfed",
   "metadata": {},
   "outputs": [
    {
     "data": {
      "text/plain": [
       "15506.0"
      ]
     },
     "execution_count": 89,
     "metadata": {},
     "output_type": "execute_result"
    }
   ],
   "source": [
    "train_df[\"Pneumothorax\"].sum()"
   ]
  },
  {
   "cell_type": "code",
   "execution_count": 90,
   "id": "24610cbe",
   "metadata": {},
   "outputs": [
    {
     "data": {
      "text/plain": [
       "0.08675607477158412"
      ]
     },
     "execution_count": 90,
     "metadata": {},
     "output_type": "execute_result"
    }
   ],
   "source": [
    "train_df_Pneumothorax_ratio = train_df[\"Pneumothorax\"].sum() / len(train_df)\n",
    "train_df_Pneumothorax_ratio"
   ]
  },
  {
   "cell_type": "code",
   "execution_count": 91,
   "id": "61b93186",
   "metadata": {},
   "outputs": [
    {
     "data": {
      "text/plain": [
       "3942.0"
      ]
     },
     "execution_count": 91,
     "metadata": {},
     "output_type": "execute_result"
    }
   ],
   "source": [
    "validation_df[\"Pneumothorax\"].sum()"
   ]
  },
  {
   "cell_type": "code",
   "execution_count": 92,
   "id": "ee8166ad",
   "metadata": {},
   "outputs": [
    {
     "data": {
      "text/plain": [
       "0.08822147125304926"
      ]
     },
     "execution_count": 92,
     "metadata": {},
     "output_type": "execute_result"
    }
   ],
   "source": [
    "validation_df_Pneumothorax_ratio = validation_df[\"Pneumothorax\"].sum() / len(validation_df)\n",
    "validation_df_Pneumothorax_ratio"
   ]
  },
  {
   "cell_type": "code",
   "execution_count": 93,
   "id": "8b2439c9",
   "metadata": {},
   "outputs": [
    {
     "data": {
      "text/plain": [
       "8.0"
      ]
     },
     "execution_count": 93,
     "metadata": {},
     "output_type": "execute_result"
    }
   ],
   "source": [
    "test_df[\"Pneumothorax\"].sum()"
   ]
  },
  {
   "cell_type": "code",
   "execution_count": 94,
   "id": "43b155f6",
   "metadata": {},
   "outputs": [
    {
     "data": {
      "text/plain": [
       "0.03418803418803419"
      ]
     },
     "execution_count": 94,
     "metadata": {},
     "output_type": "execute_result"
    }
   ],
   "source": [
    "test_df_Pneumothorax_ratio = test_df[\"Pneumothorax\"].sum() / len(test_df)\n",
    "test_df_Pneumothorax_ratio"
   ]
  },
  {
   "cell_type": "markdown",
   "id": "396227d0",
   "metadata": {},
   "source": [
    "#### 7.9 Enlarged Cardiomediastinum"
   ]
  },
  {
   "cell_type": "code",
   "execution_count": 95,
   "id": "9428c590",
   "metadata": {},
   "outputs": [
    {
     "data": {
      "text/plain": [
       "8651.0"
      ]
     },
     "execution_count": 95,
     "metadata": {},
     "output_type": "execute_result"
    }
   ],
   "source": [
    "train_df[\"Enlarged Cardiomediastinum\"].sum()"
   ]
  },
  {
   "cell_type": "code",
   "execution_count": 96,
   "id": "b353b986",
   "metadata": {},
   "outputs": [
    {
     "data": {
      "text/plain": [
       "0.04840234766212912"
      ]
     },
     "execution_count": 96,
     "metadata": {},
     "output_type": "execute_result"
    }
   ],
   "source": [
    "train_df_Enlarged_Cardiomediastinum_ratio = train_df[\"Enlarged Cardiomediastinum\"].sum() / len(train_df)\n",
    "train_df_Enlarged_Cardiomediastinum_ratio"
   ]
  },
  {
   "cell_type": "code",
   "execution_count": 97,
   "id": "5538a4e1",
   "metadata": {},
   "outputs": [
    {
     "data": {
      "text/plain": [
       "2147.0"
      ]
     },
     "execution_count": 97,
     "metadata": {},
     "output_type": "execute_result"
    }
   ],
   "source": [
    "validation_df[\"Enlarged Cardiomediastinum\"].sum()"
   ]
  },
  {
   "cell_type": "code",
   "execution_count": 98,
   "id": "f5400058",
   "metadata": {},
   "outputs": [
    {
     "data": {
      "text/plain": [
       "0.04804959380525032"
      ]
     },
     "execution_count": 98,
     "metadata": {},
     "output_type": "execute_result"
    }
   ],
   "source": [
    "validation_df_Enlarged_Cardiomediastinum_ratio = validation_df[\"Enlarged Cardiomediastinum\"].sum() / len(validation_df)\n",
    "validation_df_Enlarged_Cardiomediastinum_ratio"
   ]
  },
  {
   "cell_type": "code",
   "execution_count": 99,
   "id": "d4ce161d",
   "metadata": {},
   "outputs": [
    {
     "data": {
      "text/plain": [
       "109.0"
      ]
     },
     "execution_count": 99,
     "metadata": {},
     "output_type": "execute_result"
    }
   ],
   "source": [
    "test_df[\"Enlarged Cardiomediastinum\"].sum()"
   ]
  },
  {
   "cell_type": "code",
   "execution_count": 100,
   "id": "e70c4bb4",
   "metadata": {},
   "outputs": [
    {
     "data": {
      "text/plain": [
       "0.4658119658119658"
      ]
     },
     "execution_count": 100,
     "metadata": {},
     "output_type": "execute_result"
    }
   ],
   "source": [
    "test_df_Enlarged_Cardiomediastinum_ratio = test_df[\"Enlarged Cardiomediastinum\"].sum() / len(test_df)\n",
    "test_df_Enlarged_Cardiomediastinum_ratio"
   ]
  },
  {
   "cell_type": "markdown",
   "id": "a9007f37",
   "metadata": {},
   "source": [
    "#### 7.10 Lung Opacity"
   ]
  },
  {
   "cell_type": "code",
   "execution_count": 101,
   "id": "9d1512d5",
   "metadata": {},
   "outputs": [
    {
     "data": {
      "text/plain": [
       "84302.0"
      ]
     },
     "execution_count": 101,
     "metadata": {},
     "output_type": "execute_result"
    }
   ],
   "source": [
    "train_df[\"Lung Opacity\"].sum()"
   ]
  },
  {
   "cell_type": "code",
   "execution_count": 102,
   "id": "55d9cc68",
   "metadata": {},
   "outputs": [
    {
     "data": {
      "text/plain": [
       "0.4716697159418344"
      ]
     },
     "execution_count": 102,
     "metadata": {},
     "output_type": "execute_result"
    }
   ],
   "source": [
    "train_df_Lung_Opacity_ratio = train_df[\"Lung Opacity\"].sum() / len(train_df)\n",
    "train_df_Lung_Opacity_ratio"
   ]
  },
  {
   "cell_type": "code",
   "execution_count": 103,
   "id": "d31c77c1",
   "metadata": {},
   "outputs": [
    {
     "data": {
      "text/plain": [
       "21279.0"
      ]
     },
     "execution_count": 103,
     "metadata": {},
     "output_type": "execute_result"
    }
   ],
   "source": [
    "validation_df[\"Lung Opacity\"].sum()"
   ]
  },
  {
   "cell_type": "code",
   "execution_count": 104,
   "id": "4928c8b1",
   "metadata": {},
   "outputs": [
    {
     "data": {
      "text/plain": [
       "0.4762213817335452"
      ]
     },
     "execution_count": 104,
     "metadata": {},
     "output_type": "execute_result"
    }
   ],
   "source": [
    "validation_df_Lung_Opacity_ratio = validation_df[\"Lung Opacity\"].sum() / len(validation_df)\n",
    "validation_df_Lung_Opacity_ratio"
   ]
  },
  {
   "cell_type": "code",
   "execution_count": 105,
   "id": "ae71c1ed",
   "metadata": {},
   "outputs": [
    {
     "data": {
      "text/plain": [
       "126.0"
      ]
     },
     "execution_count": 105,
     "metadata": {},
     "output_type": "execute_result"
    }
   ],
   "source": [
    "test_df[\"Lung Opacity\"].sum()"
   ]
  },
  {
   "cell_type": "code",
   "execution_count": 106,
   "id": "d2be8334",
   "metadata": {},
   "outputs": [
    {
     "data": {
      "text/plain": [
       "0.5384615384615384"
      ]
     },
     "execution_count": 106,
     "metadata": {},
     "output_type": "execute_result"
    }
   ],
   "source": [
    "test_df_Lung_Opacity_ratio = test_df[\"Lung Opacity\"].sum() / len(test_df)\n",
    "test_df_Lung_Opacity_ratio"
   ]
  },
  {
   "cell_type": "markdown",
   "id": "58c4938c",
   "metadata": {},
   "source": [
    "#### 7.11 Lung Lesion"
   ]
  },
  {
   "cell_type": "code",
   "execution_count": 107,
   "id": "609f912c",
   "metadata": {},
   "outputs": [
    {
     "data": {
      "text/plain": [
       "7343.0"
      ]
     },
     "execution_count": 107,
     "metadata": {},
     "output_type": "execute_result"
    }
   ],
   "source": [
    "train_df[\"Lung Lesion\"].sum()"
   ]
  },
  {
   "cell_type": "code",
   "execution_count": 108,
   "id": "9304efb6",
   "metadata": {},
   "outputs": [
    {
     "data": {
      "text/plain": [
       "0.0410840872596248"
      ]
     },
     "execution_count": 108,
     "metadata": {},
     "output_type": "execute_result"
    }
   ],
   "source": [
    "train_df_Lung_Lesion_ratio = train_df[\"Lung Lesion\"].sum() / len(train_df)\n",
    "train_df_Lung_Lesion_ratio"
   ]
  },
  {
   "cell_type": "code",
   "execution_count": 109,
   "id": "ceb42d0f",
   "metadata": {},
   "outputs": [
    {
     "data": {
      "text/plain": [
       "21279.0"
      ]
     },
     "execution_count": 109,
     "metadata": {},
     "output_type": "execute_result"
    }
   ],
   "source": [
    "validation_df[\"Lung Opacity\"].sum()"
   ]
  },
  {
   "cell_type": "code",
   "execution_count": 110,
   "id": "3a94fbbb",
   "metadata": {},
   "outputs": [
    {
     "data": {
      "text/plain": [
       "0.04124611149654231"
      ]
     },
     "execution_count": 110,
     "metadata": {},
     "output_type": "execute_result"
    }
   ],
   "source": [
    "validation_df_Lung_Lesion_ratio = validation_df[\"Lung Lesion\"].sum() / len(validation_df)\n",
    "validation_df_Lung_Lesion_ratio"
   ]
  },
  {
   "cell_type": "code",
   "execution_count": 111,
   "id": "4c354ca4",
   "metadata": {},
   "outputs": [
    {
     "data": {
      "text/plain": [
       "1.0"
      ]
     },
     "execution_count": 111,
     "metadata": {},
     "output_type": "execute_result"
    }
   ],
   "source": [
    "test_df[\"Lung Lesion\"].sum()"
   ]
  },
  {
   "cell_type": "code",
   "execution_count": 112,
   "id": "566b8ea1",
   "metadata": {},
   "outputs": [
    {
     "data": {
      "text/plain": [
       "0.004273504273504274"
      ]
     },
     "execution_count": 112,
     "metadata": {},
     "output_type": "execute_result"
    }
   ],
   "source": [
    "test_df_Lung_Lesion_ratio = test_df[\"Lung Lesion\"].sum() / len(test_df)\n",
    "test_df_Lung_Lesion_ratio"
   ]
  },
  {
   "cell_type": "markdown",
   "id": "cc3ed69c",
   "metadata": {},
   "source": [
    "#### 7.12 Fracture"
   ]
  },
  {
   "cell_type": "code",
   "execution_count": 113,
   "id": "e457a650",
   "metadata": {},
   "outputs": [
    {
     "data": {
      "text/plain": [
       "7247.0"
      ]
     },
     "execution_count": 113,
     "metadata": {},
     "output_type": "execute_result"
    }
   ],
   "source": [
    "train_df[\"Fracture\"].sum()"
   ]
  },
  {
   "cell_type": "code",
   "execution_count": 114,
   "id": "4081b7ea",
   "metadata": {},
   "outputs": [
    {
     "data": {
      "text/plain": [
       "0.0405469672300832"
      ]
     },
     "execution_count": 114,
     "metadata": {},
     "output_type": "execute_result"
    }
   ],
   "source": [
    "train_df_Fracture_ratio = train_df[\"Fracture\"].sum() / len(train_df)\n",
    "train_df_Fracture_ratio"
   ]
  },
  {
   "cell_type": "code",
   "execution_count": 115,
   "id": "d6bee0b4",
   "metadata": {},
   "outputs": [
    {
     "data": {
      "text/plain": [
       "1793.0"
      ]
     },
     "execution_count": 115,
     "metadata": {},
     "output_type": "execute_result"
    }
   ],
   "source": [
    "validation_df[\"Fracture\"].sum()"
   ]
  },
  {
   "cell_type": "code",
   "execution_count": 116,
   "id": "ea025ecb",
   "metadata": {},
   "outputs": [
    {
     "data": {
      "text/plain": [
       "0.04012711769576797"
      ]
     },
     "execution_count": 116,
     "metadata": {},
     "output_type": "execute_result"
    }
   ],
   "source": [
    "validation_df_Fracture_ratio = validation_df[\"Fracture\"].sum() / len(validation_df)\n",
    "validation_df_Fracture_ratio"
   ]
  },
  {
   "cell_type": "code",
   "execution_count": 117,
   "id": "e8de4bea",
   "metadata": {},
   "outputs": [
    {
     "data": {
      "text/plain": [
       "0.0"
      ]
     },
     "execution_count": 117,
     "metadata": {},
     "output_type": "execute_result"
    }
   ],
   "source": [
    "test_df[\"Fracture\"].sum()"
   ]
  },
  {
   "cell_type": "code",
   "execution_count": 118,
   "id": "20610344",
   "metadata": {},
   "outputs": [
    {
     "data": {
      "text/plain": [
       "0.0"
      ]
     },
     "execution_count": 118,
     "metadata": {},
     "output_type": "execute_result"
    }
   ],
   "source": [
    "test_df_Fracture_ratio = test_df[\"Fracture\"].sum() / len(test_df)\n",
    "test_df_Fracture_ratio"
   ]
  },
  {
   "cell_type": "markdown",
   "id": "6f0051af",
   "metadata": {},
   "source": [
    "#### 7.13 Support Devices"
   ]
  },
  {
   "cell_type": "code",
   "execution_count": 119,
   "id": "8cfafed3",
   "metadata": {},
   "outputs": [
    {
     "data": {
      "text/plain": [
       "92742.0"
      ]
     },
     "execution_count": 119,
     "metadata": {},
     "output_type": "execute_result"
    }
   ],
   "source": [
    "train_df[\"Support Devices\"].sum()"
   ]
  },
  {
   "cell_type": "code",
   "execution_count": 120,
   "id": "61d765b0",
   "metadata": {},
   "outputs": [
    {
     "data": {
      "text/plain": [
       "0.5188915185390335"
      ]
     },
     "execution_count": 120,
     "metadata": {},
     "output_type": "execute_result"
    }
   ],
   "source": [
    "train_df_Support_Devices_ratio = train_df[\"Support Devices\"].sum() / len(train_df)\n",
    "train_df_Support_Devices_ratio"
   ]
  },
  {
   "cell_type": "code",
   "execution_count": 121,
   "id": "ea8ee763",
   "metadata": {},
   "outputs": [
    {
     "data": {
      "text/plain": [
       "23259.0"
      ]
     },
     "execution_count": 121,
     "metadata": {},
     "output_type": "execute_result"
    }
   ],
   "source": [
    "validation_df[\"Support Devices\"].sum()"
   ]
  },
  {
   "cell_type": "code",
   "execution_count": 122,
   "id": "2ab05011",
   "metadata": {},
   "outputs": [
    {
     "data": {
      "text/plain": [
       "0.5205335362442092"
      ]
     },
     "execution_count": 122,
     "metadata": {},
     "output_type": "execute_result"
    }
   ],
   "source": [
    "validation_df_Support_Devices_ratio = validation_df[\"Support Devices\"].sum() / len(validation_df)\n",
    "validation_df_Support_Devices_ratio"
   ]
  },
  {
   "cell_type": "code",
   "execution_count": 123,
   "id": "33c44667",
   "metadata": {},
   "outputs": [
    {
     "data": {
      "text/plain": [
       "107.0"
      ]
     },
     "execution_count": 123,
     "metadata": {},
     "output_type": "execute_result"
    }
   ],
   "source": [
    "test_df[\"Support Devices\"].sum()"
   ]
  },
  {
   "cell_type": "code",
   "execution_count": 124,
   "id": "55564c0a",
   "metadata": {},
   "outputs": [
    {
     "data": {
      "text/plain": [
       "0.45726495726495725"
      ]
     },
     "execution_count": 124,
     "metadata": {},
     "output_type": "execute_result"
    }
   ],
   "source": [
    "test_df_Support_Devices_ratio = test_df[\"Support Devices\"].sum() / len(test_df)\n",
    "test_df_Support_Devices_ratio"
   ]
  },
  {
   "cell_type": "markdown",
   "id": "f6339085",
   "metadata": {},
   "source": [
    "#### 7.14 No Finding"
   ]
  },
  {
   "cell_type": "code",
   "execution_count": 125,
   "id": "bd792f92",
   "metadata": {},
   "outputs": [
    {
     "data": {
      "text/plain": [
       "17794.0"
      ]
     },
     "execution_count": 125,
     "metadata": {},
     "output_type": "execute_result"
    }
   ],
   "source": [
    "train_df[\"No Finding\"].sum()"
   ]
  },
  {
   "cell_type": "code",
   "execution_count": 126,
   "id": "3ce2c0bb",
   "metadata": {},
   "outputs": [
    {
     "data": {
      "text/plain": [
       "0.09955743547565896"
      ]
     },
     "execution_count": 126,
     "metadata": {},
     "output_type": "execute_result"
    }
   ],
   "source": [
    "train_df_No_Finding_ratio = train_df[\"No Finding\"].sum() / len(train_df)\n",
    "train_df_No_Finding_ratio"
   ]
  },
  {
   "cell_type": "code",
   "execution_count": 127,
   "id": "f323f330",
   "metadata": {},
   "outputs": [
    {
     "data": {
      "text/plain": [
       "4587.0"
      ]
     },
     "execution_count": 127,
     "metadata": {},
     "output_type": "execute_result"
    }
   ],
   "source": [
    "validation_df[\"No Finding\"].sum()"
   ]
  },
  {
   "cell_type": "code",
   "execution_count": 128,
   "id": "d215fbd3",
   "metadata": {},
   "outputs": [
    {
     "data": {
      "text/plain": [
       "0.10265649128303829"
      ]
     },
     "execution_count": 128,
     "metadata": {},
     "output_type": "execute_result"
    }
   ],
   "source": [
    "validation_df_No_Finding_ratio = validation_df[\"No Finding\"].sum() / len(validation_df)\n",
    "validation_df_No_Finding_ratio"
   ]
  },
  {
   "cell_type": "code",
   "execution_count": 129,
   "id": "d243ded3",
   "metadata": {},
   "outputs": [
    {
     "data": {
      "text/plain": [
       "38.0"
      ]
     },
     "execution_count": 129,
     "metadata": {},
     "output_type": "execute_result"
    }
   ],
   "source": [
    "test_df[\"No Finding\"].sum()"
   ]
  },
  {
   "cell_type": "code",
   "execution_count": 130,
   "id": "e55689ef",
   "metadata": {},
   "outputs": [
    {
     "data": {
      "text/plain": [
       "0.1623931623931624"
      ]
     },
     "execution_count": 130,
     "metadata": {},
     "output_type": "execute_result"
    }
   ],
   "source": [
    "test_df_No_Finding_ratio = test_df[\"No Finding\"].sum() / len(test_df)\n",
    "test_df_No_Finding_ratio"
   ]
  },
  {
   "cell_type": "markdown",
   "id": "43d34ff4",
   "metadata": {},
   "source": [
    "### 9- Distribution of labels pie charts"
   ]
  },
  {
   "cell_type": "code",
   "execution_count": 131,
   "id": "549281b2",
   "metadata": {},
   "outputs": [],
   "source": [
    "labels = [\n",
    "    \"Atelectasis\",\n",
    "    \"Cardiomegaly\",\n",
    "    \"Consolidation\",\n",
    "    \"Edema\",\n",
    "    \"Pleural Effusion\",\n",
    "    \"Pleural Other\",\n",
    "    \"Pneumonia\",\n",
    "    \"Pneumothorax\",\n",
    "    \"Enlarged Cardiomediastinum\",\n",
    "    \"Lung Opacity\",\n",
    "    \"Lung Lesion\",\n",
    "    \"Fracture\",\n",
    "    \"Support Devices\",\n",
    "    \"No Finding\"\n",
    "]"
   ]
  },
  {
   "cell_type": "code",
   "execution_count": 132,
   "id": "578fbd0a",
   "metadata": {},
   "outputs": [
    {
     "data": {
      "image/png": "[encoded data removed]",
      "text/plain": [
       "<Figure size 936x936 with 1 Axes>"
      ]
     },
     "metadata": {},
     "output_type": "display_data"
    }
   ],
   "source": [
    "sizes = [\n",
    "    train_df_Atelectasis_ratio,\n",
    "    train_df_Cardiomegaly_ratio,\n",
    "    train_df_Consolidation_ratio,\n",
    "    train_df_Edema_ratio,\n",
    "    train_df_Pleural_Effusion_ratio,\n",
    "    train_df_Pleural_Other_ratio,\n",
    "    train_df_Pneumonia_ratio,\n",
    "    train_df_Pneumothorax_ratio,\n",
    "    train_df_Enlarged_Cardiomediastinum_ratio,\n",
    "    train_df_Lung_Opacity_ratio,\n",
    "    train_df_Lung_Lesion_ratio,\n",
    "    train_df_Fracture_ratio,\n",
    "    train_df_Support_Devices_ratio,\n",
    "    train_df_No_Finding_ratio\n",
    "]\n",
    "\n",
    "fig1, ax1 = plt.subplots(figsize=(13, 13))\n",
    "ax1.pie(sizes, labels=labels, autopct='%1.1f%%')\n",
    "ax1.axis('equal')  # Equal aspect ratio ensures that pie is drawn as a circle.\n",
    "plt.title(\"Train set label distribution\")\n",
    "\n",
    "plt.show()"
   ]
  },
  {
   "cell_type": "code",
   "execution_count": 133,
   "id": "cc55f720",
   "metadata": {},
   "outputs": [
    {
     "data": {
      "image/png": "[encoded data removed]",
      "text/plain": [
       "<Figure size 936x936 with 1 Axes>"
      ]
     },
     "metadata": {},
     "output_type": "display_data"
    }
   ],
   "source": [
    "sizes = [\n",
    "    validation_df_Atelectasis_ratio,\n",
    "    validation_df_Cardiomegaly_ratio,\n",
    "    validation_df_Consolidation_ratio,\n",
    "    validation_df_Edema_ratio,\n",
    "    validation_df_Pleural_Effusion_ratio,\n",
    "    validation_df_Pleural_Other_ratio,\n",
    "    validation_df_Pneumonia_ratio,\n",
    "    validation_df_Pneumothorax_ratio,\n",
    "    validation_df_Enlarged_Cardiomediastinum_ratio,\n",
    "    validation_df_Lung_Opacity_ratio,\n",
    "    validation_df_Lung_Lesion_ratio,\n",
    "    validation_df_Fracture_ratio,\n",
    "    validation_df_Support_Devices_ratio,\n",
    "    validation_df_No_Finding_ratio\n",
    "]\n",
    "\n",
    "fig1, ax1 = plt.subplots(figsize=(13, 13))\n",
    "ax1.pie(sizes, labels=labels, autopct='%1.1f%%')\n",
    "ax1.axis('equal')  # Equal aspect ratio ensures that pie is drawn as a circle.\n",
    "plt.title(\"Validation set label distribution\")\n",
    "\n",
    "plt.show()"
   ]
  },
  {
   "cell_type": "code",
   "execution_count": 134,
   "id": "24a274c9",
   "metadata": {},
   "outputs": [
    {
     "data": {
      "image/png": "[encoded data removed]",
      "text/plain": [
       "<Figure size 936x936 with 1 Axes>"
      ]
     },
     "metadata": {},
     "output_type": "display_data"
    }
   ],
   "source": [
    "sizes = [\n",
    "    test_df_Atelectasis_ratio,\n",
    "    test_df_Cardiomegaly_ratio,\n",
    "    test_df_Consolidation_ratio,\n",
    "    test_df_Edema_ratio,\n",
    "    test_df_Pleural_Effusion_ratio,\n",
    "    test_df_Pleural_Other_ratio,\n",
    "    test_df_Pneumonia_ratio,\n",
    "    test_df_Pneumothorax_ratio,\n",
    "    test_df_Enlarged_Cardiomediastinum_ratio,\n",
    "    test_df_Lung_Opacity_ratio,\n",
    "    test_df_Lung_Lesion_ratio,\n",
    "    test_df_Fracture_ratio,\n",
    "    test_df_Support_Devices_ratio,\n",
    "    test_df_No_Finding_ratio\n",
    "]\n",
    "\n",
    "fig1, ax1 = plt.subplots(figsize=(13, 13))\n",
    "ax1.pie(sizes, labels=labels, autopct='%1.1f%%')\n",
    "ax1.axis('equal')  # Equal aspect ratio ensures that pie is drawn as a circle.\n",
    "plt.title(\"Test set label distribution\")\n",
    "\n",
    "plt.show()"
   ]
  },
  {
   "cell_type": "markdown",
   "id": "7e857a5b",
   "metadata": {},
   "source": [
    "### 10- Saving processed labels"
   ]
  },
  {
   "cell_type": "code",
   "execution_count": 135,
   "id": "7583abd7",
   "metadata": {},
   "outputs": [
    {
     "data": {
      "text/html": [
       "<div>\n",
       "<style scoped>\n",
       "    .dataframe tbody tr th:only-of-type {\n",
       "        vertical-align: middle;\n",
       "    }\n",
       "\n",
       "    .dataframe tbody tr th {\n",
       "        vertical-align: top;\n",
       "    }\n",
       "\n",
       "    .dataframe thead th {\n",
       "        text-align: right;\n",
       "    }\n",
       "</style>\n",
       "<table border=\"1\" class=\"dataframe\">\n",
       "  <thead>\n",
       "    <tr style=\"text-align: right;\">\n",
       "      <th></th>\n",
       "      <th>Path</th>\n",
       "      <th>Atelectasis</th>\n",
       "      <th>Cardiomegaly</th>\n",
       "      <th>Consolidation</th>\n",
       "      <th>Edema</th>\n",
       "      <th>Pleural Effusion</th>\n",
       "      <th>Pleural Other</th>\n",
       "      <th>Pneumonia</th>\n",
       "      <th>Pneumothorax</th>\n",
       "      <th>Enlarged Cardiomediastinum</th>\n",
       "      <th>Lung Opacity</th>\n",
       "      <th>Lung Lesion</th>\n",
       "      <th>Fracture</th>\n",
       "      <th>Support Devices</th>\n",
       "      <th>No Finding</th>\n",
       "    </tr>\n",
       "  </thead>\n",
       "  <tbody>\n",
       "    <tr>\n",
       "      <th>147955</th>\n",
       "      <td>CheXpert-v1.0/train/patient35203/study28/view1...</td>\n",
       "      <td>0.0</td>\n",
       "      <td>0.0</td>\n",
       "      <td>0.0</td>\n",
       "      <td>0.0</td>\n",
       "      <td>1.0</td>\n",
       "      <td>0.0</td>\n",
       "      <td>0.0</td>\n",
       "      <td>0.0</td>\n",
       "      <td>1.0</td>\n",
       "      <td>1.0</td>\n",
       "      <td>0.0</td>\n",
       "      <td>0.0</td>\n",
       "      <td>1.0</td>\n",
       "      <td>0.0</td>\n",
       "    </tr>\n",
       "    <tr>\n",
       "      <th>163338</th>\n",
       "      <td>CheXpert-v1.0/train/patient38124/study5/view1_...</td>\n",
       "      <td>0.0</td>\n",
       "      <td>0.0</td>\n",
       "      <td>0.0</td>\n",
       "      <td>0.0</td>\n",
       "      <td>1.0</td>\n",
       "      <td>0.0</td>\n",
       "      <td>0.0</td>\n",
       "      <td>0.0</td>\n",
       "      <td>0.0</td>\n",
       "      <td>0.0</td>\n",
       "      <td>0.0</td>\n",
       "      <td>1.0</td>\n",
       "      <td>1.0</td>\n",
       "      <td>0.0</td>\n",
       "    </tr>\n",
       "    <tr>\n",
       "      <th>69480</th>\n",
       "      <td>CheXpert-v1.0/train/patient16628/study1/view2_...</td>\n",
       "      <td>0.0</td>\n",
       "      <td>0.0</td>\n",
       "      <td>0.0</td>\n",
       "      <td>0.0</td>\n",
       "      <td>0.0</td>\n",
       "      <td>0.0</td>\n",
       "      <td>0.0</td>\n",
       "      <td>0.0</td>\n",
       "      <td>0.0</td>\n",
       "      <td>0.0</td>\n",
       "      <td>0.0</td>\n",
       "      <td>1.0</td>\n",
       "      <td>0.0</td>\n",
       "      <td>0.0</td>\n",
       "    </tr>\n",
       "    <tr>\n",
       "      <th>25205</th>\n",
       "      <td>CheXpert-v1.0/train/patient06161/study2/view1_...</td>\n",
       "      <td>0.0</td>\n",
       "      <td>1.0</td>\n",
       "      <td>0.0</td>\n",
       "      <td>0.0</td>\n",
       "      <td>0.0</td>\n",
       "      <td>0.0</td>\n",
       "      <td>0.0</td>\n",
       "      <td>0.0</td>\n",
       "      <td>0.0</td>\n",
       "      <td>1.0</td>\n",
       "      <td>0.0</td>\n",
       "      <td>0.0</td>\n",
       "      <td>0.0</td>\n",
       "      <td>0.0</td>\n",
       "    </tr>\n",
       "    <tr>\n",
       "      <th>98537</th>\n",
       "      <td>CheXpert-v1.0/train/patient23744/study17/view2...</td>\n",
       "      <td>0.0</td>\n",
       "      <td>1.0</td>\n",
       "      <td>0.0</td>\n",
       "      <td>1.0</td>\n",
       "      <td>1.0</td>\n",
       "      <td>0.0</td>\n",
       "      <td>0.0</td>\n",
       "      <td>0.0</td>\n",
       "      <td>0.0</td>\n",
       "      <td>0.0</td>\n",
       "      <td>0.0</td>\n",
       "      <td>0.0</td>\n",
       "      <td>1.0</td>\n",
       "      <td>0.0</td>\n",
       "    </tr>\n",
       "    <tr>\n",
       "      <th>...</th>\n",
       "      <td>...</td>\n",
       "      <td>...</td>\n",
       "      <td>...</td>\n",
       "      <td>...</td>\n",
       "      <td>...</td>\n",
       "      <td>...</td>\n",
       "      <td>...</td>\n",
       "      <td>...</td>\n",
       "      <td>...</td>\n",
       "      <td>...</td>\n",
       "      <td>...</td>\n",
       "      <td>...</td>\n",
       "      <td>...</td>\n",
       "      <td>...</td>\n",
       "      <td>...</td>\n",
       "    </tr>\n",
       "    <tr>\n",
       "      <th>62239</th>\n",
       "      <td>CheXpert-v1.0/train/patient15019/study1/view1_...</td>\n",
       "      <td>0.0</td>\n",
       "      <td>0.0</td>\n",
       "      <td>0.0</td>\n",
       "      <td>0.0</td>\n",
       "      <td>0.0</td>\n",
       "      <td>0.0</td>\n",
       "      <td>0.0</td>\n",
       "      <td>0.0</td>\n",
       "      <td>0.0</td>\n",
       "      <td>0.0</td>\n",
       "      <td>0.0</td>\n",
       "      <td>0.0</td>\n",
       "      <td>0.0</td>\n",
       "      <td>0.0</td>\n",
       "    </tr>\n",
       "    <tr>\n",
       "      <th>152127</th>\n",
       "      <td>CheXpert-v1.0/train/patient35905/study3/view1_...</td>\n",
       "      <td>0.0</td>\n",
       "      <td>0.0</td>\n",
       "      <td>0.0</td>\n",
       "      <td>0.0</td>\n",
       "      <td>0.0</td>\n",
       "      <td>0.0</td>\n",
       "      <td>0.0</td>\n",
       "      <td>0.0</td>\n",
       "      <td>0.0</td>\n",
       "      <td>1.0</td>\n",
       "      <td>0.0</td>\n",
       "      <td>0.0</td>\n",
       "      <td>1.0</td>\n",
       "      <td>0.0</td>\n",
       "    </tr>\n",
       "    <tr>\n",
       "      <th>119174</th>\n",
       "      <td>CheXpert-v1.0/train/patient28559/study1/view3_...</td>\n",
       "      <td>0.0</td>\n",
       "      <td>0.0</td>\n",
       "      <td>0.0</td>\n",
       "      <td>0.0</td>\n",
       "      <td>0.0</td>\n",
       "      <td>0.0</td>\n",
       "      <td>0.0</td>\n",
       "      <td>0.0</td>\n",
       "      <td>0.0</td>\n",
       "      <td>0.0</td>\n",
       "      <td>0.0</td>\n",
       "      <td>0.0</td>\n",
       "      <td>0.0</td>\n",
       "      <td>0.0</td>\n",
       "    </tr>\n",
       "    <tr>\n",
       "      <th>193608</th>\n",
       "      <td>CheXpert-v1.0/train/patient46927/study1/view1_...</td>\n",
       "      <td>0.0</td>\n",
       "      <td>0.0</td>\n",
       "      <td>0.0</td>\n",
       "      <td>1.0</td>\n",
       "      <td>0.0</td>\n",
       "      <td>0.0</td>\n",
       "      <td>1.0</td>\n",
       "      <td>0.0</td>\n",
       "      <td>0.0</td>\n",
       "      <td>0.0</td>\n",
       "      <td>0.0</td>\n",
       "      <td>0.0</td>\n",
       "      <td>1.0</td>\n",
       "      <td>0.0</td>\n",
       "    </tr>\n",
       "    <tr>\n",
       "      <th>142257</th>\n",
       "      <td>CheXpert-v1.0/train/patient34197/study4/view2_...</td>\n",
       "      <td>0.0</td>\n",
       "      <td>0.0</td>\n",
       "      <td>0.0</td>\n",
       "      <td>0.0</td>\n",
       "      <td>1.0</td>\n",
       "      <td>0.0</td>\n",
       "      <td>0.0</td>\n",
       "      <td>0.0</td>\n",
       "      <td>0.0</td>\n",
       "      <td>0.0</td>\n",
       "      <td>0.0</td>\n",
       "      <td>0.0</td>\n",
       "      <td>0.0</td>\n",
       "      <td>0.0</td>\n",
       "    </tr>\n",
       "  </tbody>\n",
       "</table>\n",
       "<p>178731 rows × 15 columns</p>\n",
       "</div>"
      ],
      "text/plain": [
       "                                                     Path  Atelectasis  \\\n",
       "147955  CheXpert-v1.0/train/patient35203/study28/view1...          0.0   \n",
       "163338  CheXpert-v1.0/train/patient38124/study5/view1_...          0.0   \n",
       "69480   CheXpert-v1.0/train/patient16628/study1/view2_...          0.0   \n",
       "25205   CheXpert-v1.0/train/patient06161/study2/view1_...          0.0   \n",
       "98537   CheXpert-v1.0/train/patient23744/study17/view2...          0.0   \n",
       "...                                                   ...          ...   \n",
       "62239   CheXpert-v1.0/train/patient15019/study1/view1_...          0.0   \n",
       "152127  CheXpert-v1.0/train/patient35905/study3/view1_...          0.0   \n",
       "119174  CheXpert-v1.0/train/patient28559/study1/view3_...          0.0   \n",
       "193608  CheXpert-v1.0/train/patient46927/study1/view1_...          0.0   \n",
       "142257  CheXpert-v1.0/train/patient34197/study4/view2_...          0.0   \n",
       "\n",
       "        Cardiomegaly  Consolidation  Edema  Pleural Effusion  Pleural Other  \\\n",
       "147955           0.0            0.0    0.0               1.0            0.0   \n",
       "163338           0.0            0.0    0.0               1.0            0.0   \n",
       "69480            0.0            0.0    0.0               0.0            0.0   \n",
       "25205            1.0            0.0    0.0               0.0            0.0   \n",
       "98537            1.0            0.0    1.0               1.0            0.0   \n",
       "...              ...            ...    ...               ...            ...   \n",
       "62239            0.0            0.0    0.0               0.0            0.0   \n",
       "152127           0.0            0.0    0.0               0.0            0.0   \n",
       "119174           0.0            0.0    0.0               0.0            0.0   \n",
       "193608           0.0            0.0    1.0               0.0            0.0   \n",
       "142257           0.0            0.0    0.0               1.0            0.0   \n",
       "\n",
       "        Pneumonia  Pneumothorax  Enlarged Cardiomediastinum  Lung Opacity  \\\n",
       "147955        0.0           0.0                         1.0           1.0   \n",
       "163338        0.0           0.0                         0.0           0.0   \n",
       "69480         0.0           0.0                         0.0           0.0   \n",
       "25205         0.0           0.0                         0.0           1.0   \n",
       "98537         0.0           0.0                         0.0           0.0   \n",
       "...           ...           ...                         ...           ...   \n",
       "62239         0.0           0.0                         0.0           0.0   \n",
       "152127        0.0           0.0                         0.0           1.0   \n",
       "119174        0.0           0.0                         0.0           0.0   \n",
       "193608        1.0           0.0                         0.0           0.0   \n",
       "142257        0.0           0.0                         0.0           0.0   \n",
       "\n",
       "        Lung Lesion  Fracture  Support Devices  No Finding  \n",
       "147955          0.0       0.0              1.0         0.0  \n",
       "163338          0.0       1.0              1.0         0.0  \n",
       "69480           0.0       1.0              0.0         0.0  \n",
       "25205           0.0       0.0              0.0         0.0  \n",
       "98537           0.0       0.0              1.0         0.0  \n",
       "...             ...       ...              ...         ...  \n",
       "62239           0.0       0.0              0.0         0.0  \n",
       "152127          0.0       0.0              1.0         0.0  \n",
       "119174          0.0       0.0              0.0         0.0  \n",
       "193608          0.0       0.0              1.0         0.0  \n",
       "142257          0.0       0.0              0.0         0.0  \n",
       "\n",
       "[178731 rows x 15 columns]"
      ]
     },
     "execution_count": 135,
     "metadata": {},
     "output_type": "execute_result"
    }
   ],
   "source": [
    "train_df"
   ]
  },
  {
   "cell_type": "code",
   "execution_count": 136,
   "id": "9966fad1",
   "metadata": {},
   "outputs": [],
   "source": [
    "train_df.to_csv(\"../../labels/train_validation_split_data/train_u-zeroes.csv\", index=False)"
   ]
  },
  {
   "cell_type": "code",
   "execution_count": 137,
   "id": "2393031b",
   "metadata": {},
   "outputs": [
    {
     "data": {
      "text/html": [
       "<div>\n",
       "<style scoped>\n",
       "    .dataframe tbody tr th:only-of-type {\n",
       "        vertical-align: middle;\n",
       "    }\n",
       "\n",
       "    .dataframe tbody tr th {\n",
       "        vertical-align: top;\n",
       "    }\n",
       "\n",
       "    .dataframe thead th {\n",
       "        text-align: right;\n",
       "    }\n",
       "</style>\n",
       "<table border=\"1\" class=\"dataframe\">\n",
       "  <thead>\n",
       "    <tr style=\"text-align: right;\">\n",
       "      <th></th>\n",
       "      <th>Path</th>\n",
       "      <th>Atelectasis</th>\n",
       "      <th>Cardiomegaly</th>\n",
       "      <th>Consolidation</th>\n",
       "      <th>Edema</th>\n",
       "      <th>Pleural Effusion</th>\n",
       "      <th>Pleural Other</th>\n",
       "      <th>Pneumonia</th>\n",
       "      <th>Pneumothorax</th>\n",
       "      <th>Enlarged Cardiomediastinum</th>\n",
       "      <th>Lung Opacity</th>\n",
       "      <th>Lung Lesion</th>\n",
       "      <th>Fracture</th>\n",
       "      <th>Support Devices</th>\n",
       "      <th>No Finding</th>\n",
       "    </tr>\n",
       "  </thead>\n",
       "  <tbody>\n",
       "    <tr>\n",
       "      <th>67305</th>\n",
       "      <td>CheXpert-v1.0/train/patient16169/study2/view2_...</td>\n",
       "      <td>0.0</td>\n",
       "      <td>0.0</td>\n",
       "      <td>0.0</td>\n",
       "      <td>1.0</td>\n",
       "      <td>1.0</td>\n",
       "      <td>0.0</td>\n",
       "      <td>0.0</td>\n",
       "      <td>0.0</td>\n",
       "      <td>0.0</td>\n",
       "      <td>0.0</td>\n",
       "      <td>0.0</td>\n",
       "      <td>0.0</td>\n",
       "      <td>1.0</td>\n",
       "      <td>0.0</td>\n",
       "    </tr>\n",
       "    <tr>\n",
       "      <th>158250</th>\n",
       "      <td>CheXpert-v1.0/train/patient37045/study7/view1_...</td>\n",
       "      <td>0.0</td>\n",
       "      <td>0.0</td>\n",
       "      <td>0.0</td>\n",
       "      <td>0.0</td>\n",
       "      <td>1.0</td>\n",
       "      <td>0.0</td>\n",
       "      <td>0.0</td>\n",
       "      <td>0.0</td>\n",
       "      <td>0.0</td>\n",
       "      <td>1.0</td>\n",
       "      <td>0.0</td>\n",
       "      <td>0.0</td>\n",
       "      <td>1.0</td>\n",
       "      <td>0.0</td>\n",
       "    </tr>\n",
       "    <tr>\n",
       "      <th>51315</th>\n",
       "      <td>CheXpert-v1.0/train/patient12490/study12/view1...</td>\n",
       "      <td>0.0</td>\n",
       "      <td>0.0</td>\n",
       "      <td>0.0</td>\n",
       "      <td>0.0</td>\n",
       "      <td>1.0</td>\n",
       "      <td>0.0</td>\n",
       "      <td>0.0</td>\n",
       "      <td>0.0</td>\n",
       "      <td>0.0</td>\n",
       "      <td>1.0</td>\n",
       "      <td>0.0</td>\n",
       "      <td>0.0</td>\n",
       "      <td>0.0</td>\n",
       "      <td>0.0</td>\n",
       "    </tr>\n",
       "    <tr>\n",
       "      <th>204270</th>\n",
       "      <td>CheXpert-v1.0/train/patient51556/study7/view1_...</td>\n",
       "      <td>0.0</td>\n",
       "      <td>0.0</td>\n",
       "      <td>0.0</td>\n",
       "      <td>0.0</td>\n",
       "      <td>1.0</td>\n",
       "      <td>0.0</td>\n",
       "      <td>0.0</td>\n",
       "      <td>0.0</td>\n",
       "      <td>0.0</td>\n",
       "      <td>1.0</td>\n",
       "      <td>0.0</td>\n",
       "      <td>0.0</td>\n",
       "      <td>1.0</td>\n",
       "      <td>0.0</td>\n",
       "    </tr>\n",
       "    <tr>\n",
       "      <th>71280</th>\n",
       "      <td>CheXpert-v1.0/train/patient17091/study1/view1_...</td>\n",
       "      <td>0.0</td>\n",
       "      <td>0.0</td>\n",
       "      <td>0.0</td>\n",
       "      <td>0.0</td>\n",
       "      <td>0.0</td>\n",
       "      <td>0.0</td>\n",
       "      <td>0.0</td>\n",
       "      <td>0.0</td>\n",
       "      <td>0.0</td>\n",
       "      <td>1.0</td>\n",
       "      <td>0.0</td>\n",
       "      <td>0.0</td>\n",
       "      <td>0.0</td>\n",
       "      <td>0.0</td>\n",
       "    </tr>\n",
       "    <tr>\n",
       "      <th>...</th>\n",
       "      <td>...</td>\n",
       "      <td>...</td>\n",
       "      <td>...</td>\n",
       "      <td>...</td>\n",
       "      <td>...</td>\n",
       "      <td>...</td>\n",
       "      <td>...</td>\n",
       "      <td>...</td>\n",
       "      <td>...</td>\n",
       "      <td>...</td>\n",
       "      <td>...</td>\n",
       "      <td>...</td>\n",
       "      <td>...</td>\n",
       "      <td>...</td>\n",
       "      <td>...</td>\n",
       "    </tr>\n",
       "    <tr>\n",
       "      <th>84611</th>\n",
       "      <td>CheXpert-v1.0/train/patient20333/study4/view1_...</td>\n",
       "      <td>0.0</td>\n",
       "      <td>0.0</td>\n",
       "      <td>0.0</td>\n",
       "      <td>0.0</td>\n",
       "      <td>1.0</td>\n",
       "      <td>0.0</td>\n",
       "      <td>0.0</td>\n",
       "      <td>0.0</td>\n",
       "      <td>1.0</td>\n",
       "      <td>0.0</td>\n",
       "      <td>0.0</td>\n",
       "      <td>0.0</td>\n",
       "      <td>1.0</td>\n",
       "      <td>0.0</td>\n",
       "    </tr>\n",
       "    <tr>\n",
       "      <th>168690</th>\n",
       "      <td>CheXpert-v1.0/train/patient39344/study11/view1...</td>\n",
       "      <td>0.0</td>\n",
       "      <td>0.0</td>\n",
       "      <td>0.0</td>\n",
       "      <td>0.0</td>\n",
       "      <td>1.0</td>\n",
       "      <td>0.0</td>\n",
       "      <td>0.0</td>\n",
       "      <td>0.0</td>\n",
       "      <td>0.0</td>\n",
       "      <td>1.0</td>\n",
       "      <td>0.0</td>\n",
       "      <td>0.0</td>\n",
       "      <td>1.0</td>\n",
       "      <td>0.0</td>\n",
       "    </tr>\n",
       "    <tr>\n",
       "      <th>166829</th>\n",
       "      <td>CheXpert-v1.0/train/patient38931/study1/view1_...</td>\n",
       "      <td>0.0</td>\n",
       "      <td>1.0</td>\n",
       "      <td>0.0</td>\n",
       "      <td>0.0</td>\n",
       "      <td>1.0</td>\n",
       "      <td>0.0</td>\n",
       "      <td>0.0</td>\n",
       "      <td>0.0</td>\n",
       "      <td>1.0</td>\n",
       "      <td>1.0</td>\n",
       "      <td>0.0</td>\n",
       "      <td>0.0</td>\n",
       "      <td>0.0</td>\n",
       "      <td>0.0</td>\n",
       "    </tr>\n",
       "    <tr>\n",
       "      <th>184236</th>\n",
       "      <td>CheXpert-v1.0/train/patient43600/study1/view1_...</td>\n",
       "      <td>1.0</td>\n",
       "      <td>0.0</td>\n",
       "      <td>0.0</td>\n",
       "      <td>0.0</td>\n",
       "      <td>0.0</td>\n",
       "      <td>0.0</td>\n",
       "      <td>0.0</td>\n",
       "      <td>0.0</td>\n",
       "      <td>0.0</td>\n",
       "      <td>0.0</td>\n",
       "      <td>0.0</td>\n",
       "      <td>0.0</td>\n",
       "      <td>1.0</td>\n",
       "      <td>0.0</td>\n",
       "    </tr>\n",
       "    <tr>\n",
       "      <th>189045</th>\n",
       "      <td>CheXpert-v1.0/train/patient45159/study2/view1_...</td>\n",
       "      <td>0.0</td>\n",
       "      <td>0.0</td>\n",
       "      <td>1.0</td>\n",
       "      <td>0.0</td>\n",
       "      <td>1.0</td>\n",
       "      <td>0.0</td>\n",
       "      <td>0.0</td>\n",
       "      <td>1.0</td>\n",
       "      <td>0.0</td>\n",
       "      <td>0.0</td>\n",
       "      <td>0.0</td>\n",
       "      <td>0.0</td>\n",
       "      <td>0.0</td>\n",
       "      <td>0.0</td>\n",
       "    </tr>\n",
       "  </tbody>\n",
       "</table>\n",
       "<p>44683 rows × 15 columns</p>\n",
       "</div>"
      ],
      "text/plain": [
       "                                                     Path  Atelectasis  \\\n",
       "67305   CheXpert-v1.0/train/patient16169/study2/view2_...          0.0   \n",
       "158250  CheXpert-v1.0/train/patient37045/study7/view1_...          0.0   \n",
       "51315   CheXpert-v1.0/train/patient12490/study12/view1...          0.0   \n",
       "204270  CheXpert-v1.0/train/patient51556/study7/view1_...          0.0   \n",
       "71280   CheXpert-v1.0/train/patient17091/study1/view1_...          0.0   \n",
       "...                                                   ...          ...   \n",
       "84611   CheXpert-v1.0/train/patient20333/study4/view1_...          0.0   \n",
       "168690  CheXpert-v1.0/train/patient39344/study11/view1...          0.0   \n",
       "166829  CheXpert-v1.0/train/patient38931/study1/view1_...          0.0   \n",
       "184236  CheXpert-v1.0/train/patient43600/study1/view1_...          1.0   \n",
       "189045  CheXpert-v1.0/train/patient45159/study2/view1_...          0.0   \n",
       "\n",
       "        Cardiomegaly  Consolidation  Edema  Pleural Effusion  Pleural Other  \\\n",
       "67305            0.0            0.0    1.0               1.0            0.0   \n",
       "158250           0.0            0.0    0.0               1.0            0.0   \n",
       "51315            0.0            0.0    0.0               1.0            0.0   \n",
       "204270           0.0            0.0    0.0               1.0            0.0   \n",
       "71280            0.0            0.0    0.0               0.0            0.0   \n",
       "...              ...            ...    ...               ...            ...   \n",
       "84611            0.0            0.0    0.0               1.0            0.0   \n",
       "168690           0.0            0.0    0.0               1.0            0.0   \n",
       "166829           1.0            0.0    0.0               1.0            0.0   \n",
       "184236           0.0            0.0    0.0               0.0            0.0   \n",
       "189045           0.0            1.0    0.0               1.0            0.0   \n",
       "\n",
       "        Pneumonia  Pneumothorax  Enlarged Cardiomediastinum  Lung Opacity  \\\n",
       "67305         0.0           0.0                         0.0           0.0   \n",
       "158250        0.0           0.0                         0.0           1.0   \n",
       "51315         0.0           0.0                         0.0           1.0   \n",
       "204270        0.0           0.0                         0.0           1.0   \n",
       "71280         0.0           0.0                         0.0           1.0   \n",
       "...           ...           ...                         ...           ...   \n",
       "84611         0.0           0.0                         1.0           0.0   \n",
       "168690        0.0           0.0                         0.0           1.0   \n",
       "166829        0.0           0.0                         1.0           1.0   \n",
       "184236        0.0           0.0                         0.0           0.0   \n",
       "189045        0.0           1.0                         0.0           0.0   \n",
       "\n",
       "        Lung Lesion  Fracture  Support Devices  No Finding  \n",
       "67305           0.0       0.0              1.0         0.0  \n",
       "158250          0.0       0.0              1.0         0.0  \n",
       "51315           0.0       0.0              0.0         0.0  \n",
       "204270          0.0       0.0              1.0         0.0  \n",
       "71280           0.0       0.0              0.0         0.0  \n",
       "...             ...       ...              ...         ...  \n",
       "84611           0.0       0.0              1.0         0.0  \n",
       "168690          0.0       0.0              1.0         0.0  \n",
       "166829          0.0       0.0              0.0         0.0  \n",
       "184236          0.0       0.0              1.0         0.0  \n",
       "189045          0.0       0.0              0.0         0.0  \n",
       "\n",
       "[44683 rows x 15 columns]"
      ]
     },
     "execution_count": 137,
     "metadata": {},
     "output_type": "execute_result"
    }
   ],
   "source": [
    "validation_df"
   ]
  },
  {
   "cell_type": "code",
   "execution_count": 138,
   "id": "342ede07",
   "metadata": {},
   "outputs": [],
   "source": [
    "validation_df.to_csv(\"../../labels/train_validation_split_data/validation_u-zeroes.csv\", index=False)"
   ]
  },
  {
   "cell_type": "code",
   "execution_count": 139,
   "id": "0946f52a",
   "metadata": {},
   "outputs": [
    {
     "data": {
      "text/html": [
       "<div>\n",
       "<style scoped>\n",
       "    .dataframe tbody tr th:only-of-type {\n",
       "        vertical-align: middle;\n",
       "    }\n",
       "\n",
       "    .dataframe tbody tr th {\n",
       "        vertical-align: top;\n",
       "    }\n",
       "\n",
       "    .dataframe thead th {\n",
       "        text-align: right;\n",
       "    }\n",
       "</style>\n",
       "<table border=\"1\" class=\"dataframe\">\n",
       "  <thead>\n",
       "    <tr style=\"text-align: right;\">\n",
       "      <th></th>\n",
       "      <th>Path</th>\n",
       "      <th>Atelectasis</th>\n",
       "      <th>Cardiomegaly</th>\n",
       "      <th>Consolidation</th>\n",
       "      <th>Edema</th>\n",
       "      <th>Pleural Effusion</th>\n",
       "      <th>Pleural Other</th>\n",
       "      <th>Pneumonia</th>\n",
       "      <th>Pneumothorax</th>\n",
       "      <th>Enlarged Cardiomediastinum</th>\n",
       "      <th>Lung Opacity</th>\n",
       "      <th>Lung Lesion</th>\n",
       "      <th>Fracture</th>\n",
       "      <th>Support Devices</th>\n",
       "      <th>No Finding</th>\n",
       "    </tr>\n",
       "  </thead>\n",
       "  <tbody>\n",
       "    <tr>\n",
       "      <th>0</th>\n",
       "      <td>CheXpert-v1.0/valid/patient64541/study1/view1_...</td>\n",
       "      <td>0.0</td>\n",
       "      <td>1.0</td>\n",
       "      <td>0.0</td>\n",
       "      <td>0.0</td>\n",
       "      <td>0.0</td>\n",
       "      <td>0.0</td>\n",
       "      <td>0.0</td>\n",
       "      <td>0.0</td>\n",
       "      <td>1.0</td>\n",
       "      <td>1.0</td>\n",
       "      <td>0.0</td>\n",
       "      <td>0.0</td>\n",
       "      <td>0.0</td>\n",
       "      <td>0.0</td>\n",
       "    </tr>\n",
       "    <tr>\n",
       "      <th>1</th>\n",
       "      <td>CheXpert-v1.0/valid/patient64542/study1/view1_...</td>\n",
       "      <td>0.0</td>\n",
       "      <td>0.0</td>\n",
       "      <td>0.0</td>\n",
       "      <td>0.0</td>\n",
       "      <td>0.0</td>\n",
       "      <td>0.0</td>\n",
       "      <td>0.0</td>\n",
       "      <td>0.0</td>\n",
       "      <td>0.0</td>\n",
       "      <td>0.0</td>\n",
       "      <td>0.0</td>\n",
       "      <td>0.0</td>\n",
       "      <td>1.0</td>\n",
       "      <td>0.0</td>\n",
       "    </tr>\n",
       "    <tr>\n",
       "      <th>2</th>\n",
       "      <td>CheXpert-v1.0/valid/patient64542/study1/view2_...</td>\n",
       "      <td>0.0</td>\n",
       "      <td>0.0</td>\n",
       "      <td>0.0</td>\n",
       "      <td>0.0</td>\n",
       "      <td>0.0</td>\n",
       "      <td>0.0</td>\n",
       "      <td>0.0</td>\n",
       "      <td>0.0</td>\n",
       "      <td>0.0</td>\n",
       "      <td>0.0</td>\n",
       "      <td>0.0</td>\n",
       "      <td>0.0</td>\n",
       "      <td>1.0</td>\n",
       "      <td>0.0</td>\n",
       "    </tr>\n",
       "    <tr>\n",
       "      <th>3</th>\n",
       "      <td>CheXpert-v1.0/valid/patient64543/study1/view1_...</td>\n",
       "      <td>0.0</td>\n",
       "      <td>0.0</td>\n",
       "      <td>0.0</td>\n",
       "      <td>1.0</td>\n",
       "      <td>0.0</td>\n",
       "      <td>0.0</td>\n",
       "      <td>0.0</td>\n",
       "      <td>0.0</td>\n",
       "      <td>1.0</td>\n",
       "      <td>1.0</td>\n",
       "      <td>0.0</td>\n",
       "      <td>0.0</td>\n",
       "      <td>0.0</td>\n",
       "      <td>0.0</td>\n",
       "    </tr>\n",
       "    <tr>\n",
       "      <th>4</th>\n",
       "      <td>CheXpert-v1.0/valid/patient64544/study1/view1_...</td>\n",
       "      <td>0.0</td>\n",
       "      <td>0.0</td>\n",
       "      <td>0.0</td>\n",
       "      <td>0.0</td>\n",
       "      <td>0.0</td>\n",
       "      <td>0.0</td>\n",
       "      <td>0.0</td>\n",
       "      <td>0.0</td>\n",
       "      <td>0.0</td>\n",
       "      <td>0.0</td>\n",
       "      <td>0.0</td>\n",
       "      <td>0.0</td>\n",
       "      <td>0.0</td>\n",
       "      <td>1.0</td>\n",
       "    </tr>\n",
       "    <tr>\n",
       "      <th>...</th>\n",
       "      <td>...</td>\n",
       "      <td>...</td>\n",
       "      <td>...</td>\n",
       "      <td>...</td>\n",
       "      <td>...</td>\n",
       "      <td>...</td>\n",
       "      <td>...</td>\n",
       "      <td>...</td>\n",
       "      <td>...</td>\n",
       "      <td>...</td>\n",
       "      <td>...</td>\n",
       "      <td>...</td>\n",
       "      <td>...</td>\n",
       "      <td>...</td>\n",
       "      <td>...</td>\n",
       "    </tr>\n",
       "    <tr>\n",
       "      <th>229</th>\n",
       "      <td>CheXpert-v1.0/valid/patient64736/study1/view1_...</td>\n",
       "      <td>0.0</td>\n",
       "      <td>0.0</td>\n",
       "      <td>0.0</td>\n",
       "      <td>0.0</td>\n",
       "      <td>0.0</td>\n",
       "      <td>0.0</td>\n",
       "      <td>0.0</td>\n",
       "      <td>0.0</td>\n",
       "      <td>0.0</td>\n",
       "      <td>0.0</td>\n",
       "      <td>0.0</td>\n",
       "      <td>0.0</td>\n",
       "      <td>1.0</td>\n",
       "      <td>0.0</td>\n",
       "    </tr>\n",
       "    <tr>\n",
       "      <th>230</th>\n",
       "      <td>CheXpert-v1.0/valid/patient64737/study1/view1_...</td>\n",
       "      <td>0.0</td>\n",
       "      <td>0.0</td>\n",
       "      <td>0.0</td>\n",
       "      <td>0.0</td>\n",
       "      <td>0.0</td>\n",
       "      <td>0.0</td>\n",
       "      <td>0.0</td>\n",
       "      <td>0.0</td>\n",
       "      <td>0.0</td>\n",
       "      <td>0.0</td>\n",
       "      <td>0.0</td>\n",
       "      <td>0.0</td>\n",
       "      <td>1.0</td>\n",
       "      <td>0.0</td>\n",
       "    </tr>\n",
       "    <tr>\n",
       "      <th>231</th>\n",
       "      <td>CheXpert-v1.0/valid/patient64738/study1/view1_...</td>\n",
       "      <td>0.0</td>\n",
       "      <td>1.0</td>\n",
       "      <td>0.0</td>\n",
       "      <td>1.0</td>\n",
       "      <td>0.0</td>\n",
       "      <td>0.0</td>\n",
       "      <td>0.0</td>\n",
       "      <td>0.0</td>\n",
       "      <td>1.0</td>\n",
       "      <td>1.0</td>\n",
       "      <td>0.0</td>\n",
       "      <td>0.0</td>\n",
       "      <td>1.0</td>\n",
       "      <td>0.0</td>\n",
       "    </tr>\n",
       "    <tr>\n",
       "      <th>232</th>\n",
       "      <td>CheXpert-v1.0/valid/patient64739/study1/view1_...</td>\n",
       "      <td>0.0</td>\n",
       "      <td>0.0</td>\n",
       "      <td>0.0</td>\n",
       "      <td>0.0</td>\n",
       "      <td>0.0</td>\n",
       "      <td>0.0</td>\n",
       "      <td>0.0</td>\n",
       "      <td>0.0</td>\n",
       "      <td>1.0</td>\n",
       "      <td>0.0</td>\n",
       "      <td>0.0</td>\n",
       "      <td>0.0</td>\n",
       "      <td>0.0</td>\n",
       "      <td>0.0</td>\n",
       "    </tr>\n",
       "    <tr>\n",
       "      <th>233</th>\n",
       "      <td>CheXpert-v1.0/valid/patient64740/study1/view1_...</td>\n",
       "      <td>1.0</td>\n",
       "      <td>0.0</td>\n",
       "      <td>0.0</td>\n",
       "      <td>0.0</td>\n",
       "      <td>1.0</td>\n",
       "      <td>0.0</td>\n",
       "      <td>0.0</td>\n",
       "      <td>0.0</td>\n",
       "      <td>1.0</td>\n",
       "      <td>1.0</td>\n",
       "      <td>0.0</td>\n",
       "      <td>0.0</td>\n",
       "      <td>0.0</td>\n",
       "      <td>0.0</td>\n",
       "    </tr>\n",
       "  </tbody>\n",
       "</table>\n",
       "<p>234 rows × 15 columns</p>\n",
       "</div>"
      ],
      "text/plain": [
       "                                                  Path  Atelectasis  \\\n",
       "0    CheXpert-v1.0/valid/patient64541/study1/view1_...          0.0   \n",
       "1    CheXpert-v1.0/valid/patient64542/study1/view1_...          0.0   \n",
       "2    CheXpert-v1.0/valid/patient64542/study1/view2_...          0.0   \n",
       "3    CheXpert-v1.0/valid/patient64543/study1/view1_...          0.0   \n",
       "4    CheXpert-v1.0/valid/patient64544/study1/view1_...          0.0   \n",
       "..                                                 ...          ...   \n",
       "229  CheXpert-v1.0/valid/patient64736/study1/view1_...          0.0   \n",
       "230  CheXpert-v1.0/valid/patient64737/study1/view1_...          0.0   \n",
       "231  CheXpert-v1.0/valid/patient64738/study1/view1_...          0.0   \n",
       "232  CheXpert-v1.0/valid/patient64739/study1/view1_...          0.0   \n",
       "233  CheXpert-v1.0/valid/patient64740/study1/view1_...          1.0   \n",
       "\n",
       "     Cardiomegaly  Consolidation  Edema  Pleural Effusion  Pleural Other  \\\n",
       "0             1.0            0.0    0.0               0.0            0.0   \n",
       "1             0.0            0.0    0.0               0.0            0.0   \n",
       "2             0.0            0.0    0.0               0.0            0.0   \n",
       "3             0.0            0.0    1.0               0.0            0.0   \n",
       "4             0.0            0.0    0.0               0.0            0.0   \n",
       "..            ...            ...    ...               ...            ...   \n",
       "229           0.0            0.0    0.0               0.0            0.0   \n",
       "230           0.0            0.0    0.0               0.0            0.0   \n",
       "231           1.0            0.0    1.0               0.0            0.0   \n",
       "232           0.0            0.0    0.0               0.0            0.0   \n",
       "233           0.0            0.0    0.0               1.0            0.0   \n",
       "\n",
       "     Pneumonia  Pneumothorax  Enlarged Cardiomediastinum  Lung Opacity  \\\n",
       "0          0.0           0.0                         1.0           1.0   \n",
       "1          0.0           0.0                         0.0           0.0   \n",
       "2          0.0           0.0                         0.0           0.0   \n",
       "3          0.0           0.0                         1.0           1.0   \n",
       "4          0.0           0.0                         0.0           0.0   \n",
       "..         ...           ...                         ...           ...   \n",
       "229        0.0           0.0                         0.0           0.0   \n",
       "230        0.0           0.0                         0.0           0.0   \n",
       "231        0.0           0.0                         1.0           1.0   \n",
       "232        0.0           0.0                         1.0           0.0   \n",
       "233        0.0           0.0                         1.0           1.0   \n",
       "\n",
       "     Lung Lesion  Fracture  Support Devices  No Finding  \n",
       "0            0.0       0.0              0.0         0.0  \n",
       "1            0.0       0.0              1.0         0.0  \n",
       "2            0.0       0.0              1.0         0.0  \n",
       "3            0.0       0.0              0.0         0.0  \n",
       "4            0.0       0.0              0.0         1.0  \n",
       "..           ...       ...              ...         ...  \n",
       "229          0.0       0.0              1.0         0.0  \n",
       "230          0.0       0.0              1.0         0.0  \n",
       "231          0.0       0.0              1.0         0.0  \n",
       "232          0.0       0.0              0.0         0.0  \n",
       "233          0.0       0.0              0.0         0.0  \n",
       "\n",
       "[234 rows x 15 columns]"
      ]
     },
     "execution_count": 139,
     "metadata": {},
     "output_type": "execute_result"
    }
   ],
   "source": [
    "test_df"
   ]
  },
  {
   "cell_type": "code",
   "execution_count": 140,
   "id": "3b700753",
   "metadata": {},
   "outputs": [],
   "source": [
    "test_df.to_csv(\"../../labels/train_validation_split_data/test_u-zeroes.csv\", index=False)"
   ]
  },
  {
   "cell_type": "markdown",
   "id": "bdaffdaa",
   "metadata": {},
   "source": [
    "### 11- Saving only the CheXpert competition 5 labels"
   ]
  },
  {
   "cell_type": "code",
   "execution_count": 141,
   "id": "5177d87f",
   "metadata": {},
   "outputs": [],
   "source": [
    "chexpert_labels = [\n",
    "    \"Path\",\n",
    "    \"Atelectasis\",\n",
    "    \"Cardiomegaly\",\n",
    "    \"Consolidation\",\n",
    "    \"Edema\",\n",
    "    \"Pleural Effusion\"\n",
    "]"
   ]
  },
  {
   "cell_type": "code",
   "execution_count": 142,
   "id": "a1138f95",
   "metadata": {},
   "outputs": [],
   "source": [
    "train_df_chexpert = train_df[chexpert_labels]"
   ]
  },
  {
   "cell_type": "code",
   "execution_count": 143,
   "id": "fa89028b",
   "metadata": {},
   "outputs": [
    {
     "data": {
      "text/html": [
       "<div>\n",
       "<style scoped>\n",
       "    .dataframe tbody tr th:only-of-type {\n",
       "        vertical-align: middle;\n",
       "    }\n",
       "\n",
       "    .dataframe tbody tr th {\n",
       "        vertical-align: top;\n",
       "    }\n",
       "\n",
       "    .dataframe thead th {\n",
       "        text-align: right;\n",
       "    }\n",
       "</style>\n",
       "<table border=\"1\" class=\"dataframe\">\n",
       "  <thead>\n",
       "    <tr style=\"text-align: right;\">\n",
       "      <th></th>\n",
       "      <th>Path</th>\n",
       "      <th>Atelectasis</th>\n",
       "      <th>Cardiomegaly</th>\n",
       "      <th>Consolidation</th>\n",
       "      <th>Edema</th>\n",
       "      <th>Pleural Effusion</th>\n",
       "    </tr>\n",
       "  </thead>\n",
       "  <tbody>\n",
       "    <tr>\n",
       "      <th>147955</th>\n",
       "      <td>CheXpert-v1.0/train/patient35203/study28/view1...</td>\n",
       "      <td>0.0</td>\n",
       "      <td>0.0</td>\n",
       "      <td>0.0</td>\n",
       "      <td>0.0</td>\n",
       "      <td>1.0</td>\n",
       "    </tr>\n",
       "    <tr>\n",
       "      <th>163338</th>\n",
       "      <td>CheXpert-v1.0/train/patient38124/study5/view1_...</td>\n",
       "      <td>0.0</td>\n",
       "      <td>0.0</td>\n",
       "      <td>0.0</td>\n",
       "      <td>0.0</td>\n",
       "      <td>1.0</td>\n",
       "    </tr>\n",
       "    <tr>\n",
       "      <th>69480</th>\n",
       "      <td>CheXpert-v1.0/train/patient16628/study1/view2_...</td>\n",
       "      <td>0.0</td>\n",
       "      <td>0.0</td>\n",
       "      <td>0.0</td>\n",
       "      <td>0.0</td>\n",
       "      <td>0.0</td>\n",
       "    </tr>\n",
       "    <tr>\n",
       "      <th>25205</th>\n",
       "      <td>CheXpert-v1.0/train/patient06161/study2/view1_...</td>\n",
       "      <td>0.0</td>\n",
       "      <td>1.0</td>\n",
       "      <td>0.0</td>\n",
       "      <td>0.0</td>\n",
       "      <td>0.0</td>\n",
       "    </tr>\n",
       "    <tr>\n",
       "      <th>98537</th>\n",
       "      <td>CheXpert-v1.0/train/patient23744/study17/view2...</td>\n",
       "      <td>0.0</td>\n",
       "      <td>1.0</td>\n",
       "      <td>0.0</td>\n",
       "      <td>1.0</td>\n",
       "      <td>1.0</td>\n",
       "    </tr>\n",
       "    <tr>\n",
       "      <th>...</th>\n",
       "      <td>...</td>\n",
       "      <td>...</td>\n",
       "      <td>...</td>\n",
       "      <td>...</td>\n",
       "      <td>...</td>\n",
       "      <td>...</td>\n",
       "    </tr>\n",
       "    <tr>\n",
       "      <th>62239</th>\n",
       "      <td>CheXpert-v1.0/train/patient15019/study1/view1_...</td>\n",
       "      <td>0.0</td>\n",
       "      <td>0.0</td>\n",
       "      <td>0.0</td>\n",
       "      <td>0.0</td>\n",
       "      <td>0.0</td>\n",
       "    </tr>\n",
       "    <tr>\n",
       "      <th>152127</th>\n",
       "      <td>CheXpert-v1.0/train/patient35905/study3/view1_...</td>\n",
       "      <td>0.0</td>\n",
       "      <td>0.0</td>\n",
       "      <td>0.0</td>\n",
       "      <td>0.0</td>\n",
       "      <td>0.0</td>\n",
       "    </tr>\n",
       "    <tr>\n",
       "      <th>119174</th>\n",
       "      <td>CheXpert-v1.0/train/patient28559/study1/view3_...</td>\n",
       "      <td>0.0</td>\n",
       "      <td>0.0</td>\n",
       "      <td>0.0</td>\n",
       "      <td>0.0</td>\n",
       "      <td>0.0</td>\n",
       "    </tr>\n",
       "    <tr>\n",
       "      <th>193608</th>\n",
       "      <td>CheXpert-v1.0/train/patient46927/study1/view1_...</td>\n",
       "      <td>0.0</td>\n",
       "      <td>0.0</td>\n",
       "      <td>0.0</td>\n",
       "      <td>1.0</td>\n",
       "      <td>0.0</td>\n",
       "    </tr>\n",
       "    <tr>\n",
       "      <th>142257</th>\n",
       "      <td>CheXpert-v1.0/train/patient34197/study4/view2_...</td>\n",
       "      <td>0.0</td>\n",
       "      <td>0.0</td>\n",
       "      <td>0.0</td>\n",
       "      <td>0.0</td>\n",
       "      <td>1.0</td>\n",
       "    </tr>\n",
       "  </tbody>\n",
       "</table>\n",
       "<p>178731 rows × 6 columns</p>\n",
       "</div>"
      ],
      "text/plain": [
       "                                                     Path  Atelectasis  \\\n",
       "147955  CheXpert-v1.0/train/patient35203/study28/view1...          0.0   \n",
       "163338  CheXpert-v1.0/train/patient38124/study5/view1_...          0.0   \n",
       "69480   CheXpert-v1.0/train/patient16628/study1/view2_...          0.0   \n",
       "25205   CheXpert-v1.0/train/patient06161/study2/view1_...          0.0   \n",
       "98537   CheXpert-v1.0/train/patient23744/study17/view2...          0.0   \n",
       "...                                                   ...          ...   \n",
       "62239   CheXpert-v1.0/train/patient15019/study1/view1_...          0.0   \n",
       "152127  CheXpert-v1.0/train/patient35905/study3/view1_...          0.0   \n",
       "119174  CheXpert-v1.0/train/patient28559/study1/view3_...          0.0   \n",
       "193608  CheXpert-v1.0/train/patient46927/study1/view1_...          0.0   \n",
       "142257  CheXpert-v1.0/train/patient34197/study4/view2_...          0.0   \n",
       "\n",
       "        Cardiomegaly  Consolidation  Edema  Pleural Effusion  \n",
       "147955           0.0            0.0    0.0               1.0  \n",
       "163338           0.0            0.0    0.0               1.0  \n",
       "69480            0.0            0.0    0.0               0.0  \n",
       "25205            1.0            0.0    0.0               0.0  \n",
       "98537            1.0            0.0    1.0               1.0  \n",
       "...              ...            ...    ...               ...  \n",
       "62239            0.0            0.0    0.0               0.0  \n",
       "152127           0.0            0.0    0.0               0.0  \n",
       "119174           0.0            0.0    0.0               0.0  \n",
       "193608           0.0            0.0    1.0               0.0  \n",
       "142257           0.0            0.0    0.0               1.0  \n",
       "\n",
       "[178731 rows x 6 columns]"
      ]
     },
     "execution_count": 143,
     "metadata": {},
     "output_type": "execute_result"
    }
   ],
   "source": [
    "train_df_chexpert"
   ]
  },
  {
   "cell_type": "code",
   "execution_count": 144,
   "id": "00052e70",
   "metadata": {},
   "outputs": [],
   "source": [
    "validation_df_chexpert = validation_df[chexpert_labels]"
   ]
  },
  {
   "cell_type": "code",
   "execution_count": 145,
   "id": "02a2913b",
   "metadata": {},
   "outputs": [
    {
     "data": {
      "text/html": [
       "<div>\n",
       "<style scoped>\n",
       "    .dataframe tbody tr th:only-of-type {\n",
       "        vertical-align: middle;\n",
       "    }\n",
       "\n",
       "    .dataframe tbody tr th {\n",
       "        vertical-align: top;\n",
       "    }\n",
       "\n",
       "    .dataframe thead th {\n",
       "        text-align: right;\n",
       "    }\n",
       "</style>\n",
       "<table border=\"1\" class=\"dataframe\">\n",
       "  <thead>\n",
       "    <tr style=\"text-align: right;\">\n",
       "      <th></th>\n",
       "      <th>Path</th>\n",
       "      <th>Atelectasis</th>\n",
       "      <th>Cardiomegaly</th>\n",
       "      <th>Consolidation</th>\n",
       "      <th>Edema</th>\n",
       "      <th>Pleural Effusion</th>\n",
       "    </tr>\n",
       "  </thead>\n",
       "  <tbody>\n",
       "    <tr>\n",
       "      <th>67305</th>\n",
       "      <td>CheXpert-v1.0/train/patient16169/study2/view2_...</td>\n",
       "      <td>0.0</td>\n",
       "      <td>0.0</td>\n",
       "      <td>0.0</td>\n",
       "      <td>1.0</td>\n",
       "      <td>1.0</td>\n",
       "    </tr>\n",
       "    <tr>\n",
       "      <th>158250</th>\n",
       "      <td>CheXpert-v1.0/train/patient37045/study7/view1_...</td>\n",
       "      <td>0.0</td>\n",
       "      <td>0.0</td>\n",
       "      <td>0.0</td>\n",
       "      <td>0.0</td>\n",
       "      <td>1.0</td>\n",
       "    </tr>\n",
       "    <tr>\n",
       "      <th>51315</th>\n",
       "      <td>CheXpert-v1.0/train/patient12490/study12/view1...</td>\n",
       "      <td>0.0</td>\n",
       "      <td>0.0</td>\n",
       "      <td>0.0</td>\n",
       "      <td>0.0</td>\n",
       "      <td>1.0</td>\n",
       "    </tr>\n",
       "    <tr>\n",
       "      <th>204270</th>\n",
       "      <td>CheXpert-v1.0/train/patient51556/study7/view1_...</td>\n",
       "      <td>0.0</td>\n",
       "      <td>0.0</td>\n",
       "      <td>0.0</td>\n",
       "      <td>0.0</td>\n",
       "      <td>1.0</td>\n",
       "    </tr>\n",
       "    <tr>\n",
       "      <th>71280</th>\n",
       "      <td>CheXpert-v1.0/train/patient17091/study1/view1_...</td>\n",
       "      <td>0.0</td>\n",
       "      <td>0.0</td>\n",
       "      <td>0.0</td>\n",
       "      <td>0.0</td>\n",
       "      <td>0.0</td>\n",
       "    </tr>\n",
       "    <tr>\n",
       "      <th>...</th>\n",
       "      <td>...</td>\n",
       "      <td>...</td>\n",
       "      <td>...</td>\n",
       "      <td>...</td>\n",
       "      <td>...</td>\n",
       "      <td>...</td>\n",
       "    </tr>\n",
       "    <tr>\n",
       "      <th>84611</th>\n",
       "      <td>CheXpert-v1.0/train/patient20333/study4/view1_...</td>\n",
       "      <td>0.0</td>\n",
       "      <td>0.0</td>\n",
       "      <td>0.0</td>\n",
       "      <td>0.0</td>\n",
       "      <td>1.0</td>\n",
       "    </tr>\n",
       "    <tr>\n",
       "      <th>168690</th>\n",
       "      <td>CheXpert-v1.0/train/patient39344/study11/view1...</td>\n",
       "      <td>0.0</td>\n",
       "      <td>0.0</td>\n",
       "      <td>0.0</td>\n",
       "      <td>0.0</td>\n",
       "      <td>1.0</td>\n",
       "    </tr>\n",
       "    <tr>\n",
       "      <th>166829</th>\n",
       "      <td>CheXpert-v1.0/train/patient38931/study1/view1_...</td>\n",
       "      <td>0.0</td>\n",
       "      <td>1.0</td>\n",
       "      <td>0.0</td>\n",
       "      <td>0.0</td>\n",
       "      <td>1.0</td>\n",
       "    </tr>\n",
       "    <tr>\n",
       "      <th>184236</th>\n",
       "      <td>CheXpert-v1.0/train/patient43600/study1/view1_...</td>\n",
       "      <td>1.0</td>\n",
       "      <td>0.0</td>\n",
       "      <td>0.0</td>\n",
       "      <td>0.0</td>\n",
       "      <td>0.0</td>\n",
       "    </tr>\n",
       "    <tr>\n",
       "      <th>189045</th>\n",
       "      <td>CheXpert-v1.0/train/patient45159/study2/view1_...</td>\n",
       "      <td>0.0</td>\n",
       "      <td>0.0</td>\n",
       "      <td>1.0</td>\n",
       "      <td>0.0</td>\n",
       "      <td>1.0</td>\n",
       "    </tr>\n",
       "  </tbody>\n",
       "</table>\n",
       "<p>44683 rows × 6 columns</p>\n",
       "</div>"
      ],
      "text/plain": [
       "                                                     Path  Atelectasis  \\\n",
       "67305   CheXpert-v1.0/train/patient16169/study2/view2_...          0.0   \n",
       "158250  CheXpert-v1.0/train/patient37045/study7/view1_...          0.0   \n",
       "51315   CheXpert-v1.0/train/patient12490/study12/view1...          0.0   \n",
       "204270  CheXpert-v1.0/train/patient51556/study7/view1_...          0.0   \n",
       "71280   CheXpert-v1.0/train/patient17091/study1/view1_...          0.0   \n",
       "...                                                   ...          ...   \n",
       "84611   CheXpert-v1.0/train/patient20333/study4/view1_...          0.0   \n",
       "168690  CheXpert-v1.0/train/patient39344/study11/view1...          0.0   \n",
       "166829  CheXpert-v1.0/train/patient38931/study1/view1_...          0.0   \n",
       "184236  CheXpert-v1.0/train/patient43600/study1/view1_...          1.0   \n",
       "189045  CheXpert-v1.0/train/patient45159/study2/view1_...          0.0   \n",
       "\n",
       "        Cardiomegaly  Consolidation  Edema  Pleural Effusion  \n",
       "67305            0.0            0.0    1.0               1.0  \n",
       "158250           0.0            0.0    0.0               1.0  \n",
       "51315            0.0            0.0    0.0               1.0  \n",
       "204270           0.0            0.0    0.0               1.0  \n",
       "71280            0.0            0.0    0.0               0.0  \n",
       "...              ...            ...    ...               ...  \n",
       "84611            0.0            0.0    0.0               1.0  \n",
       "168690           0.0            0.0    0.0               1.0  \n",
       "166829           1.0            0.0    0.0               1.0  \n",
       "184236           0.0            0.0    0.0               0.0  \n",
       "189045           0.0            1.0    0.0               1.0  \n",
       "\n",
       "[44683 rows x 6 columns]"
      ]
     },
     "execution_count": 145,
     "metadata": {},
     "output_type": "execute_result"
    }
   ],
   "source": [
    "validation_df_chexpert"
   ]
  },
  {
   "cell_type": "code",
   "execution_count": 146,
   "id": "d2055eee",
   "metadata": {},
   "outputs": [],
   "source": [
    "test_df_chexpert = test_df[chexpert_labels]"
   ]
  },
  {
   "cell_type": "code",
   "execution_count": 147,
   "id": "2410f90f",
   "metadata": {},
   "outputs": [
    {
     "data": {
      "text/html": [
       "<div>\n",
       "<style scoped>\n",
       "    .dataframe tbody tr th:only-of-type {\n",
       "        vertical-align: middle;\n",
       "    }\n",
       "\n",
       "    .dataframe tbody tr th {\n",
       "        vertical-align: top;\n",
       "    }\n",
       "\n",
       "    .dataframe thead th {\n",
       "        text-align: right;\n",
       "    }\n",
       "</style>\n",
       "<table border=\"1\" class=\"dataframe\">\n",
       "  <thead>\n",
       "    <tr style=\"text-align: right;\">\n",
       "      <th></th>\n",
       "      <th>Path</th>\n",
       "      <th>Atelectasis</th>\n",
       "      <th>Cardiomegaly</th>\n",
       "      <th>Consolidation</th>\n",
       "      <th>Edema</th>\n",
       "      <th>Pleural Effusion</th>\n",
       "    </tr>\n",
       "  </thead>\n",
       "  <tbody>\n",
       "    <tr>\n",
       "      <th>0</th>\n",
       "      <td>CheXpert-v1.0/valid/patient64541/study1/view1_...</td>\n",
       "      <td>0.0</td>\n",
       "      <td>1.0</td>\n",
       "      <td>0.0</td>\n",
       "      <td>0.0</td>\n",
       "      <td>0.0</td>\n",
       "    </tr>\n",
       "    <tr>\n",
       "      <th>1</th>\n",
       "      <td>CheXpert-v1.0/valid/patient64542/study1/view1_...</td>\n",
       "      <td>0.0</td>\n",
       "      <td>0.0</td>\n",
       "      <td>0.0</td>\n",
       "      <td>0.0</td>\n",
       "      <td>0.0</td>\n",
       "    </tr>\n",
       "    <tr>\n",
       "      <th>2</th>\n",
       "      <td>CheXpert-v1.0/valid/patient64542/study1/view2_...</td>\n",
       "      <td>0.0</td>\n",
       "      <td>0.0</td>\n",
       "      <td>0.0</td>\n",
       "      <td>0.0</td>\n",
       "      <td>0.0</td>\n",
       "    </tr>\n",
       "    <tr>\n",
       "      <th>3</th>\n",
       "      <td>CheXpert-v1.0/valid/patient64543/study1/view1_...</td>\n",
       "      <td>0.0</td>\n",
       "      <td>0.0</td>\n",
       "      <td>0.0</td>\n",
       "      <td>1.0</td>\n",
       "      <td>0.0</td>\n",
       "    </tr>\n",
       "    <tr>\n",
       "      <th>4</th>\n",
       "      <td>CheXpert-v1.0/valid/patient64544/study1/view1_...</td>\n",
       "      <td>0.0</td>\n",
       "      <td>0.0</td>\n",
       "      <td>0.0</td>\n",
       "      <td>0.0</td>\n",
       "      <td>0.0</td>\n",
       "    </tr>\n",
       "    <tr>\n",
       "      <th>...</th>\n",
       "      <td>...</td>\n",
       "      <td>...</td>\n",
       "      <td>...</td>\n",
       "      <td>...</td>\n",
       "      <td>...</td>\n",
       "      <td>...</td>\n",
       "    </tr>\n",
       "    <tr>\n",
       "      <th>229</th>\n",
       "      <td>CheXpert-v1.0/valid/patient64736/study1/view1_...</td>\n",
       "      <td>0.0</td>\n",
       "      <td>0.0</td>\n",
       "      <td>0.0</td>\n",
       "      <td>0.0</td>\n",
       "      <td>0.0</td>\n",
       "    </tr>\n",
       "    <tr>\n",
       "      <th>230</th>\n",
       "      <td>CheXpert-v1.0/valid/patient64737/study1/view1_...</td>\n",
       "      <td>0.0</td>\n",
       "      <td>0.0</td>\n",
       "      <td>0.0</td>\n",
       "      <td>0.0</td>\n",
       "      <td>0.0</td>\n",
       "    </tr>\n",
       "    <tr>\n",
       "      <th>231</th>\n",
       "      <td>CheXpert-v1.0/valid/patient64738/study1/view1_...</td>\n",
       "      <td>0.0</td>\n",
       "      <td>1.0</td>\n",
       "      <td>0.0</td>\n",
       "      <td>1.0</td>\n",
       "      <td>0.0</td>\n",
       "    </tr>\n",
       "    <tr>\n",
       "      <th>232</th>\n",
       "      <td>CheXpert-v1.0/valid/patient64739/study1/view1_...</td>\n",
       "      <td>0.0</td>\n",
       "      <td>0.0</td>\n",
       "      <td>0.0</td>\n",
       "      <td>0.0</td>\n",
       "      <td>0.0</td>\n",
       "    </tr>\n",
       "    <tr>\n",
       "      <th>233</th>\n",
       "      <td>CheXpert-v1.0/valid/patient64740/study1/view1_...</td>\n",
       "      <td>1.0</td>\n",
       "      <td>0.0</td>\n",
       "      <td>0.0</td>\n",
       "      <td>0.0</td>\n",
       "      <td>1.0</td>\n",
       "    </tr>\n",
       "  </tbody>\n",
       "</table>\n",
       "<p>234 rows × 6 columns</p>\n",
       "</div>"
      ],
      "text/plain": [
       "                                                  Path  Atelectasis  \\\n",
       "0    CheXpert-v1.0/valid/patient64541/study1/view1_...          0.0   \n",
       "1    CheXpert-v1.0/valid/patient64542/study1/view1_...          0.0   \n",
       "2    CheXpert-v1.0/valid/patient64542/study1/view2_...          0.0   \n",
       "3    CheXpert-v1.0/valid/patient64543/study1/view1_...          0.0   \n",
       "4    CheXpert-v1.0/valid/patient64544/study1/view1_...          0.0   \n",
       "..                                                 ...          ...   \n",
       "229  CheXpert-v1.0/valid/patient64736/study1/view1_...          0.0   \n",
       "230  CheXpert-v1.0/valid/patient64737/study1/view1_...          0.0   \n",
       "231  CheXpert-v1.0/valid/patient64738/study1/view1_...          0.0   \n",
       "232  CheXpert-v1.0/valid/patient64739/study1/view1_...          0.0   \n",
       "233  CheXpert-v1.0/valid/patient64740/study1/view1_...          1.0   \n",
       "\n",
       "     Cardiomegaly  Consolidation  Edema  Pleural Effusion  \n",
       "0             1.0            0.0    0.0               0.0  \n",
       "1             0.0            0.0    0.0               0.0  \n",
       "2             0.0            0.0    0.0               0.0  \n",
       "3             0.0            0.0    1.0               0.0  \n",
       "4             0.0            0.0    0.0               0.0  \n",
       "..            ...            ...    ...               ...  \n",
       "229           0.0            0.0    0.0               0.0  \n",
       "230           0.0            0.0    0.0               0.0  \n",
       "231           1.0            0.0    1.0               0.0  \n",
       "232           0.0            0.0    0.0               0.0  \n",
       "233           0.0            0.0    0.0               1.0  \n",
       "\n",
       "[234 rows x 6 columns]"
      ]
     },
     "execution_count": 147,
     "metadata": {},
     "output_type": "execute_result"
    }
   ],
   "source": [
    "test_df_chexpert"
   ]
  },
  {
   "cell_type": "markdown",
   "id": "0d92933d",
   "metadata": {},
   "source": [
    "### 12- Distribution of CheXpert labels pie charts"
   ]
  },
  {
   "cell_type": "markdown",
   "id": "008335e4",
   "metadata": {},
   "source": [
    "#### 12.1 Atelectasis"
   ]
  },
  {
   "cell_type": "code",
   "execution_count": 148,
   "id": "e3300e84",
   "metadata": {},
   "outputs": [
    {
     "data": {
      "text/plain": [
       "26795.0"
      ]
     },
     "execution_count": 148,
     "metadata": {},
     "output_type": "execute_result"
    }
   ],
   "source": [
    "train_df_chexpert[\"Atelectasis\"].sum()"
   ]
  },
  {
   "cell_type": "code",
   "execution_count": 149,
   "id": "d3875b94",
   "metadata": {},
   "outputs": [
    {
     "data": {
      "text/plain": [
       "0.14991803324549183"
      ]
     },
     "execution_count": 149,
     "metadata": {},
     "output_type": "execute_result"
    }
   ],
   "source": [
    "train_df_chexpert_Atelectasis_ratio = train_df_chexpert[\"Atelectasis\"].sum() / len(train_df_chexpert)\n",
    "train_df_chexpert_Atelectasis_ratio"
   ]
  },
  {
   "cell_type": "code",
   "execution_count": 150,
   "id": "9a4238d6",
   "metadata": {},
   "outputs": [
    {
     "data": {
      "text/plain": [
       "6581.0"
      ]
     },
     "execution_count": 150,
     "metadata": {},
     "output_type": "execute_result"
    }
   ],
   "source": [
    "validation_df_chexpert[\"Atelectasis\"].sum()"
   ]
  },
  {
   "cell_type": "code",
   "execution_count": 151,
   "id": "bab9cc53",
   "metadata": {},
   "outputs": [
    {
     "data": {
      "text/plain": [
       "0.14728196405791913"
      ]
     },
     "execution_count": 151,
     "metadata": {},
     "output_type": "execute_result"
    }
   ],
   "source": [
    "validation_df_chexpert_Atelectasis_ratio = validation_df_chexpert[\"Atelectasis\"].sum() / len(validation_df_chexpert)\n",
    "validation_df_chexpert_Atelectasis_ratio"
   ]
  },
  {
   "cell_type": "code",
   "execution_count": 152,
   "id": "521d2dab",
   "metadata": {},
   "outputs": [
    {
     "data": {
      "text/plain": [
       "80.0"
      ]
     },
     "execution_count": 152,
     "metadata": {},
     "output_type": "execute_result"
    }
   ],
   "source": [
    "test_df_chexpert[\"Atelectasis\"].sum()"
   ]
  },
  {
   "cell_type": "code",
   "execution_count": 153,
   "id": "3f4f117a",
   "metadata": {},
   "outputs": [
    {
     "data": {
      "text/plain": [
       "0.3418803418803419"
      ]
     },
     "execution_count": 153,
     "metadata": {},
     "output_type": "execute_result"
    }
   ],
   "source": [
    "test_df_chexpert_Atelectasis_ratio = test_df_chexpert[\"Atelectasis\"].sum() / len(test_df_chexpert)\n",
    "test_df_chexpert_Atelectasis_ratio"
   ]
  },
  {
   "cell_type": "markdown",
   "id": "98d0e4cb",
   "metadata": {},
   "source": [
    "#### 12.2 Cardiomegaly"
   ]
  },
  {
   "cell_type": "code",
   "execution_count": 154,
   "id": "f9c4d436",
   "metadata": {},
   "outputs": [
    {
     "data": {
      "text/plain": [
       "21671.0"
      ]
     },
     "execution_count": 154,
     "metadata": {},
     "output_type": "execute_result"
    }
   ],
   "source": [
    "train_df_chexpert[\"Cardiomegaly\"].sum()"
   ]
  },
  {
   "cell_type": "code",
   "execution_count": 155,
   "id": "d76e1946",
   "metadata": {},
   "outputs": [
    {
     "data": {
      "text/plain": [
       "0.12124925166870884"
      ]
     },
     "execution_count": 155,
     "metadata": {},
     "output_type": "execute_result"
    }
   ],
   "source": [
    "train_df_chexpert_Cardiomegaly_ratio = train_df_chexpert[\"Cardiomegaly\"].sum() / len(train_df_chexpert)\n",
    "train_df_chexpert_Cardiomegaly_ratio"
   ]
  },
  {
   "cell_type": "code",
   "execution_count": 156,
   "id": "4938f1e2",
   "metadata": {},
   "outputs": [
    {
     "data": {
      "text/plain": [
       "5329.0"
      ]
     },
     "execution_count": 156,
     "metadata": {},
     "output_type": "execute_result"
    }
   ],
   "source": [
    "validation_df_chexpert[\"Cardiomegaly\"].sum()"
   ]
  },
  {
   "cell_type": "code",
   "execution_count": 157,
   "id": "a7ef8c6a",
   "metadata": {},
   "outputs": [
    {
     "data": {
      "text/plain": [
       "0.11926235928652955"
      ]
     },
     "execution_count": 157,
     "metadata": {},
     "output_type": "execute_result"
    }
   ],
   "source": [
    "validation_df_chexpert_Cardiomegaly_ratio = validation_df_chexpert[\"Cardiomegaly\"].sum() / len(validation_df_chexpert)\n",
    "validation_df_chexpert_Cardiomegaly_ratio"
   ]
  },
  {
   "cell_type": "code",
   "execution_count": 158,
   "id": "5503309a",
   "metadata": {},
   "outputs": [
    {
     "data": {
      "text/plain": [
       "68.0"
      ]
     },
     "execution_count": 158,
     "metadata": {},
     "output_type": "execute_result"
    }
   ],
   "source": [
    "test_df_chexpert[\"Cardiomegaly\"].sum()"
   ]
  },
  {
   "cell_type": "code",
   "execution_count": 159,
   "id": "03682b1e",
   "metadata": {},
   "outputs": [
    {
     "data": {
      "text/plain": [
       "0.2905982905982906"
      ]
     },
     "execution_count": 159,
     "metadata": {},
     "output_type": "execute_result"
    }
   ],
   "source": [
    "test_df_chexpert_Cardiomegaly_ratio = test_df_chexpert[\"Cardiomegaly\"].sum() / len(test_df_chexpert)\n",
    "test_df_chexpert_Cardiomegaly_ratio"
   ]
  },
  {
   "cell_type": "markdown",
   "id": "7150e2ce",
   "metadata": {},
   "source": [
    "#### 12.3 Consolidation"
   ]
  },
  {
   "cell_type": "code",
   "execution_count": 160,
   "id": "a2f16870",
   "metadata": {},
   "outputs": [
    {
     "data": {
      "text/plain": [
       "11825.0"
      ]
     },
     "execution_count": 160,
     "metadata": {},
     "output_type": "execute_result"
    }
   ],
   "source": [
    "train_df_chexpert[\"Consolidation\"].sum()"
   ]
  },
  {
   "cell_type": "code",
   "execution_count": 161,
   "id": "fbfac922",
   "metadata": {},
   "outputs": [
    {
     "data": {
      "text/plain": [
       "0.06616087863884833"
      ]
     },
     "execution_count": 161,
     "metadata": {},
     "output_type": "execute_result"
    }
   ],
   "source": [
    "train_df_chexpert_Consolidation_ratio = train_df_chexpert[\"Consolidation\"].sum() / len(train_df_chexpert)\n",
    "train_df_chexpert_Consolidation_ratio"
   ]
  },
  {
   "cell_type": "code",
   "execution_count": 162,
   "id": "674c273b",
   "metadata": {},
   "outputs": [
    {
     "data": {
      "text/plain": [
       "2958.0"
      ]
     },
     "execution_count": 162,
     "metadata": {},
     "output_type": "execute_result"
    }
   ],
   "source": [
    "validation_df_chexpert[\"Consolidation\"].sum()"
   ]
  },
  {
   "cell_type": "code",
   "execution_count": 163,
   "id": "d2ccdc79",
   "metadata": {},
   "outputs": [
    {
     "data": {
      "text/plain": [
       "0.06619967325381017"
      ]
     },
     "execution_count": 163,
     "metadata": {},
     "output_type": "execute_result"
    }
   ],
   "source": [
    "validation_df_chexpert_Consolidation_ratio = validation_df_chexpert[\"Consolidation\"].sum() / len(validation_df_chexpert)\n",
    "validation_df_chexpert_Consolidation_ratio"
   ]
  },
  {
   "cell_type": "code",
   "execution_count": 164,
   "id": "ec4d4c34",
   "metadata": {},
   "outputs": [
    {
     "data": {
      "text/plain": [
       "33.0"
      ]
     },
     "execution_count": 164,
     "metadata": {},
     "output_type": "execute_result"
    }
   ],
   "source": [
    "test_df_chexpert[\"Consolidation\"].sum()"
   ]
  },
  {
   "cell_type": "code",
   "execution_count": 165,
   "id": "86df7ada",
   "metadata": {},
   "outputs": [
    {
     "data": {
      "text/plain": [
       "0.14102564102564102"
      ]
     },
     "execution_count": 165,
     "metadata": {},
     "output_type": "execute_result"
    }
   ],
   "source": [
    "test_df_chexpert_Consolidation_ratio = test_df_chexpert[\"Consolidation\"].sum() / len(test_df_chexpert)\n",
    "test_df_chexpert_Consolidation_ratio"
   ]
  },
  {
   "cell_type": "markdown",
   "id": "e45f2ec5",
   "metadata": {},
   "source": [
    "#### 12.4 Edema"
   ]
  },
  {
   "cell_type": "code",
   "execution_count": 166,
   "id": "d80da25f",
   "metadata": {},
   "outputs": [
    {
     "data": {
      "text/plain": [
       "41987.0"
      ]
     },
     "execution_count": 166,
     "metadata": {},
     "output_type": "execute_result"
    }
   ],
   "source": [
    "train_df_chexpert[\"Edema\"].sum()"
   ]
  },
  {
   "cell_type": "code",
   "execution_count": 167,
   "id": "e395a1cd",
   "metadata": {},
   "outputs": [
    {
     "data": {
      "text/plain": [
       "0.23491727792045028"
      ]
     },
     "execution_count": 167,
     "metadata": {},
     "output_type": "execute_result"
    }
   ],
   "source": [
    "train_df_chexpert_Edema_ratio = train_df_chexpert[\"Edema\"].sum() / len(train_df_chexpert)\n",
    "train_df_chexpert_Edema_ratio"
   ]
  },
  {
   "cell_type": "code",
   "execution_count": 168,
   "id": "e345dbf4",
   "metadata": {},
   "outputs": [
    {
     "data": {
      "text/plain": [
       "10259.0"
      ]
     },
     "execution_count": 168,
     "metadata": {},
     "output_type": "execute_result"
    }
   ],
   "source": [
    "validation_df_chexpert[\"Edema\"].sum()"
   ]
  },
  {
   "cell_type": "code",
   "execution_count": 169,
   "id": "263e2f38",
   "metadata": {},
   "outputs": [
    {
     "data": {
      "text/plain": [
       "0.22959514804287984"
      ]
     },
     "execution_count": 169,
     "metadata": {},
     "output_type": "execute_result"
    }
   ],
   "source": [
    "validation_df_chexpert_Edema_ratio = validation_df_chexpert[\"Edema\"].sum() / len(validation_df_chexpert)\n",
    "validation_df_chexpert_Edema_ratio"
   ]
  },
  {
   "cell_type": "code",
   "execution_count": 170,
   "id": "a032651e",
   "metadata": {},
   "outputs": [
    {
     "data": {
      "text/plain": [
       "45.0"
      ]
     },
     "execution_count": 170,
     "metadata": {},
     "output_type": "execute_result"
    }
   ],
   "source": [
    "test_df_chexpert[\"Edema\"].sum()"
   ]
  },
  {
   "cell_type": "code",
   "execution_count": 171,
   "id": "44514b73",
   "metadata": {},
   "outputs": [
    {
     "data": {
      "text/plain": [
       "0.19230769230769232"
      ]
     },
     "execution_count": 171,
     "metadata": {},
     "output_type": "execute_result"
    }
   ],
   "source": [
    "test_df_chexpert_Edema_ratio = test_df_chexpert[\"Edema\"].sum() / len(test_df_chexpert)\n",
    "test_df_chexpert_Edema_ratio"
   ]
  },
  {
   "cell_type": "markdown",
   "id": "a673d4d8",
   "metadata": {},
   "source": [
    "#### 12.5 Pleural Effusion"
   ]
  },
  {
   "cell_type": "code",
   "execution_count": 172,
   "id": "c4377057",
   "metadata": {},
   "outputs": [
    {
     "data": {
      "text/plain": [
       "68928.0"
      ]
     },
     "execution_count": 172,
     "metadata": {},
     "output_type": "execute_result"
    }
   ],
   "source": [
    "train_df_chexpert[\"Pleural Effusion\"].sum()"
   ]
  },
  {
   "cell_type": "code",
   "execution_count": 173,
   "id": "e5f40022",
   "metadata": {},
   "outputs": [
    {
     "data": {
      "text/plain": [
       "0.38565218121086997"
      ]
     },
     "execution_count": 173,
     "metadata": {},
     "output_type": "execute_result"
    }
   ],
   "source": [
    "train_df_chexpert_Pleural_Effusion_ratio = train_df_chexpert[\"Pleural Effusion\"].sum() / len(train_df_chexpert)\n",
    "train_df_chexpert_Pleural_Effusion_ratio"
   ]
  },
  {
   "cell_type": "code",
   "execution_count": 174,
   "id": "563a0bc4",
   "metadata": {},
   "outputs": [
    {
     "data": {
      "text/plain": [
       "17259.0"
      ]
     },
     "execution_count": 174,
     "metadata": {},
     "output_type": "execute_result"
    }
   ],
   "source": [
    "validation_df_chexpert[\"Pleural Effusion\"].sum()"
   ]
  },
  {
   "cell_type": "code",
   "execution_count": 175,
   "id": "8876ce9c",
   "metadata": {},
   "outputs": [
    {
     "data": {
      "text/plain": [
       "0.386254280151288"
      ]
     },
     "execution_count": 175,
     "metadata": {},
     "output_type": "execute_result"
    }
   ],
   "source": [
    "validation_df_chexpert_Pleural_Effusion_ratio = validation_df_chexpert[\"Pleural Effusion\"].sum() / len(validation_df_chexpert)\n",
    "validation_df_chexpert_Pleural_Effusion_ratio"
   ]
  },
  {
   "cell_type": "code",
   "execution_count": 176,
   "id": "4d6dbce7",
   "metadata": {},
   "outputs": [
    {
     "data": {
      "text/plain": [
       "67.0"
      ]
     },
     "execution_count": 176,
     "metadata": {},
     "output_type": "execute_result"
    }
   ],
   "source": [
    "test_df_chexpert[\"Pleural Effusion\"].sum()"
   ]
  },
  {
   "cell_type": "code",
   "execution_count": 177,
   "id": "dece3ec5",
   "metadata": {},
   "outputs": [
    {
     "data": {
      "text/plain": [
       "0.2863247863247863"
      ]
     },
     "execution_count": 177,
     "metadata": {},
     "output_type": "execute_result"
    }
   ],
   "source": [
    "test_df_chexpert_Pleural_Effusion_ratio = test_df_chexpert[\"Pleural Effusion\"].sum() / len(test_df_chexpert)\n",
    "test_df_chexpert_Pleural_Effusion_ratio"
   ]
  },
  {
   "cell_type": "markdown",
   "id": "297fd15c",
   "metadata": {},
   "source": [
    "#### 12.6 pie chart"
   ]
  },
  {
   "cell_type": "code",
   "execution_count": 178,
   "id": "88b81ea3",
   "metadata": {},
   "outputs": [],
   "source": [
    "labels = [\n",
    "    \"Atelectasis\",\n",
    "    \"Cardiomegaly\",\n",
    "    \"Consolidation\",\n",
    "    \"Edema\",\n",
    "    \"Pleural Effusion\"\n",
    "]"
   ]
  },
  {
   "cell_type": "code",
   "execution_count": 179,
   "id": "e9d579b8",
   "metadata": {},
   "outputs": [
    {
     "data": {
      "image/png": "[encoded data removed]",
      "text/plain": [
       "<Figure size 936x936 with 1 Axes>"
      ]
     },
     "metadata": {},
     "output_type": "display_data"
    }
   ],
   "source": [
    "sizes = [\n",
    "    train_df_chexpert_Atelectasis_ratio,\n",
    "    train_df_chexpert_Cardiomegaly_ratio,\n",
    "    train_df_chexpert_Consolidation_ratio,\n",
    "    train_df_chexpert_Edema_ratio,\n",
    "    train_df_chexpert_Pleural_Effusion_ratio\n",
    "]\n",
    "\n",
    "fig1, ax1 = plt.subplots(figsize=(13, 13))\n",
    "ax1.pie(sizes, labels=labels, autopct='%1.1f%%', normalize=True)\n",
    "ax1.axis('equal')  # Equal aspect ratio ensures that pie is drawn as a circle.\n",
    "plt.title(\"Train set CheXpert label distribution\")\n",
    "\n",
    "plt.show()"
   ]
  },
  {
   "cell_type": "code",
   "execution_count": 180,
   "id": "10b1589a",
   "metadata": {},
   "outputs": [
    {
     "data": {
      "image/png": "[encoded data removed]",
      "text/plain": [
       "<Figure size 936x936 with 1 Axes>"
      ]
     },
     "metadata": {},
     "output_type": "display_data"
    }
   ],
   "source": [
    "sizes = [\n",
    "    validation_df_chexpert_Atelectasis_ratio,\n",
    "    validation_df_chexpert_Cardiomegaly_ratio,\n",
    "    validation_df_chexpert_Consolidation_ratio,\n",
    "    validation_df_chexpert_Edema_ratio,\n",
    "    validation_df_chexpert_Pleural_Effusion_ratio\n",
    "]\n",
    "\n",
    "fig1, ax1 = plt.subplots(figsize=(13, 13))\n",
    "ax1.pie(sizes, labels=labels, autopct='%1.1f%%', normalize=True)\n",
    "ax1.axis('equal')  # Equal aspect ratio ensures that pie is drawn as a circle.\n",
    "plt.title(\"Validation set CheXpert label distribution\")\n",
    "\n",
    "plt.show()"
   ]
  },
  {
   "cell_type": "code",
   "execution_count": 181,
   "id": "d8c0e8b1",
   "metadata": {},
   "outputs": [
    {
     "data": {
      "image/png": "[encoded data removed]",
      "text/plain": [
       "<Figure size 936x936 with 1 Axes>"
      ]
     },
     "metadata": {},
     "output_type": "display_data"
    }
   ],
   "source": [
    "sizes = [\n",
    "    test_df_chexpert_Atelectasis_ratio,\n",
    "    test_df_chexpert_Cardiomegaly_ratio,\n",
    "    test_df_chexpert_Consolidation_ratio,\n",
    "    test_df_chexpert_Edema_ratio,\n",
    "    test_df_chexpert_Pleural_Effusion_ratio\n",
    "]\n",
    "\n",
    "fig1, ax1 = plt.subplots(figsize=(13, 13))\n",
    "ax1.pie(sizes, labels=labels, autopct='%1.1f%%')\n",
    "ax1.axis('equal')  # Equal aspect ratio ensures that pie is drawn as a circle.\n",
    "plt.title(\"Test set CheXpert label distribution (official 'validation' set)\")\n",
    "\n",
    "plt.show()"
   ]
  },
  {
   "cell_type": "markdown",
   "id": "01876e13",
   "metadata": {},
   "source": [
    "### 13- Saving CheXpert labels only version of the labels"
   ]
  },
  {
   "cell_type": "code",
   "execution_count": 182,
   "id": "b003d753",
   "metadata": {},
   "outputs": [],
   "source": [
    "train_df_chexpert.to_csv(\"../../labels/train_validation_split_data/train_u-zeroes_chexpert.csv\", index=False)"
   ]
  },
  {
   "cell_type": "code",
   "execution_count": 183,
   "id": "332265c1",
   "metadata": {},
   "outputs": [],
   "source": [
    "validation_df_chexpert.to_csv(\"../../labels/train_validation_split_data/validation_u-zeroes_chexpert.csv\", index=False)"
   ]
  },
  {
   "cell_type": "code",
   "execution_count": 184,
   "id": "10cdac16",
   "metadata": {},
   "outputs": [],
   "source": [
    "test_df_chexpert.to_csv(\"../../labels/train_validation_split_data/test_u-zeroes_chexpert.csv\", index=False)"
   ]
  },
  {
   "cell_type": "code",
   "execution_count": null,
   "id": "1cf8ce04",
   "metadata": {},
   "outputs": [],
   "source": []
  }
 ],
 "metadata": {
  "kernelspec": {
   "display_name": "Python 3 (ipykernel)",
   "language": "python",
   "name": "python3"
  },
  "language_info": {
   "codemirror_mode": {
    "name": "ipython",
    "version": 3
   },
   "file_extension": ".py",
   "mimetype": "text/x-python",
   "name": "python",
   "nbconvert_exporter": "python",
   "pygments_lexer": "ipython3",
   "version": "3.7.11"
  }
 },
 "nbformat": 4,
 "nbformat_minor": 5
}
